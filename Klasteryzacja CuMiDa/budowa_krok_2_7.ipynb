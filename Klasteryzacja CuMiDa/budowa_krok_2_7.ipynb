{
 "cells": [
  {
   "cell_type": "markdown",
   "id": "53a8d9fd",
   "metadata": {},
   "source": [
    "# Milestone II: \n",
    "### Wizualizacja 3D, dobranie modelu, interpretacja klastrów"
   ]
  },
  {
   "cell_type": "markdown",
   "id": "fbc2605f",
   "metadata": {},
   "source": [
    "Wczytujemy dane"
   ]
  },
  {
   "cell_type": "code",
   "execution_count": 1,
   "id": "a5bcb55e",
   "metadata": {},
   "outputs": [],
   "source": [
    "import pandas as pd\n",
    "from sklearn.model_selection import train_test_split\n",
    "import matplotlib.pyplot as plt\n",
    "import seaborn as sns\n",
    "\n",
    "df = pd.read_csv(\"/Users/lila/Downloads/Brain_GSE50161.csv\")"
   ]
  },
  {
   "cell_type": "code",
   "execution_count": 2,
   "id": "7e5172fa",
   "metadata": {},
   "outputs": [
    {
     "data": {
      "text/html": [
       "<div>\n",
       "<style scoped>\n",
       "    .dataframe tbody tr th:only-of-type {\n",
       "        vertical-align: middle;\n",
       "    }\n",
       "\n",
       "    .dataframe tbody tr th {\n",
       "        vertical-align: top;\n",
       "    }\n",
       "\n",
       "    .dataframe thead th {\n",
       "        text-align: right;\n",
       "    }\n",
       "</style>\n",
       "<table border=\"1\" class=\"dataframe\">\n",
       "  <thead>\n",
       "    <tr style=\"text-align: right;\">\n",
       "      <th></th>\n",
       "      <th>samples</th>\n",
       "      <th>type</th>\n",
       "      <th>1007_s_at</th>\n",
       "      <th>1053_at</th>\n",
       "      <th>117_at</th>\n",
       "      <th>121_at</th>\n",
       "      <th>1255_g_at</th>\n",
       "      <th>1294_at</th>\n",
       "      <th>1316_at</th>\n",
       "      <th>1320_at</th>\n",
       "      <th>...</th>\n",
       "      <th>AFFX-r2-Ec-bioD-3_at</th>\n",
       "      <th>AFFX-r2-Ec-bioD-5_at</th>\n",
       "      <th>AFFX-r2-P1-cre-3_at</th>\n",
       "      <th>AFFX-r2-P1-cre-5_at</th>\n",
       "      <th>AFFX-ThrX-3_at</th>\n",
       "      <th>AFFX-ThrX-5_at</th>\n",
       "      <th>AFFX-ThrX-M_at</th>\n",
       "      <th>AFFX-TrpnX-3_at</th>\n",
       "      <th>AFFX-TrpnX-5_at</th>\n",
       "      <th>AFFX-TrpnX-M_at</th>\n",
       "    </tr>\n",
       "  </thead>\n",
       "  <tbody>\n",
       "    <tr>\n",
       "      <th>0</th>\n",
       "      <td>834</td>\n",
       "      <td>ependymoma</td>\n",
       "      <td>12.498150</td>\n",
       "      <td>7.604868</td>\n",
       "      <td>6.880934</td>\n",
       "      <td>9.027128</td>\n",
       "      <td>4.176175</td>\n",
       "      <td>7.224920</td>\n",
       "      <td>6.085942</td>\n",
       "      <td>6.835999</td>\n",
       "      <td>...</td>\n",
       "      <td>9.979005</td>\n",
       "      <td>9.926470</td>\n",
       "      <td>12.719785</td>\n",
       "      <td>12.777792</td>\n",
       "      <td>5.403657</td>\n",
       "      <td>4.870548</td>\n",
       "      <td>4.047380</td>\n",
       "      <td>3.721936</td>\n",
       "      <td>4.516434</td>\n",
       "      <td>4.749940</td>\n",
       "    </tr>\n",
       "    <tr>\n",
       "      <th>1</th>\n",
       "      <td>835</td>\n",
       "      <td>ependymoma</td>\n",
       "      <td>13.067436</td>\n",
       "      <td>7.998090</td>\n",
       "      <td>7.209076</td>\n",
       "      <td>9.723322</td>\n",
       "      <td>4.826126</td>\n",
       "      <td>7.539381</td>\n",
       "      <td>6.250962</td>\n",
       "      <td>8.012549</td>\n",
       "      <td>...</td>\n",
       "      <td>11.924749</td>\n",
       "      <td>11.215930</td>\n",
       "      <td>13.605662</td>\n",
       "      <td>13.401342</td>\n",
       "      <td>5.224555</td>\n",
       "      <td>4.895315</td>\n",
       "      <td>3.786437</td>\n",
       "      <td>3.564481</td>\n",
       "      <td>4.430891</td>\n",
       "      <td>4.491416</td>\n",
       "    </tr>\n",
       "    <tr>\n",
       "      <th>2</th>\n",
       "      <td>836</td>\n",
       "      <td>ependymoma</td>\n",
       "      <td>13.068179</td>\n",
       "      <td>8.573674</td>\n",
       "      <td>8.647684</td>\n",
       "      <td>9.613002</td>\n",
       "      <td>4.396581</td>\n",
       "      <td>7.813101</td>\n",
       "      <td>6.007746</td>\n",
       "      <td>7.178156</td>\n",
       "      <td>...</td>\n",
       "      <td>12.154405</td>\n",
       "      <td>11.532460</td>\n",
       "      <td>13.764593</td>\n",
       "      <td>13.477800</td>\n",
       "      <td>5.303565</td>\n",
       "      <td>5.052184</td>\n",
       "      <td>4.005343</td>\n",
       "      <td>3.595382</td>\n",
       "      <td>4.563494</td>\n",
       "      <td>4.668827</td>\n",
       "    </tr>\n",
       "    <tr>\n",
       "      <th>3</th>\n",
       "      <td>837</td>\n",
       "      <td>ependymoma</td>\n",
       "      <td>12.456040</td>\n",
       "      <td>9.098977</td>\n",
       "      <td>6.628784</td>\n",
       "      <td>8.517677</td>\n",
       "      <td>4.154847</td>\n",
       "      <td>8.361843</td>\n",
       "      <td>6.596064</td>\n",
       "      <td>6.347285</td>\n",
       "      <td>...</td>\n",
       "      <td>11.969072</td>\n",
       "      <td>11.288801</td>\n",
       "      <td>13.600828</td>\n",
       "      <td>13.379029</td>\n",
       "      <td>4.953429</td>\n",
       "      <td>4.708371</td>\n",
       "      <td>3.892318</td>\n",
       "      <td>3.759429</td>\n",
       "      <td>4.748381</td>\n",
       "      <td>4.521275</td>\n",
       "    </tr>\n",
       "    <tr>\n",
       "      <th>4</th>\n",
       "      <td>838</td>\n",
       "      <td>ependymoma</td>\n",
       "      <td>12.699958</td>\n",
       "      <td>8.800721</td>\n",
       "      <td>11.556188</td>\n",
       "      <td>9.166309</td>\n",
       "      <td>4.165891</td>\n",
       "      <td>7.923826</td>\n",
       "      <td>6.212754</td>\n",
       "      <td>6.866387</td>\n",
       "      <td>...</td>\n",
       "      <td>11.411701</td>\n",
       "      <td>11.169317</td>\n",
       "      <td>13.751442</td>\n",
       "      <td>13.803646</td>\n",
       "      <td>4.892677</td>\n",
       "      <td>4.773806</td>\n",
       "      <td>3.796856</td>\n",
       "      <td>3.577544</td>\n",
       "      <td>4.504385</td>\n",
       "      <td>4.541450</td>\n",
       "    </tr>\n",
       "  </tbody>\n",
       "</table>\n",
       "<p>5 rows × 54677 columns</p>\n",
       "</div>"
      ],
      "text/plain": [
       "   samples        type  1007_s_at   1053_at     117_at    121_at  1255_g_at  \\\n",
       "0      834  ependymoma  12.498150  7.604868   6.880934  9.027128   4.176175   \n",
       "1      835  ependymoma  13.067436  7.998090   7.209076  9.723322   4.826126   \n",
       "2      836  ependymoma  13.068179  8.573674   8.647684  9.613002   4.396581   \n",
       "3      837  ependymoma  12.456040  9.098977   6.628784  8.517677   4.154847   \n",
       "4      838  ependymoma  12.699958  8.800721  11.556188  9.166309   4.165891   \n",
       "\n",
       "    1294_at   1316_at   1320_at  ...  AFFX-r2-Ec-bioD-3_at  \\\n",
       "0  7.224920  6.085942  6.835999  ...              9.979005   \n",
       "1  7.539381  6.250962  8.012549  ...             11.924749   \n",
       "2  7.813101  6.007746  7.178156  ...             12.154405   \n",
       "3  8.361843  6.596064  6.347285  ...             11.969072   \n",
       "4  7.923826  6.212754  6.866387  ...             11.411701   \n",
       "\n",
       "   AFFX-r2-Ec-bioD-5_at  AFFX-r2-P1-cre-3_at  AFFX-r2-P1-cre-5_at  \\\n",
       "0              9.926470            12.719785            12.777792   \n",
       "1             11.215930            13.605662            13.401342   \n",
       "2             11.532460            13.764593            13.477800   \n",
       "3             11.288801            13.600828            13.379029   \n",
       "4             11.169317            13.751442            13.803646   \n",
       "\n",
       "   AFFX-ThrX-3_at  AFFX-ThrX-5_at  AFFX-ThrX-M_at  AFFX-TrpnX-3_at  \\\n",
       "0        5.403657        4.870548        4.047380         3.721936   \n",
       "1        5.224555        4.895315        3.786437         3.564481   \n",
       "2        5.303565        5.052184        4.005343         3.595382   \n",
       "3        4.953429        4.708371        3.892318         3.759429   \n",
       "4        4.892677        4.773806        3.796856         3.577544   \n",
       "\n",
       "   AFFX-TrpnX-5_at  AFFX-TrpnX-M_at  \n",
       "0         4.516434         4.749940  \n",
       "1         4.430891         4.491416  \n",
       "2         4.563494         4.668827  \n",
       "3         4.748381         4.521275  \n",
       "4         4.504385         4.541450  \n",
       "\n",
       "[5 rows x 54677 columns]"
      ]
     },
     "execution_count": 2,
     "metadata": {},
     "output_type": "execute_result"
    }
   ],
   "source": [
    "df.head()"
   ]
  },
  {
   "cell_type": "markdown",
   "id": "f6faa7b3",
   "metadata": {},
   "source": [
    "Pozbywamy się niepotrzbnych kolumn, wyznaczamy zbiór walidacyjny"
   ]
  },
  {
   "cell_type": "code",
   "execution_count": 3,
   "id": "e9d568b7",
   "metadata": {},
   "outputs": [],
   "source": [
    "df = df.drop('type', axis=1)\n",
    "df = df.drop('samples', axis=1)\n",
    "\n",
    "df, df_validation = train_test_split(df, test_size=0.2, random_state=42)"
   ]
  },
  {
   "cell_type": "markdown",
   "id": "01d002cf",
   "metadata": {},
   "source": [
    "## Standaryzacja, PCA\n",
    "Liczba cech taka sama, jakzostała wyznaczona w poprzednim etapie"
   ]
  },
  {
   "cell_type": "code",
   "execution_count": 4,
   "id": "73514b13",
   "metadata": {},
   "outputs": [],
   "source": [
    "from sklearn.preprocessing import StandardScaler\n",
    "from sklearn.decomposition import PCA\n",
    "\n",
    "\n",
    "scaler = StandardScaler()\n",
    "df_scaled = scaler.fit_transform(df)\n",
    "\n",
    "pca = PCA(n_components=75, random_state=12).fit(df_scaled)\n",
    "df_pca = pca.transform(df_scaled)"
   ]
  },
  {
   "cell_type": "markdown",
   "id": "f7f4b48e",
   "metadata": {},
   "source": [
    "## Wizualizacja w trzech wymiarach: UMap\n",
    "W tym etapie zamieniłyśmy wizualizację z tSNE na UMap, który nie zakłada normalnego, czy w przybliżeniu normalnego, rozkładu danych -- u nas ma to duże znaczenie, szczególnie ze względu na małą liczność próbki."
   ]
  },
  {
   "cell_type": "code",
   "execution_count": 5,
   "id": "32950202",
   "metadata": {},
   "outputs": [
    {
     "name": "stderr",
     "output_type": "stream",
     "text": [
      "/Users/lila/CuMiDaKlasteryzacja/.venv/lib/python3.11/site-packages/sklearn/utils/deprecation.py:151: FutureWarning: 'force_all_finite' was renamed to 'ensure_all_finite' in 1.6 and will be removed in 1.8.\n",
      "  warnings.warn(\n",
      "/Users/lila/CuMiDaKlasteryzacja/.venv/lib/python3.11/site-packages/umap/umap_.py:1952: UserWarning: n_jobs value 1 overridden to 1 by setting random_state. Use no seed for parallelism.\n",
      "  warn(\n",
      "OMP: Info #276: omp_set_nested routine deprecated, please use omp_set_max_active_levels instead.\n"
     ]
    }
   ],
   "source": [
    "import umap\n",
    "\n",
    "reducer = umap.UMAP(random_state=42, n_components=3)\n",
    "umap_3d = reducer.fit_transform(df_pca)"
   ]
  },
  {
   "cell_type": "code",
   "execution_count": 6,
   "id": "29baaa19",
   "metadata": {},
   "outputs": [
    {
     "data": {
      "application/vnd.plotly.v1+json": {
       "config": {
        "plotlyServerURL": "https://plot.ly"
       },
       "data": [
        {
         "marker": {
          "opacity": 0.7,
          "size": 5
         },
         "mode": "markers",
         "type": "scatter3d",
         "x": {
          "bdata": "x3vXQKnI20A235VArPM/QFGtWUBo/9BAAH6DQNqKd0BW4mVAjx7xQDMg3UAGnPlAy+rTQEcO+kBV0e9A0+LVQG5v3UBRl+ZAv4jQQNGmh0BKT2JAGk/tQChaVECPUHJAYWKKQPsM7UCkvd9Aj/3UQJNgdkAneFNANa1SQIPxz0AkJdpAXjrQQI1t20CF9YdA3JvHQIOckkAJh+hA/k1kQJkZ8UAMn9ZA1wv0QCxy9kC/CU1AdeT+QH1I7kAnvutA0QFyQGj15kB9e4JAQMP9QHY8gkAq5KNABX3+QNS8+0Ccr5lA2LvCQHLISkAZhnxA9V/6QG2V8kDdjslA8aLEQBq7xUAXvJtALfrZQCkdk0ArwqtArwHCQDRqsEB6z/lA/JVaQPia4EBDJjhADSXCQArRmUCyH8pAm9ZYQMD83UA4tOJA7Hf1QDoJd0D6TYdAsDWWQLFth0BiRpJAueb5QFaD+ECDM+hA5QWnQKGVfUCzifBAKleqQDwkqUAX3IlAV6zQQCF8g0DT/IlAsTyAQMUQ9kBlXolAhlLtQBoQ+kA=",
          "dtype": "f4"
         },
         "y": {
          "bdata": "bL5xQB2WeEBn4y5BzoorQQ6RNUEXsodAsF4sQZGfNkFn9y5BDvGgQGx8jkAFN6ZAtjx8QIVrqkB7FJtAuKp6QBk+UEDJb51A8NV1QEpqLEE0yi5BoAadQG56J0GBuDVBwFQoQR2urUD8o0RAkiaJQDWfKEEKojJBB9omQReBgECQh5xAGbeXQMWSkkAxnzBBut59QEiROUEWH1dAM8oxQU9Bk0CdEm5AwVmfQOM2mEB9nS9BVOKmQMRRZUB/E5BAzrA4QZAYkUCsxTRBfq2eQKcFL0Hjdi9BQZ6ZQEUQrUAKKjNBPnmXQJhNJ0GWYipBp5anQIxdskDzTpFAbueCQBv5kEAN8DZBBhWiQCqFK0EnTzRBs+uGQEMqMEFM4a9Acb8lQf8PlEBpHSpBVdCRQEzFKkFTootAd0kqQQRukECFgJNAUeOkQP77LUEJQTtBVCQrQS9oO0FXCzVBsH6uQDDfuUBEz0lAhfAsQZ6YKUFDCpxAYGIyQeKML0Gp/ClBDoN0QFsKOkHn0jRBk9s2QbtVnUC8DjhBfnFTQLdjmkA=",
          "dtype": "f4"
         },
         "z": {
          "bdata": "eyIGQd3SBEEwS8W/N/aivgCWqb6lbP1Af/yWv0xBjL8zgcO/xP7BQGUwBUHUmAhBY9wGQZw8BkFHCA9BPUHzQCFiBEHt+gxBkEIAQZ9j0b/D2O++ff0PQUO4b7+u+z+/QfXiv4t8C0FdbAJBIH7zQFHBR7+dcI2+6okWv3GmCUHXbAlBK3j8QJQLEEEr4yq/VD4DQeTiZL/bCQJB00KyvfSFCkF/CQpBUAvIQDynvUBRuNW+HKgEQRKuBkEXIBFBGppTv//+B0H88s6/hMf0QFJe/74G86W/CkLFQEULvEAIQIW/Sfj9QGNT0b7Nsq6/+rq8QNjABEEGKfNAhh4GQWqt+kBKPa+/ONkKQaMU478xnaK/zgv4QIe4sb8ye7lAEbiJv8ny7UCOebW+oczxQPpTwr+AswZBArC9v4dODUGqmw9ByAvCQDhv5b9uhBK/KFugv5OVeb/y3yq/p/oHQShftEDLDgZBvX6Vv+OpIr8XbspAt/rLv6wgmb9vOHW/oLj2QE5hnr+sUOO/x8LLv4Dov0DRZhW/U/cEQTaGt0A=",
          "dtype": "f4"
         }
        }
       ],
       "layout": {
        "margin": {
         "b": 0,
         "l": 0,
         "r": 0,
         "t": 30
        },
        "scene": {
         "xaxis": {
          "title": {
           "text": "UMAP component 1"
          }
         },
         "yaxis": {
          "title": {
           "text": "UMAP component 2"
          }
         },
         "zaxis": {
          "title": {
           "text": "UMAP component 3"
          }
         }
        },
        "template": {
         "data": {
          "bar": [
           {
            "error_x": {
             "color": "#2a3f5f"
            },
            "error_y": {
             "color": "#2a3f5f"
            },
            "marker": {
             "line": {
              "color": "#E5ECF6",
              "width": 0.5
             },
             "pattern": {
              "fillmode": "overlay",
              "size": 10,
              "solidity": 0.2
             }
            },
            "type": "bar"
           }
          ],
          "barpolar": [
           {
            "marker": {
             "line": {
              "color": "#E5ECF6",
              "width": 0.5
             },
             "pattern": {
              "fillmode": "overlay",
              "size": 10,
              "solidity": 0.2
             }
            },
            "type": "barpolar"
           }
          ],
          "carpet": [
           {
            "aaxis": {
             "endlinecolor": "#2a3f5f",
             "gridcolor": "white",
             "linecolor": "white",
             "minorgridcolor": "white",
             "startlinecolor": "#2a3f5f"
            },
            "baxis": {
             "endlinecolor": "#2a3f5f",
             "gridcolor": "white",
             "linecolor": "white",
             "minorgridcolor": "white",
             "startlinecolor": "#2a3f5f"
            },
            "type": "carpet"
           }
          ],
          "choropleth": [
           {
            "colorbar": {
             "outlinewidth": 0,
             "ticks": ""
            },
            "type": "choropleth"
           }
          ],
          "contour": [
           {
            "colorbar": {
             "outlinewidth": 0,
             "ticks": ""
            },
            "colorscale": [
             [
              0,
              "#0d0887"
             ],
             [
              0.1111111111111111,
              "#46039f"
             ],
             [
              0.2222222222222222,
              "#7201a8"
             ],
             [
              0.3333333333333333,
              "#9c179e"
             ],
             [
              0.4444444444444444,
              "#bd3786"
             ],
             [
              0.5555555555555556,
              "#d8576b"
             ],
             [
              0.6666666666666666,
              "#ed7953"
             ],
             [
              0.7777777777777778,
              "#fb9f3a"
             ],
             [
              0.8888888888888888,
              "#fdca26"
             ],
             [
              1,
              "#f0f921"
             ]
            ],
            "type": "contour"
           }
          ],
          "contourcarpet": [
           {
            "colorbar": {
             "outlinewidth": 0,
             "ticks": ""
            },
            "type": "contourcarpet"
           }
          ],
          "heatmap": [
           {
            "colorbar": {
             "outlinewidth": 0,
             "ticks": ""
            },
            "colorscale": [
             [
              0,
              "#0d0887"
             ],
             [
              0.1111111111111111,
              "#46039f"
             ],
             [
              0.2222222222222222,
              "#7201a8"
             ],
             [
              0.3333333333333333,
              "#9c179e"
             ],
             [
              0.4444444444444444,
              "#bd3786"
             ],
             [
              0.5555555555555556,
              "#d8576b"
             ],
             [
              0.6666666666666666,
              "#ed7953"
             ],
             [
              0.7777777777777778,
              "#fb9f3a"
             ],
             [
              0.8888888888888888,
              "#fdca26"
             ],
             [
              1,
              "#f0f921"
             ]
            ],
            "type": "heatmap"
           }
          ],
          "histogram": [
           {
            "marker": {
             "pattern": {
              "fillmode": "overlay",
              "size": 10,
              "solidity": 0.2
             }
            },
            "type": "histogram"
           }
          ],
          "histogram2d": [
           {
            "colorbar": {
             "outlinewidth": 0,
             "ticks": ""
            },
            "colorscale": [
             [
              0,
              "#0d0887"
             ],
             [
              0.1111111111111111,
              "#46039f"
             ],
             [
              0.2222222222222222,
              "#7201a8"
             ],
             [
              0.3333333333333333,
              "#9c179e"
             ],
             [
              0.4444444444444444,
              "#bd3786"
             ],
             [
              0.5555555555555556,
              "#d8576b"
             ],
             [
              0.6666666666666666,
              "#ed7953"
             ],
             [
              0.7777777777777778,
              "#fb9f3a"
             ],
             [
              0.8888888888888888,
              "#fdca26"
             ],
             [
              1,
              "#f0f921"
             ]
            ],
            "type": "histogram2d"
           }
          ],
          "histogram2dcontour": [
           {
            "colorbar": {
             "outlinewidth": 0,
             "ticks": ""
            },
            "colorscale": [
             [
              0,
              "#0d0887"
             ],
             [
              0.1111111111111111,
              "#46039f"
             ],
             [
              0.2222222222222222,
              "#7201a8"
             ],
             [
              0.3333333333333333,
              "#9c179e"
             ],
             [
              0.4444444444444444,
              "#bd3786"
             ],
             [
              0.5555555555555556,
              "#d8576b"
             ],
             [
              0.6666666666666666,
              "#ed7953"
             ],
             [
              0.7777777777777778,
              "#fb9f3a"
             ],
             [
              0.8888888888888888,
              "#fdca26"
             ],
             [
              1,
              "#f0f921"
             ]
            ],
            "type": "histogram2dcontour"
           }
          ],
          "mesh3d": [
           {
            "colorbar": {
             "outlinewidth": 0,
             "ticks": ""
            },
            "type": "mesh3d"
           }
          ],
          "parcoords": [
           {
            "line": {
             "colorbar": {
              "outlinewidth": 0,
              "ticks": ""
             }
            },
            "type": "parcoords"
           }
          ],
          "pie": [
           {
            "automargin": true,
            "type": "pie"
           }
          ],
          "scatter": [
           {
            "fillpattern": {
             "fillmode": "overlay",
             "size": 10,
             "solidity": 0.2
            },
            "type": "scatter"
           }
          ],
          "scatter3d": [
           {
            "line": {
             "colorbar": {
              "outlinewidth": 0,
              "ticks": ""
             }
            },
            "marker": {
             "colorbar": {
              "outlinewidth": 0,
              "ticks": ""
             }
            },
            "type": "scatter3d"
           }
          ],
          "scattercarpet": [
           {
            "marker": {
             "colorbar": {
              "outlinewidth": 0,
              "ticks": ""
             }
            },
            "type": "scattercarpet"
           }
          ],
          "scattergeo": [
           {
            "marker": {
             "colorbar": {
              "outlinewidth": 0,
              "ticks": ""
             }
            },
            "type": "scattergeo"
           }
          ],
          "scattergl": [
           {
            "marker": {
             "colorbar": {
              "outlinewidth": 0,
              "ticks": ""
             }
            },
            "type": "scattergl"
           }
          ],
          "scattermap": [
           {
            "marker": {
             "colorbar": {
              "outlinewidth": 0,
              "ticks": ""
             }
            },
            "type": "scattermap"
           }
          ],
          "scattermapbox": [
           {
            "marker": {
             "colorbar": {
              "outlinewidth": 0,
              "ticks": ""
             }
            },
            "type": "scattermapbox"
           }
          ],
          "scatterpolar": [
           {
            "marker": {
             "colorbar": {
              "outlinewidth": 0,
              "ticks": ""
             }
            },
            "type": "scatterpolar"
           }
          ],
          "scatterpolargl": [
           {
            "marker": {
             "colorbar": {
              "outlinewidth": 0,
              "ticks": ""
             }
            },
            "type": "scatterpolargl"
           }
          ],
          "scatterternary": [
           {
            "marker": {
             "colorbar": {
              "outlinewidth": 0,
              "ticks": ""
             }
            },
            "type": "scatterternary"
           }
          ],
          "surface": [
           {
            "colorbar": {
             "outlinewidth": 0,
             "ticks": ""
            },
            "colorscale": [
             [
              0,
              "#0d0887"
             ],
             [
              0.1111111111111111,
              "#46039f"
             ],
             [
              0.2222222222222222,
              "#7201a8"
             ],
             [
              0.3333333333333333,
              "#9c179e"
             ],
             [
              0.4444444444444444,
              "#bd3786"
             ],
             [
              0.5555555555555556,
              "#d8576b"
             ],
             [
              0.6666666666666666,
              "#ed7953"
             ],
             [
              0.7777777777777778,
              "#fb9f3a"
             ],
             [
              0.8888888888888888,
              "#fdca26"
             ],
             [
              1,
              "#f0f921"
             ]
            ],
            "type": "surface"
           }
          ],
          "table": [
           {
            "cells": {
             "fill": {
              "color": "#EBF0F8"
             },
             "line": {
              "color": "white"
             }
            },
            "header": {
             "fill": {
              "color": "#C8D4E3"
             },
             "line": {
              "color": "white"
             }
            },
            "type": "table"
           }
          ]
         },
         "layout": {
          "annotationdefaults": {
           "arrowcolor": "#2a3f5f",
           "arrowhead": 0,
           "arrowwidth": 1
          },
          "autotypenumbers": "strict",
          "coloraxis": {
           "colorbar": {
            "outlinewidth": 0,
            "ticks": ""
           }
          },
          "colorscale": {
           "diverging": [
            [
             0,
             "#8e0152"
            ],
            [
             0.1,
             "#c51b7d"
            ],
            [
             0.2,
             "#de77ae"
            ],
            [
             0.3,
             "#f1b6da"
            ],
            [
             0.4,
             "#fde0ef"
            ],
            [
             0.5,
             "#f7f7f7"
            ],
            [
             0.6,
             "#e6f5d0"
            ],
            [
             0.7,
             "#b8e186"
            ],
            [
             0.8,
             "#7fbc41"
            ],
            [
             0.9,
             "#4d9221"
            ],
            [
             1,
             "#276419"
            ]
           ],
           "sequential": [
            [
             0,
             "#0d0887"
            ],
            [
             0.1111111111111111,
             "#46039f"
            ],
            [
             0.2222222222222222,
             "#7201a8"
            ],
            [
             0.3333333333333333,
             "#9c179e"
            ],
            [
             0.4444444444444444,
             "#bd3786"
            ],
            [
             0.5555555555555556,
             "#d8576b"
            ],
            [
             0.6666666666666666,
             "#ed7953"
            ],
            [
             0.7777777777777778,
             "#fb9f3a"
            ],
            [
             0.8888888888888888,
             "#fdca26"
            ],
            [
             1,
             "#f0f921"
            ]
           ],
           "sequentialminus": [
            [
             0,
             "#0d0887"
            ],
            [
             0.1111111111111111,
             "#46039f"
            ],
            [
             0.2222222222222222,
             "#7201a8"
            ],
            [
             0.3333333333333333,
             "#9c179e"
            ],
            [
             0.4444444444444444,
             "#bd3786"
            ],
            [
             0.5555555555555556,
             "#d8576b"
            ],
            [
             0.6666666666666666,
             "#ed7953"
            ],
            [
             0.7777777777777778,
             "#fb9f3a"
            ],
            [
             0.8888888888888888,
             "#fdca26"
            ],
            [
             1,
             "#f0f921"
            ]
           ]
          },
          "colorway": [
           "#636efa",
           "#EF553B",
           "#00cc96",
           "#ab63fa",
           "#FFA15A",
           "#19d3f3",
           "#FF6692",
           "#B6E880",
           "#FF97FF",
           "#FECB52"
          ],
          "font": {
           "color": "#2a3f5f"
          },
          "geo": {
           "bgcolor": "white",
           "lakecolor": "white",
           "landcolor": "#E5ECF6",
           "showlakes": true,
           "showland": true,
           "subunitcolor": "white"
          },
          "hoverlabel": {
           "align": "left"
          },
          "hovermode": "closest",
          "mapbox": {
           "style": "light"
          },
          "paper_bgcolor": "white",
          "plot_bgcolor": "#E5ECF6",
          "polar": {
           "angularaxis": {
            "gridcolor": "white",
            "linecolor": "white",
            "ticks": ""
           },
           "bgcolor": "#E5ECF6",
           "radialaxis": {
            "gridcolor": "white",
            "linecolor": "white",
            "ticks": ""
           }
          },
          "scene": {
           "xaxis": {
            "backgroundcolor": "#E5ECF6",
            "gridcolor": "white",
            "gridwidth": 2,
            "linecolor": "white",
            "showbackground": true,
            "ticks": "",
            "zerolinecolor": "white"
           },
           "yaxis": {
            "backgroundcolor": "#E5ECF6",
            "gridcolor": "white",
            "gridwidth": 2,
            "linecolor": "white",
            "showbackground": true,
            "ticks": "",
            "zerolinecolor": "white"
           },
           "zaxis": {
            "backgroundcolor": "#E5ECF6",
            "gridcolor": "white",
            "gridwidth": 2,
            "linecolor": "white",
            "showbackground": true,
            "ticks": "",
            "zerolinecolor": "white"
           }
          },
          "shapedefaults": {
           "line": {
            "color": "#2a3f5f"
           }
          },
          "ternary": {
           "aaxis": {
            "gridcolor": "white",
            "linecolor": "white",
            "ticks": ""
           },
           "baxis": {
            "gridcolor": "white",
            "linecolor": "white",
            "ticks": ""
           },
           "bgcolor": "#E5ECF6",
           "caxis": {
            "gridcolor": "white",
            "linecolor": "white",
            "ticks": ""
           }
          },
          "title": {
           "x": 0.05
          },
          "xaxis": {
           "automargin": true,
           "gridcolor": "white",
           "linecolor": "white",
           "ticks": "",
           "title": {
            "standoff": 15
           },
           "zerolinecolor": "white",
           "zerolinewidth": 2
          },
          "yaxis": {
           "automargin": true,
           "gridcolor": "white",
           "linecolor": "white",
           "ticks": "",
           "title": {
            "standoff": 15
           },
           "zerolinecolor": "white",
           "zerolinewidth": 2
          }
         }
        },
        "title": {
         "text": "3D UMAP Scatter Plot for all PCA features"
        }
       }
      }
     },
     "metadata": {},
     "output_type": "display_data"
    }
   ],
   "source": [
    "import plotly.graph_objects as go\n",
    "\n",
    "# Interactive 3D scatter plot\n",
    "fig = go.Figure(data=[go.Scatter3d(\n",
    "    x=umap_3d[:, 0],\n",
    "    y=umap_3d[:, 1],\n",
    "    z=umap_3d[:, 2],\n",
    "    mode='markers',\n",
    "    marker=dict(\n",
    "        size=5,\n",
    "        opacity=0.7\n",
    "    )\n",
    ")])\n",
    "\n",
    "fig.update_layout(\n",
    "    title='3D UMAP Scatter Plot for all PCA features',\n",
    "    scene=dict(\n",
    "        xaxis_title='UMAP component 1',\n",
    "        yaxis_title='UMAP component 2',\n",
    "        zaxis_title='UMAP component 3'\n",
    "    ),\n",
    "    margin=dict(l=0, r=0, b=0, t=30)\n",
    ")\n",
    "\n",
    "fig.show()"
   ]
  },
  {
   "cell_type": "markdown",
   "id": "a7883ef2",
   "metadata": {},
   "source": [
    "Funkcja do wizualizacji klastrów:"
   ]
  },
  {
   "cell_type": "code",
   "execution_count": 7,
   "id": "f57d1018",
   "metadata": {},
   "outputs": [],
   "source": [
    "import plotly.graph_objects as go\n",
    "import numpy as np\n",
    "import plotly.colors as pc\n",
    "\n",
    "def visualise_clusters_umap_3d(umap_3d, cluster_labels, model_name):\n",
    "    unique_labels = np.unique(cluster_labels)\n",
    "    n_clusters = len(unique_labels)\n",
    "\n",
    "    # Use a qualitative color palette from Plotly\n",
    "    base_colors = pc.qualitative.Plotly  # You can also try D3, Set1, Bold\n",
    "    colors_extended = (base_colors * ((n_clusters // len(base_colors)) + 1))[:n_clusters]\n",
    "    \n",
    "    # Map each label to a color\n",
    "    label_to_color = {label: colors_extended[i] for i, label in enumerate(unique_labels)}\n",
    "    colors = [label_to_color[label] for label in cluster_labels]\n",
    "\n",
    "    fig = go.Figure(data=[go.Scatter3d(\n",
    "        x=umap_3d[:, 0],\n",
    "        y=umap_3d[:, 1],\n",
    "        z=umap_3d[:, 2],\n",
    "        mode='markers',\n",
    "        marker=dict(\n",
    "            size=5,\n",
    "            opacity=0.8,\n",
    "            color=colors,\n",
    "        ),\n",
    "        text=[f\"Cluster {label}\" for label in cluster_labels],\n",
    "        hoverinfo='text'\n",
    "    )])\n",
    "\n",
    "    fig.update_layout(\n",
    "        title=f'3D UMAP Clusters - {model_name}',\n",
    "        scene=dict(\n",
    "            xaxis_title='UMAP Component 1',\n",
    "            yaxis_title='UMAP Component 2',\n",
    "            zaxis_title='UMAP Component 3'\n",
    "        ),\n",
    "        margin=dict(l=0, r=0, b=0, t=30)\n",
    "    )\n",
    "\n",
    "    fig.show()"
   ]
  },
  {
   "cell_type": "markdown",
   "id": "5bfce8f6",
   "metadata": {},
   "source": [
    "## Modele\n",
    "W tej sekcji porównujemy modele z poprzedniego etapu z nowymi -- dobieramy hiperparametry."
   ]
  },
  {
   "cell_type": "markdown",
   "id": "5d5cb635",
   "metadata": {},
   "source": [
    "### KMeans"
   ]
  },
  {
   "cell_type": "markdown",
   "id": "fbb1de23",
   "metadata": {},
   "source": [
    "Poprzednio modele KMeans wychodziły bardzo niestabilne -- ich wyniki bardzo zależały od usawionego random_state. Dodałyśmy argument n_init=50 aby temu rpzeciwdziałać"
   ]
  },
  {
   "cell_type": "code",
   "execution_count": 8,
   "id": "30895652",
   "metadata": {},
   "outputs": [],
   "source": [
    "from sklearn.cluster import KMeans\n",
    "kmeans = KMeans(n_clusters=2, random_state=42, n_init=\"auto\").fit(df_pca)"
   ]
  },
  {
   "cell_type": "code",
   "execution_count": 9,
   "id": "bb9504f6",
   "metadata": {},
   "outputs": [],
   "source": [
    "def optimal_kmeans_wcss(df, k_max):\n",
    "    scores = []\n",
    "\n",
    "    #WCSS (inertia) - within-cluster sum of squares\n",
    "    for k in range(1, k_max+1):\n",
    "        kmeans = KMeans(n_clusters=k, random_state=42, n_init=50)\n",
    "        kmeans.fit(df)\n",
    "        wcss = kmeans.score(df) * -1 # score returns -WCSS\n",
    "        scores.append(wcss)\n",
    "    return scores"
   ]
  },
  {
   "cell_type": "code",
   "execution_count": 10,
   "id": "fb61172e",
   "metadata": {},
   "outputs": [
    {
     "data": {
      "image/png": "[encoded data removed]",
      "text/plain": [
       "<Figure size 640x480 with 1 Axes>"
      ]
     },
     "metadata": {},
     "output_type": "display_data"
    }
   ],
   "source": [
    "wcss_vec = optimal_kmeans_wcss(df_pca, 10)\n",
    "x_ticks = list(range(1, len(wcss_vec) + 1))\n",
    "plt.plot(x_ticks, wcss_vec, 'bx-')\n",
    "plt.xlabel('k')\n",
    "plt.ylabel('Within-cluster sum of squares')\n",
    "plt.title('The Elbow Method showing the optimal k')\n",
    "plt.show()"
   ]
  },
  {
   "cell_type": "code",
   "execution_count": 11,
   "id": "be72832d",
   "metadata": {},
   "outputs": [
    {
     "data": {
      "image/png": "[encoded data removed]",
      "text/plain": [
       "<Figure size 640x480 with 1 Axes>"
      ]
     },
     "metadata": {},
     "output_type": "display_data"
    }
   ],
   "source": [
    "from sklearn.metrics import silhouette_score\n",
    "\n",
    "silhouette_scores = []\n",
    "for k in range(2, 15):\n",
    "    kmeans = KMeans(n_clusters=k, random_state=42, n_init=50).fit(df_pca)\n",
    "    score = silhouette_score(df, kmeans.labels_)\n",
    "    silhouette_scores.append(score)\n",
    "\n",
    "plt.plot(range(2, 15), silhouette_scores)\n",
    "plt.xlabel('Number of clusters (k)')\n",
    "plt.ylabel('Silhouette Score')\n",
    "plt.title('Silhouette Method')\n",
    "plt.show()"
   ]
  },
  {
   "cell_type": "code",
   "execution_count": 12,
   "id": "847d3d0a",
   "metadata": {},
   "outputs": [
    {
     "data": {
      "application/vnd.plotly.v1+json": {
       "config": {
        "plotlyServerURL": "https://plot.ly"
       },
       "data": [
        {
         "hoverinfo": "text",
         "marker": {
          "color": [
           "#EF553B",
           "#EF553B",
           "#636EFA",
           "#636EFA",
           "#636EFA",
           "#EF553B",
           "#636EFA",
           "#636EFA",
           "#636EFA",
           "#00CC96",
           "#EF553B",
           "#EF553B",
           "#EF553B",
           "#EF553B",
           "#EF553B",
           "#EF553B",
           "#EF553B",
           "#EF553B",
           "#EF553B",
           "#636EFA",
           "#636EFA",
           "#EF553B",
           "#636EFA",
           "#636EFA",
           "#636EFA",
           "#EF553B",
           "#EF553B",
           "#EF553B",
           "#636EFA",
           "#636EFA",
           "#636EFA",
           "#EF553B",
           "#EF553B",
           "#EF553B",
           "#EF553B",
           "#636EFA",
           "#EF553B",
           "#636EFA",
           "#EF553B",
           "#636EFA",
           "#EF553B",
           "#EF553B",
           "#00CC96",
           "#00CC96",
           "#636EFA",
           "#EF553B",
           "#EF553B",
           "#EF553B",
           "#636EFA",
           "#EF553B",
           "#636EFA",
           "#EF553B",
           "#636EFA",
           "#636EFA",
           "#00CC96",
           "#00CC96",
           "#636EFA",
           "#EF553B",
           "#636EFA",
           "#636EFA",
           "#00CC96",
           "#EF553B",
           "#EF553B",
           "#EF553B",
           "#EF553B",
           "#636EFA",
           "#EF553B",
           "#636EFA",
           "#636EFA",
           "#EF553B",
           "#636EFA",
           "#00CC96",
           "#636EFA",
           "#EF553B",
           "#636EFA",
           "#EF553B",
           "#636EFA",
           "#EF553B",
           "#636EFA",
           "#EF553B",
           "#EF553B",
           "#00CC96",
           "#636EFA",
           "#636EFA",
           "#636EFA",
           "#636EFA",
           "#636EFA",
           "#EF553B",
           "#636EFA",
           "#EF553B",
           "#636EFA",
           "#636EFA",
           "#00CC96",
           "#636EFA",
           "#636EFA",
           "#636EFA",
           "#EF553B",
           "#636EFA",
           "#636EFA",
           "#636EFA",
           "#00CC96",
           "#636EFA",
           "#EF553B",
           "#00CC96"
          ],
          "opacity": 0.8,
          "size": 5
         },
         "mode": "markers",
         "text": [
          "Cluster 1",
          "Cluster 1",
          "Cluster 0",
          "Cluster 0",
          "Cluster 0",
          "Cluster 1",
          "Cluster 0",
          "Cluster 0",
          "Cluster 0",
          "Cluster 2",
          "Cluster 1",
          "Cluster 1",
          "Cluster 1",
          "Cluster 1",
          "Cluster 1",
          "Cluster 1",
          "Cluster 1",
          "Cluster 1",
          "Cluster 1",
          "Cluster 0",
          "Cluster 0",
          "Cluster 1",
          "Cluster 0",
          "Cluster 0",
          "Cluster 0",
          "Cluster 1",
          "Cluster 1",
          "Cluster 1",
          "Cluster 0",
          "Cluster 0",
          "Cluster 0",
          "Cluster 1",
          "Cluster 1",
          "Cluster 1",
          "Cluster 1",
          "Cluster 0",
          "Cluster 1",
          "Cluster 0",
          "Cluster 1",
          "Cluster 0",
          "Cluster 1",
          "Cluster 1",
          "Cluster 2",
          "Cluster 2",
          "Cluster 0",
          "Cluster 1",
          "Cluster 1",
          "Cluster 1",
          "Cluster 0",
          "Cluster 1",
          "Cluster 0",
          "Cluster 1",
          "Cluster 0",
          "Cluster 0",
          "Cluster 2",
          "Cluster 2",
          "Cluster 0",
          "Cluster 1",
          "Cluster 0",
          "Cluster 0",
          "Cluster 2",
          "Cluster 1",
          "Cluster 1",
          "Cluster 1",
          "Cluster 1",
          "Cluster 0",
          "Cluster 1",
          "Cluster 0",
          "Cluster 0",
          "Cluster 1",
          "Cluster 0",
          "Cluster 2",
          "Cluster 0",
          "Cluster 1",
          "Cluster 0",
          "Cluster 1",
          "Cluster 0",
          "Cluster 1",
          "Cluster 0",
          "Cluster 1",
          "Cluster 1",
          "Cluster 2",
          "Cluster 0",
          "Cluster 0",
          "Cluster 0",
          "Cluster 0",
          "Cluster 0",
          "Cluster 1",
          "Cluster 0",
          "Cluster 1",
          "Cluster 0",
          "Cluster 0",
          "Cluster 2",
          "Cluster 0",
          "Cluster 0",
          "Cluster 0",
          "Cluster 1",
          "Cluster 0",
          "Cluster 0",
          "Cluster 0",
          "Cluster 2",
          "Cluster 0",
          "Cluster 1",
          "Cluster 2"
         ],
         "type": "scatter3d",
         "x": {
          "bdata": "x3vXQKnI20A235VArPM/QFGtWUBo/9BAAH6DQNqKd0BW4mVAjx7xQDMg3UAGnPlAy+rTQEcO+kBV0e9A0+LVQG5v3UBRl+ZAv4jQQNGmh0BKT2JAGk/tQChaVECPUHJAYWKKQPsM7UCkvd9Aj/3UQJNgdkAneFNANa1SQIPxz0AkJdpAXjrQQI1t20CF9YdA3JvHQIOckkAJh+hA/k1kQJkZ8UAMn9ZA1wv0QCxy9kC/CU1AdeT+QH1I7kAnvutA0QFyQGj15kB9e4JAQMP9QHY8gkAq5KNABX3+QNS8+0Ccr5lA2LvCQHLISkAZhnxA9V/6QG2V8kDdjslA8aLEQBq7xUAXvJtALfrZQCkdk0ArwqtArwHCQDRqsEB6z/lA/JVaQPia4EBDJjhADSXCQArRmUCyH8pAm9ZYQMD83UA4tOJA7Hf1QDoJd0D6TYdAsDWWQLFth0BiRpJAueb5QFaD+ECDM+hA5QWnQKGVfUCzifBAKleqQDwkqUAX3IlAV6zQQCF8g0DT/IlAsTyAQMUQ9kBlXolAhlLtQBoQ+kA=",
          "dtype": "f4"
         },
         "y": {
          "bdata": "bL5xQB2WeEBn4y5BzoorQQ6RNUEXsodAsF4sQZGfNkFn9y5BDvGgQGx8jkAFN6ZAtjx8QIVrqkB7FJtAuKp6QBk+UEDJb51A8NV1QEpqLEE0yi5BoAadQG56J0GBuDVBwFQoQR2urUD8o0RAkiaJQDWfKEEKojJBB9omQReBgECQh5xAGbeXQMWSkkAxnzBBut59QEiROUEWH1dAM8oxQU9Bk0CdEm5AwVmfQOM2mEB9nS9BVOKmQMRRZUB/E5BAzrA4QZAYkUCsxTRBfq2eQKcFL0Hjdi9BQZ6ZQEUQrUAKKjNBPnmXQJhNJ0GWYipBp5anQIxdskDzTpFAbueCQBv5kEAN8DZBBhWiQCqFK0EnTzRBs+uGQEMqMEFM4a9Acb8lQf8PlEBpHSpBVdCRQEzFKkFTootAd0kqQQRukECFgJNAUeOkQP77LUEJQTtBVCQrQS9oO0FXCzVBsH6uQDDfuUBEz0lAhfAsQZ6YKUFDCpxAYGIyQeKML0Gp/ClBDoN0QFsKOkHn0jRBk9s2QbtVnUC8DjhBfnFTQLdjmkA=",
          "dtype": "f4"
         },
         "z": {
          "bdata": "eyIGQd3SBEEwS8W/N/aivgCWqb6lbP1Af/yWv0xBjL8zgcO/xP7BQGUwBUHUmAhBY9wGQZw8BkFHCA9BPUHzQCFiBEHt+gxBkEIAQZ9j0b/D2O++ff0PQUO4b7+u+z+/QfXiv4t8C0FdbAJBIH7zQFHBR7+dcI2+6okWv3GmCUHXbAlBK3j8QJQLEEEr4yq/VD4DQeTiZL/bCQJB00KyvfSFCkF/CQpBUAvIQDynvUBRuNW+HKgEQRKuBkEXIBFBGppTv//+B0H88s6/hMf0QFJe/74G86W/CkLFQEULvEAIQIW/Sfj9QGNT0b7Nsq6/+rq8QNjABEEGKfNAhh4GQWqt+kBKPa+/ONkKQaMU478xnaK/zgv4QIe4sb8ye7lAEbiJv8ny7UCOebW+oczxQPpTwr+AswZBArC9v4dODUGqmw9ByAvCQDhv5b9uhBK/KFugv5OVeb/y3yq/p/oHQShftEDLDgZBvX6Vv+OpIr8XbspAt/rLv6wgmb9vOHW/oLj2QE5hnr+sUOO/x8LLv4Dov0DRZhW/U/cEQTaGt0A=",
          "dtype": "f4"
         }
        }
       ],
       "layout": {
        "margin": {
         "b": 0,
         "l": 0,
         "r": 0,
         "t": 30
        },
        "scene": {
         "xaxis": {
          "title": {
           "text": "UMAP Component 1"
          }
         },
         "yaxis": {
          "title": {
           "text": "UMAP Component 2"
          }
         },
         "zaxis": {
          "title": {
           "text": "UMAP Component 3"
          }
         }
        },
        "template": {
         "data": {
          "bar": [
           {
            "error_x": {
             "color": "#2a3f5f"
            },
            "error_y": {
             "color": "#2a3f5f"
            },
            "marker": {
             "line": {
              "color": "#E5ECF6",
              "width": 0.5
             },
             "pattern": {
              "fillmode": "overlay",
              "size": 10,
              "solidity": 0.2
             }
            },
            "type": "bar"
           }
          ],
          "barpolar": [
           {
            "marker": {
             "line": {
              "color": "#E5ECF6",
              "width": 0.5
             },
             "pattern": {
              "fillmode": "overlay",
              "size": 10,
              "solidity": 0.2
             }
            },
            "type": "barpolar"
           }
          ],
          "carpet": [
           {
            "aaxis": {
             "endlinecolor": "#2a3f5f",
             "gridcolor": "white",
             "linecolor": "white",
             "minorgridcolor": "white",
             "startlinecolor": "#2a3f5f"
            },
            "baxis": {
             "endlinecolor": "#2a3f5f",
             "gridcolor": "white",
             "linecolor": "white",
             "minorgridcolor": "white",
             "startlinecolor": "#2a3f5f"
            },
            "type": "carpet"
           }
          ],
          "choropleth": [
           {
            "colorbar": {
             "outlinewidth": 0,
             "ticks": ""
            },
            "type": "choropleth"
           }
          ],
          "contour": [
           {
            "colorbar": {
             "outlinewidth": 0,
             "ticks": ""
            },
            "colorscale": [
             [
              0,
              "#0d0887"
             ],
             [
              0.1111111111111111,
              "#46039f"
             ],
             [
              0.2222222222222222,
              "#7201a8"
             ],
             [
              0.3333333333333333,
              "#9c179e"
             ],
             [
              0.4444444444444444,
              "#bd3786"
             ],
             [
              0.5555555555555556,
              "#d8576b"
             ],
             [
              0.6666666666666666,
              "#ed7953"
             ],
             [
              0.7777777777777778,
              "#fb9f3a"
             ],
             [
              0.8888888888888888,
              "#fdca26"
             ],
             [
              1,
              "#f0f921"
             ]
            ],
            "type": "contour"
           }
          ],
          "contourcarpet": [
           {
            "colorbar": {
             "outlinewidth": 0,
             "ticks": ""
            },
            "type": "contourcarpet"
           }
          ],
          "heatmap": [
           {
            "colorbar": {
             "outlinewidth": 0,
             "ticks": ""
            },
            "colorscale": [
             [
              0,
              "#0d0887"
             ],
             [
              0.1111111111111111,
              "#46039f"
             ],
             [
              0.2222222222222222,
              "#7201a8"
             ],
             [
              0.3333333333333333,
              "#9c179e"
             ],
             [
              0.4444444444444444,
              "#bd3786"
             ],
             [
              0.5555555555555556,
              "#d8576b"
             ],
             [
              0.6666666666666666,
              "#ed7953"
             ],
             [
              0.7777777777777778,
              "#fb9f3a"
             ],
             [
              0.8888888888888888,
              "#fdca26"
             ],
             [
              1,
              "#f0f921"
             ]
            ],
            "type": "heatmap"
           }
          ],
          "histogram": [
           {
            "marker": {
             "pattern": {
              "fillmode": "overlay",
              "size": 10,
              "solidity": 0.2
             }
            },
            "type": "histogram"
           }
          ],
          "histogram2d": [
           {
            "colorbar": {
             "outlinewidth": 0,
             "ticks": ""
            },
            "colorscale": [
             [
              0,
              "#0d0887"
             ],
             [
              0.1111111111111111,
              "#46039f"
             ],
             [
              0.2222222222222222,
              "#7201a8"
             ],
             [
              0.3333333333333333,
              "#9c179e"
             ],
             [
              0.4444444444444444,
              "#bd3786"
             ],
             [
              0.5555555555555556,
              "#d8576b"
             ],
             [
              0.6666666666666666,
              "#ed7953"
             ],
             [
              0.7777777777777778,
              "#fb9f3a"
             ],
             [
              0.8888888888888888,
              "#fdca26"
             ],
             [
              1,
              "#f0f921"
             ]
            ],
            "type": "histogram2d"
           }
          ],
          "histogram2dcontour": [
           {
            "colorbar": {
             "outlinewidth": 0,
             "ticks": ""
            },
            "colorscale": [
             [
              0,
              "#0d0887"
             ],
             [
              0.1111111111111111,
              "#46039f"
             ],
             [
              0.2222222222222222,
              "#7201a8"
             ],
             [
              0.3333333333333333,
              "#9c179e"
             ],
             [
              0.4444444444444444,
              "#bd3786"
             ],
             [
              0.5555555555555556,
              "#d8576b"
             ],
             [
              0.6666666666666666,
              "#ed7953"
             ],
             [
              0.7777777777777778,
              "#fb9f3a"
             ],
             [
              0.8888888888888888,
              "#fdca26"
             ],
             [
              1,
              "#f0f921"
             ]
            ],
            "type": "histogram2dcontour"
           }
          ],
          "mesh3d": [
           {
            "colorbar": {
             "outlinewidth": 0,
             "ticks": ""
            },
            "type": "mesh3d"
           }
          ],
          "parcoords": [
           {
            "line": {
             "colorbar": {
              "outlinewidth": 0,
              "ticks": ""
             }
            },
            "type": "parcoords"
           }
          ],
          "pie": [
           {
            "automargin": true,
            "type": "pie"
           }
          ],
          "scatter": [
           {
            "fillpattern": {
             "fillmode": "overlay",
             "size": 10,
             "solidity": 0.2
            },
            "type": "scatter"
           }
          ],
          "scatter3d": [
           {
            "line": {
             "colorbar": {
              "outlinewidth": 0,
              "ticks": ""
             }
            },
            "marker": {
             "colorbar": {
              "outlinewidth": 0,
              "ticks": ""
             }
            },
            "type": "scatter3d"
           }
          ],
          "scattercarpet": [
           {
            "marker": {
             "colorbar": {
              "outlinewidth": 0,
              "ticks": ""
             }
            },
            "type": "scattercarpet"
           }
          ],
          "scattergeo": [
           {
            "marker": {
             "colorbar": {
              "outlinewidth": 0,
              "ticks": ""
             }
            },
            "type": "scattergeo"
           }
          ],
          "scattergl": [
           {
            "marker": {
             "colorbar": {
              "outlinewidth": 0,
              "ticks": ""
             }
            },
            "type": "scattergl"
           }
          ],
          "scattermap": [
           {
            "marker": {
             "colorbar": {
              "outlinewidth": 0,
              "ticks": ""
             }
            },
            "type": "scattermap"
           }
          ],
          "scattermapbox": [
           {
            "marker": {
             "colorbar": {
              "outlinewidth": 0,
              "ticks": ""
             }
            },
            "type": "scattermapbox"
           }
          ],
          "scatterpolar": [
           {
            "marker": {
             "colorbar": {
              "outlinewidth": 0,
              "ticks": ""
             }
            },
            "type": "scatterpolar"
           }
          ],
          "scatterpolargl": [
           {
            "marker": {
             "colorbar": {
              "outlinewidth": 0,
              "ticks": ""
             }
            },
            "type": "scatterpolargl"
           }
          ],
          "scatterternary": [
           {
            "marker": {
             "colorbar": {
              "outlinewidth": 0,
              "ticks": ""
             }
            },
            "type": "scatterternary"
           }
          ],
          "surface": [
           {
            "colorbar": {
             "outlinewidth": 0,
             "ticks": ""
            },
            "colorscale": [
             [
              0,
              "#0d0887"
             ],
             [
              0.1111111111111111,
              "#46039f"
             ],
             [
              0.2222222222222222,
              "#7201a8"
             ],
             [
              0.3333333333333333,
              "#9c179e"
             ],
             [
              0.4444444444444444,
              "#bd3786"
             ],
             [
              0.5555555555555556,
              "#d8576b"
             ],
             [
              0.6666666666666666,
              "#ed7953"
             ],
             [
              0.7777777777777778,
              "#fb9f3a"
             ],
             [
              0.8888888888888888,
              "#fdca26"
             ],
             [
              1,
              "#f0f921"
             ]
            ],
            "type": "surface"
           }
          ],
          "table": [
           {
            "cells": {
             "fill": {
              "color": "#EBF0F8"
             },
             "line": {
              "color": "white"
             }
            },
            "header": {
             "fill": {
              "color": "#C8D4E3"
             },
             "line": {
              "color": "white"
             }
            },
            "type": "table"
           }
          ]
         },
         "layout": {
          "annotationdefaults": {
           "arrowcolor": "#2a3f5f",
           "arrowhead": 0,
           "arrowwidth": 1
          },
          "autotypenumbers": "strict",
          "coloraxis": {
           "colorbar": {
            "outlinewidth": 0,
            "ticks": ""
           }
          },
          "colorscale": {
           "diverging": [
            [
             0,
             "#8e0152"
            ],
            [
             0.1,
             "#c51b7d"
            ],
            [
             0.2,
             "#de77ae"
            ],
            [
             0.3,
             "#f1b6da"
            ],
            [
             0.4,
             "#fde0ef"
            ],
            [
             0.5,
             "#f7f7f7"
            ],
            [
             0.6,
             "#e6f5d0"
            ],
            [
             0.7,
             "#b8e186"
            ],
            [
             0.8,
             "#7fbc41"
            ],
            [
             0.9,
             "#4d9221"
            ],
            [
             1,
             "#276419"
            ]
           ],
           "sequential": [
            [
             0,
             "#0d0887"
            ],
            [
             0.1111111111111111,
             "#46039f"
            ],
            [
             0.2222222222222222,
             "#7201a8"
            ],
            [
             0.3333333333333333,
             "#9c179e"
            ],
            [
             0.4444444444444444,
             "#bd3786"
            ],
            [
             0.5555555555555556,
             "#d8576b"
            ],
            [
             0.6666666666666666,
             "#ed7953"
            ],
            [
             0.7777777777777778,
             "#fb9f3a"
            ],
            [
             0.8888888888888888,
             "#fdca26"
            ],
            [
             1,
             "#f0f921"
            ]
           ],
           "sequentialminus": [
            [
             0,
             "#0d0887"
            ],
            [
             0.1111111111111111,
             "#46039f"
            ],
            [
             0.2222222222222222,
             "#7201a8"
            ],
            [
             0.3333333333333333,
             "#9c179e"
            ],
            [
             0.4444444444444444,
             "#bd3786"
            ],
            [
             0.5555555555555556,
             "#d8576b"
            ],
            [
             0.6666666666666666,
             "#ed7953"
            ],
            [
             0.7777777777777778,
             "#fb9f3a"
            ],
            [
             0.8888888888888888,
             "#fdca26"
            ],
            [
             1,
             "#f0f921"
            ]
           ]
          },
          "colorway": [
           "#636efa",
           "#EF553B",
           "#00cc96",
           "#ab63fa",
           "#FFA15A",
           "#19d3f3",
           "#FF6692",
           "#B6E880",
           "#FF97FF",
           "#FECB52"
          ],
          "font": {
           "color": "#2a3f5f"
          },
          "geo": {
           "bgcolor": "white",
           "lakecolor": "white",
           "landcolor": "#E5ECF6",
           "showlakes": true,
           "showland": true,
           "subunitcolor": "white"
          },
          "hoverlabel": {
           "align": "left"
          },
          "hovermode": "closest",
          "mapbox": {
           "style": "light"
          },
          "paper_bgcolor": "white",
          "plot_bgcolor": "#E5ECF6",
          "polar": {
           "angularaxis": {
            "gridcolor": "white",
            "linecolor": "white",
            "ticks": ""
           },
           "bgcolor": "#E5ECF6",
           "radialaxis": {
            "gridcolor": "white",
            "linecolor": "white",
            "ticks": ""
           }
          },
          "scene": {
           "xaxis": {
            "backgroundcolor": "#E5ECF6",
            "gridcolor": "white",
            "gridwidth": 2,
            "linecolor": "white",
            "showbackground": true,
            "ticks": "",
            "zerolinecolor": "white"
           },
           "yaxis": {
            "backgroundcolor": "#E5ECF6",
            "gridcolor": "white",
            "gridwidth": 2,
            "linecolor": "white",
            "showbackground": true,
            "ticks": "",
            "zerolinecolor": "white"
           },
           "zaxis": {
            "backgroundcolor": "#E5ECF6",
            "gridcolor": "white",
            "gridwidth": 2,
            "linecolor": "white",
            "showbackground": true,
            "ticks": "",
            "zerolinecolor": "white"
           }
          },
          "shapedefaults": {
           "line": {
            "color": "#2a3f5f"
           }
          },
          "ternary": {
           "aaxis": {
            "gridcolor": "white",
            "linecolor": "white",
            "ticks": ""
           },
           "baxis": {
            "gridcolor": "white",
            "linecolor": "white",
            "ticks": ""
           },
           "bgcolor": "#E5ECF6",
           "caxis": {
            "gridcolor": "white",
            "linecolor": "white",
            "ticks": ""
           }
          },
          "title": {
           "x": 0.05
          },
          "xaxis": {
           "automargin": true,
           "gridcolor": "white",
           "linecolor": "white",
           "ticks": "",
           "title": {
            "standoff": 15
           },
           "zerolinecolor": "white",
           "zerolinewidth": 2
          },
          "yaxis": {
           "automargin": true,
           "gridcolor": "white",
           "linecolor": "white",
           "ticks": "",
           "title": {
            "standoff": 15
           },
           "zerolinecolor": "white",
           "zerolinewidth": 2
          }
         }
        },
        "title": {
         "text": "3D UMAP Clusters - KMeans"
        }
       }
      }
     },
     "metadata": {},
     "output_type": "display_data"
    }
   ],
   "source": [
    "kmeans = KMeans(n_clusters=3, random_state=42, n_init=50)\n",
    "cluster_labels = kmeans.fit_predict(df_pca)\n",
    "\n",
    "visualise_clusters_umap_3d(umap_3d, cluster_labels, \"KMeans\")"
   ]
  },
  {
   "cell_type": "code",
   "execution_count": 13,
   "id": "f2e77906",
   "metadata": {},
   "outputs": [
    {
     "data": {
      "application/vnd.plotly.v1+json": {
       "config": {
        "plotlyServerURL": "https://plot.ly"
       },
       "data": [
        {
         "hoverinfo": "text",
         "marker": {
          "color": [
           "#EF553B",
           "#EF553B",
           "#00CC96",
           "#19D3F3",
           "#AB63FA",
           "#EF553B",
           "#B6E880",
           "#AB63FA",
           "#B6E880",
           "#FF6692",
           "#EF553B",
           "#FFA15A",
           "#EF553B",
           "#FFA15A",
           "#FFA15A",
           "#EF553B",
           "#636EFA",
           "#FFA15A",
           "#EF553B",
           "#B6E880",
           "#AB63FA",
           "#FFA15A",
           "#19D3F3",
           "#AB63FA",
           "#B6E880",
           "#FFA15A",
           "#636EFA",
           "#EF553B",
           "#B6E880",
           "#AB63FA",
           "#19D3F3",
           "#EF553B",
           "#FFA15A",
           "#EF553B",
           "#FFA15A",
           "#AB63FA",
           "#EF553B",
           "#AB63FA",
           "#636EFA",
           "#AB63FA",
           "#FFA15A",
           "#EF553B",
           "#FF6692",
           "#FF6692",
           "#AB63FA",
           "#FFA15A",
           "#636EFA",
           "#FFA15A",
           "#AB63FA",
           "#FFA15A",
           "#B6E880",
           "#EF553B",
           "#AB63FA",
           "#00CC96",
           "#FF6692",
           "#FF6692",
           "#00CC96",
           "#EF553B",
           "#19D3F3",
           "#B6E880",
           "#FF6692",
           "#FFA15A",
           "#EF553B",
           "#EF553B",
           "#EF553B",
           "#00CC96",
           "#FFA15A",
           "#00CC96",
           "#00CC96",
           "#EF553B",
           "#00CC96",
           "#FF6692",
           "#00CC96",
           "#EF553B",
           "#19D3F3",
           "#EF553B",
           "#00CC96",
           "#EF553B",
           "#B6E880",
           "#FFA15A",
           "#FFA15A",
           "#FF6692",
           "#B6E880",
           "#AB63FA",
           "#B6E880",
           "#AB63FA",
           "#AB63FA",
           "#FFA15A",
           "#B6E880",
           "#636EFA",
           "#00CC96",
           "#19D3F3",
           "#FF6692",
           "#00CC96",
           "#00CC96",
           "#B6E880",
           "#EF553B",
           "#AB63FA",
           "#00CC96",
           "#B6E880",
           "#FF6692",
           "#AB63FA",
           "#636EFA",
           "#FF6692"
          ],
          "opacity": 0.8,
          "size": 5
         },
         "mode": "markers",
         "text": [
          "Cluster 1",
          "Cluster 1",
          "Cluster 2",
          "Cluster 5",
          "Cluster 3",
          "Cluster 1",
          "Cluster 7",
          "Cluster 3",
          "Cluster 7",
          "Cluster 6",
          "Cluster 1",
          "Cluster 4",
          "Cluster 1",
          "Cluster 4",
          "Cluster 4",
          "Cluster 1",
          "Cluster 0",
          "Cluster 4",
          "Cluster 1",
          "Cluster 7",
          "Cluster 3",
          "Cluster 4",
          "Cluster 5",
          "Cluster 3",
          "Cluster 7",
          "Cluster 4",
          "Cluster 0",
          "Cluster 1",
          "Cluster 7",
          "Cluster 3",
          "Cluster 5",
          "Cluster 1",
          "Cluster 4",
          "Cluster 1",
          "Cluster 4",
          "Cluster 3",
          "Cluster 1",
          "Cluster 3",
          "Cluster 0",
          "Cluster 3",
          "Cluster 4",
          "Cluster 1",
          "Cluster 6",
          "Cluster 6",
          "Cluster 3",
          "Cluster 4",
          "Cluster 0",
          "Cluster 4",
          "Cluster 3",
          "Cluster 4",
          "Cluster 7",
          "Cluster 1",
          "Cluster 3",
          "Cluster 2",
          "Cluster 6",
          "Cluster 6",
          "Cluster 2",
          "Cluster 1",
          "Cluster 5",
          "Cluster 7",
          "Cluster 6",
          "Cluster 4",
          "Cluster 1",
          "Cluster 1",
          "Cluster 1",
          "Cluster 2",
          "Cluster 4",
          "Cluster 2",
          "Cluster 2",
          "Cluster 1",
          "Cluster 2",
          "Cluster 6",
          "Cluster 2",
          "Cluster 1",
          "Cluster 5",
          "Cluster 1",
          "Cluster 2",
          "Cluster 1",
          "Cluster 7",
          "Cluster 4",
          "Cluster 4",
          "Cluster 6",
          "Cluster 7",
          "Cluster 3",
          "Cluster 7",
          "Cluster 3",
          "Cluster 3",
          "Cluster 4",
          "Cluster 7",
          "Cluster 0",
          "Cluster 2",
          "Cluster 5",
          "Cluster 6",
          "Cluster 2",
          "Cluster 2",
          "Cluster 7",
          "Cluster 1",
          "Cluster 3",
          "Cluster 2",
          "Cluster 7",
          "Cluster 6",
          "Cluster 3",
          "Cluster 0",
          "Cluster 6"
         ],
         "type": "scatter3d",
         "x": {
          "bdata": "x3vXQKnI20A235VArPM/QFGtWUBo/9BAAH6DQNqKd0BW4mVAjx7xQDMg3UAGnPlAy+rTQEcO+kBV0e9A0+LVQG5v3UBRl+ZAv4jQQNGmh0BKT2JAGk/tQChaVECPUHJAYWKKQPsM7UCkvd9Aj/3UQJNgdkAneFNANa1SQIPxz0AkJdpAXjrQQI1t20CF9YdA3JvHQIOckkAJh+hA/k1kQJkZ8UAMn9ZA1wv0QCxy9kC/CU1AdeT+QH1I7kAnvutA0QFyQGj15kB9e4JAQMP9QHY8gkAq5KNABX3+QNS8+0Ccr5lA2LvCQHLISkAZhnxA9V/6QG2V8kDdjslA8aLEQBq7xUAXvJtALfrZQCkdk0ArwqtArwHCQDRqsEB6z/lA/JVaQPia4EBDJjhADSXCQArRmUCyH8pAm9ZYQMD83UA4tOJA7Hf1QDoJd0D6TYdAsDWWQLFth0BiRpJAueb5QFaD+ECDM+hA5QWnQKGVfUCzifBAKleqQDwkqUAX3IlAV6zQQCF8g0DT/IlAsTyAQMUQ9kBlXolAhlLtQBoQ+kA=",
          "dtype": "f4"
         },
         "y": {
          "bdata": "bL5xQB2WeEBn4y5BzoorQQ6RNUEXsodAsF4sQZGfNkFn9y5BDvGgQGx8jkAFN6ZAtjx8QIVrqkB7FJtAuKp6QBk+UEDJb51A8NV1QEpqLEE0yi5BoAadQG56J0GBuDVBwFQoQR2urUD8o0RAkiaJQDWfKEEKojJBB9omQReBgECQh5xAGbeXQMWSkkAxnzBBut59QEiROUEWH1dAM8oxQU9Bk0CdEm5AwVmfQOM2mEB9nS9BVOKmQMRRZUB/E5BAzrA4QZAYkUCsxTRBfq2eQKcFL0Hjdi9BQZ6ZQEUQrUAKKjNBPnmXQJhNJ0GWYipBp5anQIxdskDzTpFAbueCQBv5kEAN8DZBBhWiQCqFK0EnTzRBs+uGQEMqMEFM4a9Acb8lQf8PlEBpHSpBVdCRQEzFKkFTootAd0kqQQRukECFgJNAUeOkQP77LUEJQTtBVCQrQS9oO0FXCzVBsH6uQDDfuUBEz0lAhfAsQZ6YKUFDCpxAYGIyQeKML0Gp/ClBDoN0QFsKOkHn0jRBk9s2QbtVnUC8DjhBfnFTQLdjmkA=",
          "dtype": "f4"
         },
         "z": {
          "bdata": "eyIGQd3SBEEwS8W/N/aivgCWqb6lbP1Af/yWv0xBjL8zgcO/xP7BQGUwBUHUmAhBY9wGQZw8BkFHCA9BPUHzQCFiBEHt+gxBkEIAQZ9j0b/D2O++ff0PQUO4b7+u+z+/QfXiv4t8C0FdbAJBIH7zQFHBR7+dcI2+6okWv3GmCUHXbAlBK3j8QJQLEEEr4yq/VD4DQeTiZL/bCQJB00KyvfSFCkF/CQpBUAvIQDynvUBRuNW+HKgEQRKuBkEXIBFBGppTv//+B0H88s6/hMf0QFJe/74G86W/CkLFQEULvEAIQIW/Sfj9QGNT0b7Nsq6/+rq8QNjABEEGKfNAhh4GQWqt+kBKPa+/ONkKQaMU478xnaK/zgv4QIe4sb8ye7lAEbiJv8ny7UCOebW+oczxQPpTwr+AswZBArC9v4dODUGqmw9ByAvCQDhv5b9uhBK/KFugv5OVeb/y3yq/p/oHQShftEDLDgZBvX6Vv+OpIr8XbspAt/rLv6wgmb9vOHW/oLj2QE5hnr+sUOO/x8LLv4Dov0DRZhW/U/cEQTaGt0A=",
          "dtype": "f4"
         }
        }
       ],
       "layout": {
        "margin": {
         "b": 0,
         "l": 0,
         "r": 0,
         "t": 30
        },
        "scene": {
         "xaxis": {
          "title": {
           "text": "UMAP Component 1"
          }
         },
         "yaxis": {
          "title": {
           "text": "UMAP Component 2"
          }
         },
         "zaxis": {
          "title": {
           "text": "UMAP Component 3"
          }
         }
        },
        "template": {
         "data": {
          "bar": [
           {
            "error_x": {
             "color": "#2a3f5f"
            },
            "error_y": {
             "color": "#2a3f5f"
            },
            "marker": {
             "line": {
              "color": "#E5ECF6",
              "width": 0.5
             },
             "pattern": {
              "fillmode": "overlay",
              "size": 10,
              "solidity": 0.2
             }
            },
            "type": "bar"
           }
          ],
          "barpolar": [
           {
            "marker": {
             "line": {
              "color": "#E5ECF6",
              "width": 0.5
             },
             "pattern": {
              "fillmode": "overlay",
              "size": 10,
              "solidity": 0.2
             }
            },
            "type": "barpolar"
           }
          ],
          "carpet": [
           {
            "aaxis": {
             "endlinecolor": "#2a3f5f",
             "gridcolor": "white",
             "linecolor": "white",
             "minorgridcolor": "white",
             "startlinecolor": "#2a3f5f"
            },
            "baxis": {
             "endlinecolor": "#2a3f5f",
             "gridcolor": "white",
             "linecolor": "white",
             "minorgridcolor": "white",
             "startlinecolor": "#2a3f5f"
            },
            "type": "carpet"
           }
          ],
          "choropleth": [
           {
            "colorbar": {
             "outlinewidth": 0,
             "ticks": ""
            },
            "type": "choropleth"
           }
          ],
          "contour": [
           {
            "colorbar": {
             "outlinewidth": 0,
             "ticks": ""
            },
            "colorscale": [
             [
              0,
              "#0d0887"
             ],
             [
              0.1111111111111111,
              "#46039f"
             ],
             [
              0.2222222222222222,
              "#7201a8"
             ],
             [
              0.3333333333333333,
              "#9c179e"
             ],
             [
              0.4444444444444444,
              "#bd3786"
             ],
             [
              0.5555555555555556,
              "#d8576b"
             ],
             [
              0.6666666666666666,
              "#ed7953"
             ],
             [
              0.7777777777777778,
              "#fb9f3a"
             ],
             [
              0.8888888888888888,
              "#fdca26"
             ],
             [
              1,
              "#f0f921"
             ]
            ],
            "type": "contour"
           }
          ],
          "contourcarpet": [
           {
            "colorbar": {
             "outlinewidth": 0,
             "ticks": ""
            },
            "type": "contourcarpet"
           }
          ],
          "heatmap": [
           {
            "colorbar": {
             "outlinewidth": 0,
             "ticks": ""
            },
            "colorscale": [
             [
              0,
              "#0d0887"
             ],
             [
              0.1111111111111111,
              "#46039f"
             ],
             [
              0.2222222222222222,
              "#7201a8"
             ],
             [
              0.3333333333333333,
              "#9c179e"
             ],
             [
              0.4444444444444444,
              "#bd3786"
             ],
             [
              0.5555555555555556,
              "#d8576b"
             ],
             [
              0.6666666666666666,
              "#ed7953"
             ],
             [
              0.7777777777777778,
              "#fb9f3a"
             ],
             [
              0.8888888888888888,
              "#fdca26"
             ],
             [
              1,
              "#f0f921"
             ]
            ],
            "type": "heatmap"
           }
          ],
          "histogram": [
           {
            "marker": {
             "pattern": {
              "fillmode": "overlay",
              "size": 10,
              "solidity": 0.2
             }
            },
            "type": "histogram"
           }
          ],
          "histogram2d": [
           {
            "colorbar": {
             "outlinewidth": 0,
             "ticks": ""
            },
            "colorscale": [
             [
              0,
              "#0d0887"
             ],
             [
              0.1111111111111111,
              "#46039f"
             ],
             [
              0.2222222222222222,
              "#7201a8"
             ],
             [
              0.3333333333333333,
              "#9c179e"
             ],
             [
              0.4444444444444444,
              "#bd3786"
             ],
             [
              0.5555555555555556,
              "#d8576b"
             ],
             [
              0.6666666666666666,
              "#ed7953"
             ],
             [
              0.7777777777777778,
              "#fb9f3a"
             ],
             [
              0.8888888888888888,
              "#fdca26"
             ],
             [
              1,
              "#f0f921"
             ]
            ],
            "type": "histogram2d"
           }
          ],
          "histogram2dcontour": [
           {
            "colorbar": {
             "outlinewidth": 0,
             "ticks": ""
            },
            "colorscale": [
             [
              0,
              "#0d0887"
             ],
             [
              0.1111111111111111,
              "#46039f"
             ],
             [
              0.2222222222222222,
              "#7201a8"
             ],
             [
              0.3333333333333333,
              "#9c179e"
             ],
             [
              0.4444444444444444,
              "#bd3786"
             ],
             [
              0.5555555555555556,
              "#d8576b"
             ],
             [
              0.6666666666666666,
              "#ed7953"
             ],
             [
              0.7777777777777778,
              "#fb9f3a"
             ],
             [
              0.8888888888888888,
              "#fdca26"
             ],
             [
              1,
              "#f0f921"
             ]
            ],
            "type": "histogram2dcontour"
           }
          ],
          "mesh3d": [
           {
            "colorbar": {
             "outlinewidth": 0,
             "ticks": ""
            },
            "type": "mesh3d"
           }
          ],
          "parcoords": [
           {
            "line": {
             "colorbar": {
              "outlinewidth": 0,
              "ticks": ""
             }
            },
            "type": "parcoords"
           }
          ],
          "pie": [
           {
            "automargin": true,
            "type": "pie"
           }
          ],
          "scatter": [
           {
            "fillpattern": {
             "fillmode": "overlay",
             "size": 10,
             "solidity": 0.2
            },
            "type": "scatter"
           }
          ],
          "scatter3d": [
           {
            "line": {
             "colorbar": {
              "outlinewidth": 0,
              "ticks": ""
             }
            },
            "marker": {
             "colorbar": {
              "outlinewidth": 0,
              "ticks": ""
             }
            },
            "type": "scatter3d"
           }
          ],
          "scattercarpet": [
           {
            "marker": {
             "colorbar": {
              "outlinewidth": 0,
              "ticks": ""
             }
            },
            "type": "scattercarpet"
           }
          ],
          "scattergeo": [
           {
            "marker": {
             "colorbar": {
              "outlinewidth": 0,
              "ticks": ""
             }
            },
            "type": "scattergeo"
           }
          ],
          "scattergl": [
           {
            "marker": {
             "colorbar": {
              "outlinewidth": 0,
              "ticks": ""
             }
            },
            "type": "scattergl"
           }
          ],
          "scattermap": [
           {
            "marker": {
             "colorbar": {
              "outlinewidth": 0,
              "ticks": ""
             }
            },
            "type": "scattermap"
           }
          ],
          "scattermapbox": [
           {
            "marker": {
             "colorbar": {
              "outlinewidth": 0,
              "ticks": ""
             }
            },
            "type": "scattermapbox"
           }
          ],
          "scatterpolar": [
           {
            "marker": {
             "colorbar": {
              "outlinewidth": 0,
              "ticks": ""
             }
            },
            "type": "scatterpolar"
           }
          ],
          "scatterpolargl": [
           {
            "marker": {
             "colorbar": {
              "outlinewidth": 0,
              "ticks": ""
             }
            },
            "type": "scatterpolargl"
           }
          ],
          "scatterternary": [
           {
            "marker": {
             "colorbar": {
              "outlinewidth": 0,
              "ticks": ""
             }
            },
            "type": "scatterternary"
           }
          ],
          "surface": [
           {
            "colorbar": {
             "outlinewidth": 0,
             "ticks": ""
            },
            "colorscale": [
             [
              0,
              "#0d0887"
             ],
             [
              0.1111111111111111,
              "#46039f"
             ],
             [
              0.2222222222222222,
              "#7201a8"
             ],
             [
              0.3333333333333333,
              "#9c179e"
             ],
             [
              0.4444444444444444,
              "#bd3786"
             ],
             [
              0.5555555555555556,
              "#d8576b"
             ],
             [
              0.6666666666666666,
              "#ed7953"
             ],
             [
              0.7777777777777778,
              "#fb9f3a"
             ],
             [
              0.8888888888888888,
              "#fdca26"
             ],
             [
              1,
              "#f0f921"
             ]
            ],
            "type": "surface"
           }
          ],
          "table": [
           {
            "cells": {
             "fill": {
              "color": "#EBF0F8"
             },
             "line": {
              "color": "white"
             }
            },
            "header": {
             "fill": {
              "color": "#C8D4E3"
             },
             "line": {
              "color": "white"
             }
            },
            "type": "table"
           }
          ]
         },
         "layout": {
          "annotationdefaults": {
           "arrowcolor": "#2a3f5f",
           "arrowhead": 0,
           "arrowwidth": 1
          },
          "autotypenumbers": "strict",
          "coloraxis": {
           "colorbar": {
            "outlinewidth": 0,
            "ticks": ""
           }
          },
          "colorscale": {
           "diverging": [
            [
             0,
             "#8e0152"
            ],
            [
             0.1,
             "#c51b7d"
            ],
            [
             0.2,
             "#de77ae"
            ],
            [
             0.3,
             "#f1b6da"
            ],
            [
             0.4,
             "#fde0ef"
            ],
            [
             0.5,
             "#f7f7f7"
            ],
            [
             0.6,
             "#e6f5d0"
            ],
            [
             0.7,
             "#b8e186"
            ],
            [
             0.8,
             "#7fbc41"
            ],
            [
             0.9,
             "#4d9221"
            ],
            [
             1,
             "#276419"
            ]
           ],
           "sequential": [
            [
             0,
             "#0d0887"
            ],
            [
             0.1111111111111111,
             "#46039f"
            ],
            [
             0.2222222222222222,
             "#7201a8"
            ],
            [
             0.3333333333333333,
             "#9c179e"
            ],
            [
             0.4444444444444444,
             "#bd3786"
            ],
            [
             0.5555555555555556,
             "#d8576b"
            ],
            [
             0.6666666666666666,
             "#ed7953"
            ],
            [
             0.7777777777777778,
             "#fb9f3a"
            ],
            [
             0.8888888888888888,
             "#fdca26"
            ],
            [
             1,
             "#f0f921"
            ]
           ],
           "sequentialminus": [
            [
             0,
             "#0d0887"
            ],
            [
             0.1111111111111111,
             "#46039f"
            ],
            [
             0.2222222222222222,
             "#7201a8"
            ],
            [
             0.3333333333333333,
             "#9c179e"
            ],
            [
             0.4444444444444444,
             "#bd3786"
            ],
            [
             0.5555555555555556,
             "#d8576b"
            ],
            [
             0.6666666666666666,
             "#ed7953"
            ],
            [
             0.7777777777777778,
             "#fb9f3a"
            ],
            [
             0.8888888888888888,
             "#fdca26"
            ],
            [
             1,
             "#f0f921"
            ]
           ]
          },
          "colorway": [
           "#636efa",
           "#EF553B",
           "#00cc96",
           "#ab63fa",
           "#FFA15A",
           "#19d3f3",
           "#FF6692",
           "#B6E880",
           "#FF97FF",
           "#FECB52"
          ],
          "font": {
           "color": "#2a3f5f"
          },
          "geo": {
           "bgcolor": "white",
           "lakecolor": "white",
           "landcolor": "#E5ECF6",
           "showlakes": true,
           "showland": true,
           "subunitcolor": "white"
          },
          "hoverlabel": {
           "align": "left"
          },
          "hovermode": "closest",
          "mapbox": {
           "style": "light"
          },
          "paper_bgcolor": "white",
          "plot_bgcolor": "#E5ECF6",
          "polar": {
           "angularaxis": {
            "gridcolor": "white",
            "linecolor": "white",
            "ticks": ""
           },
           "bgcolor": "#E5ECF6",
           "radialaxis": {
            "gridcolor": "white",
            "linecolor": "white",
            "ticks": ""
           }
          },
          "scene": {
           "xaxis": {
            "backgroundcolor": "#E5ECF6",
            "gridcolor": "white",
            "gridwidth": 2,
            "linecolor": "white",
            "showbackground": true,
            "ticks": "",
            "zerolinecolor": "white"
           },
           "yaxis": {
            "backgroundcolor": "#E5ECF6",
            "gridcolor": "white",
            "gridwidth": 2,
            "linecolor": "white",
            "showbackground": true,
            "ticks": "",
            "zerolinecolor": "white"
           },
           "zaxis": {
            "backgroundcolor": "#E5ECF6",
            "gridcolor": "white",
            "gridwidth": 2,
            "linecolor": "white",
            "showbackground": true,
            "ticks": "",
            "zerolinecolor": "white"
           }
          },
          "shapedefaults": {
           "line": {
            "color": "#2a3f5f"
           }
          },
          "ternary": {
           "aaxis": {
            "gridcolor": "white",
            "linecolor": "white",
            "ticks": ""
           },
           "baxis": {
            "gridcolor": "white",
            "linecolor": "white",
            "ticks": ""
           },
           "bgcolor": "#E5ECF6",
           "caxis": {
            "gridcolor": "white",
            "linecolor": "white",
            "ticks": ""
           }
          },
          "title": {
           "x": 0.05
          },
          "xaxis": {
           "automargin": true,
           "gridcolor": "white",
           "linecolor": "white",
           "ticks": "",
           "title": {
            "standoff": 15
           },
           "zerolinecolor": "white",
           "zerolinewidth": 2
          },
          "yaxis": {
           "automargin": true,
           "gridcolor": "white",
           "linecolor": "white",
           "ticks": "",
           "title": {
            "standoff": 15
           },
           "zerolinecolor": "white",
           "zerolinewidth": 2
          }
         }
        },
        "title": {
         "text": "3D UMAP Clusters - Kmeans 8"
        }
       }
      }
     },
     "metadata": {},
     "output_type": "display_data"
    }
   ],
   "source": [
    "kmeans = KMeans(n_clusters=8, random_state=42, n_init=50)\n",
    "cluster_labels = kmeans.fit_predict(df_pca)\n",
    "\n",
    "visualise_clusters_umap_3d(umap_3d, cluster_labels, 'Kmeans 8')"
   ]
  },
  {
   "cell_type": "markdown",
   "id": "62eba07d",
   "metadata": {},
   "source": [
    "### Modele aglomeracyjne, GMM, DBSCAN, ..."
   ]
  },
  {
   "cell_type": "markdown",
   "id": "ea334234",
   "metadata": {},
   "source": [
    "Funkcja do ewaluacji modeli\\\n",
    "Metryki wybrane na podstawie: \n",
    "[Cluster validation techniques for genome expression data, Bolshakova and Azuaje, 2003](https://www.scss.tcd.ie/publications/tech-reports/reports.02/TCD-CS-2002-33.pdf)  "
   ]
  },
  {
   "cell_type": "code",
   "execution_count": 14,
   "id": "439d1cd6",
   "metadata": {},
   "outputs": [],
   "source": [
    "from sklearn.metrics import silhouette_score, davies_bouldin_score\n",
    "from sklearn.base import clone\n",
    "\n",
    "from scipy.spatial.distance import cdist\n",
    "\n",
    "\n",
    "def dunn_index(X, labels):\n",
    "    unique_clusters = np.unique(labels)\n",
    "    inter_cluster_distances = []\n",
    "    intra_cluster_distances = []\n",
    "\n",
    "    for i in unique_clusters:\n",
    "        Xi = X[labels == i]\n",
    "        intra_dists = cdist(Xi, Xi)\n",
    "        intra_cluster_distances.append(np.max(intra_dists))\n",
    "\n",
    "        for j in unique_clusters:\n",
    "            if i < j:\n",
    "                Xj = X[labels == j]\n",
    "                inter_dists = cdist(Xi, Xj)\n",
    "                inter_cluster_distances.append(np.min(inter_dists))\n",
    "\n",
    "    return np.min(inter_cluster_distances) / np.max(intra_cluster_distances)\n",
    "\n",
    "def evaluate_models(X, models):\n",
    "    \"\"\"\n",
    "    Parameters:\n",
    "    - X: array-like, shape (n_samples, n_features)\n",
    "    - models: dict of {name: clustering_model} (must have `.fit_predict()` method)\n",
    "\n",
    "    Returns:\n",
    "    - DataFrame with model evaluation metrics\n",
    "    \"\"\"\n",
    "    results = []\n",
    "\n",
    "    for name, model in models.items():\n",
    "        clusterer = clone(model)\n",
    "        labels = clusterer.fit_predict(X)\n",
    "\n",
    "        silhouette = silhouette_score(X, labels)\n",
    "        db_index = davies_bouldin_score(X, labels)\n",
    "        dunn = dunn_index(X, labels)\n",
    "\n",
    "        results.append({\n",
    "            'Model': name,\n",
    "            'Silhouette Score': silhouette,\n",
    "            'Davies-Bouldin Index': db_index,\n",
    "            'Dunn Index': dunn,\n",
    "            'Num Clusters': len(np.unique(labels))\n",
    "        })\n",
    "\n",
    "    return pd.DataFrame(results).sort_values(by='Silhouette Score', ascending=False)"
   ]
  },
  {
   "cell_type": "markdown",
   "id": "def0b9bf",
   "metadata": {},
   "source": [
    "Modele testowane w poprzednim kamieniu milowym:"
   ]
  },
  {
   "cell_type": "code",
   "execution_count": 15,
   "id": "91d093d9",
   "metadata": {},
   "outputs": [
    {
     "name": "stdout",
     "output_type": "stream",
     "text": [
      "                                    Model  Silhouette Score  \\\n",
      "4          Aglomarative, linkage='ward, 5          0.128705   \n",
      "2      Aglomarative, linkage='complete, 7          0.127728   \n",
      "3      Aglomarative, linkage='complete, 8          0.120143   \n",
      "0                            KMeans (k=4)          0.108515   \n",
      "5  Aglomarative, linkage='ward', td = 500          0.107684   \n",
      "6                    GMM (n_components=4)          0.106028   \n",
      "7                    GMM (n_components=5)          0.104262   \n",
      "8                    GMM (n_components=6)          0.097324   \n",
      "1                            KMeans (k=6)          0.091137   \n",
      "9                    GMM (n_components=7)          0.083568   \n",
      "\n",
      "   Davies-Bouldin Index  Dunn Index  Num Clusters  \n",
      "4              2.218814    0.409617             5  \n",
      "2              2.090922    0.450158             7  \n",
      "3              2.075566    0.466790             8  \n",
      "0              2.252080    0.213247             4  \n",
      "5              2.303521    0.433289             7  \n",
      "6              2.676654    0.421482             4  \n",
      "7              2.477455    0.412433             5  \n",
      "8              2.618589    0.367291             6  \n",
      "1              2.618446    0.327605             6  \n",
      "9              2.400483    0.320402             7  \n"
     ]
    }
   ],
   "source": [
    "from sklearn.cluster import AgglomerativeClustering\n",
    "from sklearn.mixture import GaussianMixture\n",
    "\n",
    "\n",
    "models = {\n",
    "    \"KMeans (k=4)\": KMeans(n_clusters=4, random_state=0),\n",
    "    \"KMeans (k=6)\": KMeans(n_clusters=6, random_state=0),\n",
    "    \"Aglomarative, linkage='complete, 7\": AgglomerativeClustering(n_clusters=7, linkage='complete'),\n",
    "    \"Aglomarative, linkage='complete, 8\": AgglomerativeClustering(n_clusters=8, linkage='complete'),\n",
    "    \"Aglomarative, linkage='ward, 5\": AgglomerativeClustering(n_clusters=5, linkage='ward'),\n",
    "    \"Aglomarative, linkage='ward', td = 500\": AgglomerativeClustering(n_clusters=None, linkage='ward', distance_threshold=500),\n",
    "    \"GMM (n_components=4)\": GaussianMixture(n_components=4),\n",
    "    \"GMM (n_components=5)\": GaussianMixture(n_components=5),\n",
    "    \"GMM (n_components=6)\": GaussianMixture(n_components=6),\n",
    "    \"GMM (n_components=7)\": GaussianMixture(n_components=7)\n",
    "}\n",
    "\n",
    "results_df = evaluate_models(df_pca, models)\n",
    "print(results_df)"
   ]
  },
  {
   "cell_type": "code",
   "execution_count": 16,
   "id": "6460b555",
   "metadata": {},
   "outputs": [
    {
     "data": {
      "application/vnd.plotly.v1+json": {
       "config": {
        "plotlyServerURL": "https://plot.ly"
       },
       "data": [
        {
         "hoverinfo": "text",
         "marker": {
          "color": [
           "#636EFA",
           "#636EFA",
           "#636EFA",
           "#636EFA",
           "#636EFA",
           "#EF553B",
           "#636EFA",
           "#00CC96",
           "#636EFA",
           "#AB63FA",
           "#636EFA",
           "#636EFA",
           "#636EFA",
           "#636EFA",
           "#636EFA",
           "#636EFA",
           "#636EFA",
           "#FFA15A",
           "#636EFA",
           "#19D3F3",
           "#636EFA",
           "#636EFA",
           "#636EFA",
           "#00CC96",
           "#19D3F3",
           "#636EFA",
           "#636EFA",
           "#EF553B",
           "#636EFA",
           "#636EFA",
           "#636EFA",
           "#636EFA",
           "#FFA15A",
           "#636EFA",
           "#FFA15A",
           "#636EFA",
           "#636EFA",
           "#00CC96",
           "#636EFA",
           "#636EFA",
           "#636EFA",
           "#636EFA",
           "#636EFA",
           "#636EFA",
           "#636EFA",
           "#636EFA",
           "#636EFA",
           "#636EFA",
           "#00CC96",
           "#FFA15A",
           "#636EFA",
           "#636EFA",
           "#636EFA",
           "#636EFA",
           "#AB63FA",
           "#636EFA",
           "#636EFA",
           "#636EFA",
           "#636EFA",
           "#636EFA",
           "#AB63FA",
           "#636EFA",
           "#EF553B",
           "#636EFA",
           "#EF553B",
           "#636EFA",
           "#636EFA",
           "#636EFA",
           "#636EFA",
           "#636EFA",
           "#636EFA",
           "#636EFA",
           "#636EFA",
           "#636EFA",
           "#636EFA",
           "#EF553B",
           "#636EFA",
           "#636EFA",
           "#636EFA",
           "#FFA15A",
           "#FFA15A",
           "#AB63FA",
           "#19D3F3",
           "#636EFA",
           "#19D3F3",
           "#636EFA",
           "#00CC96",
           "#636EFA",
           "#636EFA",
           "#636EFA",
           "#636EFA",
           "#636EFA",
           "#AB63FA",
           "#636EFA",
           "#636EFA",
           "#19D3F3",
           "#EF553B",
           "#00CC96",
           "#636EFA",
           "#636EFA",
           "#AB63FA",
           "#00CC96",
           "#636EFA",
           "#636EFA"
          ],
          "opacity": 0.8,
          "size": 5
         },
         "mode": "markers",
         "text": [
          "Cluster -1",
          "Cluster -1",
          "Cluster -1",
          "Cluster -1",
          "Cluster -1",
          "Cluster 0",
          "Cluster -1",
          "Cluster 1",
          "Cluster -1",
          "Cluster 2",
          "Cluster -1",
          "Cluster -1",
          "Cluster -1",
          "Cluster -1",
          "Cluster -1",
          "Cluster -1",
          "Cluster -1",
          "Cluster 3",
          "Cluster -1",
          "Cluster 4",
          "Cluster -1",
          "Cluster -1",
          "Cluster -1",
          "Cluster 1",
          "Cluster 4",
          "Cluster -1",
          "Cluster -1",
          "Cluster 0",
          "Cluster -1",
          "Cluster -1",
          "Cluster -1",
          "Cluster -1",
          "Cluster 3",
          "Cluster -1",
          "Cluster 3",
          "Cluster -1",
          "Cluster -1",
          "Cluster 1",
          "Cluster -1",
          "Cluster -1",
          "Cluster -1",
          "Cluster -1",
          "Cluster -1",
          "Cluster -1",
          "Cluster -1",
          "Cluster -1",
          "Cluster -1",
          "Cluster -1",
          "Cluster 1",
          "Cluster 3",
          "Cluster -1",
          "Cluster -1",
          "Cluster -1",
          "Cluster -1",
          "Cluster 2",
          "Cluster -1",
          "Cluster -1",
          "Cluster -1",
          "Cluster -1",
          "Cluster -1",
          "Cluster 2",
          "Cluster -1",
          "Cluster 0",
          "Cluster -1",
          "Cluster 0",
          "Cluster -1",
          "Cluster -1",
          "Cluster -1",
          "Cluster -1",
          "Cluster -1",
          "Cluster -1",
          "Cluster -1",
          "Cluster -1",
          "Cluster -1",
          "Cluster -1",
          "Cluster 0",
          "Cluster -1",
          "Cluster -1",
          "Cluster -1",
          "Cluster 3",
          "Cluster 3",
          "Cluster 2",
          "Cluster 4",
          "Cluster -1",
          "Cluster 4",
          "Cluster -1",
          "Cluster 1",
          "Cluster -1",
          "Cluster -1",
          "Cluster -1",
          "Cluster -1",
          "Cluster -1",
          "Cluster 2",
          "Cluster -1",
          "Cluster -1",
          "Cluster 4",
          "Cluster 0",
          "Cluster 1",
          "Cluster -1",
          "Cluster -1",
          "Cluster 2",
          "Cluster 1",
          "Cluster -1",
          "Cluster -1"
         ],
         "type": "scatter3d",
         "x": {
          "bdata": "x3vXQKnI20A235VArPM/QFGtWUBo/9BAAH6DQNqKd0BW4mVAjx7xQDMg3UAGnPlAy+rTQEcO+kBV0e9A0+LVQG5v3UBRl+ZAv4jQQNGmh0BKT2JAGk/tQChaVECPUHJAYWKKQPsM7UCkvd9Aj/3UQJNgdkAneFNANa1SQIPxz0AkJdpAXjrQQI1t20CF9YdA3JvHQIOckkAJh+hA/k1kQJkZ8UAMn9ZA1wv0QCxy9kC/CU1AdeT+QH1I7kAnvutA0QFyQGj15kB9e4JAQMP9QHY8gkAq5KNABX3+QNS8+0Ccr5lA2LvCQHLISkAZhnxA9V/6QG2V8kDdjslA8aLEQBq7xUAXvJtALfrZQCkdk0ArwqtArwHCQDRqsEB6z/lA/JVaQPia4EBDJjhADSXCQArRmUCyH8pAm9ZYQMD83UA4tOJA7Hf1QDoJd0D6TYdAsDWWQLFth0BiRpJAueb5QFaD+ECDM+hA5QWnQKGVfUCzifBAKleqQDwkqUAX3IlAV6zQQCF8g0DT/IlAsTyAQMUQ9kBlXolAhlLtQBoQ+kA=",
          "dtype": "f4"
         },
         "y": {
          "bdata": "bL5xQB2WeEBn4y5BzoorQQ6RNUEXsodAsF4sQZGfNkFn9y5BDvGgQGx8jkAFN6ZAtjx8QIVrqkB7FJtAuKp6QBk+UEDJb51A8NV1QEpqLEE0yi5BoAadQG56J0GBuDVBwFQoQR2urUD8o0RAkiaJQDWfKEEKojJBB9omQReBgECQh5xAGbeXQMWSkkAxnzBBut59QEiROUEWH1dAM8oxQU9Bk0CdEm5AwVmfQOM2mEB9nS9BVOKmQMRRZUB/E5BAzrA4QZAYkUCsxTRBfq2eQKcFL0Hjdi9BQZ6ZQEUQrUAKKjNBPnmXQJhNJ0GWYipBp5anQIxdskDzTpFAbueCQBv5kEAN8DZBBhWiQCqFK0EnTzRBs+uGQEMqMEFM4a9Acb8lQf8PlEBpHSpBVdCRQEzFKkFTootAd0kqQQRukECFgJNAUeOkQP77LUEJQTtBVCQrQS9oO0FXCzVBsH6uQDDfuUBEz0lAhfAsQZ6YKUFDCpxAYGIyQeKML0Gp/ClBDoN0QFsKOkHn0jRBk9s2QbtVnUC8DjhBfnFTQLdjmkA=",
          "dtype": "f4"
         },
         "z": {
          "bdata": "eyIGQd3SBEEwS8W/N/aivgCWqb6lbP1Af/yWv0xBjL8zgcO/xP7BQGUwBUHUmAhBY9wGQZw8BkFHCA9BPUHzQCFiBEHt+gxBkEIAQZ9j0b/D2O++ff0PQUO4b7+u+z+/QfXiv4t8C0FdbAJBIH7zQFHBR7+dcI2+6okWv3GmCUHXbAlBK3j8QJQLEEEr4yq/VD4DQeTiZL/bCQJB00KyvfSFCkF/CQpBUAvIQDynvUBRuNW+HKgEQRKuBkEXIBFBGppTv//+B0H88s6/hMf0QFJe/74G86W/CkLFQEULvEAIQIW/Sfj9QGNT0b7Nsq6/+rq8QNjABEEGKfNAhh4GQWqt+kBKPa+/ONkKQaMU478xnaK/zgv4QIe4sb8ye7lAEbiJv8ny7UCOebW+oczxQPpTwr+AswZBArC9v4dODUGqmw9ByAvCQDhv5b9uhBK/KFugv5OVeb/y3yq/p/oHQShftEDLDgZBvX6Vv+OpIr8XbspAt/rLv6wgmb9vOHW/oLj2QE5hnr+sUOO/x8LLv4Dov0DRZhW/U/cEQTaGt0A=",
          "dtype": "f4"
         }
        }
       ],
       "layout": {
        "margin": {
         "b": 0,
         "l": 0,
         "r": 0,
         "t": 30
        },
        "scene": {
         "xaxis": {
          "title": {
           "text": "UMAP Component 1"
          }
         },
         "yaxis": {
          "title": {
           "text": "UMAP Component 2"
          }
         },
         "zaxis": {
          "title": {
           "text": "UMAP Component 3"
          }
         }
        },
        "template": {
         "data": {
          "bar": [
           {
            "error_x": {
             "color": "#2a3f5f"
            },
            "error_y": {
             "color": "#2a3f5f"
            },
            "marker": {
             "line": {
              "color": "#E5ECF6",
              "width": 0.5
             },
             "pattern": {
              "fillmode": "overlay",
              "size": 10,
              "solidity": 0.2
             }
            },
            "type": "bar"
           }
          ],
          "barpolar": [
           {
            "marker": {
             "line": {
              "color": "#E5ECF6",
              "width": 0.5
             },
             "pattern": {
              "fillmode": "overlay",
              "size": 10,
              "solidity": 0.2
             }
            },
            "type": "barpolar"
           }
          ],
          "carpet": [
           {
            "aaxis": {
             "endlinecolor": "#2a3f5f",
             "gridcolor": "white",
             "linecolor": "white",
             "minorgridcolor": "white",
             "startlinecolor": "#2a3f5f"
            },
            "baxis": {
             "endlinecolor": "#2a3f5f",
             "gridcolor": "white",
             "linecolor": "white",
             "minorgridcolor": "white",
             "startlinecolor": "#2a3f5f"
            },
            "type": "carpet"
           }
          ],
          "choropleth": [
           {
            "colorbar": {
             "outlinewidth": 0,
             "ticks": ""
            },
            "type": "choropleth"
           }
          ],
          "contour": [
           {
            "colorbar": {
             "outlinewidth": 0,
             "ticks": ""
            },
            "colorscale": [
             [
              0,
              "#0d0887"
             ],
             [
              0.1111111111111111,
              "#46039f"
             ],
             [
              0.2222222222222222,
              "#7201a8"
             ],
             [
              0.3333333333333333,
              "#9c179e"
             ],
             [
              0.4444444444444444,
              "#bd3786"
             ],
             [
              0.5555555555555556,
              "#d8576b"
             ],
             [
              0.6666666666666666,
              "#ed7953"
             ],
             [
              0.7777777777777778,
              "#fb9f3a"
             ],
             [
              0.8888888888888888,
              "#fdca26"
             ],
             [
              1,
              "#f0f921"
             ]
            ],
            "type": "contour"
           }
          ],
          "contourcarpet": [
           {
            "colorbar": {
             "outlinewidth": 0,
             "ticks": ""
            },
            "type": "contourcarpet"
           }
          ],
          "heatmap": [
           {
            "colorbar": {
             "outlinewidth": 0,
             "ticks": ""
            },
            "colorscale": [
             [
              0,
              "#0d0887"
             ],
             [
              0.1111111111111111,
              "#46039f"
             ],
             [
              0.2222222222222222,
              "#7201a8"
             ],
             [
              0.3333333333333333,
              "#9c179e"
             ],
             [
              0.4444444444444444,
              "#bd3786"
             ],
             [
              0.5555555555555556,
              "#d8576b"
             ],
             [
              0.6666666666666666,
              "#ed7953"
             ],
             [
              0.7777777777777778,
              "#fb9f3a"
             ],
             [
              0.8888888888888888,
              "#fdca26"
             ],
             [
              1,
              "#f0f921"
             ]
            ],
            "type": "heatmap"
           }
          ],
          "histogram": [
           {
            "marker": {
             "pattern": {
              "fillmode": "overlay",
              "size": 10,
              "solidity": 0.2
             }
            },
            "type": "histogram"
           }
          ],
          "histogram2d": [
           {
            "colorbar": {
             "outlinewidth": 0,
             "ticks": ""
            },
            "colorscale": [
             [
              0,
              "#0d0887"
             ],
             [
              0.1111111111111111,
              "#46039f"
             ],
             [
              0.2222222222222222,
              "#7201a8"
             ],
             [
              0.3333333333333333,
              "#9c179e"
             ],
             [
              0.4444444444444444,
              "#bd3786"
             ],
             [
              0.5555555555555556,
              "#d8576b"
             ],
             [
              0.6666666666666666,
              "#ed7953"
             ],
             [
              0.7777777777777778,
              "#fb9f3a"
             ],
             [
              0.8888888888888888,
              "#fdca26"
             ],
             [
              1,
              "#f0f921"
             ]
            ],
            "type": "histogram2d"
           }
          ],
          "histogram2dcontour": [
           {
            "colorbar": {
             "outlinewidth": 0,
             "ticks": ""
            },
            "colorscale": [
             [
              0,
              "#0d0887"
             ],
             [
              0.1111111111111111,
              "#46039f"
             ],
             [
              0.2222222222222222,
              "#7201a8"
             ],
             [
              0.3333333333333333,
              "#9c179e"
             ],
             [
              0.4444444444444444,
              "#bd3786"
             ],
             [
              0.5555555555555556,
              "#d8576b"
             ],
             [
              0.6666666666666666,
              "#ed7953"
             ],
             [
              0.7777777777777778,
              "#fb9f3a"
             ],
             [
              0.8888888888888888,
              "#fdca26"
             ],
             [
              1,
              "#f0f921"
             ]
            ],
            "type": "histogram2dcontour"
           }
          ],
          "mesh3d": [
           {
            "colorbar": {
             "outlinewidth": 0,
             "ticks": ""
            },
            "type": "mesh3d"
           }
          ],
          "parcoords": [
           {
            "line": {
             "colorbar": {
              "outlinewidth": 0,
              "ticks": ""
             }
            },
            "type": "parcoords"
           }
          ],
          "pie": [
           {
            "automargin": true,
            "type": "pie"
           }
          ],
          "scatter": [
           {
            "fillpattern": {
             "fillmode": "overlay",
             "size": 10,
             "solidity": 0.2
            },
            "type": "scatter"
           }
          ],
          "scatter3d": [
           {
            "line": {
             "colorbar": {
              "outlinewidth": 0,
              "ticks": ""
             }
            },
            "marker": {
             "colorbar": {
              "outlinewidth": 0,
              "ticks": ""
             }
            },
            "type": "scatter3d"
           }
          ],
          "scattercarpet": [
           {
            "marker": {
             "colorbar": {
              "outlinewidth": 0,
              "ticks": ""
             }
            },
            "type": "scattercarpet"
           }
          ],
          "scattergeo": [
           {
            "marker": {
             "colorbar": {
              "outlinewidth": 0,
              "ticks": ""
             }
            },
            "type": "scattergeo"
           }
          ],
          "scattergl": [
           {
            "marker": {
             "colorbar": {
              "outlinewidth": 0,
              "ticks": ""
             }
            },
            "type": "scattergl"
           }
          ],
          "scattermap": [
           {
            "marker": {
             "colorbar": {
              "outlinewidth": 0,
              "ticks": ""
             }
            },
            "type": "scattermap"
           }
          ],
          "scattermapbox": [
           {
            "marker": {
             "colorbar": {
              "outlinewidth": 0,
              "ticks": ""
             }
            },
            "type": "scattermapbox"
           }
          ],
          "scatterpolar": [
           {
            "marker": {
             "colorbar": {
              "outlinewidth": 0,
              "ticks": ""
             }
            },
            "type": "scatterpolar"
           }
          ],
          "scatterpolargl": [
           {
            "marker": {
             "colorbar": {
              "outlinewidth": 0,
              "ticks": ""
             }
            },
            "type": "scatterpolargl"
           }
          ],
          "scatterternary": [
           {
            "marker": {
             "colorbar": {
              "outlinewidth": 0,
              "ticks": ""
             }
            },
            "type": "scatterternary"
           }
          ],
          "surface": [
           {
            "colorbar": {
             "outlinewidth": 0,
             "ticks": ""
            },
            "colorscale": [
             [
              0,
              "#0d0887"
             ],
             [
              0.1111111111111111,
              "#46039f"
             ],
             [
              0.2222222222222222,
              "#7201a8"
             ],
             [
              0.3333333333333333,
              "#9c179e"
             ],
             [
              0.4444444444444444,
              "#bd3786"
             ],
             [
              0.5555555555555556,
              "#d8576b"
             ],
             [
              0.6666666666666666,
              "#ed7953"
             ],
             [
              0.7777777777777778,
              "#fb9f3a"
             ],
             [
              0.8888888888888888,
              "#fdca26"
             ],
             [
              1,
              "#f0f921"
             ]
            ],
            "type": "surface"
           }
          ],
          "table": [
           {
            "cells": {
             "fill": {
              "color": "#EBF0F8"
             },
             "line": {
              "color": "white"
             }
            },
            "header": {
             "fill": {
              "color": "#C8D4E3"
             },
             "line": {
              "color": "white"
             }
            },
            "type": "table"
           }
          ]
         },
         "layout": {
          "annotationdefaults": {
           "arrowcolor": "#2a3f5f",
           "arrowhead": 0,
           "arrowwidth": 1
          },
          "autotypenumbers": "strict",
          "coloraxis": {
           "colorbar": {
            "outlinewidth": 0,
            "ticks": ""
           }
          },
          "colorscale": {
           "diverging": [
            [
             0,
             "#8e0152"
            ],
            [
             0.1,
             "#c51b7d"
            ],
            [
             0.2,
             "#de77ae"
            ],
            [
             0.3,
             "#f1b6da"
            ],
            [
             0.4,
             "#fde0ef"
            ],
            [
             0.5,
             "#f7f7f7"
            ],
            [
             0.6,
             "#e6f5d0"
            ],
            [
             0.7,
             "#b8e186"
            ],
            [
             0.8,
             "#7fbc41"
            ],
            [
             0.9,
             "#4d9221"
            ],
            [
             1,
             "#276419"
            ]
           ],
           "sequential": [
            [
             0,
             "#0d0887"
            ],
            [
             0.1111111111111111,
             "#46039f"
            ],
            [
             0.2222222222222222,
             "#7201a8"
            ],
            [
             0.3333333333333333,
             "#9c179e"
            ],
            [
             0.4444444444444444,
             "#bd3786"
            ],
            [
             0.5555555555555556,
             "#d8576b"
            ],
            [
             0.6666666666666666,
             "#ed7953"
            ],
            [
             0.7777777777777778,
             "#fb9f3a"
            ],
            [
             0.8888888888888888,
             "#fdca26"
            ],
            [
             1,
             "#f0f921"
            ]
           ],
           "sequentialminus": [
            [
             0,
             "#0d0887"
            ],
            [
             0.1111111111111111,
             "#46039f"
            ],
            [
             0.2222222222222222,
             "#7201a8"
            ],
            [
             0.3333333333333333,
             "#9c179e"
            ],
            [
             0.4444444444444444,
             "#bd3786"
            ],
            [
             0.5555555555555556,
             "#d8576b"
            ],
            [
             0.6666666666666666,
             "#ed7953"
            ],
            [
             0.7777777777777778,
             "#fb9f3a"
            ],
            [
             0.8888888888888888,
             "#fdca26"
            ],
            [
             1,
             "#f0f921"
            ]
           ]
          },
          "colorway": [
           "#636efa",
           "#EF553B",
           "#00cc96",
           "#ab63fa",
           "#FFA15A",
           "#19d3f3",
           "#FF6692",
           "#B6E880",
           "#FF97FF",
           "#FECB52"
          ],
          "font": {
           "color": "#2a3f5f"
          },
          "geo": {
           "bgcolor": "white",
           "lakecolor": "white",
           "landcolor": "#E5ECF6",
           "showlakes": true,
           "showland": true,
           "subunitcolor": "white"
          },
          "hoverlabel": {
           "align": "left"
          },
          "hovermode": "closest",
          "mapbox": {
           "style": "light"
          },
          "paper_bgcolor": "white",
          "plot_bgcolor": "#E5ECF6",
          "polar": {
           "angularaxis": {
            "gridcolor": "white",
            "linecolor": "white",
            "ticks": ""
           },
           "bgcolor": "#E5ECF6",
           "radialaxis": {
            "gridcolor": "white",
            "linecolor": "white",
            "ticks": ""
           }
          },
          "scene": {
           "xaxis": {
            "backgroundcolor": "#E5ECF6",
            "gridcolor": "white",
            "gridwidth": 2,
            "linecolor": "white",
            "showbackground": true,
            "ticks": "",
            "zerolinecolor": "white"
           },
           "yaxis": {
            "backgroundcolor": "#E5ECF6",
            "gridcolor": "white",
            "gridwidth": 2,
            "linecolor": "white",
            "showbackground": true,
            "ticks": "",
            "zerolinecolor": "white"
           },
           "zaxis": {
            "backgroundcolor": "#E5ECF6",
            "gridcolor": "white",
            "gridwidth": 2,
            "linecolor": "white",
            "showbackground": true,
            "ticks": "",
            "zerolinecolor": "white"
           }
          },
          "shapedefaults": {
           "line": {
            "color": "#2a3f5f"
           }
          },
          "ternary": {
           "aaxis": {
            "gridcolor": "white",
            "linecolor": "white",
            "ticks": ""
           },
           "baxis": {
            "gridcolor": "white",
            "linecolor": "white",
            "ticks": ""
           },
           "bgcolor": "#E5ECF6",
           "caxis": {
            "gridcolor": "white",
            "linecolor": "white",
            "ticks": ""
           }
          },
          "title": {
           "x": 0.05
          },
          "xaxis": {
           "automargin": true,
           "gridcolor": "white",
           "linecolor": "white",
           "ticks": "",
           "title": {
            "standoff": 15
           },
           "zerolinecolor": "white",
           "zerolinewidth": 2
          },
          "yaxis": {
           "automargin": true,
           "gridcolor": "white",
           "linecolor": "white",
           "ticks": "",
           "title": {
            "standoff": 15
           },
           "zerolinecolor": "white",
           "zerolinewidth": 2
          }
         }
        },
        "title": {
         "text": "3D UMAP Clusters - DBSCAN"
        }
       }
      }
     },
     "metadata": {},
     "output_type": "display_data"
    }
   ],
   "source": [
    "from sklearn.cluster import DBSCAN\n",
    "\n",
    "\n",
    "dbscan = DBSCAN(min_samples=5, eps=170)\n",
    "cluster_labels = dbscan.fit_predict(df_pca)\n",
    "\n",
    "visualise_clusters_umap_3d(umap_3d, cluster_labels, \"DBSCAN\")"
   ]
  },
  {
   "cell_type": "code",
   "execution_count": 17,
   "id": "1e3936e0",
   "metadata": {},
   "outputs": [
    {
     "data": {
      "application/vnd.plotly.v1+json": {
       "config": {
        "plotlyServerURL": "https://plot.ly"
       },
       "data": [
        {
         "hoverinfo": "text",
         "marker": {
          "color": [
           "#19D3F3",
           "#19D3F3",
           "#00CC96",
           "#EF553B",
           "#EF553B",
           "#19D3F3",
           "#00CC96",
           "#00CC96",
           "#00CC96",
           "#19D3F3",
           "#FFA15A",
           "#FFA15A",
           "#19D3F3",
           "#FFA15A",
           "#FFA15A",
           "#19D3F3",
           "#636EFA",
           "#FFA15A",
           "#636EFA",
           "#00CC96",
           "#EF553B",
           "#FFA15A",
           "#00CC96",
           "#00CC96",
           "#00CC96",
           "#FFA15A",
           "#636EFA",
           "#19D3F3",
           "#00CC96",
           "#EF553B",
           "#EF553B",
           "#19D3F3",
           "#FFA15A",
           "#19D3F3",
           "#FFA15A",
           "#00CC96",
           "#19D3F3",
           "#00CC96",
           "#636EFA",
           "#EF553B",
           "#FFA15A",
           "#19D3F3",
           "#19D3F3",
           "#19D3F3",
           "#EF553B",
           "#FFA15A",
           "#636EFA",
           "#FFA15A",
           "#00CC96",
           "#FFA15A",
           "#00CC96",
           "#19D3F3",
           "#00CC96",
           "#AB63FA",
           "#19D3F3",
           "#19D3F3",
           "#00CC96",
           "#19D3F3",
           "#EF553B",
           "#00CC96",
           "#19D3F3",
           "#FFA15A",
           "#19D3F3",
           "#19D3F3",
           "#19D3F3",
           "#FF6692",
           "#FFA15A",
           "#00CC96",
           "#FF6692",
           "#19D3F3",
           "#FF6692",
           "#19D3F3",
           "#00CC96",
           "#19D3F3",
           "#EF553B",
           "#19D3F3",
           "#00CC96",
           "#FFA15A",
           "#00CC96",
           "#FFA15A",
           "#FFA15A",
           "#19D3F3",
           "#00CC96",
           "#00CC96",
           "#00CC96",
           "#00CC96",
           "#00CC96",
           "#FFA15A",
           "#00CC96",
           "#636EFA",
           "#00CC96",
           "#00CC96",
           "#19D3F3",
           "#AB63FA",
           "#00CC96",
           "#00CC96",
           "#19D3F3",
           "#00CC96",
           "#FF6692",
           "#00CC96",
           "#19D3F3",
           "#00CC96",
           "#636EFA",
           "#19D3F3"
          ],
          "opacity": 0.8,
          "size": 5
         },
         "mode": "markers",
         "text": [
          "Cluster 5",
          "Cluster 5",
          "Cluster 2",
          "Cluster 1",
          "Cluster 1",
          "Cluster 5",
          "Cluster 2",
          "Cluster 2",
          "Cluster 2",
          "Cluster 5",
          "Cluster 4",
          "Cluster 4",
          "Cluster 5",
          "Cluster 4",
          "Cluster 4",
          "Cluster 5",
          "Cluster 0",
          "Cluster 4",
          "Cluster 0",
          "Cluster 2",
          "Cluster 1",
          "Cluster 4",
          "Cluster 2",
          "Cluster 2",
          "Cluster 2",
          "Cluster 4",
          "Cluster 0",
          "Cluster 5",
          "Cluster 2",
          "Cluster 1",
          "Cluster 1",
          "Cluster 5",
          "Cluster 4",
          "Cluster 5",
          "Cluster 4",
          "Cluster 2",
          "Cluster 5",
          "Cluster 2",
          "Cluster 0",
          "Cluster 1",
          "Cluster 4",
          "Cluster 5",
          "Cluster 5",
          "Cluster 5",
          "Cluster 1",
          "Cluster 4",
          "Cluster 0",
          "Cluster 4",
          "Cluster 2",
          "Cluster 4",
          "Cluster 2",
          "Cluster 5",
          "Cluster 2",
          "Cluster 3",
          "Cluster 5",
          "Cluster 5",
          "Cluster 2",
          "Cluster 5",
          "Cluster 1",
          "Cluster 2",
          "Cluster 5",
          "Cluster 4",
          "Cluster 5",
          "Cluster 5",
          "Cluster 5",
          "Cluster 6",
          "Cluster 4",
          "Cluster 2",
          "Cluster 6",
          "Cluster 5",
          "Cluster 6",
          "Cluster 5",
          "Cluster 2",
          "Cluster 5",
          "Cluster 1",
          "Cluster 5",
          "Cluster 2",
          "Cluster 4",
          "Cluster 2",
          "Cluster 4",
          "Cluster 4",
          "Cluster 5",
          "Cluster 2",
          "Cluster 2",
          "Cluster 2",
          "Cluster 2",
          "Cluster 2",
          "Cluster 4",
          "Cluster 2",
          "Cluster 0",
          "Cluster 2",
          "Cluster 2",
          "Cluster 5",
          "Cluster 3",
          "Cluster 2",
          "Cluster 2",
          "Cluster 5",
          "Cluster 2",
          "Cluster 6",
          "Cluster 2",
          "Cluster 5",
          "Cluster 2",
          "Cluster 0",
          "Cluster 5"
         ],
         "type": "scatter3d",
         "x": {
          "bdata": "x3vXQKnI20A235VArPM/QFGtWUBo/9BAAH6DQNqKd0BW4mVAjx7xQDMg3UAGnPlAy+rTQEcO+kBV0e9A0+LVQG5v3UBRl+ZAv4jQQNGmh0BKT2JAGk/tQChaVECPUHJAYWKKQPsM7UCkvd9Aj/3UQJNgdkAneFNANa1SQIPxz0AkJdpAXjrQQI1t20CF9YdA3JvHQIOckkAJh+hA/k1kQJkZ8UAMn9ZA1wv0QCxy9kC/CU1AdeT+QH1I7kAnvutA0QFyQGj15kB9e4JAQMP9QHY8gkAq5KNABX3+QNS8+0Ccr5lA2LvCQHLISkAZhnxA9V/6QG2V8kDdjslA8aLEQBq7xUAXvJtALfrZQCkdk0ArwqtArwHCQDRqsEB6z/lA/JVaQPia4EBDJjhADSXCQArRmUCyH8pAm9ZYQMD83UA4tOJA7Hf1QDoJd0D6TYdAsDWWQLFth0BiRpJAueb5QFaD+ECDM+hA5QWnQKGVfUCzifBAKleqQDwkqUAX3IlAV6zQQCF8g0DT/IlAsTyAQMUQ9kBlXolAhlLtQBoQ+kA=",
          "dtype": "f4"
         },
         "y": {
          "bdata": "bL5xQB2WeEBn4y5BzoorQQ6RNUEXsodAsF4sQZGfNkFn9y5BDvGgQGx8jkAFN6ZAtjx8QIVrqkB7FJtAuKp6QBk+UEDJb51A8NV1QEpqLEE0yi5BoAadQG56J0GBuDVBwFQoQR2urUD8o0RAkiaJQDWfKEEKojJBB9omQReBgECQh5xAGbeXQMWSkkAxnzBBut59QEiROUEWH1dAM8oxQU9Bk0CdEm5AwVmfQOM2mEB9nS9BVOKmQMRRZUB/E5BAzrA4QZAYkUCsxTRBfq2eQKcFL0Hjdi9BQZ6ZQEUQrUAKKjNBPnmXQJhNJ0GWYipBp5anQIxdskDzTpFAbueCQBv5kEAN8DZBBhWiQCqFK0EnTzRBs+uGQEMqMEFM4a9Acb8lQf8PlEBpHSpBVdCRQEzFKkFTootAd0kqQQRukECFgJNAUeOkQP77LUEJQTtBVCQrQS9oO0FXCzVBsH6uQDDfuUBEz0lAhfAsQZ6YKUFDCpxAYGIyQeKML0Gp/ClBDoN0QFsKOkHn0jRBk9s2QbtVnUC8DjhBfnFTQLdjmkA=",
          "dtype": "f4"
         },
         "z": {
          "bdata": "eyIGQd3SBEEwS8W/N/aivgCWqb6lbP1Af/yWv0xBjL8zgcO/xP7BQGUwBUHUmAhBY9wGQZw8BkFHCA9BPUHzQCFiBEHt+gxBkEIAQZ9j0b/D2O++ff0PQUO4b7+u+z+/QfXiv4t8C0FdbAJBIH7zQFHBR7+dcI2+6okWv3GmCUHXbAlBK3j8QJQLEEEr4yq/VD4DQeTiZL/bCQJB00KyvfSFCkF/CQpBUAvIQDynvUBRuNW+HKgEQRKuBkEXIBFBGppTv//+B0H88s6/hMf0QFJe/74G86W/CkLFQEULvEAIQIW/Sfj9QGNT0b7Nsq6/+rq8QNjABEEGKfNAhh4GQWqt+kBKPa+/ONkKQaMU478xnaK/zgv4QIe4sb8ye7lAEbiJv8ny7UCOebW+oczxQPpTwr+AswZBArC9v4dODUGqmw9ByAvCQDhv5b9uhBK/KFugv5OVeb/y3yq/p/oHQShftEDLDgZBvX6Vv+OpIr8XbspAt/rLv6wgmb9vOHW/oLj2QE5hnr+sUOO/x8LLv4Dov0DRZhW/U/cEQTaGt0A=",
          "dtype": "f4"
         }
        }
       ],
       "layout": {
        "margin": {
         "b": 0,
         "l": 0,
         "r": 0,
         "t": 30
        },
        "scene": {
         "xaxis": {
          "title": {
           "text": "UMAP Component 1"
          }
         },
         "yaxis": {
          "title": {
           "text": "UMAP Component 2"
          }
         },
         "zaxis": {
          "title": {
           "text": "UMAP Component 3"
          }
         }
        },
        "template": {
         "data": {
          "bar": [
           {
            "error_x": {
             "color": "#2a3f5f"
            },
            "error_y": {
             "color": "#2a3f5f"
            },
            "marker": {
             "line": {
              "color": "#E5ECF6",
              "width": 0.5
             },
             "pattern": {
              "fillmode": "overlay",
              "size": 10,
              "solidity": 0.2
             }
            },
            "type": "bar"
           }
          ],
          "barpolar": [
           {
            "marker": {
             "line": {
              "color": "#E5ECF6",
              "width": 0.5
             },
             "pattern": {
              "fillmode": "overlay",
              "size": 10,
              "solidity": 0.2
             }
            },
            "type": "barpolar"
           }
          ],
          "carpet": [
           {
            "aaxis": {
             "endlinecolor": "#2a3f5f",
             "gridcolor": "white",
             "linecolor": "white",
             "minorgridcolor": "white",
             "startlinecolor": "#2a3f5f"
            },
            "baxis": {
             "endlinecolor": "#2a3f5f",
             "gridcolor": "white",
             "linecolor": "white",
             "minorgridcolor": "white",
             "startlinecolor": "#2a3f5f"
            },
            "type": "carpet"
           }
          ],
          "choropleth": [
           {
            "colorbar": {
             "outlinewidth": 0,
             "ticks": ""
            },
            "type": "choropleth"
           }
          ],
          "contour": [
           {
            "colorbar": {
             "outlinewidth": 0,
             "ticks": ""
            },
            "colorscale": [
             [
              0,
              "#0d0887"
             ],
             [
              0.1111111111111111,
              "#46039f"
             ],
             [
              0.2222222222222222,
              "#7201a8"
             ],
             [
              0.3333333333333333,
              "#9c179e"
             ],
             [
              0.4444444444444444,
              "#bd3786"
             ],
             [
              0.5555555555555556,
              "#d8576b"
             ],
             [
              0.6666666666666666,
              "#ed7953"
             ],
             [
              0.7777777777777778,
              "#fb9f3a"
             ],
             [
              0.8888888888888888,
              "#fdca26"
             ],
             [
              1,
              "#f0f921"
             ]
            ],
            "type": "contour"
           }
          ],
          "contourcarpet": [
           {
            "colorbar": {
             "outlinewidth": 0,
             "ticks": ""
            },
            "type": "contourcarpet"
           }
          ],
          "heatmap": [
           {
            "colorbar": {
             "outlinewidth": 0,
             "ticks": ""
            },
            "colorscale": [
             [
              0,
              "#0d0887"
             ],
             [
              0.1111111111111111,
              "#46039f"
             ],
             [
              0.2222222222222222,
              "#7201a8"
             ],
             [
              0.3333333333333333,
              "#9c179e"
             ],
             [
              0.4444444444444444,
              "#bd3786"
             ],
             [
              0.5555555555555556,
              "#d8576b"
             ],
             [
              0.6666666666666666,
              "#ed7953"
             ],
             [
              0.7777777777777778,
              "#fb9f3a"
             ],
             [
              0.8888888888888888,
              "#fdca26"
             ],
             [
              1,
              "#f0f921"
             ]
            ],
            "type": "heatmap"
           }
          ],
          "histogram": [
           {
            "marker": {
             "pattern": {
              "fillmode": "overlay",
              "size": 10,
              "solidity": 0.2
             }
            },
            "type": "histogram"
           }
          ],
          "histogram2d": [
           {
            "colorbar": {
             "outlinewidth": 0,
             "ticks": ""
            },
            "colorscale": [
             [
              0,
              "#0d0887"
             ],
             [
              0.1111111111111111,
              "#46039f"
             ],
             [
              0.2222222222222222,
              "#7201a8"
             ],
             [
              0.3333333333333333,
              "#9c179e"
             ],
             [
              0.4444444444444444,
              "#bd3786"
             ],
             [
              0.5555555555555556,
              "#d8576b"
             ],
             [
              0.6666666666666666,
              "#ed7953"
             ],
             [
              0.7777777777777778,
              "#fb9f3a"
             ],
             [
              0.8888888888888888,
              "#fdca26"
             ],
             [
              1,
              "#f0f921"
             ]
            ],
            "type": "histogram2d"
           }
          ],
          "histogram2dcontour": [
           {
            "colorbar": {
             "outlinewidth": 0,
             "ticks": ""
            },
            "colorscale": [
             [
              0,
              "#0d0887"
             ],
             [
              0.1111111111111111,
              "#46039f"
             ],
             [
              0.2222222222222222,
              "#7201a8"
             ],
             [
              0.3333333333333333,
              "#9c179e"
             ],
             [
              0.4444444444444444,
              "#bd3786"
             ],
             [
              0.5555555555555556,
              "#d8576b"
             ],
             [
              0.6666666666666666,
              "#ed7953"
             ],
             [
              0.7777777777777778,
              "#fb9f3a"
             ],
             [
              0.8888888888888888,
              "#fdca26"
             ],
             [
              1,
              "#f0f921"
             ]
            ],
            "type": "histogram2dcontour"
           }
          ],
          "mesh3d": [
           {
            "colorbar": {
             "outlinewidth": 0,
             "ticks": ""
            },
            "type": "mesh3d"
           }
          ],
          "parcoords": [
           {
            "line": {
             "colorbar": {
              "outlinewidth": 0,
              "ticks": ""
             }
            },
            "type": "parcoords"
           }
          ],
          "pie": [
           {
            "automargin": true,
            "type": "pie"
           }
          ],
          "scatter": [
           {
            "fillpattern": {
             "fillmode": "overlay",
             "size": 10,
             "solidity": 0.2
            },
            "type": "scatter"
           }
          ],
          "scatter3d": [
           {
            "line": {
             "colorbar": {
              "outlinewidth": 0,
              "ticks": ""
             }
            },
            "marker": {
             "colorbar": {
              "outlinewidth": 0,
              "ticks": ""
             }
            },
            "type": "scatter3d"
           }
          ],
          "scattercarpet": [
           {
            "marker": {
             "colorbar": {
              "outlinewidth": 0,
              "ticks": ""
             }
            },
            "type": "scattercarpet"
           }
          ],
          "scattergeo": [
           {
            "marker": {
             "colorbar": {
              "outlinewidth": 0,
              "ticks": ""
             }
            },
            "type": "scattergeo"
           }
          ],
          "scattergl": [
           {
            "marker": {
             "colorbar": {
              "outlinewidth": 0,
              "ticks": ""
             }
            },
            "type": "scattergl"
           }
          ],
          "scattermap": [
           {
            "marker": {
             "colorbar": {
              "outlinewidth": 0,
              "ticks": ""
             }
            },
            "type": "scattermap"
           }
          ],
          "scattermapbox": [
           {
            "marker": {
             "colorbar": {
              "outlinewidth": 0,
              "ticks": ""
             }
            },
            "type": "scattermapbox"
           }
          ],
          "scatterpolar": [
           {
            "marker": {
             "colorbar": {
              "outlinewidth": 0,
              "ticks": ""
             }
            },
            "type": "scatterpolar"
           }
          ],
          "scatterpolargl": [
           {
            "marker": {
             "colorbar": {
              "outlinewidth": 0,
              "ticks": ""
             }
            },
            "type": "scatterpolargl"
           }
          ],
          "scatterternary": [
           {
            "marker": {
             "colorbar": {
              "outlinewidth": 0,
              "ticks": ""
             }
            },
            "type": "scatterternary"
           }
          ],
          "surface": [
           {
            "colorbar": {
             "outlinewidth": 0,
             "ticks": ""
            },
            "colorscale": [
             [
              0,
              "#0d0887"
             ],
             [
              0.1111111111111111,
              "#46039f"
             ],
             [
              0.2222222222222222,
              "#7201a8"
             ],
             [
              0.3333333333333333,
              "#9c179e"
             ],
             [
              0.4444444444444444,
              "#bd3786"
             ],
             [
              0.5555555555555556,
              "#d8576b"
             ],
             [
              0.6666666666666666,
              "#ed7953"
             ],
             [
              0.7777777777777778,
              "#fb9f3a"
             ],
             [
              0.8888888888888888,
              "#fdca26"
             ],
             [
              1,
              "#f0f921"
             ]
            ],
            "type": "surface"
           }
          ],
          "table": [
           {
            "cells": {
             "fill": {
              "color": "#EBF0F8"
             },
             "line": {
              "color": "white"
             }
            },
            "header": {
             "fill": {
              "color": "#C8D4E3"
             },
             "line": {
              "color": "white"
             }
            },
            "type": "table"
           }
          ]
         },
         "layout": {
          "annotationdefaults": {
           "arrowcolor": "#2a3f5f",
           "arrowhead": 0,
           "arrowwidth": 1
          },
          "autotypenumbers": "strict",
          "coloraxis": {
           "colorbar": {
            "outlinewidth": 0,
            "ticks": ""
           }
          },
          "colorscale": {
           "diverging": [
            [
             0,
             "#8e0152"
            ],
            [
             0.1,
             "#c51b7d"
            ],
            [
             0.2,
             "#de77ae"
            ],
            [
             0.3,
             "#f1b6da"
            ],
            [
             0.4,
             "#fde0ef"
            ],
            [
             0.5,
             "#f7f7f7"
            ],
            [
             0.6,
             "#e6f5d0"
            ],
            [
             0.7,
             "#b8e186"
            ],
            [
             0.8,
             "#7fbc41"
            ],
            [
             0.9,
             "#4d9221"
            ],
            [
             1,
             "#276419"
            ]
           ],
           "sequential": [
            [
             0,
             "#0d0887"
            ],
            [
             0.1111111111111111,
             "#46039f"
            ],
            [
             0.2222222222222222,
             "#7201a8"
            ],
            [
             0.3333333333333333,
             "#9c179e"
            ],
            [
             0.4444444444444444,
             "#bd3786"
            ],
            [
             0.5555555555555556,
             "#d8576b"
            ],
            [
             0.6666666666666666,
             "#ed7953"
            ],
            [
             0.7777777777777778,
             "#fb9f3a"
            ],
            [
             0.8888888888888888,
             "#fdca26"
            ],
            [
             1,
             "#f0f921"
            ]
           ],
           "sequentialminus": [
            [
             0,
             "#0d0887"
            ],
            [
             0.1111111111111111,
             "#46039f"
            ],
            [
             0.2222222222222222,
             "#7201a8"
            ],
            [
             0.3333333333333333,
             "#9c179e"
            ],
            [
             0.4444444444444444,
             "#bd3786"
            ],
            [
             0.5555555555555556,
             "#d8576b"
            ],
            [
             0.6666666666666666,
             "#ed7953"
            ],
            [
             0.7777777777777778,
             "#fb9f3a"
            ],
            [
             0.8888888888888888,
             "#fdca26"
            ],
            [
             1,
             "#f0f921"
            ]
           ]
          },
          "colorway": [
           "#636efa",
           "#EF553B",
           "#00cc96",
           "#ab63fa",
           "#FFA15A",
           "#19d3f3",
           "#FF6692",
           "#B6E880",
           "#FF97FF",
           "#FECB52"
          ],
          "font": {
           "color": "#2a3f5f"
          },
          "geo": {
           "bgcolor": "white",
           "lakecolor": "white",
           "landcolor": "#E5ECF6",
           "showlakes": true,
           "showland": true,
           "subunitcolor": "white"
          },
          "hoverlabel": {
           "align": "left"
          },
          "hovermode": "closest",
          "mapbox": {
           "style": "light"
          },
          "paper_bgcolor": "white",
          "plot_bgcolor": "#E5ECF6",
          "polar": {
           "angularaxis": {
            "gridcolor": "white",
            "linecolor": "white",
            "ticks": ""
           },
           "bgcolor": "#E5ECF6",
           "radialaxis": {
            "gridcolor": "white",
            "linecolor": "white",
            "ticks": ""
           }
          },
          "scene": {
           "xaxis": {
            "backgroundcolor": "#E5ECF6",
            "gridcolor": "white",
            "gridwidth": 2,
            "linecolor": "white",
            "showbackground": true,
            "ticks": "",
            "zerolinecolor": "white"
           },
           "yaxis": {
            "backgroundcolor": "#E5ECF6",
            "gridcolor": "white",
            "gridwidth": 2,
            "linecolor": "white",
            "showbackground": true,
            "ticks": "",
            "zerolinecolor": "white"
           },
           "zaxis": {
            "backgroundcolor": "#E5ECF6",
            "gridcolor": "white",
            "gridwidth": 2,
            "linecolor": "white",
            "showbackground": true,
            "ticks": "",
            "zerolinecolor": "white"
           }
          },
          "shapedefaults": {
           "line": {
            "color": "#2a3f5f"
           }
          },
          "ternary": {
           "aaxis": {
            "gridcolor": "white",
            "linecolor": "white",
            "ticks": ""
           },
           "baxis": {
            "gridcolor": "white",
            "linecolor": "white",
            "ticks": ""
           },
           "bgcolor": "#E5ECF6",
           "caxis": {
            "gridcolor": "white",
            "linecolor": "white",
            "ticks": ""
           }
          },
          "title": {
           "x": 0.05
          },
          "xaxis": {
           "automargin": true,
           "gridcolor": "white",
           "linecolor": "white",
           "ticks": "",
           "title": {
            "standoff": 15
           },
           "zerolinecolor": "white",
           "zerolinewidth": 2
          },
          "yaxis": {
           "automargin": true,
           "gridcolor": "white",
           "linecolor": "white",
           "ticks": "",
           "title": {
            "standoff": 15
           },
           "zerolinecolor": "white",
           "zerolinewidth": 2
          }
         }
        },
        "title": {
         "text": "3D UMAP Clusters - GMM"
        }
       }
      }
     },
     "metadata": {},
     "output_type": "display_data"
    }
   ],
   "source": [
    "from sklearn import mixture\n",
    "\n",
    "gmm = mixture.GaussianMixture(n_components=7)\n",
    "cluster_labels = gmm.fit_predict(df_pca)\n",
    "\n",
    "visualise_clusters_umap_3d(umap_3d, cluster_labels, \"GMM\")"
   ]
  },
  {
   "cell_type": "code",
   "execution_count": 18,
   "id": "48a1031d",
   "metadata": {},
   "outputs": [
    {
     "data": {
      "application/vnd.plotly.v1+json": {
       "config": {
        "plotlyServerURL": "https://plot.ly"
       },
       "data": [
        {
         "hoverinfo": "text",
         "marker": {
          "color": [
           "#00CC96",
           "#00CC96",
           "#EF553B",
           "#636EFA",
           "#636EFA",
           "#00CC96",
           "#636EFA",
           "#636EFA",
           "#636EFA",
           "#FFA15A",
           "#00CC96",
           "#FF6692",
           "#00CC96",
           "#FF6692",
           "#AB63FA",
           "#00CC96",
           "#19D3F3",
           "#00CC96",
           "#00CC96",
           "#636EFA",
           "#636EFA",
           "#AB63FA",
           "#636EFA",
           "#636EFA",
           "#636EFA",
           "#FF6692",
           "#19D3F3",
           "#00CC96",
           "#636EFA",
           "#636EFA",
           "#636EFA",
           "#00CC96",
           "#00CC96",
           "#00CC96",
           "#00CC96",
           "#636EFA",
           "#00CC96",
           "#636EFA",
           "#19D3F3",
           "#636EFA",
           "#00CC96",
           "#00CC96",
           "#FFA15A",
           "#FFA15A",
           "#636EFA",
           "#FF6692",
           "#19D3F3",
           "#00CC96",
           "#636EFA",
           "#00CC96",
           "#EF553B",
           "#FF6692",
           "#636EFA",
           "#EF553B",
           "#FFA15A",
           "#FFA15A",
           "#EF553B",
           "#00CC96",
           "#636EFA",
           "#636EFA",
           "#FFA15A",
           "#FF6692",
           "#00CC96",
           "#00CC96",
           "#00CC96",
           "#EF553B",
           "#00CC96",
           "#EF553B",
           "#EF553B",
           "#00CC96",
           "#EF553B",
           "#FFA15A",
           "#636EFA",
           "#FFA15A",
           "#636EFA",
           "#00CC96",
           "#EF553B",
           "#00CC96",
           "#636EFA",
           "#00CC96",
           "#00CC96",
           "#FFA15A",
           "#636EFA",
           "#636EFA",
           "#636EFA",
           "#636EFA",
           "#636EFA",
           "#FF6692",
           "#636EFA",
           "#19D3F3",
           "#EF553B",
           "#636EFA",
           "#FFA15A",
           "#EF553B",
           "#EF553B",
           "#636EFA",
           "#00CC96",
           "#636EFA",
           "#EF553B",
           "#EF553B",
           "#FFA15A",
           "#636EFA",
           "#19D3F3",
           "#FFA15A"
          ],
          "opacity": 0.8,
          "size": 5
         },
         "mode": "markers",
         "text": [
          "Cluster 2",
          "Cluster 2",
          "Cluster 1",
          "Cluster 0",
          "Cluster 0",
          "Cluster 2",
          "Cluster 0",
          "Cluster 0",
          "Cluster 0",
          "Cluster 4",
          "Cluster 2",
          "Cluster 6",
          "Cluster 2",
          "Cluster 6",
          "Cluster 3",
          "Cluster 2",
          "Cluster 5",
          "Cluster 2",
          "Cluster 2",
          "Cluster 0",
          "Cluster 0",
          "Cluster 3",
          "Cluster 0",
          "Cluster 0",
          "Cluster 0",
          "Cluster 6",
          "Cluster 5",
          "Cluster 2",
          "Cluster 0",
          "Cluster 0",
          "Cluster 0",
          "Cluster 2",
          "Cluster 2",
          "Cluster 2",
          "Cluster 2",
          "Cluster 0",
          "Cluster 2",
          "Cluster 0",
          "Cluster 5",
          "Cluster 0",
          "Cluster 2",
          "Cluster 2",
          "Cluster 4",
          "Cluster 4",
          "Cluster 0",
          "Cluster 6",
          "Cluster 5",
          "Cluster 2",
          "Cluster 0",
          "Cluster 2",
          "Cluster 1",
          "Cluster 6",
          "Cluster 0",
          "Cluster 1",
          "Cluster 4",
          "Cluster 4",
          "Cluster 1",
          "Cluster 2",
          "Cluster 0",
          "Cluster 0",
          "Cluster 4",
          "Cluster 6",
          "Cluster 2",
          "Cluster 2",
          "Cluster 2",
          "Cluster 1",
          "Cluster 2",
          "Cluster 1",
          "Cluster 1",
          "Cluster 2",
          "Cluster 1",
          "Cluster 4",
          "Cluster 0",
          "Cluster 4",
          "Cluster 0",
          "Cluster 2",
          "Cluster 1",
          "Cluster 2",
          "Cluster 0",
          "Cluster 2",
          "Cluster 2",
          "Cluster 4",
          "Cluster 0",
          "Cluster 0",
          "Cluster 0",
          "Cluster 0",
          "Cluster 0",
          "Cluster 6",
          "Cluster 0",
          "Cluster 5",
          "Cluster 1",
          "Cluster 0",
          "Cluster 4",
          "Cluster 1",
          "Cluster 1",
          "Cluster 0",
          "Cluster 2",
          "Cluster 0",
          "Cluster 1",
          "Cluster 1",
          "Cluster 4",
          "Cluster 0",
          "Cluster 5",
          "Cluster 4"
         ],
         "type": "scatter3d",
         "x": {
          "bdata": "x3vXQKnI20A235VArPM/QFGtWUBo/9BAAH6DQNqKd0BW4mVAjx7xQDMg3UAGnPlAy+rTQEcO+kBV0e9A0+LVQG5v3UBRl+ZAv4jQQNGmh0BKT2JAGk/tQChaVECPUHJAYWKKQPsM7UCkvd9Aj/3UQJNgdkAneFNANa1SQIPxz0AkJdpAXjrQQI1t20CF9YdA3JvHQIOckkAJh+hA/k1kQJkZ8UAMn9ZA1wv0QCxy9kC/CU1AdeT+QH1I7kAnvutA0QFyQGj15kB9e4JAQMP9QHY8gkAq5KNABX3+QNS8+0Ccr5lA2LvCQHLISkAZhnxA9V/6QG2V8kDdjslA8aLEQBq7xUAXvJtALfrZQCkdk0ArwqtArwHCQDRqsEB6z/lA/JVaQPia4EBDJjhADSXCQArRmUCyH8pAm9ZYQMD83UA4tOJA7Hf1QDoJd0D6TYdAsDWWQLFth0BiRpJAueb5QFaD+ECDM+hA5QWnQKGVfUCzifBAKleqQDwkqUAX3IlAV6zQQCF8g0DT/IlAsTyAQMUQ9kBlXolAhlLtQBoQ+kA=",
          "dtype": "f4"
         },
         "y": {
          "bdata": "bL5xQB2WeEBn4y5BzoorQQ6RNUEXsodAsF4sQZGfNkFn9y5BDvGgQGx8jkAFN6ZAtjx8QIVrqkB7FJtAuKp6QBk+UEDJb51A8NV1QEpqLEE0yi5BoAadQG56J0GBuDVBwFQoQR2urUD8o0RAkiaJQDWfKEEKojJBB9omQReBgECQh5xAGbeXQMWSkkAxnzBBut59QEiROUEWH1dAM8oxQU9Bk0CdEm5AwVmfQOM2mEB9nS9BVOKmQMRRZUB/E5BAzrA4QZAYkUCsxTRBfq2eQKcFL0Hjdi9BQZ6ZQEUQrUAKKjNBPnmXQJhNJ0GWYipBp5anQIxdskDzTpFAbueCQBv5kEAN8DZBBhWiQCqFK0EnTzRBs+uGQEMqMEFM4a9Acb8lQf8PlEBpHSpBVdCRQEzFKkFTootAd0kqQQRukECFgJNAUeOkQP77LUEJQTtBVCQrQS9oO0FXCzVBsH6uQDDfuUBEz0lAhfAsQZ6YKUFDCpxAYGIyQeKML0Gp/ClBDoN0QFsKOkHn0jRBk9s2QbtVnUC8DjhBfnFTQLdjmkA=",
          "dtype": "f4"
         },
         "z": {
          "bdata": "eyIGQd3SBEEwS8W/N/aivgCWqb6lbP1Af/yWv0xBjL8zgcO/xP7BQGUwBUHUmAhBY9wGQZw8BkFHCA9BPUHzQCFiBEHt+gxBkEIAQZ9j0b/D2O++ff0PQUO4b7+u+z+/QfXiv4t8C0FdbAJBIH7zQFHBR7+dcI2+6okWv3GmCUHXbAlBK3j8QJQLEEEr4yq/VD4DQeTiZL/bCQJB00KyvfSFCkF/CQpBUAvIQDynvUBRuNW+HKgEQRKuBkEXIBFBGppTv//+B0H88s6/hMf0QFJe/74G86W/CkLFQEULvEAIQIW/Sfj9QGNT0b7Nsq6/+rq8QNjABEEGKfNAhh4GQWqt+kBKPa+/ONkKQaMU478xnaK/zgv4QIe4sb8ye7lAEbiJv8ny7UCOebW+oczxQPpTwr+AswZBArC9v4dODUGqmw9ByAvCQDhv5b9uhBK/KFugv5OVeb/y3yq/p/oHQShftEDLDgZBvX6Vv+OpIr8XbspAt/rLv6wgmb9vOHW/oLj2QE5hnr+sUOO/x8LLv4Dov0DRZhW/U/cEQTaGt0A=",
          "dtype": "f4"
         }
        }
       ],
       "layout": {
        "margin": {
         "b": 0,
         "l": 0,
         "r": 0,
         "t": 30
        },
        "scene": {
         "xaxis": {
          "title": {
           "text": "UMAP Component 1"
          }
         },
         "yaxis": {
          "title": {
           "text": "UMAP Component 2"
          }
         },
         "zaxis": {
          "title": {
           "text": "UMAP Component 3"
          }
         }
        },
        "template": {
         "data": {
          "bar": [
           {
            "error_x": {
             "color": "#2a3f5f"
            },
            "error_y": {
             "color": "#2a3f5f"
            },
            "marker": {
             "line": {
              "color": "#E5ECF6",
              "width": 0.5
             },
             "pattern": {
              "fillmode": "overlay",
              "size": 10,
              "solidity": 0.2
             }
            },
            "type": "bar"
           }
          ],
          "barpolar": [
           {
            "marker": {
             "line": {
              "color": "#E5ECF6",
              "width": 0.5
             },
             "pattern": {
              "fillmode": "overlay",
              "size": 10,
              "solidity": 0.2
             }
            },
            "type": "barpolar"
           }
          ],
          "carpet": [
           {
            "aaxis": {
             "endlinecolor": "#2a3f5f",
             "gridcolor": "white",
             "linecolor": "white",
             "minorgridcolor": "white",
             "startlinecolor": "#2a3f5f"
            },
            "baxis": {
             "endlinecolor": "#2a3f5f",
             "gridcolor": "white",
             "linecolor": "white",
             "minorgridcolor": "white",
             "startlinecolor": "#2a3f5f"
            },
            "type": "carpet"
           }
          ],
          "choropleth": [
           {
            "colorbar": {
             "outlinewidth": 0,
             "ticks": ""
            },
            "type": "choropleth"
           }
          ],
          "contour": [
           {
            "colorbar": {
             "outlinewidth": 0,
             "ticks": ""
            },
            "colorscale": [
             [
              0,
              "#0d0887"
             ],
             [
              0.1111111111111111,
              "#46039f"
             ],
             [
              0.2222222222222222,
              "#7201a8"
             ],
             [
              0.3333333333333333,
              "#9c179e"
             ],
             [
              0.4444444444444444,
              "#bd3786"
             ],
             [
              0.5555555555555556,
              "#d8576b"
             ],
             [
              0.6666666666666666,
              "#ed7953"
             ],
             [
              0.7777777777777778,
              "#fb9f3a"
             ],
             [
              0.8888888888888888,
              "#fdca26"
             ],
             [
              1,
              "#f0f921"
             ]
            ],
            "type": "contour"
           }
          ],
          "contourcarpet": [
           {
            "colorbar": {
             "outlinewidth": 0,
             "ticks": ""
            },
            "type": "contourcarpet"
           }
          ],
          "heatmap": [
           {
            "colorbar": {
             "outlinewidth": 0,
             "ticks": ""
            },
            "colorscale": [
             [
              0,
              "#0d0887"
             ],
             [
              0.1111111111111111,
              "#46039f"
             ],
             [
              0.2222222222222222,
              "#7201a8"
             ],
             [
              0.3333333333333333,
              "#9c179e"
             ],
             [
              0.4444444444444444,
              "#bd3786"
             ],
             [
              0.5555555555555556,
              "#d8576b"
             ],
             [
              0.6666666666666666,
              "#ed7953"
             ],
             [
              0.7777777777777778,
              "#fb9f3a"
             ],
             [
              0.8888888888888888,
              "#fdca26"
             ],
             [
              1,
              "#f0f921"
             ]
            ],
            "type": "heatmap"
           }
          ],
          "histogram": [
           {
            "marker": {
             "pattern": {
              "fillmode": "overlay",
              "size": 10,
              "solidity": 0.2
             }
            },
            "type": "histogram"
           }
          ],
          "histogram2d": [
           {
            "colorbar": {
             "outlinewidth": 0,
             "ticks": ""
            },
            "colorscale": [
             [
              0,
              "#0d0887"
             ],
             [
              0.1111111111111111,
              "#46039f"
             ],
             [
              0.2222222222222222,
              "#7201a8"
             ],
             [
              0.3333333333333333,
              "#9c179e"
             ],
             [
              0.4444444444444444,
              "#bd3786"
             ],
             [
              0.5555555555555556,
              "#d8576b"
             ],
             [
              0.6666666666666666,
              "#ed7953"
             ],
             [
              0.7777777777777778,
              "#fb9f3a"
             ],
             [
              0.8888888888888888,
              "#fdca26"
             ],
             [
              1,
              "#f0f921"
             ]
            ],
            "type": "histogram2d"
           }
          ],
          "histogram2dcontour": [
           {
            "colorbar": {
             "outlinewidth": 0,
             "ticks": ""
            },
            "colorscale": [
             [
              0,
              "#0d0887"
             ],
             [
              0.1111111111111111,
              "#46039f"
             ],
             [
              0.2222222222222222,
              "#7201a8"
             ],
             [
              0.3333333333333333,
              "#9c179e"
             ],
             [
              0.4444444444444444,
              "#bd3786"
             ],
             [
              0.5555555555555556,
              "#d8576b"
             ],
             [
              0.6666666666666666,
              "#ed7953"
             ],
             [
              0.7777777777777778,
              "#fb9f3a"
             ],
             [
              0.8888888888888888,
              "#fdca26"
             ],
             [
              1,
              "#f0f921"
             ]
            ],
            "type": "histogram2dcontour"
           }
          ],
          "mesh3d": [
           {
            "colorbar": {
             "outlinewidth": 0,
             "ticks": ""
            },
            "type": "mesh3d"
           }
          ],
          "parcoords": [
           {
            "line": {
             "colorbar": {
              "outlinewidth": 0,
              "ticks": ""
             }
            },
            "type": "parcoords"
           }
          ],
          "pie": [
           {
            "automargin": true,
            "type": "pie"
           }
          ],
          "scatter": [
           {
            "fillpattern": {
             "fillmode": "overlay",
             "size": 10,
             "solidity": 0.2
            },
            "type": "scatter"
           }
          ],
          "scatter3d": [
           {
            "line": {
             "colorbar": {
              "outlinewidth": 0,
              "ticks": ""
             }
            },
            "marker": {
             "colorbar": {
              "outlinewidth": 0,
              "ticks": ""
             }
            },
            "type": "scatter3d"
           }
          ],
          "scattercarpet": [
           {
            "marker": {
             "colorbar": {
              "outlinewidth": 0,
              "ticks": ""
             }
            },
            "type": "scattercarpet"
           }
          ],
          "scattergeo": [
           {
            "marker": {
             "colorbar": {
              "outlinewidth": 0,
              "ticks": ""
             }
            },
            "type": "scattergeo"
           }
          ],
          "scattergl": [
           {
            "marker": {
             "colorbar": {
              "outlinewidth": 0,
              "ticks": ""
             }
            },
            "type": "scattergl"
           }
          ],
          "scattermap": [
           {
            "marker": {
             "colorbar": {
              "outlinewidth": 0,
              "ticks": ""
             }
            },
            "type": "scattermap"
           }
          ],
          "scattermapbox": [
           {
            "marker": {
             "colorbar": {
              "outlinewidth": 0,
              "ticks": ""
             }
            },
            "type": "scattermapbox"
           }
          ],
          "scatterpolar": [
           {
            "marker": {
             "colorbar": {
              "outlinewidth": 0,
              "ticks": ""
             }
            },
            "type": "scatterpolar"
           }
          ],
          "scatterpolargl": [
           {
            "marker": {
             "colorbar": {
              "outlinewidth": 0,
              "ticks": ""
             }
            },
            "type": "scatterpolargl"
           }
          ],
          "scatterternary": [
           {
            "marker": {
             "colorbar": {
              "outlinewidth": 0,
              "ticks": ""
             }
            },
            "type": "scatterternary"
           }
          ],
          "surface": [
           {
            "colorbar": {
             "outlinewidth": 0,
             "ticks": ""
            },
            "colorscale": [
             [
              0,
              "#0d0887"
             ],
             [
              0.1111111111111111,
              "#46039f"
             ],
             [
              0.2222222222222222,
              "#7201a8"
             ],
             [
              0.3333333333333333,
              "#9c179e"
             ],
             [
              0.4444444444444444,
              "#bd3786"
             ],
             [
              0.5555555555555556,
              "#d8576b"
             ],
             [
              0.6666666666666666,
              "#ed7953"
             ],
             [
              0.7777777777777778,
              "#fb9f3a"
             ],
             [
              0.8888888888888888,
              "#fdca26"
             ],
             [
              1,
              "#f0f921"
             ]
            ],
            "type": "surface"
           }
          ],
          "table": [
           {
            "cells": {
             "fill": {
              "color": "#EBF0F8"
             },
             "line": {
              "color": "white"
             }
            },
            "header": {
             "fill": {
              "color": "#C8D4E3"
             },
             "line": {
              "color": "white"
             }
            },
            "type": "table"
           }
          ]
         },
         "layout": {
          "annotationdefaults": {
           "arrowcolor": "#2a3f5f",
           "arrowhead": 0,
           "arrowwidth": 1
          },
          "autotypenumbers": "strict",
          "coloraxis": {
           "colorbar": {
            "outlinewidth": 0,
            "ticks": ""
           }
          },
          "colorscale": {
           "diverging": [
            [
             0,
             "#8e0152"
            ],
            [
             0.1,
             "#c51b7d"
            ],
            [
             0.2,
             "#de77ae"
            ],
            [
             0.3,
             "#f1b6da"
            ],
            [
             0.4,
             "#fde0ef"
            ],
            [
             0.5,
             "#f7f7f7"
            ],
            [
             0.6,
             "#e6f5d0"
            ],
            [
             0.7,
             "#b8e186"
            ],
            [
             0.8,
             "#7fbc41"
            ],
            [
             0.9,
             "#4d9221"
            ],
            [
             1,
             "#276419"
            ]
           ],
           "sequential": [
            [
             0,
             "#0d0887"
            ],
            [
             0.1111111111111111,
             "#46039f"
            ],
            [
             0.2222222222222222,
             "#7201a8"
            ],
            [
             0.3333333333333333,
             "#9c179e"
            ],
            [
             0.4444444444444444,
             "#bd3786"
            ],
            [
             0.5555555555555556,
             "#d8576b"
            ],
            [
             0.6666666666666666,
             "#ed7953"
            ],
            [
             0.7777777777777778,
             "#fb9f3a"
            ],
            [
             0.8888888888888888,
             "#fdca26"
            ],
            [
             1,
             "#f0f921"
            ]
           ],
           "sequentialminus": [
            [
             0,
             "#0d0887"
            ],
            [
             0.1111111111111111,
             "#46039f"
            ],
            [
             0.2222222222222222,
             "#7201a8"
            ],
            [
             0.3333333333333333,
             "#9c179e"
            ],
            [
             0.4444444444444444,
             "#bd3786"
            ],
            [
             0.5555555555555556,
             "#d8576b"
            ],
            [
             0.6666666666666666,
             "#ed7953"
            ],
            [
             0.7777777777777778,
             "#fb9f3a"
            ],
            [
             0.8888888888888888,
             "#fdca26"
            ],
            [
             1,
             "#f0f921"
            ]
           ]
          },
          "colorway": [
           "#636efa",
           "#EF553B",
           "#00cc96",
           "#ab63fa",
           "#FFA15A",
           "#19d3f3",
           "#FF6692",
           "#B6E880",
           "#FF97FF",
           "#FECB52"
          ],
          "font": {
           "color": "#2a3f5f"
          },
          "geo": {
           "bgcolor": "white",
           "lakecolor": "white",
           "landcolor": "#E5ECF6",
           "showlakes": true,
           "showland": true,
           "subunitcolor": "white"
          },
          "hoverlabel": {
           "align": "left"
          },
          "hovermode": "closest",
          "mapbox": {
           "style": "light"
          },
          "paper_bgcolor": "white",
          "plot_bgcolor": "#E5ECF6",
          "polar": {
           "angularaxis": {
            "gridcolor": "white",
            "linecolor": "white",
            "ticks": ""
           },
           "bgcolor": "#E5ECF6",
           "radialaxis": {
            "gridcolor": "white",
            "linecolor": "white",
            "ticks": ""
           }
          },
          "scene": {
           "xaxis": {
            "backgroundcolor": "#E5ECF6",
            "gridcolor": "white",
            "gridwidth": 2,
            "linecolor": "white",
            "showbackground": true,
            "ticks": "",
            "zerolinecolor": "white"
           },
           "yaxis": {
            "backgroundcolor": "#E5ECF6",
            "gridcolor": "white",
            "gridwidth": 2,
            "linecolor": "white",
            "showbackground": true,
            "ticks": "",
            "zerolinecolor": "white"
           },
           "zaxis": {
            "backgroundcolor": "#E5ECF6",
            "gridcolor": "white",
            "gridwidth": 2,
            "linecolor": "white",
            "showbackground": true,
            "ticks": "",
            "zerolinecolor": "white"
           }
          },
          "shapedefaults": {
           "line": {
            "color": "#2a3f5f"
           }
          },
          "ternary": {
           "aaxis": {
            "gridcolor": "white",
            "linecolor": "white",
            "ticks": ""
           },
           "baxis": {
            "gridcolor": "white",
            "linecolor": "white",
            "ticks": ""
           },
           "bgcolor": "#E5ECF6",
           "caxis": {
            "gridcolor": "white",
            "linecolor": "white",
            "ticks": ""
           }
          },
          "title": {
           "x": 0.05
          },
          "xaxis": {
           "automargin": true,
           "gridcolor": "white",
           "linecolor": "white",
           "ticks": "",
           "title": {
            "standoff": 15
           },
           "zerolinecolor": "white",
           "zerolinewidth": 2
          },
          "yaxis": {
           "automargin": true,
           "gridcolor": "white",
           "linecolor": "white",
           "ticks": "",
           "title": {
            "standoff": 15
           },
           "zerolinecolor": "white",
           "zerolinewidth": 2
          }
         }
        },
        "title": {
         "text": "3D UMAP Clusters - Agglomerative (complete, 7)"
        }
       }
      }
     },
     "metadata": {},
     "output_type": "display_data"
    },
    {
     "data": {
      "application/vnd.plotly.v1+json": {
       "config": {
        "plotlyServerURL": "https://plot.ly"
       },
       "data": [
        {
         "hoverinfo": "text",
         "marker": {
          "color": [
           "#636EFA",
           "#636EFA",
           "#EF553B",
           "#AB63FA",
           "#00CC96",
           "#636EFA",
           "#00CC96",
           "#00CC96",
           "#00CC96",
           "#FFA15A",
           "#636EFA",
           "#FF6692",
           "#636EFA",
           "#FF6692",
           "#B6E880",
           "#636EFA",
           "#19D3F3",
           "#636EFA",
           "#636EFA",
           "#00CC96",
           "#00CC96",
           "#B6E880",
           "#AB63FA",
           "#00CC96",
           "#00CC96",
           "#FF6692",
           "#19D3F3",
           "#636EFA",
           "#AB63FA",
           "#00CC96",
           "#AB63FA",
           "#636EFA",
           "#636EFA",
           "#636EFA",
           "#636EFA",
           "#00CC96",
           "#636EFA",
           "#00CC96",
           "#19D3F3",
           "#00CC96",
           "#636EFA",
           "#636EFA",
           "#FFA15A",
           "#FFA15A",
           "#00CC96",
           "#FF6692",
           "#19D3F3",
           "#636EFA",
           "#00CC96",
           "#636EFA",
           "#EF553B",
           "#FF6692",
           "#00CC96",
           "#EF553B",
           "#FFA15A",
           "#FFA15A",
           "#EF553B",
           "#636EFA",
           "#AB63FA",
           "#00CC96",
           "#FFA15A",
           "#FF6692",
           "#636EFA",
           "#636EFA",
           "#636EFA",
           "#EF553B",
           "#636EFA",
           "#EF553B",
           "#EF553B",
           "#636EFA",
           "#EF553B",
           "#FFA15A",
           "#AB63FA",
           "#FFA15A",
           "#AB63FA",
           "#636EFA",
           "#EF553B",
           "#636EFA",
           "#00CC96",
           "#636EFA",
           "#636EFA",
           "#FFA15A",
           "#00CC96",
           "#00CC96",
           "#00CC96",
           "#00CC96",
           "#00CC96",
           "#FF6692",
           "#00CC96",
           "#19D3F3",
           "#EF553B",
           "#AB63FA",
           "#FFA15A",
           "#EF553B",
           "#EF553B",
           "#00CC96",
           "#636EFA",
           "#00CC96",
           "#EF553B",
           "#EF553B",
           "#FFA15A",
           "#00CC96",
           "#19D3F3",
           "#FFA15A"
          ],
          "opacity": 0.8,
          "size": 5
         },
         "mode": "markers",
         "text": [
          "Cluster 0",
          "Cluster 0",
          "Cluster 1",
          "Cluster 3",
          "Cluster 2",
          "Cluster 0",
          "Cluster 2",
          "Cluster 2",
          "Cluster 2",
          "Cluster 4",
          "Cluster 0",
          "Cluster 6",
          "Cluster 0",
          "Cluster 6",
          "Cluster 7",
          "Cluster 0",
          "Cluster 5",
          "Cluster 0",
          "Cluster 0",
          "Cluster 2",
          "Cluster 2",
          "Cluster 7",
          "Cluster 3",
          "Cluster 2",
          "Cluster 2",
          "Cluster 6",
          "Cluster 5",
          "Cluster 0",
          "Cluster 3",
          "Cluster 2",
          "Cluster 3",
          "Cluster 0",
          "Cluster 0",
          "Cluster 0",
          "Cluster 0",
          "Cluster 2",
          "Cluster 0",
          "Cluster 2",
          "Cluster 5",
          "Cluster 2",
          "Cluster 0",
          "Cluster 0",
          "Cluster 4",
          "Cluster 4",
          "Cluster 2",
          "Cluster 6",
          "Cluster 5",
          "Cluster 0",
          "Cluster 2",
          "Cluster 0",
          "Cluster 1",
          "Cluster 6",
          "Cluster 2",
          "Cluster 1",
          "Cluster 4",
          "Cluster 4",
          "Cluster 1",
          "Cluster 0",
          "Cluster 3",
          "Cluster 2",
          "Cluster 4",
          "Cluster 6",
          "Cluster 0",
          "Cluster 0",
          "Cluster 0",
          "Cluster 1",
          "Cluster 0",
          "Cluster 1",
          "Cluster 1",
          "Cluster 0",
          "Cluster 1",
          "Cluster 4",
          "Cluster 3",
          "Cluster 4",
          "Cluster 3",
          "Cluster 0",
          "Cluster 1",
          "Cluster 0",
          "Cluster 2",
          "Cluster 0",
          "Cluster 0",
          "Cluster 4",
          "Cluster 2",
          "Cluster 2",
          "Cluster 2",
          "Cluster 2",
          "Cluster 2",
          "Cluster 6",
          "Cluster 2",
          "Cluster 5",
          "Cluster 1",
          "Cluster 3",
          "Cluster 4",
          "Cluster 1",
          "Cluster 1",
          "Cluster 2",
          "Cluster 0",
          "Cluster 2",
          "Cluster 1",
          "Cluster 1",
          "Cluster 4",
          "Cluster 2",
          "Cluster 5",
          "Cluster 4"
         ],
         "type": "scatter3d",
         "x": {
          "bdata": "x3vXQKnI20A235VArPM/QFGtWUBo/9BAAH6DQNqKd0BW4mVAjx7xQDMg3UAGnPlAy+rTQEcO+kBV0e9A0+LVQG5v3UBRl+ZAv4jQQNGmh0BKT2JAGk/tQChaVECPUHJAYWKKQPsM7UCkvd9Aj/3UQJNgdkAneFNANa1SQIPxz0AkJdpAXjrQQI1t20CF9YdA3JvHQIOckkAJh+hA/k1kQJkZ8UAMn9ZA1wv0QCxy9kC/CU1AdeT+QH1I7kAnvutA0QFyQGj15kB9e4JAQMP9QHY8gkAq5KNABX3+QNS8+0Ccr5lA2LvCQHLISkAZhnxA9V/6QG2V8kDdjslA8aLEQBq7xUAXvJtALfrZQCkdk0ArwqtArwHCQDRqsEB6z/lA/JVaQPia4EBDJjhADSXCQArRmUCyH8pAm9ZYQMD83UA4tOJA7Hf1QDoJd0D6TYdAsDWWQLFth0BiRpJAueb5QFaD+ECDM+hA5QWnQKGVfUCzifBAKleqQDwkqUAX3IlAV6zQQCF8g0DT/IlAsTyAQMUQ9kBlXolAhlLtQBoQ+kA=",
          "dtype": "f4"
         },
         "y": {
          "bdata": "bL5xQB2WeEBn4y5BzoorQQ6RNUEXsodAsF4sQZGfNkFn9y5BDvGgQGx8jkAFN6ZAtjx8QIVrqkB7FJtAuKp6QBk+UEDJb51A8NV1QEpqLEE0yi5BoAadQG56J0GBuDVBwFQoQR2urUD8o0RAkiaJQDWfKEEKojJBB9omQReBgECQh5xAGbeXQMWSkkAxnzBBut59QEiROUEWH1dAM8oxQU9Bk0CdEm5AwVmfQOM2mEB9nS9BVOKmQMRRZUB/E5BAzrA4QZAYkUCsxTRBfq2eQKcFL0Hjdi9BQZ6ZQEUQrUAKKjNBPnmXQJhNJ0GWYipBp5anQIxdskDzTpFAbueCQBv5kEAN8DZBBhWiQCqFK0EnTzRBs+uGQEMqMEFM4a9Acb8lQf8PlEBpHSpBVdCRQEzFKkFTootAd0kqQQRukECFgJNAUeOkQP77LUEJQTtBVCQrQS9oO0FXCzVBsH6uQDDfuUBEz0lAhfAsQZ6YKUFDCpxAYGIyQeKML0Gp/ClBDoN0QFsKOkHn0jRBk9s2QbtVnUC8DjhBfnFTQLdjmkA=",
          "dtype": "f4"
         },
         "z": {
          "bdata": "eyIGQd3SBEEwS8W/N/aivgCWqb6lbP1Af/yWv0xBjL8zgcO/xP7BQGUwBUHUmAhBY9wGQZw8BkFHCA9BPUHzQCFiBEHt+gxBkEIAQZ9j0b/D2O++ff0PQUO4b7+u+z+/QfXiv4t8C0FdbAJBIH7zQFHBR7+dcI2+6okWv3GmCUHXbAlBK3j8QJQLEEEr4yq/VD4DQeTiZL/bCQJB00KyvfSFCkF/CQpBUAvIQDynvUBRuNW+HKgEQRKuBkEXIBFBGppTv//+B0H88s6/hMf0QFJe/74G86W/CkLFQEULvEAIQIW/Sfj9QGNT0b7Nsq6/+rq8QNjABEEGKfNAhh4GQWqt+kBKPa+/ONkKQaMU478xnaK/zgv4QIe4sb8ye7lAEbiJv8ny7UCOebW+oczxQPpTwr+AswZBArC9v4dODUGqmw9ByAvCQDhv5b9uhBK/KFugv5OVeb/y3yq/p/oHQShftEDLDgZBvX6Vv+OpIr8XbspAt/rLv6wgmb9vOHW/oLj2QE5hnr+sUOO/x8LLv4Dov0DRZhW/U/cEQTaGt0A=",
          "dtype": "f4"
         }
        }
       ],
       "layout": {
        "margin": {
         "b": 0,
         "l": 0,
         "r": 0,
         "t": 30
        },
        "scene": {
         "xaxis": {
          "title": {
           "text": "UMAP Component 1"
          }
         },
         "yaxis": {
          "title": {
           "text": "UMAP Component 2"
          }
         },
         "zaxis": {
          "title": {
           "text": "UMAP Component 3"
          }
         }
        },
        "template": {
         "data": {
          "bar": [
           {
            "error_x": {
             "color": "#2a3f5f"
            },
            "error_y": {
             "color": "#2a3f5f"
            },
            "marker": {
             "line": {
              "color": "#E5ECF6",
              "width": 0.5
             },
             "pattern": {
              "fillmode": "overlay",
              "size": 10,
              "solidity": 0.2
             }
            },
            "type": "bar"
           }
          ],
          "barpolar": [
           {
            "marker": {
             "line": {
              "color": "#E5ECF6",
              "width": 0.5
             },
             "pattern": {
              "fillmode": "overlay",
              "size": 10,
              "solidity": 0.2
             }
            },
            "type": "barpolar"
           }
          ],
          "carpet": [
           {
            "aaxis": {
             "endlinecolor": "#2a3f5f",
             "gridcolor": "white",
             "linecolor": "white",
             "minorgridcolor": "white",
             "startlinecolor": "#2a3f5f"
            },
            "baxis": {
             "endlinecolor": "#2a3f5f",
             "gridcolor": "white",
             "linecolor": "white",
             "minorgridcolor": "white",
             "startlinecolor": "#2a3f5f"
            },
            "type": "carpet"
           }
          ],
          "choropleth": [
           {
            "colorbar": {
             "outlinewidth": 0,
             "ticks": ""
            },
            "type": "choropleth"
           }
          ],
          "contour": [
           {
            "colorbar": {
             "outlinewidth": 0,
             "ticks": ""
            },
            "colorscale": [
             [
              0,
              "#0d0887"
             ],
             [
              0.1111111111111111,
              "#46039f"
             ],
             [
              0.2222222222222222,
              "#7201a8"
             ],
             [
              0.3333333333333333,
              "#9c179e"
             ],
             [
              0.4444444444444444,
              "#bd3786"
             ],
             [
              0.5555555555555556,
              "#d8576b"
             ],
             [
              0.6666666666666666,
              "#ed7953"
             ],
             [
              0.7777777777777778,
              "#fb9f3a"
             ],
             [
              0.8888888888888888,
              "#fdca26"
             ],
             [
              1,
              "#f0f921"
             ]
            ],
            "type": "contour"
           }
          ],
          "contourcarpet": [
           {
            "colorbar": {
             "outlinewidth": 0,
             "ticks": ""
            },
            "type": "contourcarpet"
           }
          ],
          "heatmap": [
           {
            "colorbar": {
             "outlinewidth": 0,
             "ticks": ""
            },
            "colorscale": [
             [
              0,
              "#0d0887"
             ],
             [
              0.1111111111111111,
              "#46039f"
             ],
             [
              0.2222222222222222,
              "#7201a8"
             ],
             [
              0.3333333333333333,
              "#9c179e"
             ],
             [
              0.4444444444444444,
              "#bd3786"
             ],
             [
              0.5555555555555556,
              "#d8576b"
             ],
             [
              0.6666666666666666,
              "#ed7953"
             ],
             [
              0.7777777777777778,
              "#fb9f3a"
             ],
             [
              0.8888888888888888,
              "#fdca26"
             ],
             [
              1,
              "#f0f921"
             ]
            ],
            "type": "heatmap"
           }
          ],
          "histogram": [
           {
            "marker": {
             "pattern": {
              "fillmode": "overlay",
              "size": 10,
              "solidity": 0.2
             }
            },
            "type": "histogram"
           }
          ],
          "histogram2d": [
           {
            "colorbar": {
             "outlinewidth": 0,
             "ticks": ""
            },
            "colorscale": [
             [
              0,
              "#0d0887"
             ],
             [
              0.1111111111111111,
              "#46039f"
             ],
             [
              0.2222222222222222,
              "#7201a8"
             ],
             [
              0.3333333333333333,
              "#9c179e"
             ],
             [
              0.4444444444444444,
              "#bd3786"
             ],
             [
              0.5555555555555556,
              "#d8576b"
             ],
             [
              0.6666666666666666,
              "#ed7953"
             ],
             [
              0.7777777777777778,
              "#fb9f3a"
             ],
             [
              0.8888888888888888,
              "#fdca26"
             ],
             [
              1,
              "#f0f921"
             ]
            ],
            "type": "histogram2d"
           }
          ],
          "histogram2dcontour": [
           {
            "colorbar": {
             "outlinewidth": 0,
             "ticks": ""
            },
            "colorscale": [
             [
              0,
              "#0d0887"
             ],
             [
              0.1111111111111111,
              "#46039f"
             ],
             [
              0.2222222222222222,
              "#7201a8"
             ],
             [
              0.3333333333333333,
              "#9c179e"
             ],
             [
              0.4444444444444444,
              "#bd3786"
             ],
             [
              0.5555555555555556,
              "#d8576b"
             ],
             [
              0.6666666666666666,
              "#ed7953"
             ],
             [
              0.7777777777777778,
              "#fb9f3a"
             ],
             [
              0.8888888888888888,
              "#fdca26"
             ],
             [
              1,
              "#f0f921"
             ]
            ],
            "type": "histogram2dcontour"
           }
          ],
          "mesh3d": [
           {
            "colorbar": {
             "outlinewidth": 0,
             "ticks": ""
            },
            "type": "mesh3d"
           }
          ],
          "parcoords": [
           {
            "line": {
             "colorbar": {
              "outlinewidth": 0,
              "ticks": ""
             }
            },
            "type": "parcoords"
           }
          ],
          "pie": [
           {
            "automargin": true,
            "type": "pie"
           }
          ],
          "scatter": [
           {
            "fillpattern": {
             "fillmode": "overlay",
             "size": 10,
             "solidity": 0.2
            },
            "type": "scatter"
           }
          ],
          "scatter3d": [
           {
            "line": {
             "colorbar": {
              "outlinewidth": 0,
              "ticks": ""
             }
            },
            "marker": {
             "colorbar": {
              "outlinewidth": 0,
              "ticks": ""
             }
            },
            "type": "scatter3d"
           }
          ],
          "scattercarpet": [
           {
            "marker": {
             "colorbar": {
              "outlinewidth": 0,
              "ticks": ""
             }
            },
            "type": "scattercarpet"
           }
          ],
          "scattergeo": [
           {
            "marker": {
             "colorbar": {
              "outlinewidth": 0,
              "ticks": ""
             }
            },
            "type": "scattergeo"
           }
          ],
          "scattergl": [
           {
            "marker": {
             "colorbar": {
              "outlinewidth": 0,
              "ticks": ""
             }
            },
            "type": "scattergl"
           }
          ],
          "scattermap": [
           {
            "marker": {
             "colorbar": {
              "outlinewidth": 0,
              "ticks": ""
             }
            },
            "type": "scattermap"
           }
          ],
          "scattermapbox": [
           {
            "marker": {
             "colorbar": {
              "outlinewidth": 0,
              "ticks": ""
             }
            },
            "type": "scattermapbox"
           }
          ],
          "scatterpolar": [
           {
            "marker": {
             "colorbar": {
              "outlinewidth": 0,
              "ticks": ""
             }
            },
            "type": "scatterpolar"
           }
          ],
          "scatterpolargl": [
           {
            "marker": {
             "colorbar": {
              "outlinewidth": 0,
              "ticks": ""
             }
            },
            "type": "scatterpolargl"
           }
          ],
          "scatterternary": [
           {
            "marker": {
             "colorbar": {
              "outlinewidth": 0,
              "ticks": ""
             }
            },
            "type": "scatterternary"
           }
          ],
          "surface": [
           {
            "colorbar": {
             "outlinewidth": 0,
             "ticks": ""
            },
            "colorscale": [
             [
              0,
              "#0d0887"
             ],
             [
              0.1111111111111111,
              "#46039f"
             ],
             [
              0.2222222222222222,
              "#7201a8"
             ],
             [
              0.3333333333333333,
              "#9c179e"
             ],
             [
              0.4444444444444444,
              "#bd3786"
             ],
             [
              0.5555555555555556,
              "#d8576b"
             ],
             [
              0.6666666666666666,
              "#ed7953"
             ],
             [
              0.7777777777777778,
              "#fb9f3a"
             ],
             [
              0.8888888888888888,
              "#fdca26"
             ],
             [
              1,
              "#f0f921"
             ]
            ],
            "type": "surface"
           }
          ],
          "table": [
           {
            "cells": {
             "fill": {
              "color": "#EBF0F8"
             },
             "line": {
              "color": "white"
             }
            },
            "header": {
             "fill": {
              "color": "#C8D4E3"
             },
             "line": {
              "color": "white"
             }
            },
            "type": "table"
           }
          ]
         },
         "layout": {
          "annotationdefaults": {
           "arrowcolor": "#2a3f5f",
           "arrowhead": 0,
           "arrowwidth": 1
          },
          "autotypenumbers": "strict",
          "coloraxis": {
           "colorbar": {
            "outlinewidth": 0,
            "ticks": ""
           }
          },
          "colorscale": {
           "diverging": [
            [
             0,
             "#8e0152"
            ],
            [
             0.1,
             "#c51b7d"
            ],
            [
             0.2,
             "#de77ae"
            ],
            [
             0.3,
             "#f1b6da"
            ],
            [
             0.4,
             "#fde0ef"
            ],
            [
             0.5,
             "#f7f7f7"
            ],
            [
             0.6,
             "#e6f5d0"
            ],
            [
             0.7,
             "#b8e186"
            ],
            [
             0.8,
             "#7fbc41"
            ],
            [
             0.9,
             "#4d9221"
            ],
            [
             1,
             "#276419"
            ]
           ],
           "sequential": [
            [
             0,
             "#0d0887"
            ],
            [
             0.1111111111111111,
             "#46039f"
            ],
            [
             0.2222222222222222,
             "#7201a8"
            ],
            [
             0.3333333333333333,
             "#9c179e"
            ],
            [
             0.4444444444444444,
             "#bd3786"
            ],
            [
             0.5555555555555556,
             "#d8576b"
            ],
            [
             0.6666666666666666,
             "#ed7953"
            ],
            [
             0.7777777777777778,
             "#fb9f3a"
            ],
            [
             0.8888888888888888,
             "#fdca26"
            ],
            [
             1,
             "#f0f921"
            ]
           ],
           "sequentialminus": [
            [
             0,
             "#0d0887"
            ],
            [
             0.1111111111111111,
             "#46039f"
            ],
            [
             0.2222222222222222,
             "#7201a8"
            ],
            [
             0.3333333333333333,
             "#9c179e"
            ],
            [
             0.4444444444444444,
             "#bd3786"
            ],
            [
             0.5555555555555556,
             "#d8576b"
            ],
            [
             0.6666666666666666,
             "#ed7953"
            ],
            [
             0.7777777777777778,
             "#fb9f3a"
            ],
            [
             0.8888888888888888,
             "#fdca26"
            ],
            [
             1,
             "#f0f921"
            ]
           ]
          },
          "colorway": [
           "#636efa",
           "#EF553B",
           "#00cc96",
           "#ab63fa",
           "#FFA15A",
           "#19d3f3",
           "#FF6692",
           "#B6E880",
           "#FF97FF",
           "#FECB52"
          ],
          "font": {
           "color": "#2a3f5f"
          },
          "geo": {
           "bgcolor": "white",
           "lakecolor": "white",
           "landcolor": "#E5ECF6",
           "showlakes": true,
           "showland": true,
           "subunitcolor": "white"
          },
          "hoverlabel": {
           "align": "left"
          },
          "hovermode": "closest",
          "mapbox": {
           "style": "light"
          },
          "paper_bgcolor": "white",
          "plot_bgcolor": "#E5ECF6",
          "polar": {
           "angularaxis": {
            "gridcolor": "white",
            "linecolor": "white",
            "ticks": ""
           },
           "bgcolor": "#E5ECF6",
           "radialaxis": {
            "gridcolor": "white",
            "linecolor": "white",
            "ticks": ""
           }
          },
          "scene": {
           "xaxis": {
            "backgroundcolor": "#E5ECF6",
            "gridcolor": "white",
            "gridwidth": 2,
            "linecolor": "white",
            "showbackground": true,
            "ticks": "",
            "zerolinecolor": "white"
           },
           "yaxis": {
            "backgroundcolor": "#E5ECF6",
            "gridcolor": "white",
            "gridwidth": 2,
            "linecolor": "white",
            "showbackground": true,
            "ticks": "",
            "zerolinecolor": "white"
           },
           "zaxis": {
            "backgroundcolor": "#E5ECF6",
            "gridcolor": "white",
            "gridwidth": 2,
            "linecolor": "white",
            "showbackground": true,
            "ticks": "",
            "zerolinecolor": "white"
           }
          },
          "shapedefaults": {
           "line": {
            "color": "#2a3f5f"
           }
          },
          "ternary": {
           "aaxis": {
            "gridcolor": "white",
            "linecolor": "white",
            "ticks": ""
           },
           "baxis": {
            "gridcolor": "white",
            "linecolor": "white",
            "ticks": ""
           },
           "bgcolor": "#E5ECF6",
           "caxis": {
            "gridcolor": "white",
            "linecolor": "white",
            "ticks": ""
           }
          },
          "title": {
           "x": 0.05
          },
          "xaxis": {
           "automargin": true,
           "gridcolor": "white",
           "linecolor": "white",
           "ticks": "",
           "title": {
            "standoff": 15
           },
           "zerolinecolor": "white",
           "zerolinewidth": 2
          },
          "yaxis": {
           "automargin": true,
           "gridcolor": "white",
           "linecolor": "white",
           "ticks": "",
           "title": {
            "standoff": 15
           },
           "zerolinecolor": "white",
           "zerolinewidth": 2
          }
         }
        },
        "title": {
         "text": "3D UMAP Clusters - Agglomerative (complete, 8)"
        }
       }
      }
     },
     "metadata": {},
     "output_type": "display_data"
    },
    {
     "data": {
      "application/vnd.plotly.v1+json": {
       "config": {
        "plotlyServerURL": "https://plot.ly"
       },
       "data": [
        {
         "hoverinfo": "text",
         "marker": {
          "color": [
           "#EF553B",
           "#EF553B",
           "#AB63FA",
           "#636EFA",
           "#636EFA",
           "#EF553B",
           "#636EFA",
           "#636EFA",
           "#636EFA",
           "#00CC96",
           "#EF553B",
           "#EF553B",
           "#EF553B",
           "#EF553B",
           "#EF553B",
           "#EF553B",
           "#FFA15A",
           "#EF553B",
           "#EF553B",
           "#636EFA",
           "#636EFA",
           "#EF553B",
           "#636EFA",
           "#636EFA",
           "#636EFA",
           "#EF553B",
           "#FFA15A",
           "#EF553B",
           "#636EFA",
           "#636EFA",
           "#636EFA",
           "#EF553B",
           "#EF553B",
           "#EF553B",
           "#EF553B",
           "#636EFA",
           "#EF553B",
           "#636EFA",
           "#FFA15A",
           "#636EFA",
           "#EF553B",
           "#EF553B",
           "#EF553B",
           "#00CC96",
           "#636EFA",
           "#EF553B",
           "#FFA15A",
           "#EF553B",
           "#636EFA",
           "#EF553B",
           "#636EFA",
           "#AB63FA",
           "#636EFA",
           "#AB63FA",
           "#00CC96",
           "#00CC96",
           "#AB63FA",
           "#EF553B",
           "#636EFA",
           "#636EFA",
           "#00CC96",
           "#EF553B",
           "#EF553B",
           "#EF553B",
           "#EF553B",
           "#AB63FA",
           "#EF553B",
           "#AB63FA",
           "#AB63FA",
           "#EF553B",
           "#AB63FA",
           "#00CC96",
           "#636EFA",
           "#00CC96",
           "#636EFA",
           "#EF553B",
           "#AB63FA",
           "#EF553B",
           "#00CC96",
           "#EF553B",
           "#EF553B",
           "#00CC96",
           "#636EFA",
           "#AB63FA",
           "#636EFA",
           "#AB63FA",
           "#636EFA",
           "#EF553B",
           "#00CC96",
           "#FFA15A",
           "#AB63FA",
           "#636EFA",
           "#00CC96",
           "#AB63FA",
           "#AB63FA",
           "#636EFA",
           "#EF553B",
           "#636EFA",
           "#636EFA",
           "#636EFA",
           "#00CC96",
           "#636EFA",
           "#FFA15A",
           "#00CC96"
          ],
          "opacity": 0.8,
          "size": 5
         },
         "mode": "markers",
         "text": [
          "Cluster 1",
          "Cluster 1",
          "Cluster 3",
          "Cluster 0",
          "Cluster 0",
          "Cluster 1",
          "Cluster 0",
          "Cluster 0",
          "Cluster 0",
          "Cluster 2",
          "Cluster 1",
          "Cluster 1",
          "Cluster 1",
          "Cluster 1",
          "Cluster 1",
          "Cluster 1",
          "Cluster 4",
          "Cluster 1",
          "Cluster 1",
          "Cluster 0",
          "Cluster 0",
          "Cluster 1",
          "Cluster 0",
          "Cluster 0",
          "Cluster 0",
          "Cluster 1",
          "Cluster 4",
          "Cluster 1",
          "Cluster 0",
          "Cluster 0",
          "Cluster 0",
          "Cluster 1",
          "Cluster 1",
          "Cluster 1",
          "Cluster 1",
          "Cluster 0",
          "Cluster 1",
          "Cluster 0",
          "Cluster 4",
          "Cluster 0",
          "Cluster 1",
          "Cluster 1",
          "Cluster 1",
          "Cluster 2",
          "Cluster 0",
          "Cluster 1",
          "Cluster 4",
          "Cluster 1",
          "Cluster 0",
          "Cluster 1",
          "Cluster 0",
          "Cluster 3",
          "Cluster 0",
          "Cluster 3",
          "Cluster 2",
          "Cluster 2",
          "Cluster 3",
          "Cluster 1",
          "Cluster 0",
          "Cluster 0",
          "Cluster 2",
          "Cluster 1",
          "Cluster 1",
          "Cluster 1",
          "Cluster 1",
          "Cluster 3",
          "Cluster 1",
          "Cluster 3",
          "Cluster 3",
          "Cluster 1",
          "Cluster 3",
          "Cluster 2",
          "Cluster 0",
          "Cluster 2",
          "Cluster 0",
          "Cluster 1",
          "Cluster 3",
          "Cluster 1",
          "Cluster 2",
          "Cluster 1",
          "Cluster 1",
          "Cluster 2",
          "Cluster 0",
          "Cluster 3",
          "Cluster 0",
          "Cluster 3",
          "Cluster 0",
          "Cluster 1",
          "Cluster 2",
          "Cluster 4",
          "Cluster 3",
          "Cluster 0",
          "Cluster 2",
          "Cluster 3",
          "Cluster 3",
          "Cluster 0",
          "Cluster 1",
          "Cluster 0",
          "Cluster 0",
          "Cluster 0",
          "Cluster 2",
          "Cluster 0",
          "Cluster 4",
          "Cluster 2"
         ],
         "type": "scatter3d",
         "x": {
          "bdata": "x3vXQKnI20A235VArPM/QFGtWUBo/9BAAH6DQNqKd0BW4mVAjx7xQDMg3UAGnPlAy+rTQEcO+kBV0e9A0+LVQG5v3UBRl+ZAv4jQQNGmh0BKT2JAGk/tQChaVECPUHJAYWKKQPsM7UCkvd9Aj/3UQJNgdkAneFNANa1SQIPxz0AkJdpAXjrQQI1t20CF9YdA3JvHQIOckkAJh+hA/k1kQJkZ8UAMn9ZA1wv0QCxy9kC/CU1AdeT+QH1I7kAnvutA0QFyQGj15kB9e4JAQMP9QHY8gkAq5KNABX3+QNS8+0Ccr5lA2LvCQHLISkAZhnxA9V/6QG2V8kDdjslA8aLEQBq7xUAXvJtALfrZQCkdk0ArwqtArwHCQDRqsEB6z/lA/JVaQPia4EBDJjhADSXCQArRmUCyH8pAm9ZYQMD83UA4tOJA7Hf1QDoJd0D6TYdAsDWWQLFth0BiRpJAueb5QFaD+ECDM+hA5QWnQKGVfUCzifBAKleqQDwkqUAX3IlAV6zQQCF8g0DT/IlAsTyAQMUQ9kBlXolAhlLtQBoQ+kA=",
          "dtype": "f4"
         },
         "y": {
          "bdata": "bL5xQB2WeEBn4y5BzoorQQ6RNUEXsodAsF4sQZGfNkFn9y5BDvGgQGx8jkAFN6ZAtjx8QIVrqkB7FJtAuKp6QBk+UEDJb51A8NV1QEpqLEE0yi5BoAadQG56J0GBuDVBwFQoQR2urUD8o0RAkiaJQDWfKEEKojJBB9omQReBgECQh5xAGbeXQMWSkkAxnzBBut59QEiROUEWH1dAM8oxQU9Bk0CdEm5AwVmfQOM2mEB9nS9BVOKmQMRRZUB/E5BAzrA4QZAYkUCsxTRBfq2eQKcFL0Hjdi9BQZ6ZQEUQrUAKKjNBPnmXQJhNJ0GWYipBp5anQIxdskDzTpFAbueCQBv5kEAN8DZBBhWiQCqFK0EnTzRBs+uGQEMqMEFM4a9Acb8lQf8PlEBpHSpBVdCRQEzFKkFTootAd0kqQQRukECFgJNAUeOkQP77LUEJQTtBVCQrQS9oO0FXCzVBsH6uQDDfuUBEz0lAhfAsQZ6YKUFDCpxAYGIyQeKML0Gp/ClBDoN0QFsKOkHn0jRBk9s2QbtVnUC8DjhBfnFTQLdjmkA=",
          "dtype": "f4"
         },
         "z": {
          "bdata": "eyIGQd3SBEEwS8W/N/aivgCWqb6lbP1Af/yWv0xBjL8zgcO/xP7BQGUwBUHUmAhBY9wGQZw8BkFHCA9BPUHzQCFiBEHt+gxBkEIAQZ9j0b/D2O++ff0PQUO4b7+u+z+/QfXiv4t8C0FdbAJBIH7zQFHBR7+dcI2+6okWv3GmCUHXbAlBK3j8QJQLEEEr4yq/VD4DQeTiZL/bCQJB00KyvfSFCkF/CQpBUAvIQDynvUBRuNW+HKgEQRKuBkEXIBFBGppTv//+B0H88s6/hMf0QFJe/74G86W/CkLFQEULvEAIQIW/Sfj9QGNT0b7Nsq6/+rq8QNjABEEGKfNAhh4GQWqt+kBKPa+/ONkKQaMU478xnaK/zgv4QIe4sb8ye7lAEbiJv8ny7UCOebW+oczxQPpTwr+AswZBArC9v4dODUGqmw9ByAvCQDhv5b9uhBK/KFugv5OVeb/y3yq/p/oHQShftEDLDgZBvX6Vv+OpIr8XbspAt/rLv6wgmb9vOHW/oLj2QE5hnr+sUOO/x8LLv4Dov0DRZhW/U/cEQTaGt0A=",
          "dtype": "f4"
         }
        }
       ],
       "layout": {
        "margin": {
         "b": 0,
         "l": 0,
         "r": 0,
         "t": 30
        },
        "scene": {
         "xaxis": {
          "title": {
           "text": "UMAP Component 1"
          }
         },
         "yaxis": {
          "title": {
           "text": "UMAP Component 2"
          }
         },
         "zaxis": {
          "title": {
           "text": "UMAP Component 3"
          }
         }
        },
        "template": {
         "data": {
          "bar": [
           {
            "error_x": {
             "color": "#2a3f5f"
            },
            "error_y": {
             "color": "#2a3f5f"
            },
            "marker": {
             "line": {
              "color": "#E5ECF6",
              "width": 0.5
             },
             "pattern": {
              "fillmode": "overlay",
              "size": 10,
              "solidity": 0.2
             }
            },
            "type": "bar"
           }
          ],
          "barpolar": [
           {
            "marker": {
             "line": {
              "color": "#E5ECF6",
              "width": 0.5
             },
             "pattern": {
              "fillmode": "overlay",
              "size": 10,
              "solidity": 0.2
             }
            },
            "type": "barpolar"
           }
          ],
          "carpet": [
           {
            "aaxis": {
             "endlinecolor": "#2a3f5f",
             "gridcolor": "white",
             "linecolor": "white",
             "minorgridcolor": "white",
             "startlinecolor": "#2a3f5f"
            },
            "baxis": {
             "endlinecolor": "#2a3f5f",
             "gridcolor": "white",
             "linecolor": "white",
             "minorgridcolor": "white",
             "startlinecolor": "#2a3f5f"
            },
            "type": "carpet"
           }
          ],
          "choropleth": [
           {
            "colorbar": {
             "outlinewidth": 0,
             "ticks": ""
            },
            "type": "choropleth"
           }
          ],
          "contour": [
           {
            "colorbar": {
             "outlinewidth": 0,
             "ticks": ""
            },
            "colorscale": [
             [
              0,
              "#0d0887"
             ],
             [
              0.1111111111111111,
              "#46039f"
             ],
             [
              0.2222222222222222,
              "#7201a8"
             ],
             [
              0.3333333333333333,
              "#9c179e"
             ],
             [
              0.4444444444444444,
              "#bd3786"
             ],
             [
              0.5555555555555556,
              "#d8576b"
             ],
             [
              0.6666666666666666,
              "#ed7953"
             ],
             [
              0.7777777777777778,
              "#fb9f3a"
             ],
             [
              0.8888888888888888,
              "#fdca26"
             ],
             [
              1,
              "#f0f921"
             ]
            ],
            "type": "contour"
           }
          ],
          "contourcarpet": [
           {
            "colorbar": {
             "outlinewidth": 0,
             "ticks": ""
            },
            "type": "contourcarpet"
           }
          ],
          "heatmap": [
           {
            "colorbar": {
             "outlinewidth": 0,
             "ticks": ""
            },
            "colorscale": [
             [
              0,
              "#0d0887"
             ],
             [
              0.1111111111111111,
              "#46039f"
             ],
             [
              0.2222222222222222,
              "#7201a8"
             ],
             [
              0.3333333333333333,
              "#9c179e"
             ],
             [
              0.4444444444444444,
              "#bd3786"
             ],
             [
              0.5555555555555556,
              "#d8576b"
             ],
             [
              0.6666666666666666,
              "#ed7953"
             ],
             [
              0.7777777777777778,
              "#fb9f3a"
             ],
             [
              0.8888888888888888,
              "#fdca26"
             ],
             [
              1,
              "#f0f921"
             ]
            ],
            "type": "heatmap"
           }
          ],
          "histogram": [
           {
            "marker": {
             "pattern": {
              "fillmode": "overlay",
              "size": 10,
              "solidity": 0.2
             }
            },
            "type": "histogram"
           }
          ],
          "histogram2d": [
           {
            "colorbar": {
             "outlinewidth": 0,
             "ticks": ""
            },
            "colorscale": [
             [
              0,
              "#0d0887"
             ],
             [
              0.1111111111111111,
              "#46039f"
             ],
             [
              0.2222222222222222,
              "#7201a8"
             ],
             [
              0.3333333333333333,
              "#9c179e"
             ],
             [
              0.4444444444444444,
              "#bd3786"
             ],
             [
              0.5555555555555556,
              "#d8576b"
             ],
             [
              0.6666666666666666,
              "#ed7953"
             ],
             [
              0.7777777777777778,
              "#fb9f3a"
             ],
             [
              0.8888888888888888,
              "#fdca26"
             ],
             [
              1,
              "#f0f921"
             ]
            ],
            "type": "histogram2d"
           }
          ],
          "histogram2dcontour": [
           {
            "colorbar": {
             "outlinewidth": 0,
             "ticks": ""
            },
            "colorscale": [
             [
              0,
              "#0d0887"
             ],
             [
              0.1111111111111111,
              "#46039f"
             ],
             [
              0.2222222222222222,
              "#7201a8"
             ],
             [
              0.3333333333333333,
              "#9c179e"
             ],
             [
              0.4444444444444444,
              "#bd3786"
             ],
             [
              0.5555555555555556,
              "#d8576b"
             ],
             [
              0.6666666666666666,
              "#ed7953"
             ],
             [
              0.7777777777777778,
              "#fb9f3a"
             ],
             [
              0.8888888888888888,
              "#fdca26"
             ],
             [
              1,
              "#f0f921"
             ]
            ],
            "type": "histogram2dcontour"
           }
          ],
          "mesh3d": [
           {
            "colorbar": {
             "outlinewidth": 0,
             "ticks": ""
            },
            "type": "mesh3d"
           }
          ],
          "parcoords": [
           {
            "line": {
             "colorbar": {
              "outlinewidth": 0,
              "ticks": ""
             }
            },
            "type": "parcoords"
           }
          ],
          "pie": [
           {
            "automargin": true,
            "type": "pie"
           }
          ],
          "scatter": [
           {
            "fillpattern": {
             "fillmode": "overlay",
             "size": 10,
             "solidity": 0.2
            },
            "type": "scatter"
           }
          ],
          "scatter3d": [
           {
            "line": {
             "colorbar": {
              "outlinewidth": 0,
              "ticks": ""
             }
            },
            "marker": {
             "colorbar": {
              "outlinewidth": 0,
              "ticks": ""
             }
            },
            "type": "scatter3d"
           }
          ],
          "scattercarpet": [
           {
            "marker": {
             "colorbar": {
              "outlinewidth": 0,
              "ticks": ""
             }
            },
            "type": "scattercarpet"
           }
          ],
          "scattergeo": [
           {
            "marker": {
             "colorbar": {
              "outlinewidth": 0,
              "ticks": ""
             }
            },
            "type": "scattergeo"
           }
          ],
          "scattergl": [
           {
            "marker": {
             "colorbar": {
              "outlinewidth": 0,
              "ticks": ""
             }
            },
            "type": "scattergl"
           }
          ],
          "scattermap": [
           {
            "marker": {
             "colorbar": {
              "outlinewidth": 0,
              "ticks": ""
             }
            },
            "type": "scattermap"
           }
          ],
          "scattermapbox": [
           {
            "marker": {
             "colorbar": {
              "outlinewidth": 0,
              "ticks": ""
             }
            },
            "type": "scattermapbox"
           }
          ],
          "scatterpolar": [
           {
            "marker": {
             "colorbar": {
              "outlinewidth": 0,
              "ticks": ""
             }
            },
            "type": "scatterpolar"
           }
          ],
          "scatterpolargl": [
           {
            "marker": {
             "colorbar": {
              "outlinewidth": 0,
              "ticks": ""
             }
            },
            "type": "scatterpolargl"
           }
          ],
          "scatterternary": [
           {
            "marker": {
             "colorbar": {
              "outlinewidth": 0,
              "ticks": ""
             }
            },
            "type": "scatterternary"
           }
          ],
          "surface": [
           {
            "colorbar": {
             "outlinewidth": 0,
             "ticks": ""
            },
            "colorscale": [
             [
              0,
              "#0d0887"
             ],
             [
              0.1111111111111111,
              "#46039f"
             ],
             [
              0.2222222222222222,
              "#7201a8"
             ],
             [
              0.3333333333333333,
              "#9c179e"
             ],
             [
              0.4444444444444444,
              "#bd3786"
             ],
             [
              0.5555555555555556,
              "#d8576b"
             ],
             [
              0.6666666666666666,
              "#ed7953"
             ],
             [
              0.7777777777777778,
              "#fb9f3a"
             ],
             [
              0.8888888888888888,
              "#fdca26"
             ],
             [
              1,
              "#f0f921"
             ]
            ],
            "type": "surface"
           }
          ],
          "table": [
           {
            "cells": {
             "fill": {
              "color": "#EBF0F8"
             },
             "line": {
              "color": "white"
             }
            },
            "header": {
             "fill": {
              "color": "#C8D4E3"
             },
             "line": {
              "color": "white"
             }
            },
            "type": "table"
           }
          ]
         },
         "layout": {
          "annotationdefaults": {
           "arrowcolor": "#2a3f5f",
           "arrowhead": 0,
           "arrowwidth": 1
          },
          "autotypenumbers": "strict",
          "coloraxis": {
           "colorbar": {
            "outlinewidth": 0,
            "ticks": ""
           }
          },
          "colorscale": {
           "diverging": [
            [
             0,
             "#8e0152"
            ],
            [
             0.1,
             "#c51b7d"
            ],
            [
             0.2,
             "#de77ae"
            ],
            [
             0.3,
             "#f1b6da"
            ],
            [
             0.4,
             "#fde0ef"
            ],
            [
             0.5,
             "#f7f7f7"
            ],
            [
             0.6,
             "#e6f5d0"
            ],
            [
             0.7,
             "#b8e186"
            ],
            [
             0.8,
             "#7fbc41"
            ],
            [
             0.9,
             "#4d9221"
            ],
            [
             1,
             "#276419"
            ]
           ],
           "sequential": [
            [
             0,
             "#0d0887"
            ],
            [
             0.1111111111111111,
             "#46039f"
            ],
            [
             0.2222222222222222,
             "#7201a8"
            ],
            [
             0.3333333333333333,
             "#9c179e"
            ],
            [
             0.4444444444444444,
             "#bd3786"
            ],
            [
             0.5555555555555556,
             "#d8576b"
            ],
            [
             0.6666666666666666,
             "#ed7953"
            ],
            [
             0.7777777777777778,
             "#fb9f3a"
            ],
            [
             0.8888888888888888,
             "#fdca26"
            ],
            [
             1,
             "#f0f921"
            ]
           ],
           "sequentialminus": [
            [
             0,
             "#0d0887"
            ],
            [
             0.1111111111111111,
             "#46039f"
            ],
            [
             0.2222222222222222,
             "#7201a8"
            ],
            [
             0.3333333333333333,
             "#9c179e"
            ],
            [
             0.4444444444444444,
             "#bd3786"
            ],
            [
             0.5555555555555556,
             "#d8576b"
            ],
            [
             0.6666666666666666,
             "#ed7953"
            ],
            [
             0.7777777777777778,
             "#fb9f3a"
            ],
            [
             0.8888888888888888,
             "#fdca26"
            ],
            [
             1,
             "#f0f921"
            ]
           ]
          },
          "colorway": [
           "#636efa",
           "#EF553B",
           "#00cc96",
           "#ab63fa",
           "#FFA15A",
           "#19d3f3",
           "#FF6692",
           "#B6E880",
           "#FF97FF",
           "#FECB52"
          ],
          "font": {
           "color": "#2a3f5f"
          },
          "geo": {
           "bgcolor": "white",
           "lakecolor": "white",
           "landcolor": "#E5ECF6",
           "showlakes": true,
           "showland": true,
           "subunitcolor": "white"
          },
          "hoverlabel": {
           "align": "left"
          },
          "hovermode": "closest",
          "mapbox": {
           "style": "light"
          },
          "paper_bgcolor": "white",
          "plot_bgcolor": "#E5ECF6",
          "polar": {
           "angularaxis": {
            "gridcolor": "white",
            "linecolor": "white",
            "ticks": ""
           },
           "bgcolor": "#E5ECF6",
           "radialaxis": {
            "gridcolor": "white",
            "linecolor": "white",
            "ticks": ""
           }
          },
          "scene": {
           "xaxis": {
            "backgroundcolor": "#E5ECF6",
            "gridcolor": "white",
            "gridwidth": 2,
            "linecolor": "white",
            "showbackground": true,
            "ticks": "",
            "zerolinecolor": "white"
           },
           "yaxis": {
            "backgroundcolor": "#E5ECF6",
            "gridcolor": "white",
            "gridwidth": 2,
            "linecolor": "white",
            "showbackground": true,
            "ticks": "",
            "zerolinecolor": "white"
           },
           "zaxis": {
            "backgroundcolor": "#E5ECF6",
            "gridcolor": "white",
            "gridwidth": 2,
            "linecolor": "white",
            "showbackground": true,
            "ticks": "",
            "zerolinecolor": "white"
           }
          },
          "shapedefaults": {
           "line": {
            "color": "#2a3f5f"
           }
          },
          "ternary": {
           "aaxis": {
            "gridcolor": "white",
            "linecolor": "white",
            "ticks": ""
           },
           "baxis": {
            "gridcolor": "white",
            "linecolor": "white",
            "ticks": ""
           },
           "bgcolor": "#E5ECF6",
           "caxis": {
            "gridcolor": "white",
            "linecolor": "white",
            "ticks": ""
           }
          },
          "title": {
           "x": 0.05
          },
          "xaxis": {
           "automargin": true,
           "gridcolor": "white",
           "linecolor": "white",
           "ticks": "",
           "title": {
            "standoff": 15
           },
           "zerolinecolor": "white",
           "zerolinewidth": 2
          },
          "yaxis": {
           "automargin": true,
           "gridcolor": "white",
           "linecolor": "white",
           "ticks": "",
           "title": {
            "standoff": 15
           },
           "zerolinecolor": "white",
           "zerolinewidth": 2
          }
         }
        },
        "title": {
         "text": "3D UMAP Clusters - Agglomerative (ward, 5)"
        }
       }
      }
     },
     "metadata": {},
     "output_type": "display_data"
    },
    {
     "data": {
      "application/vnd.plotly.v1+json": {
       "config": {
        "plotlyServerURL": "https://plot.ly"
       },
       "data": [
        {
         "hoverinfo": "text",
         "marker": {
          "color": [
           "#00CC96",
           "#00CC96",
           "#EF553B",
           "#EF553B",
           "#EF553B",
           "#00CC96",
           "#EF553B",
           "#EF553B",
           "#EF553B",
           "#AB63FA",
           "#00CC96",
           "#00CC96",
           "#00CC96",
           "#00CC96",
           "#00CC96",
           "#00CC96",
           "#636EFA",
           "#00CC96",
           "#00CC96",
           "#EF553B",
           "#EF553B",
           "#00CC96",
           "#EF553B",
           "#EF553B",
           "#EF553B",
           "#00CC96",
           "#636EFA",
           "#00CC96",
           "#EF553B",
           "#EF553B",
           "#EF553B",
           "#00CC96",
           "#00CC96",
           "#00CC96",
           "#00CC96",
           "#EF553B",
           "#00CC96",
           "#EF553B",
           "#636EFA",
           "#EF553B",
           "#00CC96",
           "#00CC96",
           "#AB63FA",
           "#AB63FA",
           "#EF553B",
           "#00CC96",
           "#636EFA",
           "#00CC96",
           "#EF553B",
           "#00CC96",
           "#EF553B",
           "#00CC96",
           "#EF553B",
           "#EF553B",
           "#AB63FA",
           "#AB63FA",
           "#EF553B",
           "#00CC96",
           "#EF553B",
           "#EF553B",
           "#AB63FA",
           "#00CC96",
           "#00CC96",
           "#00CC96",
           "#00CC96",
           "#636EFA",
           "#00CC96",
           "#EF553B",
           "#EF553B",
           "#00CC96",
           "#EF553B",
           "#AB63FA",
           "#EF553B",
           "#00CC96",
           "#EF553B",
           "#00CC96",
           "#EF553B",
           "#00CC96",
           "#EF553B",
           "#00CC96",
           "#00CC96",
           "#AB63FA",
           "#EF553B",
           "#EF553B",
           "#EF553B",
           "#EF553B",
           "#EF553B",
           "#00CC96",
           "#AB63FA",
           "#636EFA",
           "#EF553B",
           "#EF553B",
           "#AB63FA",
           "#EF553B",
           "#EF553B",
           "#EF553B",
           "#00CC96",
           "#EF553B",
           "#EF553B",
           "#EF553B",
           "#AB63FA",
           "#EF553B",
           "#636EFA",
           "#AB63FA"
          ],
          "opacity": 0.8,
          "size": 5
         },
         "mode": "markers",
         "text": [
          "Cluster 2",
          "Cluster 2",
          "Cluster 1",
          "Cluster 1",
          "Cluster 1",
          "Cluster 2",
          "Cluster 1",
          "Cluster 1",
          "Cluster 1",
          "Cluster 3",
          "Cluster 2",
          "Cluster 2",
          "Cluster 2",
          "Cluster 2",
          "Cluster 2",
          "Cluster 2",
          "Cluster 0",
          "Cluster 2",
          "Cluster 2",
          "Cluster 1",
          "Cluster 1",
          "Cluster 2",
          "Cluster 1",
          "Cluster 1",
          "Cluster 1",
          "Cluster 2",
          "Cluster 0",
          "Cluster 2",
          "Cluster 1",
          "Cluster 1",
          "Cluster 1",
          "Cluster 2",
          "Cluster 2",
          "Cluster 2",
          "Cluster 2",
          "Cluster 1",
          "Cluster 2",
          "Cluster 1",
          "Cluster 0",
          "Cluster 1",
          "Cluster 2",
          "Cluster 2",
          "Cluster 3",
          "Cluster 3",
          "Cluster 1",
          "Cluster 2",
          "Cluster 0",
          "Cluster 2",
          "Cluster 1",
          "Cluster 2",
          "Cluster 1",
          "Cluster 2",
          "Cluster 1",
          "Cluster 1",
          "Cluster 3",
          "Cluster 3",
          "Cluster 1",
          "Cluster 2",
          "Cluster 1",
          "Cluster 1",
          "Cluster 3",
          "Cluster 2",
          "Cluster 2",
          "Cluster 2",
          "Cluster 2",
          "Cluster 0",
          "Cluster 2",
          "Cluster 1",
          "Cluster 1",
          "Cluster 2",
          "Cluster 1",
          "Cluster 3",
          "Cluster 1",
          "Cluster 2",
          "Cluster 1",
          "Cluster 2",
          "Cluster 1",
          "Cluster 2",
          "Cluster 1",
          "Cluster 2",
          "Cluster 2",
          "Cluster 3",
          "Cluster 1",
          "Cluster 1",
          "Cluster 1",
          "Cluster 1",
          "Cluster 1",
          "Cluster 2",
          "Cluster 3",
          "Cluster 0",
          "Cluster 1",
          "Cluster 1",
          "Cluster 3",
          "Cluster 1",
          "Cluster 1",
          "Cluster 1",
          "Cluster 2",
          "Cluster 1",
          "Cluster 1",
          "Cluster 1",
          "Cluster 3",
          "Cluster 1",
          "Cluster 0",
          "Cluster 3"
         ],
         "type": "scatter3d",
         "x": {
          "bdata": "x3vXQKnI20A235VArPM/QFGtWUBo/9BAAH6DQNqKd0BW4mVAjx7xQDMg3UAGnPlAy+rTQEcO+kBV0e9A0+LVQG5v3UBRl+ZAv4jQQNGmh0BKT2JAGk/tQChaVECPUHJAYWKKQPsM7UCkvd9Aj/3UQJNgdkAneFNANa1SQIPxz0AkJdpAXjrQQI1t20CF9YdA3JvHQIOckkAJh+hA/k1kQJkZ8UAMn9ZA1wv0QCxy9kC/CU1AdeT+QH1I7kAnvutA0QFyQGj15kB9e4JAQMP9QHY8gkAq5KNABX3+QNS8+0Ccr5lA2LvCQHLISkAZhnxA9V/6QG2V8kDdjslA8aLEQBq7xUAXvJtALfrZQCkdk0ArwqtArwHCQDRqsEB6z/lA/JVaQPia4EBDJjhADSXCQArRmUCyH8pAm9ZYQMD83UA4tOJA7Hf1QDoJd0D6TYdAsDWWQLFth0BiRpJAueb5QFaD+ECDM+hA5QWnQKGVfUCzifBAKleqQDwkqUAX3IlAV6zQQCF8g0DT/IlAsTyAQMUQ9kBlXolAhlLtQBoQ+kA=",
          "dtype": "f4"
         },
         "y": {
          "bdata": "bL5xQB2WeEBn4y5BzoorQQ6RNUEXsodAsF4sQZGfNkFn9y5BDvGgQGx8jkAFN6ZAtjx8QIVrqkB7FJtAuKp6QBk+UEDJb51A8NV1QEpqLEE0yi5BoAadQG56J0GBuDVBwFQoQR2urUD8o0RAkiaJQDWfKEEKojJBB9omQReBgECQh5xAGbeXQMWSkkAxnzBBut59QEiROUEWH1dAM8oxQU9Bk0CdEm5AwVmfQOM2mEB9nS9BVOKmQMRRZUB/E5BAzrA4QZAYkUCsxTRBfq2eQKcFL0Hjdi9BQZ6ZQEUQrUAKKjNBPnmXQJhNJ0GWYipBp5anQIxdskDzTpFAbueCQBv5kEAN8DZBBhWiQCqFK0EnTzRBs+uGQEMqMEFM4a9Acb8lQf8PlEBpHSpBVdCRQEzFKkFTootAd0kqQQRukECFgJNAUeOkQP77LUEJQTtBVCQrQS9oO0FXCzVBsH6uQDDfuUBEz0lAhfAsQZ6YKUFDCpxAYGIyQeKML0Gp/ClBDoN0QFsKOkHn0jRBk9s2QbtVnUC8DjhBfnFTQLdjmkA=",
          "dtype": "f4"
         },
         "z": {
          "bdata": "eyIGQd3SBEEwS8W/N/aivgCWqb6lbP1Af/yWv0xBjL8zgcO/xP7BQGUwBUHUmAhBY9wGQZw8BkFHCA9BPUHzQCFiBEHt+gxBkEIAQZ9j0b/D2O++ff0PQUO4b7+u+z+/QfXiv4t8C0FdbAJBIH7zQFHBR7+dcI2+6okWv3GmCUHXbAlBK3j8QJQLEEEr4yq/VD4DQeTiZL/bCQJB00KyvfSFCkF/CQpBUAvIQDynvUBRuNW+HKgEQRKuBkEXIBFBGppTv//+B0H88s6/hMf0QFJe/74G86W/CkLFQEULvEAIQIW/Sfj9QGNT0b7Nsq6/+rq8QNjABEEGKfNAhh4GQWqt+kBKPa+/ONkKQaMU478xnaK/zgv4QIe4sb8ye7lAEbiJv8ny7UCOebW+oczxQPpTwr+AswZBArC9v4dODUGqmw9ByAvCQDhv5b9uhBK/KFugv5OVeb/y3yq/p/oHQShftEDLDgZBvX6Vv+OpIr8XbspAt/rLv6wgmb9vOHW/oLj2QE5hnr+sUOO/x8LLv4Dov0DRZhW/U/cEQTaGt0A=",
          "dtype": "f4"
         }
        }
       ],
       "layout": {
        "margin": {
         "b": 0,
         "l": 0,
         "r": 0,
         "t": 30
        },
        "scene": {
         "xaxis": {
          "title": {
           "text": "UMAP Component 1"
          }
         },
         "yaxis": {
          "title": {
           "text": "UMAP Component 2"
          }
         },
         "zaxis": {
          "title": {
           "text": "UMAP Component 3"
          }
         }
        },
        "template": {
         "data": {
          "bar": [
           {
            "error_x": {
             "color": "#2a3f5f"
            },
            "error_y": {
             "color": "#2a3f5f"
            },
            "marker": {
             "line": {
              "color": "#E5ECF6",
              "width": 0.5
             },
             "pattern": {
              "fillmode": "overlay",
              "size": 10,
              "solidity": 0.2
             }
            },
            "type": "bar"
           }
          ],
          "barpolar": [
           {
            "marker": {
             "line": {
              "color": "#E5ECF6",
              "width": 0.5
             },
             "pattern": {
              "fillmode": "overlay",
              "size": 10,
              "solidity": 0.2
             }
            },
            "type": "barpolar"
           }
          ],
          "carpet": [
           {
            "aaxis": {
             "endlinecolor": "#2a3f5f",
             "gridcolor": "white",
             "linecolor": "white",
             "minorgridcolor": "white",
             "startlinecolor": "#2a3f5f"
            },
            "baxis": {
             "endlinecolor": "#2a3f5f",
             "gridcolor": "white",
             "linecolor": "white",
             "minorgridcolor": "white",
             "startlinecolor": "#2a3f5f"
            },
            "type": "carpet"
           }
          ],
          "choropleth": [
           {
            "colorbar": {
             "outlinewidth": 0,
             "ticks": ""
            },
            "type": "choropleth"
           }
          ],
          "contour": [
           {
            "colorbar": {
             "outlinewidth": 0,
             "ticks": ""
            },
            "colorscale": [
             [
              0,
              "#0d0887"
             ],
             [
              0.1111111111111111,
              "#46039f"
             ],
             [
              0.2222222222222222,
              "#7201a8"
             ],
             [
              0.3333333333333333,
              "#9c179e"
             ],
             [
              0.4444444444444444,
              "#bd3786"
             ],
             [
              0.5555555555555556,
              "#d8576b"
             ],
             [
              0.6666666666666666,
              "#ed7953"
             ],
             [
              0.7777777777777778,
              "#fb9f3a"
             ],
             [
              0.8888888888888888,
              "#fdca26"
             ],
             [
              1,
              "#f0f921"
             ]
            ],
            "type": "contour"
           }
          ],
          "contourcarpet": [
           {
            "colorbar": {
             "outlinewidth": 0,
             "ticks": ""
            },
            "type": "contourcarpet"
           }
          ],
          "heatmap": [
           {
            "colorbar": {
             "outlinewidth": 0,
             "ticks": ""
            },
            "colorscale": [
             [
              0,
              "#0d0887"
             ],
             [
              0.1111111111111111,
              "#46039f"
             ],
             [
              0.2222222222222222,
              "#7201a8"
             ],
             [
              0.3333333333333333,
              "#9c179e"
             ],
             [
              0.4444444444444444,
              "#bd3786"
             ],
             [
              0.5555555555555556,
              "#d8576b"
             ],
             [
              0.6666666666666666,
              "#ed7953"
             ],
             [
              0.7777777777777778,
              "#fb9f3a"
             ],
             [
              0.8888888888888888,
              "#fdca26"
             ],
             [
              1,
              "#f0f921"
             ]
            ],
            "type": "heatmap"
           }
          ],
          "histogram": [
           {
            "marker": {
             "pattern": {
              "fillmode": "overlay",
              "size": 10,
              "solidity": 0.2
             }
            },
            "type": "histogram"
           }
          ],
          "histogram2d": [
           {
            "colorbar": {
             "outlinewidth": 0,
             "ticks": ""
            },
            "colorscale": [
             [
              0,
              "#0d0887"
             ],
             [
              0.1111111111111111,
              "#46039f"
             ],
             [
              0.2222222222222222,
              "#7201a8"
             ],
             [
              0.3333333333333333,
              "#9c179e"
             ],
             [
              0.4444444444444444,
              "#bd3786"
             ],
             [
              0.5555555555555556,
              "#d8576b"
             ],
             [
              0.6666666666666666,
              "#ed7953"
             ],
             [
              0.7777777777777778,
              "#fb9f3a"
             ],
             [
              0.8888888888888888,
              "#fdca26"
             ],
             [
              1,
              "#f0f921"
             ]
            ],
            "type": "histogram2d"
           }
          ],
          "histogram2dcontour": [
           {
            "colorbar": {
             "outlinewidth": 0,
             "ticks": ""
            },
            "colorscale": [
             [
              0,
              "#0d0887"
             ],
             [
              0.1111111111111111,
              "#46039f"
             ],
             [
              0.2222222222222222,
              "#7201a8"
             ],
             [
              0.3333333333333333,
              "#9c179e"
             ],
             [
              0.4444444444444444,
              "#bd3786"
             ],
             [
              0.5555555555555556,
              "#d8576b"
             ],
             [
              0.6666666666666666,
              "#ed7953"
             ],
             [
              0.7777777777777778,
              "#fb9f3a"
             ],
             [
              0.8888888888888888,
              "#fdca26"
             ],
             [
              1,
              "#f0f921"
             ]
            ],
            "type": "histogram2dcontour"
           }
          ],
          "mesh3d": [
           {
            "colorbar": {
             "outlinewidth": 0,
             "ticks": ""
            },
            "type": "mesh3d"
           }
          ],
          "parcoords": [
           {
            "line": {
             "colorbar": {
              "outlinewidth": 0,
              "ticks": ""
             }
            },
            "type": "parcoords"
           }
          ],
          "pie": [
           {
            "automargin": true,
            "type": "pie"
           }
          ],
          "scatter": [
           {
            "fillpattern": {
             "fillmode": "overlay",
             "size": 10,
             "solidity": 0.2
            },
            "type": "scatter"
           }
          ],
          "scatter3d": [
           {
            "line": {
             "colorbar": {
              "outlinewidth": 0,
              "ticks": ""
             }
            },
            "marker": {
             "colorbar": {
              "outlinewidth": 0,
              "ticks": ""
             }
            },
            "type": "scatter3d"
           }
          ],
          "scattercarpet": [
           {
            "marker": {
             "colorbar": {
              "outlinewidth": 0,
              "ticks": ""
             }
            },
            "type": "scattercarpet"
           }
          ],
          "scattergeo": [
           {
            "marker": {
             "colorbar": {
              "outlinewidth": 0,
              "ticks": ""
             }
            },
            "type": "scattergeo"
           }
          ],
          "scattergl": [
           {
            "marker": {
             "colorbar": {
              "outlinewidth": 0,
              "ticks": ""
             }
            },
            "type": "scattergl"
           }
          ],
          "scattermap": [
           {
            "marker": {
             "colorbar": {
              "outlinewidth": 0,
              "ticks": ""
             }
            },
            "type": "scattermap"
           }
          ],
          "scattermapbox": [
           {
            "marker": {
             "colorbar": {
              "outlinewidth": 0,
              "ticks": ""
             }
            },
            "type": "scattermapbox"
           }
          ],
          "scatterpolar": [
           {
            "marker": {
             "colorbar": {
              "outlinewidth": 0,
              "ticks": ""
             }
            },
            "type": "scatterpolar"
           }
          ],
          "scatterpolargl": [
           {
            "marker": {
             "colorbar": {
              "outlinewidth": 0,
              "ticks": ""
             }
            },
            "type": "scatterpolargl"
           }
          ],
          "scatterternary": [
           {
            "marker": {
             "colorbar": {
              "outlinewidth": 0,
              "ticks": ""
             }
            },
            "type": "scatterternary"
           }
          ],
          "surface": [
           {
            "colorbar": {
             "outlinewidth": 0,
             "ticks": ""
            },
            "colorscale": [
             [
              0,
              "#0d0887"
             ],
             [
              0.1111111111111111,
              "#46039f"
             ],
             [
              0.2222222222222222,
              "#7201a8"
             ],
             [
              0.3333333333333333,
              "#9c179e"
             ],
             [
              0.4444444444444444,
              "#bd3786"
             ],
             [
              0.5555555555555556,
              "#d8576b"
             ],
             [
              0.6666666666666666,
              "#ed7953"
             ],
             [
              0.7777777777777778,
              "#fb9f3a"
             ],
             [
              0.8888888888888888,
              "#fdca26"
             ],
             [
              1,
              "#f0f921"
             ]
            ],
            "type": "surface"
           }
          ],
          "table": [
           {
            "cells": {
             "fill": {
              "color": "#EBF0F8"
             },
             "line": {
              "color": "white"
             }
            },
            "header": {
             "fill": {
              "color": "#C8D4E3"
             },
             "line": {
              "color": "white"
             }
            },
            "type": "table"
           }
          ]
         },
         "layout": {
          "annotationdefaults": {
           "arrowcolor": "#2a3f5f",
           "arrowhead": 0,
           "arrowwidth": 1
          },
          "autotypenumbers": "strict",
          "coloraxis": {
           "colorbar": {
            "outlinewidth": 0,
            "ticks": ""
           }
          },
          "colorscale": {
           "diverging": [
            [
             0,
             "#8e0152"
            ],
            [
             0.1,
             "#c51b7d"
            ],
            [
             0.2,
             "#de77ae"
            ],
            [
             0.3,
             "#f1b6da"
            ],
            [
             0.4,
             "#fde0ef"
            ],
            [
             0.5,
             "#f7f7f7"
            ],
            [
             0.6,
             "#e6f5d0"
            ],
            [
             0.7,
             "#b8e186"
            ],
            [
             0.8,
             "#7fbc41"
            ],
            [
             0.9,
             "#4d9221"
            ],
            [
             1,
             "#276419"
            ]
           ],
           "sequential": [
            [
             0,
             "#0d0887"
            ],
            [
             0.1111111111111111,
             "#46039f"
            ],
            [
             0.2222222222222222,
             "#7201a8"
            ],
            [
             0.3333333333333333,
             "#9c179e"
            ],
            [
             0.4444444444444444,
             "#bd3786"
            ],
            [
             0.5555555555555556,
             "#d8576b"
            ],
            [
             0.6666666666666666,
             "#ed7953"
            ],
            [
             0.7777777777777778,
             "#fb9f3a"
            ],
            [
             0.8888888888888888,
             "#fdca26"
            ],
            [
             1,
             "#f0f921"
            ]
           ],
           "sequentialminus": [
            [
             0,
             "#0d0887"
            ],
            [
             0.1111111111111111,
             "#46039f"
            ],
            [
             0.2222222222222222,
             "#7201a8"
            ],
            [
             0.3333333333333333,
             "#9c179e"
            ],
            [
             0.4444444444444444,
             "#bd3786"
            ],
            [
             0.5555555555555556,
             "#d8576b"
            ],
            [
             0.6666666666666666,
             "#ed7953"
            ],
            [
             0.7777777777777778,
             "#fb9f3a"
            ],
            [
             0.8888888888888888,
             "#fdca26"
            ],
            [
             1,
             "#f0f921"
            ]
           ]
          },
          "colorway": [
           "#636efa",
           "#EF553B",
           "#00cc96",
           "#ab63fa",
           "#FFA15A",
           "#19d3f3",
           "#FF6692",
           "#B6E880",
           "#FF97FF",
           "#FECB52"
          ],
          "font": {
           "color": "#2a3f5f"
          },
          "geo": {
           "bgcolor": "white",
           "lakecolor": "white",
           "landcolor": "#E5ECF6",
           "showlakes": true,
           "showland": true,
           "subunitcolor": "white"
          },
          "hoverlabel": {
           "align": "left"
          },
          "hovermode": "closest",
          "mapbox": {
           "style": "light"
          },
          "paper_bgcolor": "white",
          "plot_bgcolor": "#E5ECF6",
          "polar": {
           "angularaxis": {
            "gridcolor": "white",
            "linecolor": "white",
            "ticks": ""
           },
           "bgcolor": "#E5ECF6",
           "radialaxis": {
            "gridcolor": "white",
            "linecolor": "white",
            "ticks": ""
           }
          },
          "scene": {
           "xaxis": {
            "backgroundcolor": "#E5ECF6",
            "gridcolor": "white",
            "gridwidth": 2,
            "linecolor": "white",
            "showbackground": true,
            "ticks": "",
            "zerolinecolor": "white"
           },
           "yaxis": {
            "backgroundcolor": "#E5ECF6",
            "gridcolor": "white",
            "gridwidth": 2,
            "linecolor": "white",
            "showbackground": true,
            "ticks": "",
            "zerolinecolor": "white"
           },
           "zaxis": {
            "backgroundcolor": "#E5ECF6",
            "gridcolor": "white",
            "gridwidth": 2,
            "linecolor": "white",
            "showbackground": true,
            "ticks": "",
            "zerolinecolor": "white"
           }
          },
          "shapedefaults": {
           "line": {
            "color": "#2a3f5f"
           }
          },
          "ternary": {
           "aaxis": {
            "gridcolor": "white",
            "linecolor": "white",
            "ticks": ""
           },
           "baxis": {
            "gridcolor": "white",
            "linecolor": "white",
            "ticks": ""
           },
           "bgcolor": "#E5ECF6",
           "caxis": {
            "gridcolor": "white",
            "linecolor": "white",
            "ticks": ""
           }
          },
          "title": {
           "x": 0.05
          },
          "xaxis": {
           "automargin": true,
           "gridcolor": "white",
           "linecolor": "white",
           "ticks": "",
           "title": {
            "standoff": 15
           },
           "zerolinecolor": "white",
           "zerolinewidth": 2
          },
          "yaxis": {
           "automargin": true,
           "gridcolor": "white",
           "linecolor": "white",
           "ticks": "",
           "title": {
            "standoff": 15
           },
           "zerolinecolor": "white",
           "zerolinewidth": 2
          }
         }
        },
        "title": {
         "text": "3D UMAP Clusters - KMeans (k=4)"
        }
       }
      }
     },
     "metadata": {},
     "output_type": "display_data"
    },
    {
     "data": {
      "application/vnd.plotly.v1+json": {
       "config": {
        "plotlyServerURL": "https://plot.ly"
       },
       "data": [
        {
         "hoverinfo": "text",
         "marker": {
          "color": [
           "#00CC96",
           "#00CC96",
           "#EF553B",
           "#EF553B",
           "#EF553B",
           "#00CC96",
           "#EF553B",
           "#EF553B",
           "#EF553B",
           "#AB63FA",
           "#FFA15A",
           "#FFA15A",
           "#00CC96",
           "#FFA15A",
           "#FFA15A",
           "#00CC96",
           "#636EFA",
           "#FFA15A",
           "#00CC96",
           "#EF553B",
           "#EF553B",
           "#FFA15A",
           "#EF553B",
           "#EF553B",
           "#EF553B",
           "#FFA15A",
           "#636EFA",
           "#00CC96",
           "#EF553B",
           "#EF553B",
           "#EF553B",
           "#00CC96",
           "#FFA15A",
           "#FFA15A",
           "#FFA15A",
           "#EF553B",
           "#00CC96",
           "#EF553B",
           "#636EFA",
           "#EF553B",
           "#FFA15A",
           "#00CC96",
           "#AB63FA",
           "#AB63FA",
           "#EF553B",
           "#FFA15A",
           "#636EFA",
           "#FFA15A",
           "#EF553B",
           "#FFA15A",
           "#EF553B",
           "#00CC96",
           "#EF553B",
           "#19D3F3",
           "#AB63FA",
           "#AB63FA",
           "#EF553B",
           "#00CC96",
           "#EF553B",
           "#EF553B",
           "#AB63FA",
           "#FFA15A",
           "#00CC96",
           "#00CC96",
           "#00CC96",
           "#19D3F3",
           "#FFA15A",
           "#EF553B",
           "#19D3F3",
           "#00CC96",
           "#19D3F3",
           "#AB63FA",
           "#EF553B",
           "#00CC96",
           "#EF553B",
           "#00CC96",
           "#EF553B",
           "#FFA15A",
           "#EF553B",
           "#FFA15A",
           "#FFA15A",
           "#AB63FA",
           "#EF553B",
           "#EF553B",
           "#EF553B",
           "#EF553B",
           "#EF553B",
           "#FFA15A",
           "#AB63FA",
           "#636EFA",
           "#19D3F3",
           "#EF553B",
           "#AB63FA",
           "#19D3F3",
           "#19D3F3",
           "#EF553B",
           "#00CC96",
           "#EF553B",
           "#EF553B",
           "#EF553B",
           "#AB63FA",
           "#EF553B",
           "#636EFA",
           "#AB63FA"
          ],
          "opacity": 0.8,
          "size": 5
         },
         "mode": "markers",
         "text": [
          "Cluster 2",
          "Cluster 2",
          "Cluster 1",
          "Cluster 1",
          "Cluster 1",
          "Cluster 2",
          "Cluster 1",
          "Cluster 1",
          "Cluster 1",
          "Cluster 3",
          "Cluster 4",
          "Cluster 4",
          "Cluster 2",
          "Cluster 4",
          "Cluster 4",
          "Cluster 2",
          "Cluster 0",
          "Cluster 4",
          "Cluster 2",
          "Cluster 1",
          "Cluster 1",
          "Cluster 4",
          "Cluster 1",
          "Cluster 1",
          "Cluster 1",
          "Cluster 4",
          "Cluster 0",
          "Cluster 2",
          "Cluster 1",
          "Cluster 1",
          "Cluster 1",
          "Cluster 2",
          "Cluster 4",
          "Cluster 4",
          "Cluster 4",
          "Cluster 1",
          "Cluster 2",
          "Cluster 1",
          "Cluster 0",
          "Cluster 1",
          "Cluster 4",
          "Cluster 2",
          "Cluster 3",
          "Cluster 3",
          "Cluster 1",
          "Cluster 4",
          "Cluster 0",
          "Cluster 4",
          "Cluster 1",
          "Cluster 4",
          "Cluster 1",
          "Cluster 2",
          "Cluster 1",
          "Cluster 5",
          "Cluster 3",
          "Cluster 3",
          "Cluster 1",
          "Cluster 2",
          "Cluster 1",
          "Cluster 1",
          "Cluster 3",
          "Cluster 4",
          "Cluster 2",
          "Cluster 2",
          "Cluster 2",
          "Cluster 5",
          "Cluster 4",
          "Cluster 1",
          "Cluster 5",
          "Cluster 2",
          "Cluster 5",
          "Cluster 3",
          "Cluster 1",
          "Cluster 2",
          "Cluster 1",
          "Cluster 2",
          "Cluster 1",
          "Cluster 4",
          "Cluster 1",
          "Cluster 4",
          "Cluster 4",
          "Cluster 3",
          "Cluster 1",
          "Cluster 1",
          "Cluster 1",
          "Cluster 1",
          "Cluster 1",
          "Cluster 4",
          "Cluster 3",
          "Cluster 0",
          "Cluster 5",
          "Cluster 1",
          "Cluster 3",
          "Cluster 5",
          "Cluster 5",
          "Cluster 1",
          "Cluster 2",
          "Cluster 1",
          "Cluster 1",
          "Cluster 1",
          "Cluster 3",
          "Cluster 1",
          "Cluster 0",
          "Cluster 3"
         ],
         "type": "scatter3d",
         "x": {
          "bdata": "x3vXQKnI20A235VArPM/QFGtWUBo/9BAAH6DQNqKd0BW4mVAjx7xQDMg3UAGnPlAy+rTQEcO+kBV0e9A0+LVQG5v3UBRl+ZAv4jQQNGmh0BKT2JAGk/tQChaVECPUHJAYWKKQPsM7UCkvd9Aj/3UQJNgdkAneFNANa1SQIPxz0AkJdpAXjrQQI1t20CF9YdA3JvHQIOckkAJh+hA/k1kQJkZ8UAMn9ZA1wv0QCxy9kC/CU1AdeT+QH1I7kAnvutA0QFyQGj15kB9e4JAQMP9QHY8gkAq5KNABX3+QNS8+0Ccr5lA2LvCQHLISkAZhnxA9V/6QG2V8kDdjslA8aLEQBq7xUAXvJtALfrZQCkdk0ArwqtArwHCQDRqsEB6z/lA/JVaQPia4EBDJjhADSXCQArRmUCyH8pAm9ZYQMD83UA4tOJA7Hf1QDoJd0D6TYdAsDWWQLFth0BiRpJAueb5QFaD+ECDM+hA5QWnQKGVfUCzifBAKleqQDwkqUAX3IlAV6zQQCF8g0DT/IlAsTyAQMUQ9kBlXolAhlLtQBoQ+kA=",
          "dtype": "f4"
         },
         "y": {
          "bdata": "bL5xQB2WeEBn4y5BzoorQQ6RNUEXsodAsF4sQZGfNkFn9y5BDvGgQGx8jkAFN6ZAtjx8QIVrqkB7FJtAuKp6QBk+UEDJb51A8NV1QEpqLEE0yi5BoAadQG56J0GBuDVBwFQoQR2urUD8o0RAkiaJQDWfKEEKojJBB9omQReBgECQh5xAGbeXQMWSkkAxnzBBut59QEiROUEWH1dAM8oxQU9Bk0CdEm5AwVmfQOM2mEB9nS9BVOKmQMRRZUB/E5BAzrA4QZAYkUCsxTRBfq2eQKcFL0Hjdi9BQZ6ZQEUQrUAKKjNBPnmXQJhNJ0GWYipBp5anQIxdskDzTpFAbueCQBv5kEAN8DZBBhWiQCqFK0EnTzRBs+uGQEMqMEFM4a9Acb8lQf8PlEBpHSpBVdCRQEzFKkFTootAd0kqQQRukECFgJNAUeOkQP77LUEJQTtBVCQrQS9oO0FXCzVBsH6uQDDfuUBEz0lAhfAsQZ6YKUFDCpxAYGIyQeKML0Gp/ClBDoN0QFsKOkHn0jRBk9s2QbtVnUC8DjhBfnFTQLdjmkA=",
          "dtype": "f4"
         },
         "z": {
          "bdata": "eyIGQd3SBEEwS8W/N/aivgCWqb6lbP1Af/yWv0xBjL8zgcO/xP7BQGUwBUHUmAhBY9wGQZw8BkFHCA9BPUHzQCFiBEHt+gxBkEIAQZ9j0b/D2O++ff0PQUO4b7+u+z+/QfXiv4t8C0FdbAJBIH7zQFHBR7+dcI2+6okWv3GmCUHXbAlBK3j8QJQLEEEr4yq/VD4DQeTiZL/bCQJB00KyvfSFCkF/CQpBUAvIQDynvUBRuNW+HKgEQRKuBkEXIBFBGppTv//+B0H88s6/hMf0QFJe/74G86W/CkLFQEULvEAIQIW/Sfj9QGNT0b7Nsq6/+rq8QNjABEEGKfNAhh4GQWqt+kBKPa+/ONkKQaMU478xnaK/zgv4QIe4sb8ye7lAEbiJv8ny7UCOebW+oczxQPpTwr+AswZBArC9v4dODUGqmw9ByAvCQDhv5b9uhBK/KFugv5OVeb/y3yq/p/oHQShftEDLDgZBvX6Vv+OpIr8XbspAt/rLv6wgmb9vOHW/oLj2QE5hnr+sUOO/x8LLv4Dov0DRZhW/U/cEQTaGt0A=",
          "dtype": "f4"
         }
        }
       ],
       "layout": {
        "margin": {
         "b": 0,
         "l": 0,
         "r": 0,
         "t": 30
        },
        "scene": {
         "xaxis": {
          "title": {
           "text": "UMAP Component 1"
          }
         },
         "yaxis": {
          "title": {
           "text": "UMAP Component 2"
          }
         },
         "zaxis": {
          "title": {
           "text": "UMAP Component 3"
          }
         }
        },
        "template": {
         "data": {
          "bar": [
           {
            "error_x": {
             "color": "#2a3f5f"
            },
            "error_y": {
             "color": "#2a3f5f"
            },
            "marker": {
             "line": {
              "color": "#E5ECF6",
              "width": 0.5
             },
             "pattern": {
              "fillmode": "overlay",
              "size": 10,
              "solidity": 0.2
             }
            },
            "type": "bar"
           }
          ],
          "barpolar": [
           {
            "marker": {
             "line": {
              "color": "#E5ECF6",
              "width": 0.5
             },
             "pattern": {
              "fillmode": "overlay",
              "size": 10,
              "solidity": 0.2
             }
            },
            "type": "barpolar"
           }
          ],
          "carpet": [
           {
            "aaxis": {
             "endlinecolor": "#2a3f5f",
             "gridcolor": "white",
             "linecolor": "white",
             "minorgridcolor": "white",
             "startlinecolor": "#2a3f5f"
            },
            "baxis": {
             "endlinecolor": "#2a3f5f",
             "gridcolor": "white",
             "linecolor": "white",
             "minorgridcolor": "white",
             "startlinecolor": "#2a3f5f"
            },
            "type": "carpet"
           }
          ],
          "choropleth": [
           {
            "colorbar": {
             "outlinewidth": 0,
             "ticks": ""
            },
            "type": "choropleth"
           }
          ],
          "contour": [
           {
            "colorbar": {
             "outlinewidth": 0,
             "ticks": ""
            },
            "colorscale": [
             [
              0,
              "#0d0887"
             ],
             [
              0.1111111111111111,
              "#46039f"
             ],
             [
              0.2222222222222222,
              "#7201a8"
             ],
             [
              0.3333333333333333,
              "#9c179e"
             ],
             [
              0.4444444444444444,
              "#bd3786"
             ],
             [
              0.5555555555555556,
              "#d8576b"
             ],
             [
              0.6666666666666666,
              "#ed7953"
             ],
             [
              0.7777777777777778,
              "#fb9f3a"
             ],
             [
              0.8888888888888888,
              "#fdca26"
             ],
             [
              1,
              "#f0f921"
             ]
            ],
            "type": "contour"
           }
          ],
          "contourcarpet": [
           {
            "colorbar": {
             "outlinewidth": 0,
             "ticks": ""
            },
            "type": "contourcarpet"
           }
          ],
          "heatmap": [
           {
            "colorbar": {
             "outlinewidth": 0,
             "ticks": ""
            },
            "colorscale": [
             [
              0,
              "#0d0887"
             ],
             [
              0.1111111111111111,
              "#46039f"
             ],
             [
              0.2222222222222222,
              "#7201a8"
             ],
             [
              0.3333333333333333,
              "#9c179e"
             ],
             [
              0.4444444444444444,
              "#bd3786"
             ],
             [
              0.5555555555555556,
              "#d8576b"
             ],
             [
              0.6666666666666666,
              "#ed7953"
             ],
             [
              0.7777777777777778,
              "#fb9f3a"
             ],
             [
              0.8888888888888888,
              "#fdca26"
             ],
             [
              1,
              "#f0f921"
             ]
            ],
            "type": "heatmap"
           }
          ],
          "histogram": [
           {
            "marker": {
             "pattern": {
              "fillmode": "overlay",
              "size": 10,
              "solidity": 0.2
             }
            },
            "type": "histogram"
           }
          ],
          "histogram2d": [
           {
            "colorbar": {
             "outlinewidth": 0,
             "ticks": ""
            },
            "colorscale": [
             [
              0,
              "#0d0887"
             ],
             [
              0.1111111111111111,
              "#46039f"
             ],
             [
              0.2222222222222222,
              "#7201a8"
             ],
             [
              0.3333333333333333,
              "#9c179e"
             ],
             [
              0.4444444444444444,
              "#bd3786"
             ],
             [
              0.5555555555555556,
              "#d8576b"
             ],
             [
              0.6666666666666666,
              "#ed7953"
             ],
             [
              0.7777777777777778,
              "#fb9f3a"
             ],
             [
              0.8888888888888888,
              "#fdca26"
             ],
             [
              1,
              "#f0f921"
             ]
            ],
            "type": "histogram2d"
           }
          ],
          "histogram2dcontour": [
           {
            "colorbar": {
             "outlinewidth": 0,
             "ticks": ""
            },
            "colorscale": [
             [
              0,
              "#0d0887"
             ],
             [
              0.1111111111111111,
              "#46039f"
             ],
             [
              0.2222222222222222,
              "#7201a8"
             ],
             [
              0.3333333333333333,
              "#9c179e"
             ],
             [
              0.4444444444444444,
              "#bd3786"
             ],
             [
              0.5555555555555556,
              "#d8576b"
             ],
             [
              0.6666666666666666,
              "#ed7953"
             ],
             [
              0.7777777777777778,
              "#fb9f3a"
             ],
             [
              0.8888888888888888,
              "#fdca26"
             ],
             [
              1,
              "#f0f921"
             ]
            ],
            "type": "histogram2dcontour"
           }
          ],
          "mesh3d": [
           {
            "colorbar": {
             "outlinewidth": 0,
             "ticks": ""
            },
            "type": "mesh3d"
           }
          ],
          "parcoords": [
           {
            "line": {
             "colorbar": {
              "outlinewidth": 0,
              "ticks": ""
             }
            },
            "type": "parcoords"
           }
          ],
          "pie": [
           {
            "automargin": true,
            "type": "pie"
           }
          ],
          "scatter": [
           {
            "fillpattern": {
             "fillmode": "overlay",
             "size": 10,
             "solidity": 0.2
            },
            "type": "scatter"
           }
          ],
          "scatter3d": [
           {
            "line": {
             "colorbar": {
              "outlinewidth": 0,
              "ticks": ""
             }
            },
            "marker": {
             "colorbar": {
              "outlinewidth": 0,
              "ticks": ""
             }
            },
            "type": "scatter3d"
           }
          ],
          "scattercarpet": [
           {
            "marker": {
             "colorbar": {
              "outlinewidth": 0,
              "ticks": ""
             }
            },
            "type": "scattercarpet"
           }
          ],
          "scattergeo": [
           {
            "marker": {
             "colorbar": {
              "outlinewidth": 0,
              "ticks": ""
             }
            },
            "type": "scattergeo"
           }
          ],
          "scattergl": [
           {
            "marker": {
             "colorbar": {
              "outlinewidth": 0,
              "ticks": ""
             }
            },
            "type": "scattergl"
           }
          ],
          "scattermap": [
           {
            "marker": {
             "colorbar": {
              "outlinewidth": 0,
              "ticks": ""
             }
            },
            "type": "scattermap"
           }
          ],
          "scattermapbox": [
           {
            "marker": {
             "colorbar": {
              "outlinewidth": 0,
              "ticks": ""
             }
            },
            "type": "scattermapbox"
           }
          ],
          "scatterpolar": [
           {
            "marker": {
             "colorbar": {
              "outlinewidth": 0,
              "ticks": ""
             }
            },
            "type": "scatterpolar"
           }
          ],
          "scatterpolargl": [
           {
            "marker": {
             "colorbar": {
              "outlinewidth": 0,
              "ticks": ""
             }
            },
            "type": "scatterpolargl"
           }
          ],
          "scatterternary": [
           {
            "marker": {
             "colorbar": {
              "outlinewidth": 0,
              "ticks": ""
             }
            },
            "type": "scatterternary"
           }
          ],
          "surface": [
           {
            "colorbar": {
             "outlinewidth": 0,
             "ticks": ""
            },
            "colorscale": [
             [
              0,
              "#0d0887"
             ],
             [
              0.1111111111111111,
              "#46039f"
             ],
             [
              0.2222222222222222,
              "#7201a8"
             ],
             [
              0.3333333333333333,
              "#9c179e"
             ],
             [
              0.4444444444444444,
              "#bd3786"
             ],
             [
              0.5555555555555556,
              "#d8576b"
             ],
             [
              0.6666666666666666,
              "#ed7953"
             ],
             [
              0.7777777777777778,
              "#fb9f3a"
             ],
             [
              0.8888888888888888,
              "#fdca26"
             ],
             [
              1,
              "#f0f921"
             ]
            ],
            "type": "surface"
           }
          ],
          "table": [
           {
            "cells": {
             "fill": {
              "color": "#EBF0F8"
             },
             "line": {
              "color": "white"
             }
            },
            "header": {
             "fill": {
              "color": "#C8D4E3"
             },
             "line": {
              "color": "white"
             }
            },
            "type": "table"
           }
          ]
         },
         "layout": {
          "annotationdefaults": {
           "arrowcolor": "#2a3f5f",
           "arrowhead": 0,
           "arrowwidth": 1
          },
          "autotypenumbers": "strict",
          "coloraxis": {
           "colorbar": {
            "outlinewidth": 0,
            "ticks": ""
           }
          },
          "colorscale": {
           "diverging": [
            [
             0,
             "#8e0152"
            ],
            [
             0.1,
             "#c51b7d"
            ],
            [
             0.2,
             "#de77ae"
            ],
            [
             0.3,
             "#f1b6da"
            ],
            [
             0.4,
             "#fde0ef"
            ],
            [
             0.5,
             "#f7f7f7"
            ],
            [
             0.6,
             "#e6f5d0"
            ],
            [
             0.7,
             "#b8e186"
            ],
            [
             0.8,
             "#7fbc41"
            ],
            [
             0.9,
             "#4d9221"
            ],
            [
             1,
             "#276419"
            ]
           ],
           "sequential": [
            [
             0,
             "#0d0887"
            ],
            [
             0.1111111111111111,
             "#46039f"
            ],
            [
             0.2222222222222222,
             "#7201a8"
            ],
            [
             0.3333333333333333,
             "#9c179e"
            ],
            [
             0.4444444444444444,
             "#bd3786"
            ],
            [
             0.5555555555555556,
             "#d8576b"
            ],
            [
             0.6666666666666666,
             "#ed7953"
            ],
            [
             0.7777777777777778,
             "#fb9f3a"
            ],
            [
             0.8888888888888888,
             "#fdca26"
            ],
            [
             1,
             "#f0f921"
            ]
           ],
           "sequentialminus": [
            [
             0,
             "#0d0887"
            ],
            [
             0.1111111111111111,
             "#46039f"
            ],
            [
             0.2222222222222222,
             "#7201a8"
            ],
            [
             0.3333333333333333,
             "#9c179e"
            ],
            [
             0.4444444444444444,
             "#bd3786"
            ],
            [
             0.5555555555555556,
             "#d8576b"
            ],
            [
             0.6666666666666666,
             "#ed7953"
            ],
            [
             0.7777777777777778,
             "#fb9f3a"
            ],
            [
             0.8888888888888888,
             "#fdca26"
            ],
            [
             1,
             "#f0f921"
            ]
           ]
          },
          "colorway": [
           "#636efa",
           "#EF553B",
           "#00cc96",
           "#ab63fa",
           "#FFA15A",
           "#19d3f3",
           "#FF6692",
           "#B6E880",
           "#FF97FF",
           "#FECB52"
          ],
          "font": {
           "color": "#2a3f5f"
          },
          "geo": {
           "bgcolor": "white",
           "lakecolor": "white",
           "landcolor": "#E5ECF6",
           "showlakes": true,
           "showland": true,
           "subunitcolor": "white"
          },
          "hoverlabel": {
           "align": "left"
          },
          "hovermode": "closest",
          "mapbox": {
           "style": "light"
          },
          "paper_bgcolor": "white",
          "plot_bgcolor": "#E5ECF6",
          "polar": {
           "angularaxis": {
            "gridcolor": "white",
            "linecolor": "white",
            "ticks": ""
           },
           "bgcolor": "#E5ECF6",
           "radialaxis": {
            "gridcolor": "white",
            "linecolor": "white",
            "ticks": ""
           }
          },
          "scene": {
           "xaxis": {
            "backgroundcolor": "#E5ECF6",
            "gridcolor": "white",
            "gridwidth": 2,
            "linecolor": "white",
            "showbackground": true,
            "ticks": "",
            "zerolinecolor": "white"
           },
           "yaxis": {
            "backgroundcolor": "#E5ECF6",
            "gridcolor": "white",
            "gridwidth": 2,
            "linecolor": "white",
            "showbackground": true,
            "ticks": "",
            "zerolinecolor": "white"
           },
           "zaxis": {
            "backgroundcolor": "#E5ECF6",
            "gridcolor": "white",
            "gridwidth": 2,
            "linecolor": "white",
            "showbackground": true,
            "ticks": "",
            "zerolinecolor": "white"
           }
          },
          "shapedefaults": {
           "line": {
            "color": "#2a3f5f"
           }
          },
          "ternary": {
           "aaxis": {
            "gridcolor": "white",
            "linecolor": "white",
            "ticks": ""
           },
           "baxis": {
            "gridcolor": "white",
            "linecolor": "white",
            "ticks": ""
           },
           "bgcolor": "#E5ECF6",
           "caxis": {
            "gridcolor": "white",
            "linecolor": "white",
            "ticks": ""
           }
          },
          "title": {
           "x": 0.05
          },
          "xaxis": {
           "automargin": true,
           "gridcolor": "white",
           "linecolor": "white",
           "ticks": "",
           "title": {
            "standoff": 15
           },
           "zerolinecolor": "white",
           "zerolinewidth": 2
          },
          "yaxis": {
           "automargin": true,
           "gridcolor": "white",
           "linecolor": "white",
           "ticks": "",
           "title": {
            "standoff": 15
           },
           "zerolinecolor": "white",
           "zerolinewidth": 2
          }
         }
        },
        "title": {
         "text": "3D UMAP Clusters - KMeans (k=6)"
        }
       }
      }
     },
     "metadata": {},
     "output_type": "display_data"
    },
    {
     "data": {
      "application/vnd.plotly.v1+json": {
       "config": {
        "plotlyServerURL": "https://plot.ly"
       },
       "data": [
        {
         "hoverinfo": "text",
         "marker": {
          "color": [
           "#00CC96",
           "#00CC96",
           "#EF553B",
           "#EF553B",
           "#EF553B",
           "#00CC96",
           "#EF553B",
           "#EF553B",
           "#EF553B",
           "#AB63FA",
           "#FFA15A",
           "#FFA15A",
           "#00CC96",
           "#FFA15A",
           "#FFA15A",
           "#00CC96",
           "#636EFA",
           "#FFA15A",
           "#00CC96",
           "#EF553B",
           "#EF553B",
           "#FFA15A",
           "#EF553B",
           "#EF553B",
           "#EF553B",
           "#FFA15A",
           "#636EFA",
           "#00CC96",
           "#EF553B",
           "#EF553B",
           "#EF553B",
           "#00CC96",
           "#FFA15A",
           "#FFA15A",
           "#FFA15A",
           "#EF553B",
           "#00CC96",
           "#EF553B",
           "#636EFA",
           "#EF553B",
           "#FFA15A",
           "#00CC96",
           "#AB63FA",
           "#AB63FA",
           "#EF553B",
           "#FFA15A",
           "#636EFA",
           "#FFA15A",
           "#EF553B",
           "#FFA15A",
           "#EF553B",
           "#00CC96",
           "#EF553B",
           "#19D3F3",
           "#AB63FA",
           "#AB63FA",
           "#EF553B",
           "#00CC96",
           "#EF553B",
           "#EF553B",
           "#AB63FA",
           "#FFA15A",
           "#00CC96",
           "#00CC96",
           "#00CC96",
           "#19D3F3",
           "#FFA15A",
           "#EF553B",
           "#19D3F3",
           "#00CC96",
           "#19D3F3",
           "#AB63FA",
           "#EF553B",
           "#00CC96",
           "#EF553B",
           "#00CC96",
           "#EF553B",
           "#FFA15A",
           "#EF553B",
           "#FFA15A",
           "#FFA15A",
           "#AB63FA",
           "#EF553B",
           "#EF553B",
           "#EF553B",
           "#EF553B",
           "#EF553B",
           "#FFA15A",
           "#AB63FA",
           "#636EFA",
           "#19D3F3",
           "#EF553B",
           "#AB63FA",
           "#19D3F3",
           "#19D3F3",
           "#EF553B",
           "#00CC96",
           "#EF553B",
           "#EF553B",
           "#EF553B",
           "#AB63FA",
           "#EF553B",
           "#636EFA",
           "#AB63FA"
          ],
          "opacity": 0.8,
          "size": 5
         },
         "mode": "markers",
         "text": [
          "Cluster 2",
          "Cluster 2",
          "Cluster 1",
          "Cluster 1",
          "Cluster 1",
          "Cluster 2",
          "Cluster 1",
          "Cluster 1",
          "Cluster 1",
          "Cluster 3",
          "Cluster 4",
          "Cluster 4",
          "Cluster 2",
          "Cluster 4",
          "Cluster 4",
          "Cluster 2",
          "Cluster 0",
          "Cluster 4",
          "Cluster 2",
          "Cluster 1",
          "Cluster 1",
          "Cluster 4",
          "Cluster 1",
          "Cluster 1",
          "Cluster 1",
          "Cluster 4",
          "Cluster 0",
          "Cluster 2",
          "Cluster 1",
          "Cluster 1",
          "Cluster 1",
          "Cluster 2",
          "Cluster 4",
          "Cluster 4",
          "Cluster 4",
          "Cluster 1",
          "Cluster 2",
          "Cluster 1",
          "Cluster 0",
          "Cluster 1",
          "Cluster 4",
          "Cluster 2",
          "Cluster 3",
          "Cluster 3",
          "Cluster 1",
          "Cluster 4",
          "Cluster 0",
          "Cluster 4",
          "Cluster 1",
          "Cluster 4",
          "Cluster 1",
          "Cluster 2",
          "Cluster 1",
          "Cluster 5",
          "Cluster 3",
          "Cluster 3",
          "Cluster 1",
          "Cluster 2",
          "Cluster 1",
          "Cluster 1",
          "Cluster 3",
          "Cluster 4",
          "Cluster 2",
          "Cluster 2",
          "Cluster 2",
          "Cluster 5",
          "Cluster 4",
          "Cluster 1",
          "Cluster 5",
          "Cluster 2",
          "Cluster 5",
          "Cluster 3",
          "Cluster 1",
          "Cluster 2",
          "Cluster 1",
          "Cluster 2",
          "Cluster 1",
          "Cluster 4",
          "Cluster 1",
          "Cluster 4",
          "Cluster 4",
          "Cluster 3",
          "Cluster 1",
          "Cluster 1",
          "Cluster 1",
          "Cluster 1",
          "Cluster 1",
          "Cluster 4",
          "Cluster 3",
          "Cluster 0",
          "Cluster 5",
          "Cluster 1",
          "Cluster 3",
          "Cluster 5",
          "Cluster 5",
          "Cluster 1",
          "Cluster 2",
          "Cluster 1",
          "Cluster 1",
          "Cluster 1",
          "Cluster 3",
          "Cluster 1",
          "Cluster 0",
          "Cluster 3"
         ],
         "type": "scatter3d",
         "x": {
          "bdata": "x3vXQKnI20A235VArPM/QFGtWUBo/9BAAH6DQNqKd0BW4mVAjx7xQDMg3UAGnPlAy+rTQEcO+kBV0e9A0+LVQG5v3UBRl+ZAv4jQQNGmh0BKT2JAGk/tQChaVECPUHJAYWKKQPsM7UCkvd9Aj/3UQJNgdkAneFNANa1SQIPxz0AkJdpAXjrQQI1t20CF9YdA3JvHQIOckkAJh+hA/k1kQJkZ8UAMn9ZA1wv0QCxy9kC/CU1AdeT+QH1I7kAnvutA0QFyQGj15kB9e4JAQMP9QHY8gkAq5KNABX3+QNS8+0Ccr5lA2LvCQHLISkAZhnxA9V/6QG2V8kDdjslA8aLEQBq7xUAXvJtALfrZQCkdk0ArwqtArwHCQDRqsEB6z/lA/JVaQPia4EBDJjhADSXCQArRmUCyH8pAm9ZYQMD83UA4tOJA7Hf1QDoJd0D6TYdAsDWWQLFth0BiRpJAueb5QFaD+ECDM+hA5QWnQKGVfUCzifBAKleqQDwkqUAX3IlAV6zQQCF8g0DT/IlAsTyAQMUQ9kBlXolAhlLtQBoQ+kA=",
          "dtype": "f4"
         },
         "y": {
          "bdata": "bL5xQB2WeEBn4y5BzoorQQ6RNUEXsodAsF4sQZGfNkFn9y5BDvGgQGx8jkAFN6ZAtjx8QIVrqkB7FJtAuKp6QBk+UEDJb51A8NV1QEpqLEE0yi5BoAadQG56J0GBuDVBwFQoQR2urUD8o0RAkiaJQDWfKEEKojJBB9omQReBgECQh5xAGbeXQMWSkkAxnzBBut59QEiROUEWH1dAM8oxQU9Bk0CdEm5AwVmfQOM2mEB9nS9BVOKmQMRRZUB/E5BAzrA4QZAYkUCsxTRBfq2eQKcFL0Hjdi9BQZ6ZQEUQrUAKKjNBPnmXQJhNJ0GWYipBp5anQIxdskDzTpFAbueCQBv5kEAN8DZBBhWiQCqFK0EnTzRBs+uGQEMqMEFM4a9Acb8lQf8PlEBpHSpBVdCRQEzFKkFTootAd0kqQQRukECFgJNAUeOkQP77LUEJQTtBVCQrQS9oO0FXCzVBsH6uQDDfuUBEz0lAhfAsQZ6YKUFDCpxAYGIyQeKML0Gp/ClBDoN0QFsKOkHn0jRBk9s2QbtVnUC8DjhBfnFTQLdjmkA=",
          "dtype": "f4"
         },
         "z": {
          "bdata": "eyIGQd3SBEEwS8W/N/aivgCWqb6lbP1Af/yWv0xBjL8zgcO/xP7BQGUwBUHUmAhBY9wGQZw8BkFHCA9BPUHzQCFiBEHt+gxBkEIAQZ9j0b/D2O++ff0PQUO4b7+u+z+/QfXiv4t8C0FdbAJBIH7zQFHBR7+dcI2+6okWv3GmCUHXbAlBK3j8QJQLEEEr4yq/VD4DQeTiZL/bCQJB00KyvfSFCkF/CQpBUAvIQDynvUBRuNW+HKgEQRKuBkEXIBFBGppTv//+B0H88s6/hMf0QFJe/74G86W/CkLFQEULvEAIQIW/Sfj9QGNT0b7Nsq6/+rq8QNjABEEGKfNAhh4GQWqt+kBKPa+/ONkKQaMU478xnaK/zgv4QIe4sb8ye7lAEbiJv8ny7UCOebW+oczxQPpTwr+AswZBArC9v4dODUGqmw9ByAvCQDhv5b9uhBK/KFugv5OVeb/y3yq/p/oHQShftEDLDgZBvX6Vv+OpIr8XbspAt/rLv6wgmb9vOHW/oLj2QE5hnr+sUOO/x8LLv4Dov0DRZhW/U/cEQTaGt0A=",
          "dtype": "f4"
         }
        }
       ],
       "layout": {
        "margin": {
         "b": 0,
         "l": 0,
         "r": 0,
         "t": 30
        },
        "scene": {
         "xaxis": {
          "title": {
           "text": "UMAP Component 1"
          }
         },
         "yaxis": {
          "title": {
           "text": "UMAP Component 2"
          }
         },
         "zaxis": {
          "title": {
           "text": "UMAP Component 3"
          }
         }
        },
        "template": {
         "data": {
          "bar": [
           {
            "error_x": {
             "color": "#2a3f5f"
            },
            "error_y": {
             "color": "#2a3f5f"
            },
            "marker": {
             "line": {
              "color": "#E5ECF6",
              "width": 0.5
             },
             "pattern": {
              "fillmode": "overlay",
              "size": 10,
              "solidity": 0.2
             }
            },
            "type": "bar"
           }
          ],
          "barpolar": [
           {
            "marker": {
             "line": {
              "color": "#E5ECF6",
              "width": 0.5
             },
             "pattern": {
              "fillmode": "overlay",
              "size": 10,
              "solidity": 0.2
             }
            },
            "type": "barpolar"
           }
          ],
          "carpet": [
           {
            "aaxis": {
             "endlinecolor": "#2a3f5f",
             "gridcolor": "white",
             "linecolor": "white",
             "minorgridcolor": "white",
             "startlinecolor": "#2a3f5f"
            },
            "baxis": {
             "endlinecolor": "#2a3f5f",
             "gridcolor": "white",
             "linecolor": "white",
             "minorgridcolor": "white",
             "startlinecolor": "#2a3f5f"
            },
            "type": "carpet"
           }
          ],
          "choropleth": [
           {
            "colorbar": {
             "outlinewidth": 0,
             "ticks": ""
            },
            "type": "choropleth"
           }
          ],
          "contour": [
           {
            "colorbar": {
             "outlinewidth": 0,
             "ticks": ""
            },
            "colorscale": [
             [
              0,
              "#0d0887"
             ],
             [
              0.1111111111111111,
              "#46039f"
             ],
             [
              0.2222222222222222,
              "#7201a8"
             ],
             [
              0.3333333333333333,
              "#9c179e"
             ],
             [
              0.4444444444444444,
              "#bd3786"
             ],
             [
              0.5555555555555556,
              "#d8576b"
             ],
             [
              0.6666666666666666,
              "#ed7953"
             ],
             [
              0.7777777777777778,
              "#fb9f3a"
             ],
             [
              0.8888888888888888,
              "#fdca26"
             ],
             [
              1,
              "#f0f921"
             ]
            ],
            "type": "contour"
           }
          ],
          "contourcarpet": [
           {
            "colorbar": {
             "outlinewidth": 0,
             "ticks": ""
            },
            "type": "contourcarpet"
           }
          ],
          "heatmap": [
           {
            "colorbar": {
             "outlinewidth": 0,
             "ticks": ""
            },
            "colorscale": [
             [
              0,
              "#0d0887"
             ],
             [
              0.1111111111111111,
              "#46039f"
             ],
             [
              0.2222222222222222,
              "#7201a8"
             ],
             [
              0.3333333333333333,
              "#9c179e"
             ],
             [
              0.4444444444444444,
              "#bd3786"
             ],
             [
              0.5555555555555556,
              "#d8576b"
             ],
             [
              0.6666666666666666,
              "#ed7953"
             ],
             [
              0.7777777777777778,
              "#fb9f3a"
             ],
             [
              0.8888888888888888,
              "#fdca26"
             ],
             [
              1,
              "#f0f921"
             ]
            ],
            "type": "heatmap"
           }
          ],
          "histogram": [
           {
            "marker": {
             "pattern": {
              "fillmode": "overlay",
              "size": 10,
              "solidity": 0.2
             }
            },
            "type": "histogram"
           }
          ],
          "histogram2d": [
           {
            "colorbar": {
             "outlinewidth": 0,
             "ticks": ""
            },
            "colorscale": [
             [
              0,
              "#0d0887"
             ],
             [
              0.1111111111111111,
              "#46039f"
             ],
             [
              0.2222222222222222,
              "#7201a8"
             ],
             [
              0.3333333333333333,
              "#9c179e"
             ],
             [
              0.4444444444444444,
              "#bd3786"
             ],
             [
              0.5555555555555556,
              "#d8576b"
             ],
             [
              0.6666666666666666,
              "#ed7953"
             ],
             [
              0.7777777777777778,
              "#fb9f3a"
             ],
             [
              0.8888888888888888,
              "#fdca26"
             ],
             [
              1,
              "#f0f921"
             ]
            ],
            "type": "histogram2d"
           }
          ],
          "histogram2dcontour": [
           {
            "colorbar": {
             "outlinewidth": 0,
             "ticks": ""
            },
            "colorscale": [
             [
              0,
              "#0d0887"
             ],
             [
              0.1111111111111111,
              "#46039f"
             ],
             [
              0.2222222222222222,
              "#7201a8"
             ],
             [
              0.3333333333333333,
              "#9c179e"
             ],
             [
              0.4444444444444444,
              "#bd3786"
             ],
             [
              0.5555555555555556,
              "#d8576b"
             ],
             [
              0.6666666666666666,
              "#ed7953"
             ],
             [
              0.7777777777777778,
              "#fb9f3a"
             ],
             [
              0.8888888888888888,
              "#fdca26"
             ],
             [
              1,
              "#f0f921"
             ]
            ],
            "type": "histogram2dcontour"
           }
          ],
          "mesh3d": [
           {
            "colorbar": {
             "outlinewidth": 0,
             "ticks": ""
            },
            "type": "mesh3d"
           }
          ],
          "parcoords": [
           {
            "line": {
             "colorbar": {
              "outlinewidth": 0,
              "ticks": ""
             }
            },
            "type": "parcoords"
           }
          ],
          "pie": [
           {
            "automargin": true,
            "type": "pie"
           }
          ],
          "scatter": [
           {
            "fillpattern": {
             "fillmode": "overlay",
             "size": 10,
             "solidity": 0.2
            },
            "type": "scatter"
           }
          ],
          "scatter3d": [
           {
            "line": {
             "colorbar": {
              "outlinewidth": 0,
              "ticks": ""
             }
            },
            "marker": {
             "colorbar": {
              "outlinewidth": 0,
              "ticks": ""
             }
            },
            "type": "scatter3d"
           }
          ],
          "scattercarpet": [
           {
            "marker": {
             "colorbar": {
              "outlinewidth": 0,
              "ticks": ""
             }
            },
            "type": "scattercarpet"
           }
          ],
          "scattergeo": [
           {
            "marker": {
             "colorbar": {
              "outlinewidth": 0,
              "ticks": ""
             }
            },
            "type": "scattergeo"
           }
          ],
          "scattergl": [
           {
            "marker": {
             "colorbar": {
              "outlinewidth": 0,
              "ticks": ""
             }
            },
            "type": "scattergl"
           }
          ],
          "scattermap": [
           {
            "marker": {
             "colorbar": {
              "outlinewidth": 0,
              "ticks": ""
             }
            },
            "type": "scattermap"
           }
          ],
          "scattermapbox": [
           {
            "marker": {
             "colorbar": {
              "outlinewidth": 0,
              "ticks": ""
             }
            },
            "type": "scattermapbox"
           }
          ],
          "scatterpolar": [
           {
            "marker": {
             "colorbar": {
              "outlinewidth": 0,
              "ticks": ""
             }
            },
            "type": "scatterpolar"
           }
          ],
          "scatterpolargl": [
           {
            "marker": {
             "colorbar": {
              "outlinewidth": 0,
              "ticks": ""
             }
            },
            "type": "scatterpolargl"
           }
          ],
          "scatterternary": [
           {
            "marker": {
             "colorbar": {
              "outlinewidth": 0,
              "ticks": ""
             }
            },
            "type": "scatterternary"
           }
          ],
          "surface": [
           {
            "colorbar": {
             "outlinewidth": 0,
             "ticks": ""
            },
            "colorscale": [
             [
              0,
              "#0d0887"
             ],
             [
              0.1111111111111111,
              "#46039f"
             ],
             [
              0.2222222222222222,
              "#7201a8"
             ],
             [
              0.3333333333333333,
              "#9c179e"
             ],
             [
              0.4444444444444444,
              "#bd3786"
             ],
             [
              0.5555555555555556,
              "#d8576b"
             ],
             [
              0.6666666666666666,
              "#ed7953"
             ],
             [
              0.7777777777777778,
              "#fb9f3a"
             ],
             [
              0.8888888888888888,
              "#fdca26"
             ],
             [
              1,
              "#f0f921"
             ]
            ],
            "type": "surface"
           }
          ],
          "table": [
           {
            "cells": {
             "fill": {
              "color": "#EBF0F8"
             },
             "line": {
              "color": "white"
             }
            },
            "header": {
             "fill": {
              "color": "#C8D4E3"
             },
             "line": {
              "color": "white"
             }
            },
            "type": "table"
           }
          ]
         },
         "layout": {
          "annotationdefaults": {
           "arrowcolor": "#2a3f5f",
           "arrowhead": 0,
           "arrowwidth": 1
          },
          "autotypenumbers": "strict",
          "coloraxis": {
           "colorbar": {
            "outlinewidth": 0,
            "ticks": ""
           }
          },
          "colorscale": {
           "diverging": [
            [
             0,
             "#8e0152"
            ],
            [
             0.1,
             "#c51b7d"
            ],
            [
             0.2,
             "#de77ae"
            ],
            [
             0.3,
             "#f1b6da"
            ],
            [
             0.4,
             "#fde0ef"
            ],
            [
             0.5,
             "#f7f7f7"
            ],
            [
             0.6,
             "#e6f5d0"
            ],
            [
             0.7,
             "#b8e186"
            ],
            [
             0.8,
             "#7fbc41"
            ],
            [
             0.9,
             "#4d9221"
            ],
            [
             1,
             "#276419"
            ]
           ],
           "sequential": [
            [
             0,
             "#0d0887"
            ],
            [
             0.1111111111111111,
             "#46039f"
            ],
            [
             0.2222222222222222,
             "#7201a8"
            ],
            [
             0.3333333333333333,
             "#9c179e"
            ],
            [
             0.4444444444444444,
             "#bd3786"
            ],
            [
             0.5555555555555556,
             "#d8576b"
            ],
            [
             0.6666666666666666,
             "#ed7953"
            ],
            [
             0.7777777777777778,
             "#fb9f3a"
            ],
            [
             0.8888888888888888,
             "#fdca26"
            ],
            [
             1,
             "#f0f921"
            ]
           ],
           "sequentialminus": [
            [
             0,
             "#0d0887"
            ],
            [
             0.1111111111111111,
             "#46039f"
            ],
            [
             0.2222222222222222,
             "#7201a8"
            ],
            [
             0.3333333333333333,
             "#9c179e"
            ],
            [
             0.4444444444444444,
             "#bd3786"
            ],
            [
             0.5555555555555556,
             "#d8576b"
            ],
            [
             0.6666666666666666,
             "#ed7953"
            ],
            [
             0.7777777777777778,
             "#fb9f3a"
            ],
            [
             0.8888888888888888,
             "#fdca26"
            ],
            [
             1,
             "#f0f921"
            ]
           ]
          },
          "colorway": [
           "#636efa",
           "#EF553B",
           "#00cc96",
           "#ab63fa",
           "#FFA15A",
           "#19d3f3",
           "#FF6692",
           "#B6E880",
           "#FF97FF",
           "#FECB52"
          ],
          "font": {
           "color": "#2a3f5f"
          },
          "geo": {
           "bgcolor": "white",
           "lakecolor": "white",
           "landcolor": "#E5ECF6",
           "showlakes": true,
           "showland": true,
           "subunitcolor": "white"
          },
          "hoverlabel": {
           "align": "left"
          },
          "hovermode": "closest",
          "mapbox": {
           "style": "light"
          },
          "paper_bgcolor": "white",
          "plot_bgcolor": "#E5ECF6",
          "polar": {
           "angularaxis": {
            "gridcolor": "white",
            "linecolor": "white",
            "ticks": ""
           },
           "bgcolor": "#E5ECF6",
           "radialaxis": {
            "gridcolor": "white",
            "linecolor": "white",
            "ticks": ""
           }
          },
          "scene": {
           "xaxis": {
            "backgroundcolor": "#E5ECF6",
            "gridcolor": "white",
            "gridwidth": 2,
            "linecolor": "white",
            "showbackground": true,
            "ticks": "",
            "zerolinecolor": "white"
           },
           "yaxis": {
            "backgroundcolor": "#E5ECF6",
            "gridcolor": "white",
            "gridwidth": 2,
            "linecolor": "white",
            "showbackground": true,
            "ticks": "",
            "zerolinecolor": "white"
           },
           "zaxis": {
            "backgroundcolor": "#E5ECF6",
            "gridcolor": "white",
            "gridwidth": 2,
            "linecolor": "white",
            "showbackground": true,
            "ticks": "",
            "zerolinecolor": "white"
           }
          },
          "shapedefaults": {
           "line": {
            "color": "#2a3f5f"
           }
          },
          "ternary": {
           "aaxis": {
            "gridcolor": "white",
            "linecolor": "white",
            "ticks": ""
           },
           "baxis": {
            "gridcolor": "white",
            "linecolor": "white",
            "ticks": ""
           },
           "bgcolor": "#E5ECF6",
           "caxis": {
            "gridcolor": "white",
            "linecolor": "white",
            "ticks": ""
           }
          },
          "title": {
           "x": 0.05
          },
          "xaxis": {
           "automargin": true,
           "gridcolor": "white",
           "linecolor": "white",
           "ticks": "",
           "title": {
            "standoff": 15
           },
           "zerolinecolor": "white",
           "zerolinewidth": 2
          },
          "yaxis": {
           "automargin": true,
           "gridcolor": "white",
           "linecolor": "white",
           "ticks": "",
           "title": {
            "standoff": 15
           },
           "zerolinecolor": "white",
           "zerolinewidth": 2
          }
         }
        },
        "title": {
         "text": "3D UMAP Clusters - KMeans (k=5)"
        }
       }
      }
     },
     "metadata": {},
     "output_type": "display_data"
    }
   ],
   "source": [
    "models = {\n",
    "    \"Agglomerative (complete, 7)\": AgglomerativeClustering(linkage='complete', n_clusters=7),\n",
    "    \"Agglomerative (complete, 8)\": AgglomerativeClustering(linkage='complete', n_clusters=8),\n",
    "    \"Agglomerative (ward, 5)\": AgglomerativeClustering(linkage='ward', n_clusters=5),\n",
    "    \"KMeans (k=4)\": KMeans(n_clusters=4, random_state=12),\n",
    "    \"KMeans (k=6)\": KMeans(n_clusters=6,random_state=12),\n",
    "    \"KMeans (k=5)\": KMeans(n_clusters=6,random_state=12)\n",
    "}\n",
    "\n",
    "\n",
    "for (name, model) in models.items():\n",
    "    cluster_labels = model.fit_predict(df_pca)\n",
    "\n",
    "    visualise_clusters_umap_3d(umap_3d, cluster_labels, name)\n",
    "    "
   ]
  },
  {
   "cell_type": "markdown",
   "id": "37333db8",
   "metadata": {},
   "source": [
    "### GRID Search\n",
    "Dobieramy hiperparametry an podstawie wcześniej zdefiniowanych metryk"
   ]
  },
  {
   "cell_type": "code",
   "execution_count": 19,
   "id": "bf1de628",
   "metadata": {},
   "outputs": [],
   "source": [
    "import numpy as np\n",
    "import pandas as pd\n",
    "from sklearn.metrics import silhouette_score, davies_bouldin_score\n",
    "from sklearn.base import clone\n",
    "from scipy.spatial.distance import cdist\n",
    "from sklearn.cluster import KMeans, AgglomerativeClustering, DBSCAN\n",
    "from sklearn.mixture import GaussianMixture\n",
    "\n",
    "def dunn_index(X, labels):\n",
    "    unique_clusters = np.unique(labels)\n",
    "    inter_cluster_distances = []\n",
    "    intra_cluster_distances = []\n",
    "\n",
    "    for i in unique_clusters:\n",
    "        Xi = X[labels == i]\n",
    "        intra_dists = cdist(Xi, Xi)\n",
    "        intra_cluster_distances.append(np.max(intra_dists))\n",
    "\n",
    "        for j in unique_clusters:\n",
    "            if i < j:\n",
    "                Xj = X[labels == j]\n",
    "                inter_dists = cdist(Xi, Xj)\n",
    "                inter_cluster_distances.append(np.min(inter_dists))\n",
    "\n",
    "    return np.min(inter_cluster_distances) / np.max(intra_cluster_distances)\n",
    "\n",
    "def evaluate_models_for_GRID(X, models):\n",
    "    \"\"\"\n",
    "    Parameters:\n",
    "    - X: array-like, shape (n_samples, n_features)\n",
    "    - models: dict of {name: clustering_model} (must have `.fit_predict()` method)\n",
    "\n",
    "    Returns:\n",
    "    - DataFrame with model evaluation metrics\n",
    "    \"\"\"\n",
    "    results = []\n",
    "\n",
    "    for name, model in models.items():\n",
    "        try:\n",
    "            clusterer = clone(model)\n",
    "            if hasattr(clusterer, 'fit_predict'):\n",
    "                labels = clusterer.fit_predict(X)\n",
    "            else:  # For GMM which uses predict instead of fit_predict\n",
    "                labels = clusterer.fit(X).predict(X)\n",
    "                \n",
    "            # Skip evaluation if only one cluster found\n",
    "            if len(np.unique(labels)) < 2:\n",
    "                continue\n",
    "                \n",
    "            silhouette = silhouette_score(X, labels)\n",
    "            db_index = davies_bouldin_score(X, labels)\n",
    "            dunn = dunn_index(X, labels)\n",
    "\n",
    "            results.append({\n",
    "                'Model': name,\n",
    "                'Silhouette Score': silhouette,\n",
    "                'Davies-Bouldin Index': db_index,\n",
    "                'Dunn Index': dunn,\n",
    "                'Num Clusters': len(np.unique(labels[labels != -1]))  # Exclude noise for DBSCAN\n",
    "            })\n",
    "        except Exception as e:\n",
    "            print(f\"Error evaluating {name}: {str(e)}\")\n",
    "            continue\n",
    "\n",
    "    return pd.DataFrame(results).sort_values(by='Silhouette Score', ascending=False)\n",
    "\n",
    "# Define parameter grids for each algorithm\n",
    "param_grids = {\n",
    "    'KMeans': {\n",
    "        'n_clusters': range(3, 11),\n",
    "        'init': ['k-means++', 'random'],\n",
    "        'random_state': [0],\n",
    "    },\n",
    "    'Agglomerative': {\n",
    "        'n_clusters': [None, 3, 4, 5, 6, 7, 8],\n",
    "        'linkage': ['ward', 'complete', 'average', 'single'],\n",
    "        'distance_threshold': [None, 100, 200, 250, 300, 350, 400, 450, 500, 600]\n",
    "    },\n",
    "    'GMM': {\n",
    "        'n_components': range(2, 9),\n",
    "        'covariance_type': ['full', 'tied', 'diag', 'spherical'],\n",
    "        'random_state': [0]\n",
    "    },\n",
    "}\n",
    "\n",
    "# Generate all model combinations\n",
    "def generate_models():\n",
    "    models = {}\n",
    "    \n",
    "    # KMeans models\n",
    "    for n_clusters in param_grids['KMeans']['n_clusters']:\n",
    "        for init in param_grids['KMeans']['init']:\n",
    "            name = f\"KMeans (k={n_clusters}, init='{init}')\"\n",
    "            models[name] = KMeans(n_clusters=n_clusters, init=init, random_state=0, n_init=50)\n",
    "    \n",
    "    # Agglomerative models\n",
    "    for linkage in param_grids['Agglomerative']['linkage']:\n",
    "        for n_clusters in param_grids['Agglomerative']['n_clusters']:\n",
    "            for dist_thresh in param_grids['Agglomerative']['distance_threshold']:\n",
    "                if n_clusters is None and dist_thresh is None:\n",
    "                    continue  # Invalid combination\n",
    "                if linkage == 'ward' and dist_thresh is not None:\n",
    "                    name = f\"Agglomerative (linkage='{linkage}', thresh={dist_thresh})\"\n",
    "                    models[name] = AgglomerativeClustering(\n",
    "                        n_clusters=None, linkage=linkage, distance_threshold=dist_thresh)\n",
    "                else:\n",
    "                    if dist_thresh is not None:\n",
    "                        continue  # Only use distance_threshold with ward\n",
    "                    name = f\"Agglomerative (linkage='{linkage}', k={n_clusters})\"\n",
    "                    models[name] = AgglomerativeClustering(\n",
    "                        n_clusters=n_clusters, linkage=linkage)\n",
    "    \n",
    "    # GMM models\n",
    "    for n_components in param_grids['GMM']['n_components']:\n",
    "        for cov_type in param_grids['GMM']['covariance_type']:\n",
    "            name = f\"GMM (n={n_components}, cov='{cov_type}')\"\n",
    "            models[name] = GaussianMixture(\n",
    "                n_components=n_components, covariance_type=cov_type, random_state=0)\n",
    "    \n",
    "    return models"
   ]
  },
  {
   "cell_type": "code",
   "execution_count": 20,
   "id": "3a76672a",
   "metadata": {},
   "outputs": [
    {
     "name": "stdout",
     "output_type": "stream",
     "text": [
      "Top 20 models by Silhouette Score:\n",
      "                                         Model  Silhouette Score  \\\n",
      "52                  GMM (n=2, cov='spherical')          0.197242   \n",
      "51                       GMM (n=2, cov='diag')          0.197242   \n",
      "50                       GMM (n=2, cov='tied')          0.197242   \n",
      "49                       GMM (n=2, cov='full')          0.197242   \n",
      "0               KMeans (k=3, init='k-means++')          0.170625   \n",
      "1                  KMeans (k=3, init='random')          0.170625   \n",
      "37      Agglomerative (linkage='average', k=3)          0.167198   \n",
      "25         Agglomerative (linkage='ward', k=3)          0.164305   \n",
      "31     Agglomerative (linkage='complete', k=3)          0.159115   \n",
      "32     Agglomerative (linkage='complete', k=4)          0.151445   \n",
      "38      Agglomerative (linkage='average', k=4)          0.150517   \n",
      "18  Agglomerative (linkage='ward', thresh=250)          0.148651   \n",
      "19  Agglomerative (linkage='ward', thresh=300)          0.140413   \n",
      "53                       GMM (n=3, cov='full')          0.139750   \n",
      "54                       GMM (n=3, cov='tied')          0.139750   \n",
      "56                  GMM (n=3, cov='spherical')          0.137977   \n",
      "39      Agglomerative (linkage='average', k=5)          0.135605   \n",
      "41      Agglomerative (linkage='average', k=7)          0.135097   \n",
      "42      Agglomerative (linkage='average', k=8)          0.129148   \n",
      "27         Agglomerative (linkage='ward', k=5)          0.128705   \n",
      "\n",
      "    Davies-Bouldin Index  Dunn Index  Num Clusters  \n",
      "52              1.846737    0.473799             2  \n",
      "51              1.846737    0.473799             2  \n",
      "50              1.846737    0.473799             2  \n",
      "49              1.846737    0.473799             2  \n",
      "0               1.785807    0.381502             3  \n",
      "1               1.785807    0.381502             3  \n",
      "37              1.475416    0.487847             3  \n",
      "25              1.865867    0.397251             3  \n",
      "31              2.073756    0.403014             3  \n",
      "32              1.760732    0.403313             4  \n",
      "38              1.689588    0.494925             4  \n",
      "18              0.915379    0.625542            48  \n",
      "19              1.410805    0.517089            30  \n",
      "53              2.417902    0.213247             3  \n",
      "54              2.417902    0.213247             3  \n",
      "56              2.461743    0.448709             3  \n",
      "39              1.648973    0.495292             5  \n",
      "41              1.728201    0.409617             7  \n",
      "42              1.724329    0.446678             8  \n",
      "27              2.218814    0.409617             5  \n",
      "\n",
      "Top 20 models by Dunn Index:\n",
      "                                         Model  Silhouette Score  \\\n",
      "16  Agglomerative (linkage='ward', thresh=100)          0.061897   \n",
      "17  Agglomerative (linkage='ward', thresh=200)          0.113892   \n",
      "18  Agglomerative (linkage='ward', thresh=250)          0.148651   \n",
      "45       Agglomerative (linkage='single', k=5)          0.004595   \n",
      "46       Agglomerative (linkage='single', k=6)          0.000600   \n",
      "47       Agglomerative (linkage='single', k=7)         -0.008205   \n",
      "43       Agglomerative (linkage='single', k=3)          0.077066   \n",
      "44       Agglomerative (linkage='single', k=4)         -0.004211   \n",
      "48       Agglomerative (linkage='single', k=8)         -0.027388   \n",
      "19  Agglomerative (linkage='ward', thresh=300)          0.140413   \n",
      "20  Agglomerative (linkage='ward', thresh=350)          0.115865   \n",
      "40      Agglomerative (linkage='average', k=6)          0.111066   \n",
      "39      Agglomerative (linkage='average', k=5)          0.135605   \n",
      "38      Agglomerative (linkage='average', k=4)          0.150517   \n",
      "37      Agglomerative (linkage='average', k=3)          0.167198   \n",
      "51                       GMM (n=2, cov='diag')          0.197242   \n",
      "52                  GMM (n=2, cov='spherical')          0.197242   \n",
      "50                       GMM (n=2, cov='tied')          0.197242   \n",
      "49                       GMM (n=2, cov='full')          0.197242   \n",
      "36     Agglomerative (linkage='complete', k=8)          0.120143   \n",
      "\n",
      "    Davies-Bouldin Index  Dunn Index  Num Clusters  \n",
      "16              0.207424    0.902908            97  \n",
      "17              0.548304    0.699961            73  \n",
      "18              0.915379    0.625542            48  \n",
      "45              1.246478    0.541101             5  \n",
      "46              1.125161    0.540675             6  \n",
      "47              1.078501    0.538177             7  \n",
      "43              0.799466    0.536512             3  \n",
      "44              0.857622    0.530635             4  \n",
      "48              1.068337    0.530501             8  \n",
      "19              1.410805    0.517089            30  \n",
      "20              1.648445    0.507769            21  \n",
      "40              1.780678    0.501773             6  \n",
      "39              1.648973    0.495292             5  \n",
      "38              1.689588    0.494925             4  \n",
      "37              1.475416    0.487847             3  \n",
      "51              1.846737    0.473799             2  \n",
      "52              1.846737    0.473799             2  \n",
      "50              1.846737    0.473799             2  \n",
      "49              1.846737    0.473799             2  \n",
      "36              2.075566    0.466790             8  \n",
      "\n",
      "Top 20 models by Davies-Bouldin Index (lower is better):\n",
      "                                         Model  Silhouette Score  \\\n",
      "16  Agglomerative (linkage='ward', thresh=100)          0.061897   \n",
      "17  Agglomerative (linkage='ward', thresh=200)          0.113892   \n",
      "43       Agglomerative (linkage='single', k=3)          0.077066   \n",
      "44       Agglomerative (linkage='single', k=4)         -0.004211   \n",
      "18  Agglomerative (linkage='ward', thresh=250)          0.148651   \n",
      "48       Agglomerative (linkage='single', k=8)         -0.027388   \n",
      "47       Agglomerative (linkage='single', k=7)         -0.008205   \n",
      "46       Agglomerative (linkage='single', k=6)          0.000600   \n",
      "45       Agglomerative (linkage='single', k=5)          0.004595   \n",
      "19  Agglomerative (linkage='ward', thresh=300)          0.140413   \n",
      "37      Agglomerative (linkage='average', k=3)          0.167198   \n",
      "20  Agglomerative (linkage='ward', thresh=350)          0.115865   \n",
      "39      Agglomerative (linkage='average', k=5)          0.135605   \n",
      "38      Agglomerative (linkage='average', k=4)          0.150517   \n",
      "42      Agglomerative (linkage='average', k=8)          0.129148   \n",
      "41      Agglomerative (linkage='average', k=7)          0.135097   \n",
      "32     Agglomerative (linkage='complete', k=4)          0.151445   \n",
      "40      Agglomerative (linkage='average', k=6)          0.111066   \n",
      "1                  KMeans (k=3, init='random')          0.170625   \n",
      "0               KMeans (k=3, init='k-means++')          0.170625   \n",
      "\n",
      "    Davies-Bouldin Index  Dunn Index  Num Clusters  \n",
      "16              0.207424    0.902908            97  \n",
      "17              0.548304    0.699961            73  \n",
      "43              0.799466    0.536512             3  \n",
      "44              0.857622    0.530635             4  \n",
      "18              0.915379    0.625542            48  \n",
      "48              1.068337    0.530501             8  \n",
      "47              1.078501    0.538177             7  \n",
      "46              1.125161    0.540675             6  \n",
      "45              1.246478    0.541101             5  \n",
      "19              1.410805    0.517089            30  \n",
      "37              1.475416    0.487847             3  \n",
      "20              1.648445    0.507769            21  \n",
      "39              1.648973    0.495292             5  \n",
      "38              1.689588    0.494925             4  \n",
      "42              1.724329    0.446678             8  \n",
      "41              1.728201    0.409617             7  \n",
      "32              1.760732    0.403313             4  \n",
      "40              1.780678    0.501773             6  \n",
      "1               1.785807    0.381502             3  \n",
      "0               1.785807    0.381502             3  \n"
     ]
    }
   ],
   "source": [
    "models = generate_models()\n",
    "results_df = evaluate_models_for_GRID(df_pca, models)\n",
    "\n",
    "# Display top results sorted by Silhouette Score\n",
    "print(\"Top 20 models by Silhouette Score:\")\n",
    "print(results_df.head(20))\n",
    "\n",
    "# Also show sorted by other metrics\n",
    "print(\"\\nTop 20 models by Dunn Index:\")\n",
    "print(results_df.sort_values(by='Dunn Index', ascending=False).head(20))\n",
    "\n",
    "print(\"\\nTop 20 models by Davies-Bouldin Index (lower is better):\")\n",
    "print(results_df.sort_values(by='Davies-Bouldin Index').head(20))"
   ]
  },
  {
   "cell_type": "markdown",
   "id": "48e93011",
   "metadata": {},
   "source": [
    "Staramy się dobrać modele, które wypadają względnie dobrze we wszystkich metrykach. Odrzucamy oczywiste podziały na 2 klastry, oraz modele z bardzo zawyżoną liczbą klastrów typu 97, 73, 48 -- są to modele przetrenowane. "
   ]
  },
  {
   "cell_type": "code",
   "execution_count": 21,
   "id": "3489e4a0",
   "metadata": {},
   "outputs": [
    {
     "data": {
      "application/vnd.plotly.v1+json": {
       "config": {
        "plotlyServerURL": "https://plot.ly"
       },
       "data": [
        {
         "hoverinfo": "text",
         "marker": {
          "color": [
           "#00CC96",
           "#00CC96",
           "#EF553B",
           "#EF553B",
           "#EF553B",
           "#00CC96",
           "#EF553B",
           "#EF553B",
           "#EF553B",
           "#636EFA",
           "#00CC96",
           "#00CC96",
           "#00CC96",
           "#00CC96",
           "#636EFA",
           "#00CC96",
           "#00CC96",
           "#00CC96",
           "#00CC96",
           "#EF553B",
           "#EF553B",
           "#636EFA",
           "#EF553B",
           "#EF553B",
           "#EF553B",
           "#00CC96",
           "#00CC96",
           "#00CC96",
           "#EF553B",
           "#EF553B",
           "#EF553B",
           "#00CC96",
           "#00CC96",
           "#00CC96",
           "#00CC96",
           "#EF553B",
           "#00CC96",
           "#EF553B",
           "#00CC96",
           "#EF553B",
           "#00CC96",
           "#00CC96",
           "#636EFA",
           "#636EFA",
           "#EF553B",
           "#00CC96",
           "#00CC96",
           "#00CC96",
           "#EF553B",
           "#00CC96",
           "#EF553B",
           "#00CC96",
           "#EF553B",
           "#EF553B",
           "#636EFA",
           "#636EFA",
           "#EF553B",
           "#00CC96",
           "#EF553B",
           "#EF553B",
           "#636EFA",
           "#00CC96",
           "#00CC96",
           "#00CC96",
           "#00CC96",
           "#EF553B",
           "#00CC96",
           "#EF553B",
           "#EF553B",
           "#00CC96",
           "#EF553B",
           "#636EFA",
           "#EF553B",
           "#636EFA",
           "#EF553B",
           "#00CC96",
           "#EF553B",
           "#00CC96",
           "#EF553B",
           "#00CC96",
           "#00CC96",
           "#636EFA",
           "#EF553B",
           "#EF553B",
           "#EF553B",
           "#EF553B",
           "#EF553B",
           "#00CC96",
           "#EF553B",
           "#00CC96",
           "#EF553B",
           "#EF553B",
           "#636EFA",
           "#EF553B",
           "#EF553B",
           "#EF553B",
           "#00CC96",
           "#EF553B",
           "#EF553B",
           "#EF553B",
           "#636EFA",
           "#EF553B",
           "#00CC96",
           "#636EFA"
          ],
          "opacity": 0.8,
          "size": 5
         },
         "mode": "markers",
         "text": [
          "Cluster 2",
          "Cluster 2",
          "Cluster 1",
          "Cluster 1",
          "Cluster 1",
          "Cluster 2",
          "Cluster 1",
          "Cluster 1",
          "Cluster 1",
          "Cluster 0",
          "Cluster 2",
          "Cluster 2",
          "Cluster 2",
          "Cluster 2",
          "Cluster 0",
          "Cluster 2",
          "Cluster 2",
          "Cluster 2",
          "Cluster 2",
          "Cluster 1",
          "Cluster 1",
          "Cluster 0",
          "Cluster 1",
          "Cluster 1",
          "Cluster 1",
          "Cluster 2",
          "Cluster 2",
          "Cluster 2",
          "Cluster 1",
          "Cluster 1",
          "Cluster 1",
          "Cluster 2",
          "Cluster 2",
          "Cluster 2",
          "Cluster 2",
          "Cluster 1",
          "Cluster 2",
          "Cluster 1",
          "Cluster 2",
          "Cluster 1",
          "Cluster 2",
          "Cluster 2",
          "Cluster 0",
          "Cluster 0",
          "Cluster 1",
          "Cluster 2",
          "Cluster 2",
          "Cluster 2",
          "Cluster 1",
          "Cluster 2",
          "Cluster 1",
          "Cluster 2",
          "Cluster 1",
          "Cluster 1",
          "Cluster 0",
          "Cluster 0",
          "Cluster 1",
          "Cluster 2",
          "Cluster 1",
          "Cluster 1",
          "Cluster 0",
          "Cluster 2",
          "Cluster 2",
          "Cluster 2",
          "Cluster 2",
          "Cluster 1",
          "Cluster 2",
          "Cluster 1",
          "Cluster 1",
          "Cluster 2",
          "Cluster 1",
          "Cluster 0",
          "Cluster 1",
          "Cluster 0",
          "Cluster 1",
          "Cluster 2",
          "Cluster 1",
          "Cluster 2",
          "Cluster 1",
          "Cluster 2",
          "Cluster 2",
          "Cluster 0",
          "Cluster 1",
          "Cluster 1",
          "Cluster 1",
          "Cluster 1",
          "Cluster 1",
          "Cluster 2",
          "Cluster 1",
          "Cluster 2",
          "Cluster 1",
          "Cluster 1",
          "Cluster 0",
          "Cluster 1",
          "Cluster 1",
          "Cluster 1",
          "Cluster 2",
          "Cluster 1",
          "Cluster 1",
          "Cluster 1",
          "Cluster 0",
          "Cluster 1",
          "Cluster 2",
          "Cluster 0"
         ],
         "type": "scatter3d",
         "x": {
          "bdata": "x3vXQKnI20A235VArPM/QFGtWUBo/9BAAH6DQNqKd0BW4mVAjx7xQDMg3UAGnPlAy+rTQEcO+kBV0e9A0+LVQG5v3UBRl+ZAv4jQQNGmh0BKT2JAGk/tQChaVECPUHJAYWKKQPsM7UCkvd9Aj/3UQJNgdkAneFNANa1SQIPxz0AkJdpAXjrQQI1t20CF9YdA3JvHQIOckkAJh+hA/k1kQJkZ8UAMn9ZA1wv0QCxy9kC/CU1AdeT+QH1I7kAnvutA0QFyQGj15kB9e4JAQMP9QHY8gkAq5KNABX3+QNS8+0Ccr5lA2LvCQHLISkAZhnxA9V/6QG2V8kDdjslA8aLEQBq7xUAXvJtALfrZQCkdk0ArwqtArwHCQDRqsEB6z/lA/JVaQPia4EBDJjhADSXCQArRmUCyH8pAm9ZYQMD83UA4tOJA7Hf1QDoJd0D6TYdAsDWWQLFth0BiRpJAueb5QFaD+ECDM+hA5QWnQKGVfUCzifBAKleqQDwkqUAX3IlAV6zQQCF8g0DT/IlAsTyAQMUQ9kBlXolAhlLtQBoQ+kA=",
          "dtype": "f4"
         },
         "y": {
          "bdata": "bL5xQB2WeEBn4y5BzoorQQ6RNUEXsodAsF4sQZGfNkFn9y5BDvGgQGx8jkAFN6ZAtjx8QIVrqkB7FJtAuKp6QBk+UEDJb51A8NV1QEpqLEE0yi5BoAadQG56J0GBuDVBwFQoQR2urUD8o0RAkiaJQDWfKEEKojJBB9omQReBgECQh5xAGbeXQMWSkkAxnzBBut59QEiROUEWH1dAM8oxQU9Bk0CdEm5AwVmfQOM2mEB9nS9BVOKmQMRRZUB/E5BAzrA4QZAYkUCsxTRBfq2eQKcFL0Hjdi9BQZ6ZQEUQrUAKKjNBPnmXQJhNJ0GWYipBp5anQIxdskDzTpFAbueCQBv5kEAN8DZBBhWiQCqFK0EnTzRBs+uGQEMqMEFM4a9Acb8lQf8PlEBpHSpBVdCRQEzFKkFTootAd0kqQQRukECFgJNAUeOkQP77LUEJQTtBVCQrQS9oO0FXCzVBsH6uQDDfuUBEz0lAhfAsQZ6YKUFDCpxAYGIyQeKML0Gp/ClBDoN0QFsKOkHn0jRBk9s2QbtVnUC8DjhBfnFTQLdjmkA=",
          "dtype": "f4"
         },
         "z": {
          "bdata": "eyIGQd3SBEEwS8W/N/aivgCWqb6lbP1Af/yWv0xBjL8zgcO/xP7BQGUwBUHUmAhBY9wGQZw8BkFHCA9BPUHzQCFiBEHt+gxBkEIAQZ9j0b/D2O++ff0PQUO4b7+u+z+/QfXiv4t8C0FdbAJBIH7zQFHBR7+dcI2+6okWv3GmCUHXbAlBK3j8QJQLEEEr4yq/VD4DQeTiZL/bCQJB00KyvfSFCkF/CQpBUAvIQDynvUBRuNW+HKgEQRKuBkEXIBFBGppTv//+B0H88s6/hMf0QFJe/74G86W/CkLFQEULvEAIQIW/Sfj9QGNT0b7Nsq6/+rq8QNjABEEGKfNAhh4GQWqt+kBKPa+/ONkKQaMU478xnaK/zgv4QIe4sb8ye7lAEbiJv8ny7UCOebW+oczxQPpTwr+AswZBArC9v4dODUGqmw9ByAvCQDhv5b9uhBK/KFugv5OVeb/y3yq/p/oHQShftEDLDgZBvX6Vv+OpIr8XbspAt/rLv6wgmb9vOHW/oLj2QE5hnr+sUOO/x8LLv4Dov0DRZhW/U/cEQTaGt0A=",
          "dtype": "f4"
         }
        }
       ],
       "layout": {
        "margin": {
         "b": 0,
         "l": 0,
         "r": 0,
         "t": 30
        },
        "scene": {
         "xaxis": {
          "title": {
           "text": "UMAP Component 1"
          }
         },
         "yaxis": {
          "title": {
           "text": "UMAP Component 2"
          }
         },
         "zaxis": {
          "title": {
           "text": "UMAP Component 3"
          }
         }
        },
        "template": {
         "data": {
          "bar": [
           {
            "error_x": {
             "color": "#2a3f5f"
            },
            "error_y": {
             "color": "#2a3f5f"
            },
            "marker": {
             "line": {
              "color": "#E5ECF6",
              "width": 0.5
             },
             "pattern": {
              "fillmode": "overlay",
              "size": 10,
              "solidity": 0.2
             }
            },
            "type": "bar"
           }
          ],
          "barpolar": [
           {
            "marker": {
             "line": {
              "color": "#E5ECF6",
              "width": 0.5
             },
             "pattern": {
              "fillmode": "overlay",
              "size": 10,
              "solidity": 0.2
             }
            },
            "type": "barpolar"
           }
          ],
          "carpet": [
           {
            "aaxis": {
             "endlinecolor": "#2a3f5f",
             "gridcolor": "white",
             "linecolor": "white",
             "minorgridcolor": "white",
             "startlinecolor": "#2a3f5f"
            },
            "baxis": {
             "endlinecolor": "#2a3f5f",
             "gridcolor": "white",
             "linecolor": "white",
             "minorgridcolor": "white",
             "startlinecolor": "#2a3f5f"
            },
            "type": "carpet"
           }
          ],
          "choropleth": [
           {
            "colorbar": {
             "outlinewidth": 0,
             "ticks": ""
            },
            "type": "choropleth"
           }
          ],
          "contour": [
           {
            "colorbar": {
             "outlinewidth": 0,
             "ticks": ""
            },
            "colorscale": [
             [
              0,
              "#0d0887"
             ],
             [
              0.1111111111111111,
              "#46039f"
             ],
             [
              0.2222222222222222,
              "#7201a8"
             ],
             [
              0.3333333333333333,
              "#9c179e"
             ],
             [
              0.4444444444444444,
              "#bd3786"
             ],
             [
              0.5555555555555556,
              "#d8576b"
             ],
             [
              0.6666666666666666,
              "#ed7953"
             ],
             [
              0.7777777777777778,
              "#fb9f3a"
             ],
             [
              0.8888888888888888,
              "#fdca26"
             ],
             [
              1,
              "#f0f921"
             ]
            ],
            "type": "contour"
           }
          ],
          "contourcarpet": [
           {
            "colorbar": {
             "outlinewidth": 0,
             "ticks": ""
            },
            "type": "contourcarpet"
           }
          ],
          "heatmap": [
           {
            "colorbar": {
             "outlinewidth": 0,
             "ticks": ""
            },
            "colorscale": [
             [
              0,
              "#0d0887"
             ],
             [
              0.1111111111111111,
              "#46039f"
             ],
             [
              0.2222222222222222,
              "#7201a8"
             ],
             [
              0.3333333333333333,
              "#9c179e"
             ],
             [
              0.4444444444444444,
              "#bd3786"
             ],
             [
              0.5555555555555556,
              "#d8576b"
             ],
             [
              0.6666666666666666,
              "#ed7953"
             ],
             [
              0.7777777777777778,
              "#fb9f3a"
             ],
             [
              0.8888888888888888,
              "#fdca26"
             ],
             [
              1,
              "#f0f921"
             ]
            ],
            "type": "heatmap"
           }
          ],
          "histogram": [
           {
            "marker": {
             "pattern": {
              "fillmode": "overlay",
              "size": 10,
              "solidity": 0.2
             }
            },
            "type": "histogram"
           }
          ],
          "histogram2d": [
           {
            "colorbar": {
             "outlinewidth": 0,
             "ticks": ""
            },
            "colorscale": [
             [
              0,
              "#0d0887"
             ],
             [
              0.1111111111111111,
              "#46039f"
             ],
             [
              0.2222222222222222,
              "#7201a8"
             ],
             [
              0.3333333333333333,
              "#9c179e"
             ],
             [
              0.4444444444444444,
              "#bd3786"
             ],
             [
              0.5555555555555556,
              "#d8576b"
             ],
             [
              0.6666666666666666,
              "#ed7953"
             ],
             [
              0.7777777777777778,
              "#fb9f3a"
             ],
             [
              0.8888888888888888,
              "#fdca26"
             ],
             [
              1,
              "#f0f921"
             ]
            ],
            "type": "histogram2d"
           }
          ],
          "histogram2dcontour": [
           {
            "colorbar": {
             "outlinewidth": 0,
             "ticks": ""
            },
            "colorscale": [
             [
              0,
              "#0d0887"
             ],
             [
              0.1111111111111111,
              "#46039f"
             ],
             [
              0.2222222222222222,
              "#7201a8"
             ],
             [
              0.3333333333333333,
              "#9c179e"
             ],
             [
              0.4444444444444444,
              "#bd3786"
             ],
             [
              0.5555555555555556,
              "#d8576b"
             ],
             [
              0.6666666666666666,
              "#ed7953"
             ],
             [
              0.7777777777777778,
              "#fb9f3a"
             ],
             [
              0.8888888888888888,
              "#fdca26"
             ],
             [
              1,
              "#f0f921"
             ]
            ],
            "type": "histogram2dcontour"
           }
          ],
          "mesh3d": [
           {
            "colorbar": {
             "outlinewidth": 0,
             "ticks": ""
            },
            "type": "mesh3d"
           }
          ],
          "parcoords": [
           {
            "line": {
             "colorbar": {
              "outlinewidth": 0,
              "ticks": ""
             }
            },
            "type": "parcoords"
           }
          ],
          "pie": [
           {
            "automargin": true,
            "type": "pie"
           }
          ],
          "scatter": [
           {
            "fillpattern": {
             "fillmode": "overlay",
             "size": 10,
             "solidity": 0.2
            },
            "type": "scatter"
           }
          ],
          "scatter3d": [
           {
            "line": {
             "colorbar": {
              "outlinewidth": 0,
              "ticks": ""
             }
            },
            "marker": {
             "colorbar": {
              "outlinewidth": 0,
              "ticks": ""
             }
            },
            "type": "scatter3d"
           }
          ],
          "scattercarpet": [
           {
            "marker": {
             "colorbar": {
              "outlinewidth": 0,
              "ticks": ""
             }
            },
            "type": "scattercarpet"
           }
          ],
          "scattergeo": [
           {
            "marker": {
             "colorbar": {
              "outlinewidth": 0,
              "ticks": ""
             }
            },
            "type": "scattergeo"
           }
          ],
          "scattergl": [
           {
            "marker": {
             "colorbar": {
              "outlinewidth": 0,
              "ticks": ""
             }
            },
            "type": "scattergl"
           }
          ],
          "scattermap": [
           {
            "marker": {
             "colorbar": {
              "outlinewidth": 0,
              "ticks": ""
             }
            },
            "type": "scattermap"
           }
          ],
          "scattermapbox": [
           {
            "marker": {
             "colorbar": {
              "outlinewidth": 0,
              "ticks": ""
             }
            },
            "type": "scattermapbox"
           }
          ],
          "scatterpolar": [
           {
            "marker": {
             "colorbar": {
              "outlinewidth": 0,
              "ticks": ""
             }
            },
            "type": "scatterpolar"
           }
          ],
          "scatterpolargl": [
           {
            "marker": {
             "colorbar": {
              "outlinewidth": 0,
              "ticks": ""
             }
            },
            "type": "scatterpolargl"
           }
          ],
          "scatterternary": [
           {
            "marker": {
             "colorbar": {
              "outlinewidth": 0,
              "ticks": ""
             }
            },
            "type": "scatterternary"
           }
          ],
          "surface": [
           {
            "colorbar": {
             "outlinewidth": 0,
             "ticks": ""
            },
            "colorscale": [
             [
              0,
              "#0d0887"
             ],
             [
              0.1111111111111111,
              "#46039f"
             ],
             [
              0.2222222222222222,
              "#7201a8"
             ],
             [
              0.3333333333333333,
              "#9c179e"
             ],
             [
              0.4444444444444444,
              "#bd3786"
             ],
             [
              0.5555555555555556,
              "#d8576b"
             ],
             [
              0.6666666666666666,
              "#ed7953"
             ],
             [
              0.7777777777777778,
              "#fb9f3a"
             ],
             [
              0.8888888888888888,
              "#fdca26"
             ],
             [
              1,
              "#f0f921"
             ]
            ],
            "type": "surface"
           }
          ],
          "table": [
           {
            "cells": {
             "fill": {
              "color": "#EBF0F8"
             },
             "line": {
              "color": "white"
             }
            },
            "header": {
             "fill": {
              "color": "#C8D4E3"
             },
             "line": {
              "color": "white"
             }
            },
            "type": "table"
           }
          ]
         },
         "layout": {
          "annotationdefaults": {
           "arrowcolor": "#2a3f5f",
           "arrowhead": 0,
           "arrowwidth": 1
          },
          "autotypenumbers": "strict",
          "coloraxis": {
           "colorbar": {
            "outlinewidth": 0,
            "ticks": ""
           }
          },
          "colorscale": {
           "diverging": [
            [
             0,
             "#8e0152"
            ],
            [
             0.1,
             "#c51b7d"
            ],
            [
             0.2,
             "#de77ae"
            ],
            [
             0.3,
             "#f1b6da"
            ],
            [
             0.4,
             "#fde0ef"
            ],
            [
             0.5,
             "#f7f7f7"
            ],
            [
             0.6,
             "#e6f5d0"
            ],
            [
             0.7,
             "#b8e186"
            ],
            [
             0.8,
             "#7fbc41"
            ],
            [
             0.9,
             "#4d9221"
            ],
            [
             1,
             "#276419"
            ]
           ],
           "sequential": [
            [
             0,
             "#0d0887"
            ],
            [
             0.1111111111111111,
             "#46039f"
            ],
            [
             0.2222222222222222,
             "#7201a8"
            ],
            [
             0.3333333333333333,
             "#9c179e"
            ],
            [
             0.4444444444444444,
             "#bd3786"
            ],
            [
             0.5555555555555556,
             "#d8576b"
            ],
            [
             0.6666666666666666,
             "#ed7953"
            ],
            [
             0.7777777777777778,
             "#fb9f3a"
            ],
            [
             0.8888888888888888,
             "#fdca26"
            ],
            [
             1,
             "#f0f921"
            ]
           ],
           "sequentialminus": [
            [
             0,
             "#0d0887"
            ],
            [
             0.1111111111111111,
             "#46039f"
            ],
            [
             0.2222222222222222,
             "#7201a8"
            ],
            [
             0.3333333333333333,
             "#9c179e"
            ],
            [
             0.4444444444444444,
             "#bd3786"
            ],
            [
             0.5555555555555556,
             "#d8576b"
            ],
            [
             0.6666666666666666,
             "#ed7953"
            ],
            [
             0.7777777777777778,
             "#fb9f3a"
            ],
            [
             0.8888888888888888,
             "#fdca26"
            ],
            [
             1,
             "#f0f921"
            ]
           ]
          },
          "colorway": [
           "#636efa",
           "#EF553B",
           "#00cc96",
           "#ab63fa",
           "#FFA15A",
           "#19d3f3",
           "#FF6692",
           "#B6E880",
           "#FF97FF",
           "#FECB52"
          ],
          "font": {
           "color": "#2a3f5f"
          },
          "geo": {
           "bgcolor": "white",
           "lakecolor": "white",
           "landcolor": "#E5ECF6",
           "showlakes": true,
           "showland": true,
           "subunitcolor": "white"
          },
          "hoverlabel": {
           "align": "left"
          },
          "hovermode": "closest",
          "mapbox": {
           "style": "light"
          },
          "paper_bgcolor": "white",
          "plot_bgcolor": "#E5ECF6",
          "polar": {
           "angularaxis": {
            "gridcolor": "white",
            "linecolor": "white",
            "ticks": ""
           },
           "bgcolor": "#E5ECF6",
           "radialaxis": {
            "gridcolor": "white",
            "linecolor": "white",
            "ticks": ""
           }
          },
          "scene": {
           "xaxis": {
            "backgroundcolor": "#E5ECF6",
            "gridcolor": "white",
            "gridwidth": 2,
            "linecolor": "white",
            "showbackground": true,
            "ticks": "",
            "zerolinecolor": "white"
           },
           "yaxis": {
            "backgroundcolor": "#E5ECF6",
            "gridcolor": "white",
            "gridwidth": 2,
            "linecolor": "white",
            "showbackground": true,
            "ticks": "",
            "zerolinecolor": "white"
           },
           "zaxis": {
            "backgroundcolor": "#E5ECF6",
            "gridcolor": "white",
            "gridwidth": 2,
            "linecolor": "white",
            "showbackground": true,
            "ticks": "",
            "zerolinecolor": "white"
           }
          },
          "shapedefaults": {
           "line": {
            "color": "#2a3f5f"
           }
          },
          "ternary": {
           "aaxis": {
            "gridcolor": "white",
            "linecolor": "white",
            "ticks": ""
           },
           "baxis": {
            "gridcolor": "white",
            "linecolor": "white",
            "ticks": ""
           },
           "bgcolor": "#E5ECF6",
           "caxis": {
            "gridcolor": "white",
            "linecolor": "white",
            "ticks": ""
           }
          },
          "title": {
           "x": 0.05
          },
          "xaxis": {
           "automargin": true,
           "gridcolor": "white",
           "linecolor": "white",
           "ticks": "",
           "title": {
            "standoff": 15
           },
           "zerolinecolor": "white",
           "zerolinewidth": 2
          },
          "yaxis": {
           "automargin": true,
           "gridcolor": "white",
           "linecolor": "white",
           "ticks": "",
           "title": {
            "standoff": 15
           },
           "zerolinecolor": "white",
           "zerolinewidth": 2
          }
         }
        },
        "title": {
         "text": "3D UMAP Clusters - Agglomerative (complete, 3)"
        }
       }
      }
     },
     "metadata": {},
     "output_type": "display_data"
    },
    {
     "data": {
      "application/vnd.plotly.v1+json": {
       "config": {
        "plotlyServerURL": "https://plot.ly"
       },
       "data": [
        {
         "hoverinfo": "text",
         "marker": {
          "color": [
           "#636EFA",
           "#636EFA",
           "#EF553B",
           "#00CC96",
           "#00CC96",
           "#636EFA",
           "#00CC96",
           "#00CC96",
           "#00CC96",
           "#FFA15A",
           "#636EFA",
           "#636EFA",
           "#636EFA",
           "#636EFA",
           "#AB63FA",
           "#636EFA",
           "#636EFA",
           "#636EFA",
           "#636EFA",
           "#00CC96",
           "#00CC96",
           "#AB63FA",
           "#00CC96",
           "#00CC96",
           "#00CC96",
           "#636EFA",
           "#636EFA",
           "#636EFA",
           "#00CC96",
           "#00CC96",
           "#00CC96",
           "#636EFA",
           "#636EFA",
           "#636EFA",
           "#636EFA",
           "#00CC96",
           "#636EFA",
           "#00CC96",
           "#636EFA",
           "#00CC96",
           "#636EFA",
           "#636EFA",
           "#FFA15A",
           "#FFA15A",
           "#00CC96",
           "#636EFA",
           "#636EFA",
           "#636EFA",
           "#00CC96",
           "#636EFA",
           "#EF553B",
           "#636EFA",
           "#00CC96",
           "#EF553B",
           "#FFA15A",
           "#FFA15A",
           "#EF553B",
           "#636EFA",
           "#00CC96",
           "#00CC96",
           "#FFA15A",
           "#636EFA",
           "#636EFA",
           "#636EFA",
           "#636EFA",
           "#EF553B",
           "#636EFA",
           "#EF553B",
           "#EF553B",
           "#636EFA",
           "#EF553B",
           "#FFA15A",
           "#00CC96",
           "#FFA15A",
           "#00CC96",
           "#636EFA",
           "#EF553B",
           "#636EFA",
           "#00CC96",
           "#636EFA",
           "#636EFA",
           "#FFA15A",
           "#00CC96",
           "#00CC96",
           "#00CC96",
           "#00CC96",
           "#00CC96",
           "#636EFA",
           "#00CC96",
           "#636EFA",
           "#EF553B",
           "#00CC96",
           "#FFA15A",
           "#EF553B",
           "#EF553B",
           "#00CC96",
           "#636EFA",
           "#00CC96",
           "#EF553B",
           "#EF553B",
           "#FFA15A",
           "#00CC96",
           "#636EFA",
           "#FFA15A"
          ],
          "opacity": 0.8,
          "size": 5
         },
         "mode": "markers",
         "text": [
          "Cluster 0",
          "Cluster 0",
          "Cluster 1",
          "Cluster 2",
          "Cluster 2",
          "Cluster 0",
          "Cluster 2",
          "Cluster 2",
          "Cluster 2",
          "Cluster 4",
          "Cluster 0",
          "Cluster 0",
          "Cluster 0",
          "Cluster 0",
          "Cluster 3",
          "Cluster 0",
          "Cluster 0",
          "Cluster 0",
          "Cluster 0",
          "Cluster 2",
          "Cluster 2",
          "Cluster 3",
          "Cluster 2",
          "Cluster 2",
          "Cluster 2",
          "Cluster 0",
          "Cluster 0",
          "Cluster 0",
          "Cluster 2",
          "Cluster 2",
          "Cluster 2",
          "Cluster 0",
          "Cluster 0",
          "Cluster 0",
          "Cluster 0",
          "Cluster 2",
          "Cluster 0",
          "Cluster 2",
          "Cluster 0",
          "Cluster 2",
          "Cluster 0",
          "Cluster 0",
          "Cluster 4",
          "Cluster 4",
          "Cluster 2",
          "Cluster 0",
          "Cluster 0",
          "Cluster 0",
          "Cluster 2",
          "Cluster 0",
          "Cluster 1",
          "Cluster 0",
          "Cluster 2",
          "Cluster 1",
          "Cluster 4",
          "Cluster 4",
          "Cluster 1",
          "Cluster 0",
          "Cluster 2",
          "Cluster 2",
          "Cluster 4",
          "Cluster 0",
          "Cluster 0",
          "Cluster 0",
          "Cluster 0",
          "Cluster 1",
          "Cluster 0",
          "Cluster 1",
          "Cluster 1",
          "Cluster 0",
          "Cluster 1",
          "Cluster 4",
          "Cluster 2",
          "Cluster 4",
          "Cluster 2",
          "Cluster 0",
          "Cluster 1",
          "Cluster 0",
          "Cluster 2",
          "Cluster 0",
          "Cluster 0",
          "Cluster 4",
          "Cluster 2",
          "Cluster 2",
          "Cluster 2",
          "Cluster 2",
          "Cluster 2",
          "Cluster 0",
          "Cluster 2",
          "Cluster 0",
          "Cluster 1",
          "Cluster 2",
          "Cluster 4",
          "Cluster 1",
          "Cluster 1",
          "Cluster 2",
          "Cluster 0",
          "Cluster 2",
          "Cluster 1",
          "Cluster 1",
          "Cluster 4",
          "Cluster 2",
          "Cluster 0",
          "Cluster 4"
         ],
         "type": "scatter3d",
         "x": {
          "bdata": "x3vXQKnI20A235VArPM/QFGtWUBo/9BAAH6DQNqKd0BW4mVAjx7xQDMg3UAGnPlAy+rTQEcO+kBV0e9A0+LVQG5v3UBRl+ZAv4jQQNGmh0BKT2JAGk/tQChaVECPUHJAYWKKQPsM7UCkvd9Aj/3UQJNgdkAneFNANa1SQIPxz0AkJdpAXjrQQI1t20CF9YdA3JvHQIOckkAJh+hA/k1kQJkZ8UAMn9ZA1wv0QCxy9kC/CU1AdeT+QH1I7kAnvutA0QFyQGj15kB9e4JAQMP9QHY8gkAq5KNABX3+QNS8+0Ccr5lA2LvCQHLISkAZhnxA9V/6QG2V8kDdjslA8aLEQBq7xUAXvJtALfrZQCkdk0ArwqtArwHCQDRqsEB6z/lA/JVaQPia4EBDJjhADSXCQArRmUCyH8pAm9ZYQMD83UA4tOJA7Hf1QDoJd0D6TYdAsDWWQLFth0BiRpJAueb5QFaD+ECDM+hA5QWnQKGVfUCzifBAKleqQDwkqUAX3IlAV6zQQCF8g0DT/IlAsTyAQMUQ9kBlXolAhlLtQBoQ+kA=",
          "dtype": "f4"
         },
         "y": {
          "bdata": "bL5xQB2WeEBn4y5BzoorQQ6RNUEXsodAsF4sQZGfNkFn9y5BDvGgQGx8jkAFN6ZAtjx8QIVrqkB7FJtAuKp6QBk+UEDJb51A8NV1QEpqLEE0yi5BoAadQG56J0GBuDVBwFQoQR2urUD8o0RAkiaJQDWfKEEKojJBB9omQReBgECQh5xAGbeXQMWSkkAxnzBBut59QEiROUEWH1dAM8oxQU9Bk0CdEm5AwVmfQOM2mEB9nS9BVOKmQMRRZUB/E5BAzrA4QZAYkUCsxTRBfq2eQKcFL0Hjdi9BQZ6ZQEUQrUAKKjNBPnmXQJhNJ0GWYipBp5anQIxdskDzTpFAbueCQBv5kEAN8DZBBhWiQCqFK0EnTzRBs+uGQEMqMEFM4a9Acb8lQf8PlEBpHSpBVdCRQEzFKkFTootAd0kqQQRukECFgJNAUeOkQP77LUEJQTtBVCQrQS9oO0FXCzVBsH6uQDDfuUBEz0lAhfAsQZ6YKUFDCpxAYGIyQeKML0Gp/ClBDoN0QFsKOkHn0jRBk9s2QbtVnUC8DjhBfnFTQLdjmkA=",
          "dtype": "f4"
         },
         "z": {
          "bdata": "eyIGQd3SBEEwS8W/N/aivgCWqb6lbP1Af/yWv0xBjL8zgcO/xP7BQGUwBUHUmAhBY9wGQZw8BkFHCA9BPUHzQCFiBEHt+gxBkEIAQZ9j0b/D2O++ff0PQUO4b7+u+z+/QfXiv4t8C0FdbAJBIH7zQFHBR7+dcI2+6okWv3GmCUHXbAlBK3j8QJQLEEEr4yq/VD4DQeTiZL/bCQJB00KyvfSFCkF/CQpBUAvIQDynvUBRuNW+HKgEQRKuBkEXIBFBGppTv//+B0H88s6/hMf0QFJe/74G86W/CkLFQEULvEAIQIW/Sfj9QGNT0b7Nsq6/+rq8QNjABEEGKfNAhh4GQWqt+kBKPa+/ONkKQaMU478xnaK/zgv4QIe4sb8ye7lAEbiJv8ny7UCOebW+oczxQPpTwr+AswZBArC9v4dODUGqmw9ByAvCQDhv5b9uhBK/KFugv5OVeb/y3yq/p/oHQShftEDLDgZBvX6Vv+OpIr8XbspAt/rLv6wgmb9vOHW/oLj2QE5hnr+sUOO/x8LLv4Dov0DRZhW/U/cEQTaGt0A=",
          "dtype": "f4"
         }
        }
       ],
       "layout": {
        "margin": {
         "b": 0,
         "l": 0,
         "r": 0,
         "t": 30
        },
        "scene": {
         "xaxis": {
          "title": {
           "text": "UMAP Component 1"
          }
         },
         "yaxis": {
          "title": {
           "text": "UMAP Component 2"
          }
         },
         "zaxis": {
          "title": {
           "text": "UMAP Component 3"
          }
         }
        },
        "template": {
         "data": {
          "bar": [
           {
            "error_x": {
             "color": "#2a3f5f"
            },
            "error_y": {
             "color": "#2a3f5f"
            },
            "marker": {
             "line": {
              "color": "#E5ECF6",
              "width": 0.5
             },
             "pattern": {
              "fillmode": "overlay",
              "size": 10,
              "solidity": 0.2
             }
            },
            "type": "bar"
           }
          ],
          "barpolar": [
           {
            "marker": {
             "line": {
              "color": "#E5ECF6",
              "width": 0.5
             },
             "pattern": {
              "fillmode": "overlay",
              "size": 10,
              "solidity": 0.2
             }
            },
            "type": "barpolar"
           }
          ],
          "carpet": [
           {
            "aaxis": {
             "endlinecolor": "#2a3f5f",
             "gridcolor": "white",
             "linecolor": "white",
             "minorgridcolor": "white",
             "startlinecolor": "#2a3f5f"
            },
            "baxis": {
             "endlinecolor": "#2a3f5f",
             "gridcolor": "white",
             "linecolor": "white",
             "minorgridcolor": "white",
             "startlinecolor": "#2a3f5f"
            },
            "type": "carpet"
           }
          ],
          "choropleth": [
           {
            "colorbar": {
             "outlinewidth": 0,
             "ticks": ""
            },
            "type": "choropleth"
           }
          ],
          "contour": [
           {
            "colorbar": {
             "outlinewidth": 0,
             "ticks": ""
            },
            "colorscale": [
             [
              0,
              "#0d0887"
             ],
             [
              0.1111111111111111,
              "#46039f"
             ],
             [
              0.2222222222222222,
              "#7201a8"
             ],
             [
              0.3333333333333333,
              "#9c179e"
             ],
             [
              0.4444444444444444,
              "#bd3786"
             ],
             [
              0.5555555555555556,
              "#d8576b"
             ],
             [
              0.6666666666666666,
              "#ed7953"
             ],
             [
              0.7777777777777778,
              "#fb9f3a"
             ],
             [
              0.8888888888888888,
              "#fdca26"
             ],
             [
              1,
              "#f0f921"
             ]
            ],
            "type": "contour"
           }
          ],
          "contourcarpet": [
           {
            "colorbar": {
             "outlinewidth": 0,
             "ticks": ""
            },
            "type": "contourcarpet"
           }
          ],
          "heatmap": [
           {
            "colorbar": {
             "outlinewidth": 0,
             "ticks": ""
            },
            "colorscale": [
             [
              0,
              "#0d0887"
             ],
             [
              0.1111111111111111,
              "#46039f"
             ],
             [
              0.2222222222222222,
              "#7201a8"
             ],
             [
              0.3333333333333333,
              "#9c179e"
             ],
             [
              0.4444444444444444,
              "#bd3786"
             ],
             [
              0.5555555555555556,
              "#d8576b"
             ],
             [
              0.6666666666666666,
              "#ed7953"
             ],
             [
              0.7777777777777778,
              "#fb9f3a"
             ],
             [
              0.8888888888888888,
              "#fdca26"
             ],
             [
              1,
              "#f0f921"
             ]
            ],
            "type": "heatmap"
           }
          ],
          "histogram": [
           {
            "marker": {
             "pattern": {
              "fillmode": "overlay",
              "size": 10,
              "solidity": 0.2
             }
            },
            "type": "histogram"
           }
          ],
          "histogram2d": [
           {
            "colorbar": {
             "outlinewidth": 0,
             "ticks": ""
            },
            "colorscale": [
             [
              0,
              "#0d0887"
             ],
             [
              0.1111111111111111,
              "#46039f"
             ],
             [
              0.2222222222222222,
              "#7201a8"
             ],
             [
              0.3333333333333333,
              "#9c179e"
             ],
             [
              0.4444444444444444,
              "#bd3786"
             ],
             [
              0.5555555555555556,
              "#d8576b"
             ],
             [
              0.6666666666666666,
              "#ed7953"
             ],
             [
              0.7777777777777778,
              "#fb9f3a"
             ],
             [
              0.8888888888888888,
              "#fdca26"
             ],
             [
              1,
              "#f0f921"
             ]
            ],
            "type": "histogram2d"
           }
          ],
          "histogram2dcontour": [
           {
            "colorbar": {
             "outlinewidth": 0,
             "ticks": ""
            },
            "colorscale": [
             [
              0,
              "#0d0887"
             ],
             [
              0.1111111111111111,
              "#46039f"
             ],
             [
              0.2222222222222222,
              "#7201a8"
             ],
             [
              0.3333333333333333,
              "#9c179e"
             ],
             [
              0.4444444444444444,
              "#bd3786"
             ],
             [
              0.5555555555555556,
              "#d8576b"
             ],
             [
              0.6666666666666666,
              "#ed7953"
             ],
             [
              0.7777777777777778,
              "#fb9f3a"
             ],
             [
              0.8888888888888888,
              "#fdca26"
             ],
             [
              1,
              "#f0f921"
             ]
            ],
            "type": "histogram2dcontour"
           }
          ],
          "mesh3d": [
           {
            "colorbar": {
             "outlinewidth": 0,
             "ticks": ""
            },
            "type": "mesh3d"
           }
          ],
          "parcoords": [
           {
            "line": {
             "colorbar": {
              "outlinewidth": 0,
              "ticks": ""
             }
            },
            "type": "parcoords"
           }
          ],
          "pie": [
           {
            "automargin": true,
            "type": "pie"
           }
          ],
          "scatter": [
           {
            "fillpattern": {
             "fillmode": "overlay",
             "size": 10,
             "solidity": 0.2
            },
            "type": "scatter"
           }
          ],
          "scatter3d": [
           {
            "line": {
             "colorbar": {
              "outlinewidth": 0,
              "ticks": ""
             }
            },
            "marker": {
             "colorbar": {
              "outlinewidth": 0,
              "ticks": ""
             }
            },
            "type": "scatter3d"
           }
          ],
          "scattercarpet": [
           {
            "marker": {
             "colorbar": {
              "outlinewidth": 0,
              "ticks": ""
             }
            },
            "type": "scattercarpet"
           }
          ],
          "scattergeo": [
           {
            "marker": {
             "colorbar": {
              "outlinewidth": 0,
              "ticks": ""
             }
            },
            "type": "scattergeo"
           }
          ],
          "scattergl": [
           {
            "marker": {
             "colorbar": {
              "outlinewidth": 0,
              "ticks": ""
             }
            },
            "type": "scattergl"
           }
          ],
          "scattermap": [
           {
            "marker": {
             "colorbar": {
              "outlinewidth": 0,
              "ticks": ""
             }
            },
            "type": "scattermap"
           }
          ],
          "scattermapbox": [
           {
            "marker": {
             "colorbar": {
              "outlinewidth": 0,
              "ticks": ""
             }
            },
            "type": "scattermapbox"
           }
          ],
          "scatterpolar": [
           {
            "marker": {
             "colorbar": {
              "outlinewidth": 0,
              "ticks": ""
             }
            },
            "type": "scatterpolar"
           }
          ],
          "scatterpolargl": [
           {
            "marker": {
             "colorbar": {
              "outlinewidth": 0,
              "ticks": ""
             }
            },
            "type": "scatterpolargl"
           }
          ],
          "scatterternary": [
           {
            "marker": {
             "colorbar": {
              "outlinewidth": 0,
              "ticks": ""
             }
            },
            "type": "scatterternary"
           }
          ],
          "surface": [
           {
            "colorbar": {
             "outlinewidth": 0,
             "ticks": ""
            },
            "colorscale": [
             [
              0,
              "#0d0887"
             ],
             [
              0.1111111111111111,
              "#46039f"
             ],
             [
              0.2222222222222222,
              "#7201a8"
             ],
             [
              0.3333333333333333,
              "#9c179e"
             ],
             [
              0.4444444444444444,
              "#bd3786"
             ],
             [
              0.5555555555555556,
              "#d8576b"
             ],
             [
              0.6666666666666666,
              "#ed7953"
             ],
             [
              0.7777777777777778,
              "#fb9f3a"
             ],
             [
              0.8888888888888888,
              "#fdca26"
             ],
             [
              1,
              "#f0f921"
             ]
            ],
            "type": "surface"
           }
          ],
          "table": [
           {
            "cells": {
             "fill": {
              "color": "#EBF0F8"
             },
             "line": {
              "color": "white"
             }
            },
            "header": {
             "fill": {
              "color": "#C8D4E3"
             },
             "line": {
              "color": "white"
             }
            },
            "type": "table"
           }
          ]
         },
         "layout": {
          "annotationdefaults": {
           "arrowcolor": "#2a3f5f",
           "arrowhead": 0,
           "arrowwidth": 1
          },
          "autotypenumbers": "strict",
          "coloraxis": {
           "colorbar": {
            "outlinewidth": 0,
            "ticks": ""
           }
          },
          "colorscale": {
           "diverging": [
            [
             0,
             "#8e0152"
            ],
            [
             0.1,
             "#c51b7d"
            ],
            [
             0.2,
             "#de77ae"
            ],
            [
             0.3,
             "#f1b6da"
            ],
            [
             0.4,
             "#fde0ef"
            ],
            [
             0.5,
             "#f7f7f7"
            ],
            [
             0.6,
             "#e6f5d0"
            ],
            [
             0.7,
             "#b8e186"
            ],
            [
             0.8,
             "#7fbc41"
            ],
            [
             0.9,
             "#4d9221"
            ],
            [
             1,
             "#276419"
            ]
           ],
           "sequential": [
            [
             0,
             "#0d0887"
            ],
            [
             0.1111111111111111,
             "#46039f"
            ],
            [
             0.2222222222222222,
             "#7201a8"
            ],
            [
             0.3333333333333333,
             "#9c179e"
            ],
            [
             0.4444444444444444,
             "#bd3786"
            ],
            [
             0.5555555555555556,
             "#d8576b"
            ],
            [
             0.6666666666666666,
             "#ed7953"
            ],
            [
             0.7777777777777778,
             "#fb9f3a"
            ],
            [
             0.8888888888888888,
             "#fdca26"
            ],
            [
             1,
             "#f0f921"
            ]
           ],
           "sequentialminus": [
            [
             0,
             "#0d0887"
            ],
            [
             0.1111111111111111,
             "#46039f"
            ],
            [
             0.2222222222222222,
             "#7201a8"
            ],
            [
             0.3333333333333333,
             "#9c179e"
            ],
            [
             0.4444444444444444,
             "#bd3786"
            ],
            [
             0.5555555555555556,
             "#d8576b"
            ],
            [
             0.6666666666666666,
             "#ed7953"
            ],
            [
             0.7777777777777778,
             "#fb9f3a"
            ],
            [
             0.8888888888888888,
             "#fdca26"
            ],
            [
             1,
             "#f0f921"
            ]
           ]
          },
          "colorway": [
           "#636efa",
           "#EF553B",
           "#00cc96",
           "#ab63fa",
           "#FFA15A",
           "#19d3f3",
           "#FF6692",
           "#B6E880",
           "#FF97FF",
           "#FECB52"
          ],
          "font": {
           "color": "#2a3f5f"
          },
          "geo": {
           "bgcolor": "white",
           "lakecolor": "white",
           "landcolor": "#E5ECF6",
           "showlakes": true,
           "showland": true,
           "subunitcolor": "white"
          },
          "hoverlabel": {
           "align": "left"
          },
          "hovermode": "closest",
          "mapbox": {
           "style": "light"
          },
          "paper_bgcolor": "white",
          "plot_bgcolor": "#E5ECF6",
          "polar": {
           "angularaxis": {
            "gridcolor": "white",
            "linecolor": "white",
            "ticks": ""
           },
           "bgcolor": "#E5ECF6",
           "radialaxis": {
            "gridcolor": "white",
            "linecolor": "white",
            "ticks": ""
           }
          },
          "scene": {
           "xaxis": {
            "backgroundcolor": "#E5ECF6",
            "gridcolor": "white",
            "gridwidth": 2,
            "linecolor": "white",
            "showbackground": true,
            "ticks": "",
            "zerolinecolor": "white"
           },
           "yaxis": {
            "backgroundcolor": "#E5ECF6",
            "gridcolor": "white",
            "gridwidth": 2,
            "linecolor": "white",
            "showbackground": true,
            "ticks": "",
            "zerolinecolor": "white"
           },
           "zaxis": {
            "backgroundcolor": "#E5ECF6",
            "gridcolor": "white",
            "gridwidth": 2,
            "linecolor": "white",
            "showbackground": true,
            "ticks": "",
            "zerolinecolor": "white"
           }
          },
          "shapedefaults": {
           "line": {
            "color": "#2a3f5f"
           }
          },
          "ternary": {
           "aaxis": {
            "gridcolor": "white",
            "linecolor": "white",
            "ticks": ""
           },
           "baxis": {
            "gridcolor": "white",
            "linecolor": "white",
            "ticks": ""
           },
           "bgcolor": "#E5ECF6",
           "caxis": {
            "gridcolor": "white",
            "linecolor": "white",
            "ticks": ""
           }
          },
          "title": {
           "x": 0.05
          },
          "xaxis": {
           "automargin": true,
           "gridcolor": "white",
           "linecolor": "white",
           "ticks": "",
           "title": {
            "standoff": 15
           },
           "zerolinecolor": "white",
           "zerolinewidth": 2
          },
          "yaxis": {
           "automargin": true,
           "gridcolor": "white",
           "linecolor": "white",
           "ticks": "",
           "title": {
            "standoff": 15
           },
           "zerolinecolor": "white",
           "zerolinewidth": 2
          }
         }
        },
        "title": {
         "text": "3D UMAP Clusters - Agglomerative (complete, 5)"
        }
       }
      }
     },
     "metadata": {},
     "output_type": "display_data"
    },
    {
     "data": {
      "application/vnd.plotly.v1+json": {
       "config": {
        "plotlyServerURL": "https://plot.ly"
       },
       "data": [
        {
         "hoverinfo": "text",
         "marker": {
          "color": [
           "#636EFA",
           "#636EFA",
           "#EF553B",
           "#00CC96",
           "#00CC96",
           "#636EFA",
           "#00CC96",
           "#00CC96",
           "#00CC96",
           "#FFA15A",
           "#636EFA",
           "#636EFA",
           "#636EFA",
           "#636EFA",
           "#AB63FA",
           "#636EFA",
           "#19D3F3",
           "#636EFA",
           "#636EFA",
           "#00CC96",
           "#00CC96",
           "#AB63FA",
           "#00CC96",
           "#00CC96",
           "#00CC96",
           "#636EFA",
           "#19D3F3",
           "#636EFA",
           "#00CC96",
           "#00CC96",
           "#00CC96",
           "#636EFA",
           "#636EFA",
           "#636EFA",
           "#636EFA",
           "#00CC96",
           "#636EFA",
           "#00CC96",
           "#19D3F3",
           "#00CC96",
           "#636EFA",
           "#636EFA",
           "#FFA15A",
           "#FFA15A",
           "#00CC96",
           "#636EFA",
           "#19D3F3",
           "#636EFA",
           "#00CC96",
           "#636EFA",
           "#EF553B",
           "#636EFA",
           "#00CC96",
           "#EF553B",
           "#FFA15A",
           "#FFA15A",
           "#EF553B",
           "#636EFA",
           "#00CC96",
           "#00CC96",
           "#FFA15A",
           "#636EFA",
           "#636EFA",
           "#636EFA",
           "#636EFA",
           "#EF553B",
           "#636EFA",
           "#EF553B",
           "#EF553B",
           "#636EFA",
           "#EF553B",
           "#FFA15A",
           "#00CC96",
           "#FFA15A",
           "#00CC96",
           "#636EFA",
           "#EF553B",
           "#636EFA",
           "#00CC96",
           "#636EFA",
           "#636EFA",
           "#FFA15A",
           "#00CC96",
           "#00CC96",
           "#00CC96",
           "#00CC96",
           "#00CC96",
           "#636EFA",
           "#00CC96",
           "#19D3F3",
           "#EF553B",
           "#00CC96",
           "#FFA15A",
           "#EF553B",
           "#EF553B",
           "#00CC96",
           "#636EFA",
           "#00CC96",
           "#EF553B",
           "#EF553B",
           "#FFA15A",
           "#00CC96",
           "#19D3F3",
           "#FFA15A"
          ],
          "opacity": 0.8,
          "size": 5
         },
         "mode": "markers",
         "text": [
          "Cluster 0",
          "Cluster 0",
          "Cluster 1",
          "Cluster 2",
          "Cluster 2",
          "Cluster 0",
          "Cluster 2",
          "Cluster 2",
          "Cluster 2",
          "Cluster 4",
          "Cluster 0",
          "Cluster 0",
          "Cluster 0",
          "Cluster 0",
          "Cluster 3",
          "Cluster 0",
          "Cluster 5",
          "Cluster 0",
          "Cluster 0",
          "Cluster 2",
          "Cluster 2",
          "Cluster 3",
          "Cluster 2",
          "Cluster 2",
          "Cluster 2",
          "Cluster 0",
          "Cluster 5",
          "Cluster 0",
          "Cluster 2",
          "Cluster 2",
          "Cluster 2",
          "Cluster 0",
          "Cluster 0",
          "Cluster 0",
          "Cluster 0",
          "Cluster 2",
          "Cluster 0",
          "Cluster 2",
          "Cluster 5",
          "Cluster 2",
          "Cluster 0",
          "Cluster 0",
          "Cluster 4",
          "Cluster 4",
          "Cluster 2",
          "Cluster 0",
          "Cluster 5",
          "Cluster 0",
          "Cluster 2",
          "Cluster 0",
          "Cluster 1",
          "Cluster 0",
          "Cluster 2",
          "Cluster 1",
          "Cluster 4",
          "Cluster 4",
          "Cluster 1",
          "Cluster 0",
          "Cluster 2",
          "Cluster 2",
          "Cluster 4",
          "Cluster 0",
          "Cluster 0",
          "Cluster 0",
          "Cluster 0",
          "Cluster 1",
          "Cluster 0",
          "Cluster 1",
          "Cluster 1",
          "Cluster 0",
          "Cluster 1",
          "Cluster 4",
          "Cluster 2",
          "Cluster 4",
          "Cluster 2",
          "Cluster 0",
          "Cluster 1",
          "Cluster 0",
          "Cluster 2",
          "Cluster 0",
          "Cluster 0",
          "Cluster 4",
          "Cluster 2",
          "Cluster 2",
          "Cluster 2",
          "Cluster 2",
          "Cluster 2",
          "Cluster 0",
          "Cluster 2",
          "Cluster 5",
          "Cluster 1",
          "Cluster 2",
          "Cluster 4",
          "Cluster 1",
          "Cluster 1",
          "Cluster 2",
          "Cluster 0",
          "Cluster 2",
          "Cluster 1",
          "Cluster 1",
          "Cluster 4",
          "Cluster 2",
          "Cluster 5",
          "Cluster 4"
         ],
         "type": "scatter3d",
         "x": {
          "bdata": "x3vXQKnI20A235VArPM/QFGtWUBo/9BAAH6DQNqKd0BW4mVAjx7xQDMg3UAGnPlAy+rTQEcO+kBV0e9A0+LVQG5v3UBRl+ZAv4jQQNGmh0BKT2JAGk/tQChaVECPUHJAYWKKQPsM7UCkvd9Aj/3UQJNgdkAneFNANa1SQIPxz0AkJdpAXjrQQI1t20CF9YdA3JvHQIOckkAJh+hA/k1kQJkZ8UAMn9ZA1wv0QCxy9kC/CU1AdeT+QH1I7kAnvutA0QFyQGj15kB9e4JAQMP9QHY8gkAq5KNABX3+QNS8+0Ccr5lA2LvCQHLISkAZhnxA9V/6QG2V8kDdjslA8aLEQBq7xUAXvJtALfrZQCkdk0ArwqtArwHCQDRqsEB6z/lA/JVaQPia4EBDJjhADSXCQArRmUCyH8pAm9ZYQMD83UA4tOJA7Hf1QDoJd0D6TYdAsDWWQLFth0BiRpJAueb5QFaD+ECDM+hA5QWnQKGVfUCzifBAKleqQDwkqUAX3IlAV6zQQCF8g0DT/IlAsTyAQMUQ9kBlXolAhlLtQBoQ+kA=",
          "dtype": "f4"
         },
         "y": {
          "bdata": "bL5xQB2WeEBn4y5BzoorQQ6RNUEXsodAsF4sQZGfNkFn9y5BDvGgQGx8jkAFN6ZAtjx8QIVrqkB7FJtAuKp6QBk+UEDJb51A8NV1QEpqLEE0yi5BoAadQG56J0GBuDVBwFQoQR2urUD8o0RAkiaJQDWfKEEKojJBB9omQReBgECQh5xAGbeXQMWSkkAxnzBBut59QEiROUEWH1dAM8oxQU9Bk0CdEm5AwVmfQOM2mEB9nS9BVOKmQMRRZUB/E5BAzrA4QZAYkUCsxTRBfq2eQKcFL0Hjdi9BQZ6ZQEUQrUAKKjNBPnmXQJhNJ0GWYipBp5anQIxdskDzTpFAbueCQBv5kEAN8DZBBhWiQCqFK0EnTzRBs+uGQEMqMEFM4a9Acb8lQf8PlEBpHSpBVdCRQEzFKkFTootAd0kqQQRukECFgJNAUeOkQP77LUEJQTtBVCQrQS9oO0FXCzVBsH6uQDDfuUBEz0lAhfAsQZ6YKUFDCpxAYGIyQeKML0Gp/ClBDoN0QFsKOkHn0jRBk9s2QbtVnUC8DjhBfnFTQLdjmkA=",
          "dtype": "f4"
         },
         "z": {
          "bdata": "eyIGQd3SBEEwS8W/N/aivgCWqb6lbP1Af/yWv0xBjL8zgcO/xP7BQGUwBUHUmAhBY9wGQZw8BkFHCA9BPUHzQCFiBEHt+gxBkEIAQZ9j0b/D2O++ff0PQUO4b7+u+z+/QfXiv4t8C0FdbAJBIH7zQFHBR7+dcI2+6okWv3GmCUHXbAlBK3j8QJQLEEEr4yq/VD4DQeTiZL/bCQJB00KyvfSFCkF/CQpBUAvIQDynvUBRuNW+HKgEQRKuBkEXIBFBGppTv//+B0H88s6/hMf0QFJe/74G86W/CkLFQEULvEAIQIW/Sfj9QGNT0b7Nsq6/+rq8QNjABEEGKfNAhh4GQWqt+kBKPa+/ONkKQaMU478xnaK/zgv4QIe4sb8ye7lAEbiJv8ny7UCOebW+oczxQPpTwr+AswZBArC9v4dODUGqmw9ByAvCQDhv5b9uhBK/KFugv5OVeb/y3yq/p/oHQShftEDLDgZBvX6Vv+OpIr8XbspAt/rLv6wgmb9vOHW/oLj2QE5hnr+sUOO/x8LLv4Dov0DRZhW/U/cEQTaGt0A=",
          "dtype": "f4"
         }
        }
       ],
       "layout": {
        "margin": {
         "b": 0,
         "l": 0,
         "r": 0,
         "t": 30
        },
        "scene": {
         "xaxis": {
          "title": {
           "text": "UMAP Component 1"
          }
         },
         "yaxis": {
          "title": {
           "text": "UMAP Component 2"
          }
         },
         "zaxis": {
          "title": {
           "text": "UMAP Component 3"
          }
         }
        },
        "template": {
         "data": {
          "bar": [
           {
            "error_x": {
             "color": "#2a3f5f"
            },
            "error_y": {
             "color": "#2a3f5f"
            },
            "marker": {
             "line": {
              "color": "#E5ECF6",
              "width": 0.5
             },
             "pattern": {
              "fillmode": "overlay",
              "size": 10,
              "solidity": 0.2
             }
            },
            "type": "bar"
           }
          ],
          "barpolar": [
           {
            "marker": {
             "line": {
              "color": "#E5ECF6",
              "width": 0.5
             },
             "pattern": {
              "fillmode": "overlay",
              "size": 10,
              "solidity": 0.2
             }
            },
            "type": "barpolar"
           }
          ],
          "carpet": [
           {
            "aaxis": {
             "endlinecolor": "#2a3f5f",
             "gridcolor": "white",
             "linecolor": "white",
             "minorgridcolor": "white",
             "startlinecolor": "#2a3f5f"
            },
            "baxis": {
             "endlinecolor": "#2a3f5f",
             "gridcolor": "white",
             "linecolor": "white",
             "minorgridcolor": "white",
             "startlinecolor": "#2a3f5f"
            },
            "type": "carpet"
           }
          ],
          "choropleth": [
           {
            "colorbar": {
             "outlinewidth": 0,
             "ticks": ""
            },
            "type": "choropleth"
           }
          ],
          "contour": [
           {
            "colorbar": {
             "outlinewidth": 0,
             "ticks": ""
            },
            "colorscale": [
             [
              0,
              "#0d0887"
             ],
             [
              0.1111111111111111,
              "#46039f"
             ],
             [
              0.2222222222222222,
              "#7201a8"
             ],
             [
              0.3333333333333333,
              "#9c179e"
             ],
             [
              0.4444444444444444,
              "#bd3786"
             ],
             [
              0.5555555555555556,
              "#d8576b"
             ],
             [
              0.6666666666666666,
              "#ed7953"
             ],
             [
              0.7777777777777778,
              "#fb9f3a"
             ],
             [
              0.8888888888888888,
              "#fdca26"
             ],
             [
              1,
              "#f0f921"
             ]
            ],
            "type": "contour"
           }
          ],
          "contourcarpet": [
           {
            "colorbar": {
             "outlinewidth": 0,
             "ticks": ""
            },
            "type": "contourcarpet"
           }
          ],
          "heatmap": [
           {
            "colorbar": {
             "outlinewidth": 0,
             "ticks": ""
            },
            "colorscale": [
             [
              0,
              "#0d0887"
             ],
             [
              0.1111111111111111,
              "#46039f"
             ],
             [
              0.2222222222222222,
              "#7201a8"
             ],
             [
              0.3333333333333333,
              "#9c179e"
             ],
             [
              0.4444444444444444,
              "#bd3786"
             ],
             [
              0.5555555555555556,
              "#d8576b"
             ],
             [
              0.6666666666666666,
              "#ed7953"
             ],
             [
              0.7777777777777778,
              "#fb9f3a"
             ],
             [
              0.8888888888888888,
              "#fdca26"
             ],
             [
              1,
              "#f0f921"
             ]
            ],
            "type": "heatmap"
           }
          ],
          "histogram": [
           {
            "marker": {
             "pattern": {
              "fillmode": "overlay",
              "size": 10,
              "solidity": 0.2
             }
            },
            "type": "histogram"
           }
          ],
          "histogram2d": [
           {
            "colorbar": {
             "outlinewidth": 0,
             "ticks": ""
            },
            "colorscale": [
             [
              0,
              "#0d0887"
             ],
             [
              0.1111111111111111,
              "#46039f"
             ],
             [
              0.2222222222222222,
              "#7201a8"
             ],
             [
              0.3333333333333333,
              "#9c179e"
             ],
             [
              0.4444444444444444,
              "#bd3786"
             ],
             [
              0.5555555555555556,
              "#d8576b"
             ],
             [
              0.6666666666666666,
              "#ed7953"
             ],
             [
              0.7777777777777778,
              "#fb9f3a"
             ],
             [
              0.8888888888888888,
              "#fdca26"
             ],
             [
              1,
              "#f0f921"
             ]
            ],
            "type": "histogram2d"
           }
          ],
          "histogram2dcontour": [
           {
            "colorbar": {
             "outlinewidth": 0,
             "ticks": ""
            },
            "colorscale": [
             [
              0,
              "#0d0887"
             ],
             [
              0.1111111111111111,
              "#46039f"
             ],
             [
              0.2222222222222222,
              "#7201a8"
             ],
             [
              0.3333333333333333,
              "#9c179e"
             ],
             [
              0.4444444444444444,
              "#bd3786"
             ],
             [
              0.5555555555555556,
              "#d8576b"
             ],
             [
              0.6666666666666666,
              "#ed7953"
             ],
             [
              0.7777777777777778,
              "#fb9f3a"
             ],
             [
              0.8888888888888888,
              "#fdca26"
             ],
             [
              1,
              "#f0f921"
             ]
            ],
            "type": "histogram2dcontour"
           }
          ],
          "mesh3d": [
           {
            "colorbar": {
             "outlinewidth": 0,
             "ticks": ""
            },
            "type": "mesh3d"
           }
          ],
          "parcoords": [
           {
            "line": {
             "colorbar": {
              "outlinewidth": 0,
              "ticks": ""
             }
            },
            "type": "parcoords"
           }
          ],
          "pie": [
           {
            "automargin": true,
            "type": "pie"
           }
          ],
          "scatter": [
           {
            "fillpattern": {
             "fillmode": "overlay",
             "size": 10,
             "solidity": 0.2
            },
            "type": "scatter"
           }
          ],
          "scatter3d": [
           {
            "line": {
             "colorbar": {
              "outlinewidth": 0,
              "ticks": ""
             }
            },
            "marker": {
             "colorbar": {
              "outlinewidth": 0,
              "ticks": ""
             }
            },
            "type": "scatter3d"
           }
          ],
          "scattercarpet": [
           {
            "marker": {
             "colorbar": {
              "outlinewidth": 0,
              "ticks": ""
             }
            },
            "type": "scattercarpet"
           }
          ],
          "scattergeo": [
           {
            "marker": {
             "colorbar": {
              "outlinewidth": 0,
              "ticks": ""
             }
            },
            "type": "scattergeo"
           }
          ],
          "scattergl": [
           {
            "marker": {
             "colorbar": {
              "outlinewidth": 0,
              "ticks": ""
             }
            },
            "type": "scattergl"
           }
          ],
          "scattermap": [
           {
            "marker": {
             "colorbar": {
              "outlinewidth": 0,
              "ticks": ""
             }
            },
            "type": "scattermap"
           }
          ],
          "scattermapbox": [
           {
            "marker": {
             "colorbar": {
              "outlinewidth": 0,
              "ticks": ""
             }
            },
            "type": "scattermapbox"
           }
          ],
          "scatterpolar": [
           {
            "marker": {
             "colorbar": {
              "outlinewidth": 0,
              "ticks": ""
             }
            },
            "type": "scatterpolar"
           }
          ],
          "scatterpolargl": [
           {
            "marker": {
             "colorbar": {
              "outlinewidth": 0,
              "ticks": ""
             }
            },
            "type": "scatterpolargl"
           }
          ],
          "scatterternary": [
           {
            "marker": {
             "colorbar": {
              "outlinewidth": 0,
              "ticks": ""
             }
            },
            "type": "scatterternary"
           }
          ],
          "surface": [
           {
            "colorbar": {
             "outlinewidth": 0,
             "ticks": ""
            },
            "colorscale": [
             [
              0,
              "#0d0887"
             ],
             [
              0.1111111111111111,
              "#46039f"
             ],
             [
              0.2222222222222222,
              "#7201a8"
             ],
             [
              0.3333333333333333,
              "#9c179e"
             ],
             [
              0.4444444444444444,
              "#bd3786"
             ],
             [
              0.5555555555555556,
              "#d8576b"
             ],
             [
              0.6666666666666666,
              "#ed7953"
             ],
             [
              0.7777777777777778,
              "#fb9f3a"
             ],
             [
              0.8888888888888888,
              "#fdca26"
             ],
             [
              1,
              "#f0f921"
             ]
            ],
            "type": "surface"
           }
          ],
          "table": [
           {
            "cells": {
             "fill": {
              "color": "#EBF0F8"
             },
             "line": {
              "color": "white"
             }
            },
            "header": {
             "fill": {
              "color": "#C8D4E3"
             },
             "line": {
              "color": "white"
             }
            },
            "type": "table"
           }
          ]
         },
         "layout": {
          "annotationdefaults": {
           "arrowcolor": "#2a3f5f",
           "arrowhead": 0,
           "arrowwidth": 1
          },
          "autotypenumbers": "strict",
          "coloraxis": {
           "colorbar": {
            "outlinewidth": 0,
            "ticks": ""
           }
          },
          "colorscale": {
           "diverging": [
            [
             0,
             "#8e0152"
            ],
            [
             0.1,
             "#c51b7d"
            ],
            [
             0.2,
             "#de77ae"
            ],
            [
             0.3,
             "#f1b6da"
            ],
            [
             0.4,
             "#fde0ef"
            ],
            [
             0.5,
             "#f7f7f7"
            ],
            [
             0.6,
             "#e6f5d0"
            ],
            [
             0.7,
             "#b8e186"
            ],
            [
             0.8,
             "#7fbc41"
            ],
            [
             0.9,
             "#4d9221"
            ],
            [
             1,
             "#276419"
            ]
           ],
           "sequential": [
            [
             0,
             "#0d0887"
            ],
            [
             0.1111111111111111,
             "#46039f"
            ],
            [
             0.2222222222222222,
             "#7201a8"
            ],
            [
             0.3333333333333333,
             "#9c179e"
            ],
            [
             0.4444444444444444,
             "#bd3786"
            ],
            [
             0.5555555555555556,
             "#d8576b"
            ],
            [
             0.6666666666666666,
             "#ed7953"
            ],
            [
             0.7777777777777778,
             "#fb9f3a"
            ],
            [
             0.8888888888888888,
             "#fdca26"
            ],
            [
             1,
             "#f0f921"
            ]
           ],
           "sequentialminus": [
            [
             0,
             "#0d0887"
            ],
            [
             0.1111111111111111,
             "#46039f"
            ],
            [
             0.2222222222222222,
             "#7201a8"
            ],
            [
             0.3333333333333333,
             "#9c179e"
            ],
            [
             0.4444444444444444,
             "#bd3786"
            ],
            [
             0.5555555555555556,
             "#d8576b"
            ],
            [
             0.6666666666666666,
             "#ed7953"
            ],
            [
             0.7777777777777778,
             "#fb9f3a"
            ],
            [
             0.8888888888888888,
             "#fdca26"
            ],
            [
             1,
             "#f0f921"
            ]
           ]
          },
          "colorway": [
           "#636efa",
           "#EF553B",
           "#00cc96",
           "#ab63fa",
           "#FFA15A",
           "#19d3f3",
           "#FF6692",
           "#B6E880",
           "#FF97FF",
           "#FECB52"
          ],
          "font": {
           "color": "#2a3f5f"
          },
          "geo": {
           "bgcolor": "white",
           "lakecolor": "white",
           "landcolor": "#E5ECF6",
           "showlakes": true,
           "showland": true,
           "subunitcolor": "white"
          },
          "hoverlabel": {
           "align": "left"
          },
          "hovermode": "closest",
          "mapbox": {
           "style": "light"
          },
          "paper_bgcolor": "white",
          "plot_bgcolor": "#E5ECF6",
          "polar": {
           "angularaxis": {
            "gridcolor": "white",
            "linecolor": "white",
            "ticks": ""
           },
           "bgcolor": "#E5ECF6",
           "radialaxis": {
            "gridcolor": "white",
            "linecolor": "white",
            "ticks": ""
           }
          },
          "scene": {
           "xaxis": {
            "backgroundcolor": "#E5ECF6",
            "gridcolor": "white",
            "gridwidth": 2,
            "linecolor": "white",
            "showbackground": true,
            "ticks": "",
            "zerolinecolor": "white"
           },
           "yaxis": {
            "backgroundcolor": "#E5ECF6",
            "gridcolor": "white",
            "gridwidth": 2,
            "linecolor": "white",
            "showbackground": true,
            "ticks": "",
            "zerolinecolor": "white"
           },
           "zaxis": {
            "backgroundcolor": "#E5ECF6",
            "gridcolor": "white",
            "gridwidth": 2,
            "linecolor": "white",
            "showbackground": true,
            "ticks": "",
            "zerolinecolor": "white"
           }
          },
          "shapedefaults": {
           "line": {
            "color": "#2a3f5f"
           }
          },
          "ternary": {
           "aaxis": {
            "gridcolor": "white",
            "linecolor": "white",
            "ticks": ""
           },
           "baxis": {
            "gridcolor": "white",
            "linecolor": "white",
            "ticks": ""
           },
           "bgcolor": "#E5ECF6",
           "caxis": {
            "gridcolor": "white",
            "linecolor": "white",
            "ticks": ""
           }
          },
          "title": {
           "x": 0.05
          },
          "xaxis": {
           "automargin": true,
           "gridcolor": "white",
           "linecolor": "white",
           "ticks": "",
           "title": {
            "standoff": 15
           },
           "zerolinecolor": "white",
           "zerolinewidth": 2
          },
          "yaxis": {
           "automargin": true,
           "gridcolor": "white",
           "linecolor": "white",
           "ticks": "",
           "title": {
            "standoff": 15
           },
           "zerolinecolor": "white",
           "zerolinewidth": 2
          }
         }
        },
        "title": {
         "text": "3D UMAP Clusters - Agglomerative (complete, 6)"
        }
       }
      }
     },
     "metadata": {},
     "output_type": "display_data"
    },
    {
     "data": {
      "application/vnd.plotly.v1+json": {
       "config": {
        "plotlyServerURL": "https://plot.ly"
       },
       "data": [
        {
         "hoverinfo": "text",
         "marker": {
          "color": [
           "#636EFA",
           "#636EFA",
           "#00CC96",
           "#00CC96",
           "#00CC96",
           "#636EFA",
           "#00CC96",
           "#00CC96",
           "#00CC96",
           "#EF553B",
           "#636EFA",
           "#636EFA",
           "#636EFA",
           "#636EFA",
           "#636EFA",
           "#636EFA",
           "#636EFA",
           "#636EFA",
           "#636EFA",
           "#00CC96",
           "#00CC96",
           "#636EFA",
           "#00CC96",
           "#00CC96",
           "#00CC96",
           "#636EFA",
           "#636EFA",
           "#636EFA",
           "#00CC96",
           "#00CC96",
           "#00CC96",
           "#636EFA",
           "#636EFA",
           "#636EFA",
           "#636EFA",
           "#00CC96",
           "#636EFA",
           "#00CC96",
           "#636EFA",
           "#00CC96",
           "#636EFA",
           "#636EFA",
           "#EF553B",
           "#EF553B",
           "#00CC96",
           "#636EFA",
           "#636EFA",
           "#636EFA",
           "#00CC96",
           "#636EFA",
           "#00CC96",
           "#636EFA",
           "#00CC96",
           "#00CC96",
           "#EF553B",
           "#EF553B",
           "#00CC96",
           "#636EFA",
           "#00CC96",
           "#00CC96",
           "#EF553B",
           "#636EFA",
           "#636EFA",
           "#636EFA",
           "#636EFA",
           "#00CC96",
           "#636EFA",
           "#00CC96",
           "#00CC96",
           "#636EFA",
           "#00CC96",
           "#EF553B",
           "#00CC96",
           "#636EFA",
           "#00CC96",
           "#636EFA",
           "#00CC96",
           "#636EFA",
           "#00CC96",
           "#636EFA",
           "#636EFA",
           "#EF553B",
           "#00CC96",
           "#00CC96",
           "#00CC96",
           "#00CC96",
           "#00CC96",
           "#636EFA",
           "#00CC96",
           "#636EFA",
           "#00CC96",
           "#00CC96",
           "#EF553B",
           "#00CC96",
           "#00CC96",
           "#00CC96",
           "#636EFA",
           "#00CC96",
           "#00CC96",
           "#00CC96",
           "#EF553B",
           "#00CC96",
           "#636EFA",
           "#EF553B"
          ],
          "opacity": 0.8,
          "size": 5
         },
         "mode": "markers",
         "text": [
          "Cluster 0",
          "Cluster 0",
          "Cluster 2",
          "Cluster 2",
          "Cluster 2",
          "Cluster 0",
          "Cluster 2",
          "Cluster 2",
          "Cluster 2",
          "Cluster 1",
          "Cluster 0",
          "Cluster 0",
          "Cluster 0",
          "Cluster 0",
          "Cluster 0",
          "Cluster 0",
          "Cluster 0",
          "Cluster 0",
          "Cluster 0",
          "Cluster 2",
          "Cluster 2",
          "Cluster 0",
          "Cluster 2",
          "Cluster 2",
          "Cluster 2",
          "Cluster 0",
          "Cluster 0",
          "Cluster 0",
          "Cluster 2",
          "Cluster 2",
          "Cluster 2",
          "Cluster 0",
          "Cluster 0",
          "Cluster 0",
          "Cluster 0",
          "Cluster 2",
          "Cluster 0",
          "Cluster 2",
          "Cluster 0",
          "Cluster 2",
          "Cluster 0",
          "Cluster 0",
          "Cluster 1",
          "Cluster 1",
          "Cluster 2",
          "Cluster 0",
          "Cluster 0",
          "Cluster 0",
          "Cluster 2",
          "Cluster 0",
          "Cluster 2",
          "Cluster 0",
          "Cluster 2",
          "Cluster 2",
          "Cluster 1",
          "Cluster 1",
          "Cluster 2",
          "Cluster 0",
          "Cluster 2",
          "Cluster 2",
          "Cluster 1",
          "Cluster 0",
          "Cluster 0",
          "Cluster 0",
          "Cluster 0",
          "Cluster 2",
          "Cluster 0",
          "Cluster 2",
          "Cluster 2",
          "Cluster 0",
          "Cluster 2",
          "Cluster 1",
          "Cluster 2",
          "Cluster 0",
          "Cluster 2",
          "Cluster 0",
          "Cluster 2",
          "Cluster 0",
          "Cluster 2",
          "Cluster 0",
          "Cluster 0",
          "Cluster 1",
          "Cluster 2",
          "Cluster 2",
          "Cluster 2",
          "Cluster 2",
          "Cluster 2",
          "Cluster 0",
          "Cluster 2",
          "Cluster 0",
          "Cluster 2",
          "Cluster 2",
          "Cluster 1",
          "Cluster 2",
          "Cluster 2",
          "Cluster 2",
          "Cluster 0",
          "Cluster 2",
          "Cluster 2",
          "Cluster 2",
          "Cluster 1",
          "Cluster 2",
          "Cluster 0",
          "Cluster 1"
         ],
         "type": "scatter3d",
         "x": {
          "bdata": "x3vXQKnI20A235VArPM/QFGtWUBo/9BAAH6DQNqKd0BW4mVAjx7xQDMg3UAGnPlAy+rTQEcO+kBV0e9A0+LVQG5v3UBRl+ZAv4jQQNGmh0BKT2JAGk/tQChaVECPUHJAYWKKQPsM7UCkvd9Aj/3UQJNgdkAneFNANa1SQIPxz0AkJdpAXjrQQI1t20CF9YdA3JvHQIOckkAJh+hA/k1kQJkZ8UAMn9ZA1wv0QCxy9kC/CU1AdeT+QH1I7kAnvutA0QFyQGj15kB9e4JAQMP9QHY8gkAq5KNABX3+QNS8+0Ccr5lA2LvCQHLISkAZhnxA9V/6QG2V8kDdjslA8aLEQBq7xUAXvJtALfrZQCkdk0ArwqtArwHCQDRqsEB6z/lA/JVaQPia4EBDJjhADSXCQArRmUCyH8pAm9ZYQMD83UA4tOJA7Hf1QDoJd0D6TYdAsDWWQLFth0BiRpJAueb5QFaD+ECDM+hA5QWnQKGVfUCzifBAKleqQDwkqUAX3IlAV6zQQCF8g0DT/IlAsTyAQMUQ9kBlXolAhlLtQBoQ+kA=",
          "dtype": "f4"
         },
         "y": {
          "bdata": "bL5xQB2WeEBn4y5BzoorQQ6RNUEXsodAsF4sQZGfNkFn9y5BDvGgQGx8jkAFN6ZAtjx8QIVrqkB7FJtAuKp6QBk+UEDJb51A8NV1QEpqLEE0yi5BoAadQG56J0GBuDVBwFQoQR2urUD8o0RAkiaJQDWfKEEKojJBB9omQReBgECQh5xAGbeXQMWSkkAxnzBBut59QEiROUEWH1dAM8oxQU9Bk0CdEm5AwVmfQOM2mEB9nS9BVOKmQMRRZUB/E5BAzrA4QZAYkUCsxTRBfq2eQKcFL0Hjdi9BQZ6ZQEUQrUAKKjNBPnmXQJhNJ0GWYipBp5anQIxdskDzTpFAbueCQBv5kEAN8DZBBhWiQCqFK0EnTzRBs+uGQEMqMEFM4a9Acb8lQf8PlEBpHSpBVdCRQEzFKkFTootAd0kqQQRukECFgJNAUeOkQP77LUEJQTtBVCQrQS9oO0FXCzVBsH6uQDDfuUBEz0lAhfAsQZ6YKUFDCpxAYGIyQeKML0Gp/ClBDoN0QFsKOkHn0jRBk9s2QbtVnUC8DjhBfnFTQLdjmkA=",
          "dtype": "f4"
         },
         "z": {
          "bdata": "eyIGQd3SBEEwS8W/N/aivgCWqb6lbP1Af/yWv0xBjL8zgcO/xP7BQGUwBUHUmAhBY9wGQZw8BkFHCA9BPUHzQCFiBEHt+gxBkEIAQZ9j0b/D2O++ff0PQUO4b7+u+z+/QfXiv4t8C0FdbAJBIH7zQFHBR7+dcI2+6okWv3GmCUHXbAlBK3j8QJQLEEEr4yq/VD4DQeTiZL/bCQJB00KyvfSFCkF/CQpBUAvIQDynvUBRuNW+HKgEQRKuBkEXIBFBGppTv//+B0H88s6/hMf0QFJe/74G86W/CkLFQEULvEAIQIW/Sfj9QGNT0b7Nsq6/+rq8QNjABEEGKfNAhh4GQWqt+kBKPa+/ONkKQaMU478xnaK/zgv4QIe4sb8ye7lAEbiJv8ny7UCOebW+oczxQPpTwr+AswZBArC9v4dODUGqmw9ByAvCQDhv5b9uhBK/KFugv5OVeb/y3yq/p/oHQShftEDLDgZBvX6Vv+OpIr8XbspAt/rLv6wgmb9vOHW/oLj2QE5hnr+sUOO/x8LLv4Dov0DRZhW/U/cEQTaGt0A=",
          "dtype": "f4"
         }
        }
       ],
       "layout": {
        "margin": {
         "b": 0,
         "l": 0,
         "r": 0,
         "t": 30
        },
        "scene": {
         "xaxis": {
          "title": {
           "text": "UMAP Component 1"
          }
         },
         "yaxis": {
          "title": {
           "text": "UMAP Component 2"
          }
         },
         "zaxis": {
          "title": {
           "text": "UMAP Component 3"
          }
         }
        },
        "template": {
         "data": {
          "bar": [
           {
            "error_x": {
             "color": "#2a3f5f"
            },
            "error_y": {
             "color": "#2a3f5f"
            },
            "marker": {
             "line": {
              "color": "#E5ECF6",
              "width": 0.5
             },
             "pattern": {
              "fillmode": "overlay",
              "size": 10,
              "solidity": 0.2
             }
            },
            "type": "bar"
           }
          ],
          "barpolar": [
           {
            "marker": {
             "line": {
              "color": "#E5ECF6",
              "width": 0.5
             },
             "pattern": {
              "fillmode": "overlay",
              "size": 10,
              "solidity": 0.2
             }
            },
            "type": "barpolar"
           }
          ],
          "carpet": [
           {
            "aaxis": {
             "endlinecolor": "#2a3f5f",
             "gridcolor": "white",
             "linecolor": "white",
             "minorgridcolor": "white",
             "startlinecolor": "#2a3f5f"
            },
            "baxis": {
             "endlinecolor": "#2a3f5f",
             "gridcolor": "white",
             "linecolor": "white",
             "minorgridcolor": "white",
             "startlinecolor": "#2a3f5f"
            },
            "type": "carpet"
           }
          ],
          "choropleth": [
           {
            "colorbar": {
             "outlinewidth": 0,
             "ticks": ""
            },
            "type": "choropleth"
           }
          ],
          "contour": [
           {
            "colorbar": {
             "outlinewidth": 0,
             "ticks": ""
            },
            "colorscale": [
             [
              0,
              "#0d0887"
             ],
             [
              0.1111111111111111,
              "#46039f"
             ],
             [
              0.2222222222222222,
              "#7201a8"
             ],
             [
              0.3333333333333333,
              "#9c179e"
             ],
             [
              0.4444444444444444,
              "#bd3786"
             ],
             [
              0.5555555555555556,
              "#d8576b"
             ],
             [
              0.6666666666666666,
              "#ed7953"
             ],
             [
              0.7777777777777778,
              "#fb9f3a"
             ],
             [
              0.8888888888888888,
              "#fdca26"
             ],
             [
              1,
              "#f0f921"
             ]
            ],
            "type": "contour"
           }
          ],
          "contourcarpet": [
           {
            "colorbar": {
             "outlinewidth": 0,
             "ticks": ""
            },
            "type": "contourcarpet"
           }
          ],
          "heatmap": [
           {
            "colorbar": {
             "outlinewidth": 0,
             "ticks": ""
            },
            "colorscale": [
             [
              0,
              "#0d0887"
             ],
             [
              0.1111111111111111,
              "#46039f"
             ],
             [
              0.2222222222222222,
              "#7201a8"
             ],
             [
              0.3333333333333333,
              "#9c179e"
             ],
             [
              0.4444444444444444,
              "#bd3786"
             ],
             [
              0.5555555555555556,
              "#d8576b"
             ],
             [
              0.6666666666666666,
              "#ed7953"
             ],
             [
              0.7777777777777778,
              "#fb9f3a"
             ],
             [
              0.8888888888888888,
              "#fdca26"
             ],
             [
              1,
              "#f0f921"
             ]
            ],
            "type": "heatmap"
           }
          ],
          "histogram": [
           {
            "marker": {
             "pattern": {
              "fillmode": "overlay",
              "size": 10,
              "solidity": 0.2
             }
            },
            "type": "histogram"
           }
          ],
          "histogram2d": [
           {
            "colorbar": {
             "outlinewidth": 0,
             "ticks": ""
            },
            "colorscale": [
             [
              0,
              "#0d0887"
             ],
             [
              0.1111111111111111,
              "#46039f"
             ],
             [
              0.2222222222222222,
              "#7201a8"
             ],
             [
              0.3333333333333333,
              "#9c179e"
             ],
             [
              0.4444444444444444,
              "#bd3786"
             ],
             [
              0.5555555555555556,
              "#d8576b"
             ],
             [
              0.6666666666666666,
              "#ed7953"
             ],
             [
              0.7777777777777778,
              "#fb9f3a"
             ],
             [
              0.8888888888888888,
              "#fdca26"
             ],
             [
              1,
              "#f0f921"
             ]
            ],
            "type": "histogram2d"
           }
          ],
          "histogram2dcontour": [
           {
            "colorbar": {
             "outlinewidth": 0,
             "ticks": ""
            },
            "colorscale": [
             [
              0,
              "#0d0887"
             ],
             [
              0.1111111111111111,
              "#46039f"
             ],
             [
              0.2222222222222222,
              "#7201a8"
             ],
             [
              0.3333333333333333,
              "#9c179e"
             ],
             [
              0.4444444444444444,
              "#bd3786"
             ],
             [
              0.5555555555555556,
              "#d8576b"
             ],
             [
              0.6666666666666666,
              "#ed7953"
             ],
             [
              0.7777777777777778,
              "#fb9f3a"
             ],
             [
              0.8888888888888888,
              "#fdca26"
             ],
             [
              1,
              "#f0f921"
             ]
            ],
            "type": "histogram2dcontour"
           }
          ],
          "mesh3d": [
           {
            "colorbar": {
             "outlinewidth": 0,
             "ticks": ""
            },
            "type": "mesh3d"
           }
          ],
          "parcoords": [
           {
            "line": {
             "colorbar": {
              "outlinewidth": 0,
              "ticks": ""
             }
            },
            "type": "parcoords"
           }
          ],
          "pie": [
           {
            "automargin": true,
            "type": "pie"
           }
          ],
          "scatter": [
           {
            "fillpattern": {
             "fillmode": "overlay",
             "size": 10,
             "solidity": 0.2
            },
            "type": "scatter"
           }
          ],
          "scatter3d": [
           {
            "line": {
             "colorbar": {
              "outlinewidth": 0,
              "ticks": ""
             }
            },
            "marker": {
             "colorbar": {
              "outlinewidth": 0,
              "ticks": ""
             }
            },
            "type": "scatter3d"
           }
          ],
          "scattercarpet": [
           {
            "marker": {
             "colorbar": {
              "outlinewidth": 0,
              "ticks": ""
             }
            },
            "type": "scattercarpet"
           }
          ],
          "scattergeo": [
           {
            "marker": {
             "colorbar": {
              "outlinewidth": 0,
              "ticks": ""
             }
            },
            "type": "scattergeo"
           }
          ],
          "scattergl": [
           {
            "marker": {
             "colorbar": {
              "outlinewidth": 0,
              "ticks": ""
             }
            },
            "type": "scattergl"
           }
          ],
          "scattermap": [
           {
            "marker": {
             "colorbar": {
              "outlinewidth": 0,
              "ticks": ""
             }
            },
            "type": "scattermap"
           }
          ],
          "scattermapbox": [
           {
            "marker": {
             "colorbar": {
              "outlinewidth": 0,
              "ticks": ""
             }
            },
            "type": "scattermapbox"
           }
          ],
          "scatterpolar": [
           {
            "marker": {
             "colorbar": {
              "outlinewidth": 0,
              "ticks": ""
             }
            },
            "type": "scatterpolar"
           }
          ],
          "scatterpolargl": [
           {
            "marker": {
             "colorbar": {
              "outlinewidth": 0,
              "ticks": ""
             }
            },
            "type": "scatterpolargl"
           }
          ],
          "scatterternary": [
           {
            "marker": {
             "colorbar": {
              "outlinewidth": 0,
              "ticks": ""
             }
            },
            "type": "scatterternary"
           }
          ],
          "surface": [
           {
            "colorbar": {
             "outlinewidth": 0,
             "ticks": ""
            },
            "colorscale": [
             [
              0,
              "#0d0887"
             ],
             [
              0.1111111111111111,
              "#46039f"
             ],
             [
              0.2222222222222222,
              "#7201a8"
             ],
             [
              0.3333333333333333,
              "#9c179e"
             ],
             [
              0.4444444444444444,
              "#bd3786"
             ],
             [
              0.5555555555555556,
              "#d8576b"
             ],
             [
              0.6666666666666666,
              "#ed7953"
             ],
             [
              0.7777777777777778,
              "#fb9f3a"
             ],
             [
              0.8888888888888888,
              "#fdca26"
             ],
             [
              1,
              "#f0f921"
             ]
            ],
            "type": "surface"
           }
          ],
          "table": [
           {
            "cells": {
             "fill": {
              "color": "#EBF0F8"
             },
             "line": {
              "color": "white"
             }
            },
            "header": {
             "fill": {
              "color": "#C8D4E3"
             },
             "line": {
              "color": "white"
             }
            },
            "type": "table"
           }
          ]
         },
         "layout": {
          "annotationdefaults": {
           "arrowcolor": "#2a3f5f",
           "arrowhead": 0,
           "arrowwidth": 1
          },
          "autotypenumbers": "strict",
          "coloraxis": {
           "colorbar": {
            "outlinewidth": 0,
            "ticks": ""
           }
          },
          "colorscale": {
           "diverging": [
            [
             0,
             "#8e0152"
            ],
            [
             0.1,
             "#c51b7d"
            ],
            [
             0.2,
             "#de77ae"
            ],
            [
             0.3,
             "#f1b6da"
            ],
            [
             0.4,
             "#fde0ef"
            ],
            [
             0.5,
             "#f7f7f7"
            ],
            [
             0.6,
             "#e6f5d0"
            ],
            [
             0.7,
             "#b8e186"
            ],
            [
             0.8,
             "#7fbc41"
            ],
            [
             0.9,
             "#4d9221"
            ],
            [
             1,
             "#276419"
            ]
           ],
           "sequential": [
            [
             0,
             "#0d0887"
            ],
            [
             0.1111111111111111,
             "#46039f"
            ],
            [
             0.2222222222222222,
             "#7201a8"
            ],
            [
             0.3333333333333333,
             "#9c179e"
            ],
            [
             0.4444444444444444,
             "#bd3786"
            ],
            [
             0.5555555555555556,
             "#d8576b"
            ],
            [
             0.6666666666666666,
             "#ed7953"
            ],
            [
             0.7777777777777778,
             "#fb9f3a"
            ],
            [
             0.8888888888888888,
             "#fdca26"
            ],
            [
             1,
             "#f0f921"
            ]
           ],
           "sequentialminus": [
            [
             0,
             "#0d0887"
            ],
            [
             0.1111111111111111,
             "#46039f"
            ],
            [
             0.2222222222222222,
             "#7201a8"
            ],
            [
             0.3333333333333333,
             "#9c179e"
            ],
            [
             0.4444444444444444,
             "#bd3786"
            ],
            [
             0.5555555555555556,
             "#d8576b"
            ],
            [
             0.6666666666666666,
             "#ed7953"
            ],
            [
             0.7777777777777778,
             "#fb9f3a"
            ],
            [
             0.8888888888888888,
             "#fdca26"
            ],
            [
             1,
             "#f0f921"
            ]
           ]
          },
          "colorway": [
           "#636efa",
           "#EF553B",
           "#00cc96",
           "#ab63fa",
           "#FFA15A",
           "#19d3f3",
           "#FF6692",
           "#B6E880",
           "#FF97FF",
           "#FECB52"
          ],
          "font": {
           "color": "#2a3f5f"
          },
          "geo": {
           "bgcolor": "white",
           "lakecolor": "white",
           "landcolor": "#E5ECF6",
           "showlakes": true,
           "showland": true,
           "subunitcolor": "white"
          },
          "hoverlabel": {
           "align": "left"
          },
          "hovermode": "closest",
          "mapbox": {
           "style": "light"
          },
          "paper_bgcolor": "white",
          "plot_bgcolor": "#E5ECF6",
          "polar": {
           "angularaxis": {
            "gridcolor": "white",
            "linecolor": "white",
            "ticks": ""
           },
           "bgcolor": "#E5ECF6",
           "radialaxis": {
            "gridcolor": "white",
            "linecolor": "white",
            "ticks": ""
           }
          },
          "scene": {
           "xaxis": {
            "backgroundcolor": "#E5ECF6",
            "gridcolor": "white",
            "gridwidth": 2,
            "linecolor": "white",
            "showbackground": true,
            "ticks": "",
            "zerolinecolor": "white"
           },
           "yaxis": {
            "backgroundcolor": "#E5ECF6",
            "gridcolor": "white",
            "gridwidth": 2,
            "linecolor": "white",
            "showbackground": true,
            "ticks": "",
            "zerolinecolor": "white"
           },
           "zaxis": {
            "backgroundcolor": "#E5ECF6",
            "gridcolor": "white",
            "gridwidth": 2,
            "linecolor": "white",
            "showbackground": true,
            "ticks": "",
            "zerolinecolor": "white"
           }
          },
          "shapedefaults": {
           "line": {
            "color": "#2a3f5f"
           }
          },
          "ternary": {
           "aaxis": {
            "gridcolor": "white",
            "linecolor": "white",
            "ticks": ""
           },
           "baxis": {
            "gridcolor": "white",
            "linecolor": "white",
            "ticks": ""
           },
           "bgcolor": "#E5ECF6",
           "caxis": {
            "gridcolor": "white",
            "linecolor": "white",
            "ticks": ""
           }
          },
          "title": {
           "x": 0.05
          },
          "xaxis": {
           "automargin": true,
           "gridcolor": "white",
           "linecolor": "white",
           "ticks": "",
           "title": {
            "standoff": 15
           },
           "zerolinecolor": "white",
           "zerolinewidth": 2
          },
          "yaxis": {
           "automargin": true,
           "gridcolor": "white",
           "linecolor": "white",
           "ticks": "",
           "title": {
            "standoff": 15
           },
           "zerolinecolor": "white",
           "zerolinewidth": 2
          }
         }
        },
        "title": {
         "text": "3D UMAP Clusters - KMeans (k=3)"
        }
       }
      }
     },
     "metadata": {},
     "output_type": "display_data"
    }
   ],
   "source": [
    "models = {\n",
    "    \"Agglomerative (complete, 3)\": AgglomerativeClustering(linkage='complete', n_clusters=3),\n",
    "    \"Agglomerative (complete, 5)\": AgglomerativeClustering(linkage='complete', n_clusters=5),\n",
    "    \"Agglomerative (complete, 6)\": AgglomerativeClustering(linkage='complete', n_clusters=6),\n",
    "    \"KMeans (k=3)\": KMeans(n_clusters=3,random_state=12, n_init=50)}\n",
    "\n",
    "for name, model in models.items():\n",
    "    m = model\n",
    "    cluster_labels = m.fit_predict(df_pca)\n",
    "    \n",
    "    visualise_clusters_umap_3d(umap_3d, cluster_labels, name)"
   ]
  },
  {
   "cell_type": "code",
   "execution_count": 22,
   "id": "4aaf3881",
   "metadata": {},
   "outputs": [
    {
     "name": "stdout",
     "output_type": "stream",
     "text": [
      "                                Model  Silhouette Score  Davies-Bouldin Index  \\\n",
      "0                        KMeans (k=4)          0.170625              1.785807   \n",
      "1  Aglomarative, linkage='complete, 7          0.159115              2.073756   \n",
      "\n",
      "   Dunn Index  Num Clusters  \n",
      "0    0.381502             3  \n",
      "1    0.403014             3  \n"
     ]
    }
   ],
   "source": [
    "from sklearn.cluster import AgglomerativeClustering\n",
    "\n",
    "\n",
    "models = {\n",
    "    \"KMeans (k=4)\": KMeans(n_clusters=3, random_state=42, n_init=50),\n",
    "    \"Aglomarative, linkage='complete, 7\": AgglomerativeClustering(n_clusters=3, linkage='complete'),\n",
    "}\n",
    "\n",
    "results_df = evaluate_models(df_pca, models)\n",
    "print(results_df)"
   ]
  },
  {
   "cell_type": "markdown",
   "id": "13ac9541",
   "metadata": {},
   "source": [
    "Wybrane przez nas metryki wskazują na 2 najlepsze modele: AgglomerativeClustering(linkage='complete', n_clusters=3) oraz KMeans(n_clusters=3,random_state=12, n_init=50). Patrzymy, jak teraz te modele zachowują się dla danych walidacyjnych."
   ]
  },
  {
   "cell_type": "markdown",
   "id": "db3dd5b6",
   "metadata": {},
   "source": [
    "## Perforamnce klasyfikacji dla klastrów"
   ]
  },
  {
   "cell_type": "code",
   "execution_count": 23,
   "id": "74f44290",
   "metadata": {},
   "outputs": [
    {
     "name": "stdout",
     "output_type": "stream",
     "text": [
      "Accuracy on test set: 0.8461538461538461\n"
     ]
    }
   ],
   "source": [
    "from sklearn.ensemble import RandomForestClassifier\n",
    "from sklearn.cluster import AgglomerativeClustering\n",
    "from sklearn.model_selection import train_test_split\n",
    "import shap\n",
    "\n",
    "agg = AgglomerativeClustering(linkage='complete', n_clusters=3)\n",
    "labels = agg.fit_predict(df_pca)\n",
    "\n",
    "X = pd.DataFrame(df_pca, columns=[f'PC{i+1}' for i in range(df_pca.shape[1])])\n",
    "y = labels\n",
    "\n",
    "# podział na trening i test\n",
    "X_train, X_test, y_train, y_test = train_test_split(X, y, stratify=y, random_state=42)\n",
    "\n",
    "\n",
    "# Klasyfikator\n",
    "clf = RandomForestClassifier(n_estimators=100, random_state=42)\n",
    "clf.fit(X_train, y_train)\n",
    "\n",
    "\n",
    "# Obliczenie wartości SHAP\n",
    "explainer = shap.Explainer(clf, X_train)\n",
    "shap_values = explainer(X_test)\n",
    "\n",
    "print(\"Accuracy on test set:\", clf.score(X_test, y_test))"
   ]
  },
  {
   "cell_type": "code",
   "execution_count": 24,
   "id": "1e212c1c",
   "metadata": {},
   "outputs": [
    {
     "name": "stdout",
     "output_type": "stream",
     "text": [
      "Accuracy on test set: 0.9615384615384616\n"
     ]
    }
   ],
   "source": [
    "from sklearn.ensemble import RandomForestClassifier\n",
    "from sklearn.model_selection import train_test_split\n",
    "import shap\n",
    "\n",
    "kmeans = KMeans(n_clusters=3, random_state=42, n_init=50).fit(df_pca)\n",
    "labels = kmeans.fit_predict(df_pca)\n",
    "\n",
    "X = pd.DataFrame(df_pca, columns=[f'PC{i+1}' for i in range(df_pca.shape[1])])\n",
    "y = labels\n",
    "\n",
    "# podział na trening i test\n",
    "X_train, X_test, y_train, y_test = train_test_split(X, y, stratify=y, random_state=42)\n",
    "\n",
    "\n",
    "# Klasyfikator\n",
    "clf = RandomForestClassifier(n_estimators=100, random_state=42)\n",
    "clf.fit(X_train, y_train)\n",
    "\n",
    "\n",
    "# Obliczenie wartości SHAP\n",
    "explainer = shap.Explainer(clf, X_train)\n",
    "shap_values = explainer(X_test)\n",
    "\n",
    "print(\"Accuracy on test set:\", clf.score(X_test, y_test))"
   ]
  },
  {
   "cell_type": "markdown",
   "id": "5faaaecb",
   "metadata": {},
   "source": [
    "KMeans lepiej działa z klasyfikatorem, co potrzbne nam jest do relizacji celu biznesowego -- przyporządkowywania pacjętów do klastrów. Ostatecznie wybieramy więc KMeans."
   ]
  },
  {
   "cell_type": "markdown",
   "id": "d91bc830",
   "metadata": {},
   "source": [
    "## Interpretacja klastrów"
   ]
  },
  {
   "cell_type": "markdown",
   "id": "39354491",
   "metadata": {},
   "source": [
    "Tworzymy ranking cech, które najbardziej wpływają na decyzję modelu o przypisaniu próbki do danego klastra, na podstawie średnich wartości bezwzględnych SHAP."
   ]
  },
  {
   "cell_type": "code",
   "execution_count": 25,
   "id": "d375327f",
   "metadata": {},
   "outputs": [
    {
     "name": "stdout",
     "output_type": "stream",
     "text": [
      "   Feature  Mean_SHAP\n",
      "0      PC1   0.191860\n",
      "36    PC37   0.017452\n",
      "1      PC2   0.013209\n",
      "22    PC23   0.010344\n",
      "41    PC42   0.008851\n",
      "21    PC22   0.006783\n",
      "73    PC74   0.006620\n",
      "40    PC41   0.006138\n",
      "48    PC49   0.005689\n",
      "31    PC32   0.005688\n",
      "10    PC11   0.005526\n",
      "27    PC28   0.005455\n",
      "46    PC47   0.005150\n",
      "38    PC39   0.005012\n",
      "2      PC3   0.004896\n"
     ]
    }
   ],
   "source": [
    "import numpy as np\n",
    "shap_mean = np.abs(shap_values.values[:, :, 0]).mean(axis=0)\n",
    "\n",
    "shap_df = pd.DataFrame({\n",
    "    'Feature': X_test.columns,\n",
    "    'Mean_SHAP': shap_mean\n",
    "}).sort_values(by='Mean_SHAP', ascending=False)\n",
    "\n",
    "print(shap_df.head(15))"
   ]
  },
  {
   "cell_type": "markdown",
   "id": "e3915d44",
   "metadata": {},
   "source": [
    "Skupimy się na 3 najlepszych zmiennych z PCA, czyli PC1, PC2 i PC47."
   ]
  },
  {
   "cell_type": "code",
   "execution_count": 26,
   "id": "456d7622",
   "metadata": {},
   "outputs": [
    {
     "name": "stdout",
     "output_type": "stream",
     "text": [
      "Top geny wpływające na najważniejsze PC:\n",
      "1559980_at      0.026512\n",
      "219576_at       0.026008\n",
      "236313_at       0.025717\n",
      "227554_at       0.025511\n",
      "208270_s_at     0.025315\n",
      "1552848_a_at    0.025162\n",
      "217920_at       0.025128\n",
      "218936_s_at     0.025095\n",
      "232362_at       0.025066\n",
      "228673_s_at     0.025058\n",
      "232327_at       0.024887\n",
      "223533_at       0.024590\n",
      "242947_at       0.024584\n",
      "1552870_s_at    0.024564\n",
      "213368_x_at     0.024533\n",
      "dtype: float64\n"
     ]
    }
   ],
   "source": [
    "top_pcs = ['PC1', 'PC37', 'PC2']\n",
    "\n",
    "gene_names = [col for col in df.columns if col not in ['cluster', 'other_non_gene_columns']]\n",
    "\n",
    "loadings = pd.DataFrame(\n",
    "    data=pca.components_.T,\n",
    "    columns=[f'PC{i+1}' for i in range(pca.n_components_)],\n",
    "    index=gene_names\n",
    ")\n",
    "\n",
    "\n",
    "df_scaled_df = pd.DataFrame(df_scaled, columns=gene_names)\n",
    "\n",
    "# dodajemy etykiety klastrów\n",
    "df_scaled_df['cluster'] = labels\n",
    "# Sumujemy wartości bezwzględne ładunków dla tych PC, by zobaczyć, które geny najbardziej wpływają na te składowe:\n",
    "top_genes = loadings[top_pcs].abs().sum(axis=1).sort_values(ascending=False).head(15)\n",
    "\n",
    "print(\"Top geny wpływające na najważniejsze PC:\")\n",
    "print(top_genes)"
   ]
  },
  {
   "cell_type": "code",
   "execution_count": 27,
   "id": "c17b44a9",
   "metadata": {},
   "outputs": [
    {
     "data": {
      "image/png": "[encoded data removed]",
      "text/plain": [
       "<Figure size 2500x1200 with 15 Axes>"
      ]
     },
     "metadata": {},
     "output_type": "display_data"
    }
   ],
   "source": [
    "# Parametry siatki\n",
    "top_genes_list = top_genes.index.tolist() \n",
    "\n",
    "num_plots = len(top_genes_list)\n",
    "cols = 5  # liczba kolumn\n",
    "rows = (num_plots + cols - 1) // cols  # zaokrąglenie w górę\n",
    "\n",
    "# Tworzymy siatkę wykresów\n",
    "fig, axes = plt.subplots(rows, cols, figsize=(cols * 5, rows * 4))\n",
    "axes = axes.flatten()  # spłaszczamy tablicę osi\n",
    "\n",
    "for i, gene in enumerate(top_genes_list):\n",
    "    sns.boxplot(x='cluster', y=gene, data=df_scaled_df, ax=axes[i])\n",
    "    axes[i].set_title(f'Ekspresja genu {gene}')\n",
    "    axes[i].set_xlabel('Klaster')\n",
    "    axes[i].set_ylabel('Ekspresja')\n",
    "\n",
    "# Ukrywamy puste subploty jeśli jest ich więcej niż potrzebujemy\n",
    "for j in range(i + 1, len(axes)):\n",
    "    fig.delaxes(axes[j])\n",
    "\n",
    "plt.tight_layout()\n",
    "plt.show()"
   ]
  },
  {
   "cell_type": "markdown",
   "id": "282095a7",
   "metadata": {},
   "source": [
    "Widać, że istnieją pewne podgrupy genów charakteryzują się spójnym profilem ekspresji w podziale na klastry.\n",
    "Np. gen 241764_at oraz 219291_at."
   ]
  },
  {
   "cell_type": "code",
   "execution_count": 28,
   "id": "17bd0143",
   "metadata": {},
   "outputs": [
    {
     "name": "stdout",
     "output_type": "stream",
     "text": [
      "Gen: 1559980_at, statystyka: 36.245, p-value: 1.348e-08\n",
      "Gen: 219576_at, statystyka: 19.812, p-value: 4.987e-05\n",
      "Gen: 236313_at, statystyka: 6.395, p-value: 4.087e-02\n",
      "Gen: 227554_at, statystyka: 21.206, p-value: 2.485e-05\n",
      "Gen: 208270_s_at, statystyka: 38.580, p-value: 4.193e-09\n",
      "Gen: 1552848_a_at, statystyka: 20.873, p-value: 2.934e-05\n",
      "Gen: 217920_at, statystyka: 31.020, p-value: 1.837e-07\n",
      "Gen: 218936_s_at, statystyka: 32.295, p-value: 9.710e-08\n",
      "Gen: 232362_at, statystyka: 29.246, p-value: 4.460e-07\n",
      "Gen: 228673_s_at, statystyka: 9.531, p-value: 8.517e-03\n",
      "Gen: 232327_at, statystyka: 24.867, p-value: 3.983e-06\n",
      "Gen: 223533_at, statystyka: 9.049, p-value: 1.084e-02\n",
      "Gen: 242947_at, statystyka: 10.014, p-value: 6.691e-03\n",
      "Gen: 1552870_s_at, statystyka: 16.339, p-value: 2.832e-04\n",
      "Gen: 213368_x_at, statystyka: 34.023, p-value: 4.093e-08\n",
      "Skuteczność klasyfikacji na kluczowych genach: 0.846 ± 0.071\n"
     ]
    }
   ],
   "source": [
    "\n",
    "# key_genes = ['219256_s_at', '212419_at', '230252_at', '217762_s_at', '217764_s_at',\n",
    "#              '221840_at', '227791_at', '243748_at', '233157_x_at', '231710_at', '1553729_s_at']\n",
    "\n",
    "# przeprowadzamy test statystyczny kruskala dla każdego genu\n",
    "from scipy.stats import kruskal\n",
    "\n",
    "for gene in top_genes_list:\n",
    "    groups = [df_scaled_df[df_scaled_df['cluster'] == c][gene] for c in df_scaled_df['cluster'].unique()]\n",
    "    stat, p = kruskal(*groups)\n",
    "    print(f'Gen: {gene}, statystyka: {stat:.3f}, p-value: {p:.3e}')\n",
    "\n",
    "# uczymy klasyfikator na najbardziej kluczowych genach\n",
    "from sklearn.ensemble import RandomForestClassifier\n",
    "from sklearn.model_selection import cross_val_score\n",
    "\n",
    "X_key = df_scaled_df[top_genes_list]\n",
    "y = df_scaled_df['cluster']\n",
    "\n",
    "clf = RandomForestClassifier(random_state=12)\n",
    "scores = cross_val_score(clf, X_key, y, cv=5)\n",
    "print(f'Skuteczność klasyfikacji na kluczowych genach: {scores.mean():.3f} ± {scores.std():.3f}')\n"
   ]
  },
  {
   "cell_type": "code",
   "execution_count": 29,
   "id": "4fba2734",
   "metadata": {},
   "outputs": [
    {
     "name": "stdout",
     "output_type": "stream",
     "text": [
      "         1559980_at  219576_at  236313_at  227554_at  208270_s_at  \\\n",
      "cluster                                                             \n",
      "0         -0.623060  -0.168102  -0.135644   0.058328    -0.406744   \n",
      "1          0.492476   0.413285   0.295281   0.253992     0.656882   \n",
      "2          0.704130  -0.957175  -0.616068  -1.293579    -0.912361   \n",
      "\n",
      "         1552848_a_at  217920_at  218936_s_at  232362_at  228673_s_at  \\\n",
      "cluster                                                                 \n",
      "0           -0.418441  -0.546614    -0.387619  -0.191007     0.164185   \n",
      "1            0.229874   0.621123     0.595407   0.509421     0.031829   \n",
      "2            0.885529  -0.155733    -0.744329  -1.250508    -0.846652   \n",
      "\n",
      "         232327_at  223533_at  242947_at  1552870_s_at  213368_x_at  \n",
      "cluster                                                              \n",
      "0        -0.428582  -0.001919   0.006853      0.204881    -0.408516  \n",
      "1         0.461099   0.187294  -0.247250      0.002751     0.012451  \n",
      "2        -0.016137  -0.757829   0.981577     -0.905282     1.731682  \n"
     ]
    }
   ],
   "source": [
    "# Grupowanie po klastrach i średnia ekspresja genów\n",
    "mean_expression = df_scaled_df.groupby('cluster')[top_genes_list].mean()\n",
    "\n",
    "print(mean_expression)"
   ]
  },
  {
   "cell_type": "markdown",
   "id": "752d2afc",
   "metadata": {},
   "source": [
    "## Wizualizacja klastrów na zbiorze walidacyjnym"
   ]
  },
  {
   "cell_type": "markdown",
   "id": "5cdf4a19",
   "metadata": {},
   "source": [
    "Modele aglomeracyjne nie posiadają funkcji predict (od razu trzeba robić fit i predict), przez co nie możemy zaaplikować powstałych klastrów do odosobnionego zbioru danych. Robimy więc klasyfikację na zbiorze walidacyjnym bazując na wcześniej otrzymanych klastrach, i predict na zbiorze walidacyjnym"
   ]
  },
  {
   "cell_type": "code",
   "execution_count": 30,
   "id": "c2cef9d2",
   "metadata": {},
   "outputs": [
    {
     "name": "stderr",
     "output_type": "stream",
     "text": [
      "/Users/lila/CuMiDaKlasteryzacja/.venv/lib/python3.11/site-packages/sklearn/utils/deprecation.py:151: FutureWarning:\n",
      "\n",
      "'force_all_finite' was renamed to 'ensure_all_finite' in 1.6 and will be removed in 1.8.\n",
      "\n"
     ]
    }
   ],
   "source": [
    "df_scaled_validation = scaler.transform(df_validation)\n",
    "df_pca_validation = pca.transform(df_scaled_validation)\n",
    "umap_3d_validation = reducer.transform(df_pca_validation)"
   ]
  },
  {
   "cell_type": "code",
   "execution_count": 33,
   "id": "fcda3d1a",
   "metadata": {},
   "outputs": [
    {
     "data": {
      "text/html": [
       "<style>#sk-container-id-1 {\n",
       "  /* Definition of color scheme common for light and dark mode */\n",
       "  --sklearn-color-text: #000;\n",
       "  --sklearn-color-text-muted: #666;\n",
       "  --sklearn-color-line: gray;\n",
       "  /* Definition of color scheme for unfitted estimators */\n",
       "  --sklearn-color-unfitted-level-0: #fff5e6;\n",
       "  --sklearn-color-unfitted-level-1: #f6e4d2;\n",
       "  --sklearn-color-unfitted-level-2: #ffe0b3;\n",
       "  --sklearn-color-unfitted-level-3: chocolate;\n",
       "  /* Definition of color scheme for fitted estimators */\n",
       "  --sklearn-color-fitted-level-0: #f0f8ff;\n",
       "  --sklearn-color-fitted-level-1: #d4ebff;\n",
       "  --sklearn-color-fitted-level-2: #b3dbfd;\n",
       "  --sklearn-color-fitted-level-3: cornflowerblue;\n",
       "\n",
       "  /* Specific color for light theme */\n",
       "  --sklearn-color-text-on-default-background: var(--sg-text-color, var(--theme-code-foreground, var(--jp-content-font-color1, black)));\n",
       "  --sklearn-color-background: var(--sg-background-color, var(--theme-background, var(--jp-layout-color0, white)));\n",
       "  --sklearn-color-border-box: var(--sg-text-color, var(--theme-code-foreground, var(--jp-content-font-color1, black)));\n",
       "  --sklearn-color-icon: #696969;\n",
       "\n",
       "  @media (prefers-color-scheme: dark) {\n",
       "    /* Redefinition of color scheme for dark theme */\n",
       "    --sklearn-color-text-on-default-background: var(--sg-text-color, var(--theme-code-foreground, var(--jp-content-font-color1, white)));\n",
       "    --sklearn-color-background: var(--sg-background-color, var(--theme-background, var(--jp-layout-color0, #111)));\n",
       "    --sklearn-color-border-box: var(--sg-text-color, var(--theme-code-foreground, var(--jp-content-font-color1, white)));\n",
       "    --sklearn-color-icon: #878787;\n",
       "  }\n",
       "}\n",
       "\n",
       "#sk-container-id-1 {\n",
       "  color: var(--sklearn-color-text);\n",
       "}\n",
       "\n",
       "#sk-container-id-1 pre {\n",
       "  padding: 0;\n",
       "}\n",
       "\n",
       "#sk-container-id-1 input.sk-hidden--visually {\n",
       "  border: 0;\n",
       "  clip: rect(1px 1px 1px 1px);\n",
       "  clip: rect(1px, 1px, 1px, 1px);\n",
       "  height: 1px;\n",
       "  margin: -1px;\n",
       "  overflow: hidden;\n",
       "  padding: 0;\n",
       "  position: absolute;\n",
       "  width: 1px;\n",
       "}\n",
       "\n",
       "#sk-container-id-1 div.sk-dashed-wrapped {\n",
       "  border: 1px dashed var(--sklearn-color-line);\n",
       "  margin: 0 0.4em 0.5em 0.4em;\n",
       "  box-sizing: border-box;\n",
       "  padding-bottom: 0.4em;\n",
       "  background-color: var(--sklearn-color-background);\n",
       "}\n",
       "\n",
       "#sk-container-id-1 div.sk-container {\n",
       "  /* jupyter's `normalize.less` sets `[hidden] { display: none; }`\n",
       "     but bootstrap.min.css set `[hidden] { display: none !important; }`\n",
       "     so we also need the `!important` here to be able to override the\n",
       "     default hidden behavior on the sphinx rendered scikit-learn.org.\n",
       "     See: https://github.com/scikit-learn/scikit-learn/issues/21755 */\n",
       "  display: inline-block !important;\n",
       "  position: relative;\n",
       "}\n",
       "\n",
       "#sk-container-id-1 div.sk-text-repr-fallback {\n",
       "  display: none;\n",
       "}\n",
       "\n",
       "div.sk-parallel-item,\n",
       "div.sk-serial,\n",
       "div.sk-item {\n",
       "  /* draw centered vertical line to link estimators */\n",
       "  background-image: linear-gradient(var(--sklearn-color-text-on-default-background), var(--sklearn-color-text-on-default-background));\n",
       "  background-size: 2px 100%;\n",
       "  background-repeat: no-repeat;\n",
       "  background-position: center center;\n",
       "}\n",
       "\n",
       "/* Parallel-specific style estimator block */\n",
       "\n",
       "#sk-container-id-1 div.sk-parallel-item::after {\n",
       "  content: \"\";\n",
       "  width: 100%;\n",
       "  border-bottom: 2px solid var(--sklearn-color-text-on-default-background);\n",
       "  flex-grow: 1;\n",
       "}\n",
       "\n",
       "#sk-container-id-1 div.sk-parallel {\n",
       "  display: flex;\n",
       "  align-items: stretch;\n",
       "  justify-content: center;\n",
       "  background-color: var(--sklearn-color-background);\n",
       "  position: relative;\n",
       "}\n",
       "\n",
       "#sk-container-id-1 div.sk-parallel-item {\n",
       "  display: flex;\n",
       "  flex-direction: column;\n",
       "}\n",
       "\n",
       "#sk-container-id-1 div.sk-parallel-item:first-child::after {\n",
       "  align-self: flex-end;\n",
       "  width: 50%;\n",
       "}\n",
       "\n",
       "#sk-container-id-1 div.sk-parallel-item:last-child::after {\n",
       "  align-self: flex-start;\n",
       "  width: 50%;\n",
       "}\n",
       "\n",
       "#sk-container-id-1 div.sk-parallel-item:only-child::after {\n",
       "  width: 0;\n",
       "}\n",
       "\n",
       "/* Serial-specific style estimator block */\n",
       "\n",
       "#sk-container-id-1 div.sk-serial {\n",
       "  display: flex;\n",
       "  flex-direction: column;\n",
       "  align-items: center;\n",
       "  background-color: var(--sklearn-color-background);\n",
       "  padding-right: 1em;\n",
       "  padding-left: 1em;\n",
       "}\n",
       "\n",
       "\n",
       "/* Toggleable style: style used for estimator/Pipeline/ColumnTransformer box that is\n",
       "clickable and can be expanded/collapsed.\n",
       "- Pipeline and ColumnTransformer use this feature and define the default style\n",
       "- Estimators will overwrite some part of the style using the `sk-estimator` class\n",
       "*/\n",
       "\n",
       "/* Pipeline and ColumnTransformer style (default) */\n",
       "\n",
       "#sk-container-id-1 div.sk-toggleable {\n",
       "  /* Default theme specific background. It is overwritten whether we have a\n",
       "  specific estimator or a Pipeline/ColumnTransformer */\n",
       "  background-color: var(--sklearn-color-background);\n",
       "}\n",
       "\n",
       "/* Toggleable label */\n",
       "#sk-container-id-1 label.sk-toggleable__label {\n",
       "  cursor: pointer;\n",
       "  display: flex;\n",
       "  width: 100%;\n",
       "  margin-bottom: 0;\n",
       "  padding: 0.5em;\n",
       "  box-sizing: border-box;\n",
       "  text-align: center;\n",
       "  align-items: start;\n",
       "  justify-content: space-between;\n",
       "  gap: 0.5em;\n",
       "}\n",
       "\n",
       "#sk-container-id-1 label.sk-toggleable__label .caption {\n",
       "  font-size: 0.6rem;\n",
       "  font-weight: lighter;\n",
       "  color: var(--sklearn-color-text-muted);\n",
       "}\n",
       "\n",
       "#sk-container-id-1 label.sk-toggleable__label-arrow:before {\n",
       "  /* Arrow on the left of the label */\n",
       "  content: \"▸\";\n",
       "  float: left;\n",
       "  margin-right: 0.25em;\n",
       "  color: var(--sklearn-color-icon);\n",
       "}\n",
       "\n",
       "#sk-container-id-1 label.sk-toggleable__label-arrow:hover:before {\n",
       "  color: var(--sklearn-color-text);\n",
       "}\n",
       "\n",
       "/* Toggleable content - dropdown */\n",
       "\n",
       "#sk-container-id-1 div.sk-toggleable__content {\n",
       "  max-height: 0;\n",
       "  max-width: 0;\n",
       "  overflow: hidden;\n",
       "  text-align: left;\n",
       "  /* unfitted */\n",
       "  background-color: var(--sklearn-color-unfitted-level-0);\n",
       "}\n",
       "\n",
       "#sk-container-id-1 div.sk-toggleable__content.fitted {\n",
       "  /* fitted */\n",
       "  background-color: var(--sklearn-color-fitted-level-0);\n",
       "}\n",
       "\n",
       "#sk-container-id-1 div.sk-toggleable__content pre {\n",
       "  margin: 0.2em;\n",
       "  border-radius: 0.25em;\n",
       "  color: var(--sklearn-color-text);\n",
       "  /* unfitted */\n",
       "  background-color: var(--sklearn-color-unfitted-level-0);\n",
       "}\n",
       "\n",
       "#sk-container-id-1 div.sk-toggleable__content.fitted pre {\n",
       "  /* unfitted */\n",
       "  background-color: var(--sklearn-color-fitted-level-0);\n",
       "}\n",
       "\n",
       "#sk-container-id-1 input.sk-toggleable__control:checked~div.sk-toggleable__content {\n",
       "  /* Expand drop-down */\n",
       "  max-height: 200px;\n",
       "  max-width: 100%;\n",
       "  overflow: auto;\n",
       "}\n",
       "\n",
       "#sk-container-id-1 input.sk-toggleable__control:checked~label.sk-toggleable__label-arrow:before {\n",
       "  content: \"▾\";\n",
       "}\n",
       "\n",
       "/* Pipeline/ColumnTransformer-specific style */\n",
       "\n",
       "#sk-container-id-1 div.sk-label input.sk-toggleable__control:checked~label.sk-toggleable__label {\n",
       "  color: var(--sklearn-color-text);\n",
       "  background-color: var(--sklearn-color-unfitted-level-2);\n",
       "}\n",
       "\n",
       "#sk-container-id-1 div.sk-label.fitted input.sk-toggleable__control:checked~label.sk-toggleable__label {\n",
       "  background-color: var(--sklearn-color-fitted-level-2);\n",
       "}\n",
       "\n",
       "/* Estimator-specific style */\n",
       "\n",
       "/* Colorize estimator box */\n",
       "#sk-container-id-1 div.sk-estimator input.sk-toggleable__control:checked~label.sk-toggleable__label {\n",
       "  /* unfitted */\n",
       "  background-color: var(--sklearn-color-unfitted-level-2);\n",
       "}\n",
       "\n",
       "#sk-container-id-1 div.sk-estimator.fitted input.sk-toggleable__control:checked~label.sk-toggleable__label {\n",
       "  /* fitted */\n",
       "  background-color: var(--sklearn-color-fitted-level-2);\n",
       "}\n",
       "\n",
       "#sk-container-id-1 div.sk-label label.sk-toggleable__label,\n",
       "#sk-container-id-1 div.sk-label label {\n",
       "  /* The background is the default theme color */\n",
       "  color: var(--sklearn-color-text-on-default-background);\n",
       "}\n",
       "\n",
       "/* On hover, darken the color of the background */\n",
       "#sk-container-id-1 div.sk-label:hover label.sk-toggleable__label {\n",
       "  color: var(--sklearn-color-text);\n",
       "  background-color: var(--sklearn-color-unfitted-level-2);\n",
       "}\n",
       "\n",
       "/* Label box, darken color on hover, fitted */\n",
       "#sk-container-id-1 div.sk-label.fitted:hover label.sk-toggleable__label.fitted {\n",
       "  color: var(--sklearn-color-text);\n",
       "  background-color: var(--sklearn-color-fitted-level-2);\n",
       "}\n",
       "\n",
       "/* Estimator label */\n",
       "\n",
       "#sk-container-id-1 div.sk-label label {\n",
       "  font-family: monospace;\n",
       "  font-weight: bold;\n",
       "  display: inline-block;\n",
       "  line-height: 1.2em;\n",
       "}\n",
       "\n",
       "#sk-container-id-1 div.sk-label-container {\n",
       "  text-align: center;\n",
       "}\n",
       "\n",
       "/* Estimator-specific */\n",
       "#sk-container-id-1 div.sk-estimator {\n",
       "  font-family: monospace;\n",
       "  border: 1px dotted var(--sklearn-color-border-box);\n",
       "  border-radius: 0.25em;\n",
       "  box-sizing: border-box;\n",
       "  margin-bottom: 0.5em;\n",
       "  /* unfitted */\n",
       "  background-color: var(--sklearn-color-unfitted-level-0);\n",
       "}\n",
       "\n",
       "#sk-container-id-1 div.sk-estimator.fitted {\n",
       "  /* fitted */\n",
       "  background-color: var(--sklearn-color-fitted-level-0);\n",
       "}\n",
       "\n",
       "/* on hover */\n",
       "#sk-container-id-1 div.sk-estimator:hover {\n",
       "  /* unfitted */\n",
       "  background-color: var(--sklearn-color-unfitted-level-2);\n",
       "}\n",
       "\n",
       "#sk-container-id-1 div.sk-estimator.fitted:hover {\n",
       "  /* fitted */\n",
       "  background-color: var(--sklearn-color-fitted-level-2);\n",
       "}\n",
       "\n",
       "/* Specification for estimator info (e.g. \"i\" and \"?\") */\n",
       "\n",
       "/* Common style for \"i\" and \"?\" */\n",
       "\n",
       ".sk-estimator-doc-link,\n",
       "a:link.sk-estimator-doc-link,\n",
       "a:visited.sk-estimator-doc-link {\n",
       "  float: right;\n",
       "  font-size: smaller;\n",
       "  line-height: 1em;\n",
       "  font-family: monospace;\n",
       "  background-color: var(--sklearn-color-background);\n",
       "  border-radius: 1em;\n",
       "  height: 1em;\n",
       "  width: 1em;\n",
       "  text-decoration: none !important;\n",
       "  margin-left: 0.5em;\n",
       "  text-align: center;\n",
       "  /* unfitted */\n",
       "  border: var(--sklearn-color-unfitted-level-1) 1pt solid;\n",
       "  color: var(--sklearn-color-unfitted-level-1);\n",
       "}\n",
       "\n",
       ".sk-estimator-doc-link.fitted,\n",
       "a:link.sk-estimator-doc-link.fitted,\n",
       "a:visited.sk-estimator-doc-link.fitted {\n",
       "  /* fitted */\n",
       "  border: var(--sklearn-color-fitted-level-1) 1pt solid;\n",
       "  color: var(--sklearn-color-fitted-level-1);\n",
       "}\n",
       "\n",
       "/* On hover */\n",
       "div.sk-estimator:hover .sk-estimator-doc-link:hover,\n",
       ".sk-estimator-doc-link:hover,\n",
       "div.sk-label-container:hover .sk-estimator-doc-link:hover,\n",
       ".sk-estimator-doc-link:hover {\n",
       "  /* unfitted */\n",
       "  background-color: var(--sklearn-color-unfitted-level-3);\n",
       "  color: var(--sklearn-color-background);\n",
       "  text-decoration: none;\n",
       "}\n",
       "\n",
       "div.sk-estimator.fitted:hover .sk-estimator-doc-link.fitted:hover,\n",
       ".sk-estimator-doc-link.fitted:hover,\n",
       "div.sk-label-container:hover .sk-estimator-doc-link.fitted:hover,\n",
       ".sk-estimator-doc-link.fitted:hover {\n",
       "  /* fitted */\n",
       "  background-color: var(--sklearn-color-fitted-level-3);\n",
       "  color: var(--sklearn-color-background);\n",
       "  text-decoration: none;\n",
       "}\n",
       "\n",
       "/* Span, style for the box shown on hovering the info icon */\n",
       ".sk-estimator-doc-link span {\n",
       "  display: none;\n",
       "  z-index: 9999;\n",
       "  position: relative;\n",
       "  font-weight: normal;\n",
       "  right: .2ex;\n",
       "  padding: .5ex;\n",
       "  margin: .5ex;\n",
       "  width: min-content;\n",
       "  min-width: 20ex;\n",
       "  max-width: 50ex;\n",
       "  color: var(--sklearn-color-text);\n",
       "  box-shadow: 2pt 2pt 4pt #999;\n",
       "  /* unfitted */\n",
       "  background: var(--sklearn-color-unfitted-level-0);\n",
       "  border: .5pt solid var(--sklearn-color-unfitted-level-3);\n",
       "}\n",
       "\n",
       ".sk-estimator-doc-link.fitted span {\n",
       "  /* fitted */\n",
       "  background: var(--sklearn-color-fitted-level-0);\n",
       "  border: var(--sklearn-color-fitted-level-3);\n",
       "}\n",
       "\n",
       ".sk-estimator-doc-link:hover span {\n",
       "  display: block;\n",
       "}\n",
       "\n",
       "/* \"?\"-specific style due to the `<a>` HTML tag */\n",
       "\n",
       "#sk-container-id-1 a.estimator_doc_link {\n",
       "  float: right;\n",
       "  font-size: 1rem;\n",
       "  line-height: 1em;\n",
       "  font-family: monospace;\n",
       "  background-color: var(--sklearn-color-background);\n",
       "  border-radius: 1rem;\n",
       "  height: 1rem;\n",
       "  width: 1rem;\n",
       "  text-decoration: none;\n",
       "  /* unfitted */\n",
       "  color: var(--sklearn-color-unfitted-level-1);\n",
       "  border: var(--sklearn-color-unfitted-level-1) 1pt solid;\n",
       "}\n",
       "\n",
       "#sk-container-id-1 a.estimator_doc_link.fitted {\n",
       "  /* fitted */\n",
       "  border: var(--sklearn-color-fitted-level-1) 1pt solid;\n",
       "  color: var(--sklearn-color-fitted-level-1);\n",
       "}\n",
       "\n",
       "/* On hover */\n",
       "#sk-container-id-1 a.estimator_doc_link:hover {\n",
       "  /* unfitted */\n",
       "  background-color: var(--sklearn-color-unfitted-level-3);\n",
       "  color: var(--sklearn-color-background);\n",
       "  text-decoration: none;\n",
       "}\n",
       "\n",
       "#sk-container-id-1 a.estimator_doc_link.fitted:hover {\n",
       "  /* fitted */\n",
       "  background-color: var(--sklearn-color-fitted-level-3);\n",
       "}\n",
       "</style><div id=\"sk-container-id-1\" class=\"sk-top-container\"><div class=\"sk-text-repr-fallback\"><pre>RandomForestClassifier(random_state=42)</pre><b>In a Jupyter environment, please rerun this cell to show the HTML representation or trust the notebook. <br />On GitHub, the HTML representation is unable to render, please try loading this page with nbviewer.org.</b></div><div class=\"sk-container\" hidden><div class=\"sk-item\"><div class=\"sk-estimator fitted sk-toggleable\"><input class=\"sk-toggleable__control sk-hidden--visually\" id=\"sk-estimator-id-1\" type=\"checkbox\" checked><label for=\"sk-estimator-id-1\" class=\"sk-toggleable__label fitted sk-toggleable__label-arrow\"><div><div>RandomForestClassifier</div></div><div><a class=\"sk-estimator-doc-link fitted\" rel=\"noreferrer\" target=\"_blank\" href=\"https://scikit-learn.org/1.6/modules/generated/sklearn.ensemble.RandomForestClassifier.html\">?<span>Documentation for RandomForestClassifier</span></a><span class=\"sk-estimator-doc-link fitted\">i<span>Fitted</span></span></div></label><div class=\"sk-toggleable__content fitted\"><pre>RandomForestClassifier(random_state=42)</pre></div> </div></div></div></div>"
      ],
      "text/plain": [
       "RandomForestClassifier(random_state=42)"
      ]
     },
     "execution_count": 33,
     "metadata": {},
     "output_type": "execute_result"
    }
   ],
   "source": [
    "from sklearn.ensemble import RandomForestClassifier\n",
    "from sklearn.model_selection import train_test_split\n",
    "import shap\n",
    "\n",
    "kmeans = KMeans(n_clusters=3, random_state=42, n_init=50).fit(df_pca)\n",
    "labels = kmeans.fit_predict(df_pca)\n",
    "\n",
    "X = pd.DataFrame(df_pca, columns=[f'PC{i+1}' for i in range(df_pca.shape[1])])\n",
    "y = labels\n",
    "\n",
    "# podział na trening i test\n",
    "X_train, X_test, y_train, y_test = train_test_split(X, y, stratify=y, random_state=42)\n",
    "\n",
    "\n",
    "# Klasyfikator\n",
    "clf = RandomForestClassifier(n_estimators=100, random_state=42)\n",
    "clf.fit(X_train, y_train)"
   ]
  },
  {
   "cell_type": "code",
   "execution_count": 34,
   "id": "10913e83",
   "metadata": {},
   "outputs": [
    {
     "data": {
      "application/vnd.plotly.v1+json": {
       "config": {
        "plotlyServerURL": "https://plot.ly"
       },
       "data": [
        {
         "hoverinfo": "text",
         "marker": {
          "color": [
           "#636EFA",
           "#EF553B",
           "#636EFA",
           "#636EFA",
           "#636EFA",
           "#636EFA",
           "#636EFA",
           "#636EFA",
           "#636EFA",
           "#636EFA",
           "#EF553B",
           "#636EFA",
           "#EF553B",
           "#636EFA",
           "#EF553B",
           "#EF553B",
           "#EF553B",
           "#EF553B",
           "#EF553B",
           "#636EFA",
           "#EF553B",
           "#EF553B",
           "#636EFA",
           "#636EFA",
           "#EF553B",
           "#EF553B"
          ],
          "opacity": 0.8,
          "size": 5
         },
         "mode": "markers",
         "text": [
          "Cluster 0",
          "Cluster 1",
          "Cluster 0",
          "Cluster 0",
          "Cluster 0",
          "Cluster 0",
          "Cluster 0",
          "Cluster 0",
          "Cluster 0",
          "Cluster 0",
          "Cluster 1",
          "Cluster 0",
          "Cluster 1",
          "Cluster 0",
          "Cluster 1",
          "Cluster 1",
          "Cluster 1",
          "Cluster 1",
          "Cluster 1",
          "Cluster 0",
          "Cluster 1",
          "Cluster 1",
          "Cluster 0",
          "Cluster 0",
          "Cluster 1",
          "Cluster 1"
         ],
         "type": "scatter3d",
         "x": {
          "bdata": "IaaaQK9jy0Akv3VAMtp1QLB7g0CloolAfqd2QC1d6kB/HrJAk6l9QMTW1UAtLXVAzm7BQK5yY0AhwNpA1vnlQJHRzUCCMO5AxbXtQKrIqkDv8PxATLrNQEFtekA1XHVAtJa1QOGr4UA=",
          "dtype": "f4"
         },
         "y": {
          "bdata": "FT0rQY7BmEDjZkJBQvA8QWPsLEGmij9Bfp43QZ1Jr0CF7ydBts9BQV01yEDrmT5Bx9B4QEtIPkGXrTdAvgFQQL0IhEAVbk1A4TpNQIU6KEF6bLpAU0SqQC2uL0Gt/zhBrzOUQLdzqEA=",
          "dtype": "f4"
         },
         "z": {
          "bdata": "Ss+WvuVOFUFEUzu/DxVWvW0vEcDBety/WjQHwKxHrUBt0Y6/kheHv3AHm0AD2K2+ISvrQFTyqb7F5QVBUiHwQOK3EkHJHPJANLwNQQ0cK7+9Rg9Bn9EFQYAuD8ALrxA+coALQV/EFEE=",
          "dtype": "f4"
         }
        }
       ],
       "layout": {
        "margin": {
         "b": 0,
         "l": 0,
         "r": 0,
         "t": 30
        },
        "scene": {
         "xaxis": {
          "title": {
           "text": "UMAP Component 1"
          }
         },
         "yaxis": {
          "title": {
           "text": "UMAP Component 2"
          }
         },
         "zaxis": {
          "title": {
           "text": "UMAP Component 3"
          }
         }
        },
        "template": {
         "data": {
          "bar": [
           {
            "error_x": {
             "color": "#2a3f5f"
            },
            "error_y": {
             "color": "#2a3f5f"
            },
            "marker": {
             "line": {
              "color": "#E5ECF6",
              "width": 0.5
             },
             "pattern": {
              "fillmode": "overlay",
              "size": 10,
              "solidity": 0.2
             }
            },
            "type": "bar"
           }
          ],
          "barpolar": [
           {
            "marker": {
             "line": {
              "color": "#E5ECF6",
              "width": 0.5
             },
             "pattern": {
              "fillmode": "overlay",
              "size": 10,
              "solidity": 0.2
             }
            },
            "type": "barpolar"
           }
          ],
          "carpet": [
           {
            "aaxis": {
             "endlinecolor": "#2a3f5f",
             "gridcolor": "white",
             "linecolor": "white",
             "minorgridcolor": "white",
             "startlinecolor": "#2a3f5f"
            },
            "baxis": {
             "endlinecolor": "#2a3f5f",
             "gridcolor": "white",
             "linecolor": "white",
             "minorgridcolor": "white",
             "startlinecolor": "#2a3f5f"
            },
            "type": "carpet"
           }
          ],
          "choropleth": [
           {
            "colorbar": {
             "outlinewidth": 0,
             "ticks": ""
            },
            "type": "choropleth"
           }
          ],
          "contour": [
           {
            "colorbar": {
             "outlinewidth": 0,
             "ticks": ""
            },
            "colorscale": [
             [
              0,
              "#0d0887"
             ],
             [
              0.1111111111111111,
              "#46039f"
             ],
             [
              0.2222222222222222,
              "#7201a8"
             ],
             [
              0.3333333333333333,
              "#9c179e"
             ],
             [
              0.4444444444444444,
              "#bd3786"
             ],
             [
              0.5555555555555556,
              "#d8576b"
             ],
             [
              0.6666666666666666,
              "#ed7953"
             ],
             [
              0.7777777777777778,
              "#fb9f3a"
             ],
             [
              0.8888888888888888,
              "#fdca26"
             ],
             [
              1,
              "#f0f921"
             ]
            ],
            "type": "contour"
           }
          ],
          "contourcarpet": [
           {
            "colorbar": {
             "outlinewidth": 0,
             "ticks": ""
            },
            "type": "contourcarpet"
           }
          ],
          "heatmap": [
           {
            "colorbar": {
             "outlinewidth": 0,
             "ticks": ""
            },
            "colorscale": [
             [
              0,
              "#0d0887"
             ],
             [
              0.1111111111111111,
              "#46039f"
             ],
             [
              0.2222222222222222,
              "#7201a8"
             ],
             [
              0.3333333333333333,
              "#9c179e"
             ],
             [
              0.4444444444444444,
              "#bd3786"
             ],
             [
              0.5555555555555556,
              "#d8576b"
             ],
             [
              0.6666666666666666,
              "#ed7953"
             ],
             [
              0.7777777777777778,
              "#fb9f3a"
             ],
             [
              0.8888888888888888,
              "#fdca26"
             ],
             [
              1,
              "#f0f921"
             ]
            ],
            "type": "heatmap"
           }
          ],
          "histogram": [
           {
            "marker": {
             "pattern": {
              "fillmode": "overlay",
              "size": 10,
              "solidity": 0.2
             }
            },
            "type": "histogram"
           }
          ],
          "histogram2d": [
           {
            "colorbar": {
             "outlinewidth": 0,
             "ticks": ""
            },
            "colorscale": [
             [
              0,
              "#0d0887"
             ],
             [
              0.1111111111111111,
              "#46039f"
             ],
             [
              0.2222222222222222,
              "#7201a8"
             ],
             [
              0.3333333333333333,
              "#9c179e"
             ],
             [
              0.4444444444444444,
              "#bd3786"
             ],
             [
              0.5555555555555556,
              "#d8576b"
             ],
             [
              0.6666666666666666,
              "#ed7953"
             ],
             [
              0.7777777777777778,
              "#fb9f3a"
             ],
             [
              0.8888888888888888,
              "#fdca26"
             ],
             [
              1,
              "#f0f921"
             ]
            ],
            "type": "histogram2d"
           }
          ],
          "histogram2dcontour": [
           {
            "colorbar": {
             "outlinewidth": 0,
             "ticks": ""
            },
            "colorscale": [
             [
              0,
              "#0d0887"
             ],
             [
              0.1111111111111111,
              "#46039f"
             ],
             [
              0.2222222222222222,
              "#7201a8"
             ],
             [
              0.3333333333333333,
              "#9c179e"
             ],
             [
              0.4444444444444444,
              "#bd3786"
             ],
             [
              0.5555555555555556,
              "#d8576b"
             ],
             [
              0.6666666666666666,
              "#ed7953"
             ],
             [
              0.7777777777777778,
              "#fb9f3a"
             ],
             [
              0.8888888888888888,
              "#fdca26"
             ],
             [
              1,
              "#f0f921"
             ]
            ],
            "type": "histogram2dcontour"
           }
          ],
          "mesh3d": [
           {
            "colorbar": {
             "outlinewidth": 0,
             "ticks": ""
            },
            "type": "mesh3d"
           }
          ],
          "parcoords": [
           {
            "line": {
             "colorbar": {
              "outlinewidth": 0,
              "ticks": ""
             }
            },
            "type": "parcoords"
           }
          ],
          "pie": [
           {
            "automargin": true,
            "type": "pie"
           }
          ],
          "scatter": [
           {
            "fillpattern": {
             "fillmode": "overlay",
             "size": 10,
             "solidity": 0.2
            },
            "type": "scatter"
           }
          ],
          "scatter3d": [
           {
            "line": {
             "colorbar": {
              "outlinewidth": 0,
              "ticks": ""
             }
            },
            "marker": {
             "colorbar": {
              "outlinewidth": 0,
              "ticks": ""
             }
            },
            "type": "scatter3d"
           }
          ],
          "scattercarpet": [
           {
            "marker": {
             "colorbar": {
              "outlinewidth": 0,
              "ticks": ""
             }
            },
            "type": "scattercarpet"
           }
          ],
          "scattergeo": [
           {
            "marker": {
             "colorbar": {
              "outlinewidth": 0,
              "ticks": ""
             }
            },
            "type": "scattergeo"
           }
          ],
          "scattergl": [
           {
            "marker": {
             "colorbar": {
              "outlinewidth": 0,
              "ticks": ""
             }
            },
            "type": "scattergl"
           }
          ],
          "scattermap": [
           {
            "marker": {
             "colorbar": {
              "outlinewidth": 0,
              "ticks": ""
             }
            },
            "type": "scattermap"
           }
          ],
          "scattermapbox": [
           {
            "marker": {
             "colorbar": {
              "outlinewidth": 0,
              "ticks": ""
             }
            },
            "type": "scattermapbox"
           }
          ],
          "scatterpolar": [
           {
            "marker": {
             "colorbar": {
              "outlinewidth": 0,
              "ticks": ""
             }
            },
            "type": "scatterpolar"
           }
          ],
          "scatterpolargl": [
           {
            "marker": {
             "colorbar": {
              "outlinewidth": 0,
              "ticks": ""
             }
            },
            "type": "scatterpolargl"
           }
          ],
          "scatterternary": [
           {
            "marker": {
             "colorbar": {
              "outlinewidth": 0,
              "ticks": ""
             }
            },
            "type": "scatterternary"
           }
          ],
          "surface": [
           {
            "colorbar": {
             "outlinewidth": 0,
             "ticks": ""
            },
            "colorscale": [
             [
              0,
              "#0d0887"
             ],
             [
              0.1111111111111111,
              "#46039f"
             ],
             [
              0.2222222222222222,
              "#7201a8"
             ],
             [
              0.3333333333333333,
              "#9c179e"
             ],
             [
              0.4444444444444444,
              "#bd3786"
             ],
             [
              0.5555555555555556,
              "#d8576b"
             ],
             [
              0.6666666666666666,
              "#ed7953"
             ],
             [
              0.7777777777777778,
              "#fb9f3a"
             ],
             [
              0.8888888888888888,
              "#fdca26"
             ],
             [
              1,
              "#f0f921"
             ]
            ],
            "type": "surface"
           }
          ],
          "table": [
           {
            "cells": {
             "fill": {
              "color": "#EBF0F8"
             },
             "line": {
              "color": "white"
             }
            },
            "header": {
             "fill": {
              "color": "#C8D4E3"
             },
             "line": {
              "color": "white"
             }
            },
            "type": "table"
           }
          ]
         },
         "layout": {
          "annotationdefaults": {
           "arrowcolor": "#2a3f5f",
           "arrowhead": 0,
           "arrowwidth": 1
          },
          "autotypenumbers": "strict",
          "coloraxis": {
           "colorbar": {
            "outlinewidth": 0,
            "ticks": ""
           }
          },
          "colorscale": {
           "diverging": [
            [
             0,
             "#8e0152"
            ],
            [
             0.1,
             "#c51b7d"
            ],
            [
             0.2,
             "#de77ae"
            ],
            [
             0.3,
             "#f1b6da"
            ],
            [
             0.4,
             "#fde0ef"
            ],
            [
             0.5,
             "#f7f7f7"
            ],
            [
             0.6,
             "#e6f5d0"
            ],
            [
             0.7,
             "#b8e186"
            ],
            [
             0.8,
             "#7fbc41"
            ],
            [
             0.9,
             "#4d9221"
            ],
            [
             1,
             "#276419"
            ]
           ],
           "sequential": [
            [
             0,
             "#0d0887"
            ],
            [
             0.1111111111111111,
             "#46039f"
            ],
            [
             0.2222222222222222,
             "#7201a8"
            ],
            [
             0.3333333333333333,
             "#9c179e"
            ],
            [
             0.4444444444444444,
             "#bd3786"
            ],
            [
             0.5555555555555556,
             "#d8576b"
            ],
            [
             0.6666666666666666,
             "#ed7953"
            ],
            [
             0.7777777777777778,
             "#fb9f3a"
            ],
            [
             0.8888888888888888,
             "#fdca26"
            ],
            [
             1,
             "#f0f921"
            ]
           ],
           "sequentialminus": [
            [
             0,
             "#0d0887"
            ],
            [
             0.1111111111111111,
             "#46039f"
            ],
            [
             0.2222222222222222,
             "#7201a8"
            ],
            [
             0.3333333333333333,
             "#9c179e"
            ],
            [
             0.4444444444444444,
             "#bd3786"
            ],
            [
             0.5555555555555556,
             "#d8576b"
            ],
            [
             0.6666666666666666,
             "#ed7953"
            ],
            [
             0.7777777777777778,
             "#fb9f3a"
            ],
            [
             0.8888888888888888,
             "#fdca26"
            ],
            [
             1,
             "#f0f921"
            ]
           ]
          },
          "colorway": [
           "#636efa",
           "#EF553B",
           "#00cc96",
           "#ab63fa",
           "#FFA15A",
           "#19d3f3",
           "#FF6692",
           "#B6E880",
           "#FF97FF",
           "#FECB52"
          ],
          "font": {
           "color": "#2a3f5f"
          },
          "geo": {
           "bgcolor": "white",
           "lakecolor": "white",
           "landcolor": "#E5ECF6",
           "showlakes": true,
           "showland": true,
           "subunitcolor": "white"
          },
          "hoverlabel": {
           "align": "left"
          },
          "hovermode": "closest",
          "mapbox": {
           "style": "light"
          },
          "paper_bgcolor": "white",
          "plot_bgcolor": "#E5ECF6",
          "polar": {
           "angularaxis": {
            "gridcolor": "white",
            "linecolor": "white",
            "ticks": ""
           },
           "bgcolor": "#E5ECF6",
           "radialaxis": {
            "gridcolor": "white",
            "linecolor": "white",
            "ticks": ""
           }
          },
          "scene": {
           "xaxis": {
            "backgroundcolor": "#E5ECF6",
            "gridcolor": "white",
            "gridwidth": 2,
            "linecolor": "white",
            "showbackground": true,
            "ticks": "",
            "zerolinecolor": "white"
           },
           "yaxis": {
            "backgroundcolor": "#E5ECF6",
            "gridcolor": "white",
            "gridwidth": 2,
            "linecolor": "white",
            "showbackground": true,
            "ticks": "",
            "zerolinecolor": "white"
           },
           "zaxis": {
            "backgroundcolor": "#E5ECF6",
            "gridcolor": "white",
            "gridwidth": 2,
            "linecolor": "white",
            "showbackground": true,
            "ticks": "",
            "zerolinecolor": "white"
           }
          },
          "shapedefaults": {
           "line": {
            "color": "#2a3f5f"
           }
          },
          "ternary": {
           "aaxis": {
            "gridcolor": "white",
            "linecolor": "white",
            "ticks": ""
           },
           "baxis": {
            "gridcolor": "white",
            "linecolor": "white",
            "ticks": ""
           },
           "bgcolor": "#E5ECF6",
           "caxis": {
            "gridcolor": "white",
            "linecolor": "white",
            "ticks": ""
           }
          },
          "title": {
           "x": 0.05
          },
          "xaxis": {
           "automargin": true,
           "gridcolor": "white",
           "linecolor": "white",
           "ticks": "",
           "title": {
            "standoff": 15
           },
           "zerolinecolor": "white",
           "zerolinewidth": 2
          },
          "yaxis": {
           "automargin": true,
           "gridcolor": "white",
           "linecolor": "white",
           "ticks": "",
           "title": {
            "standoff": 15
           },
           "zerolinecolor": "white",
           "zerolinewidth": 2
          }
         }
        },
        "title": {
         "text": "3D UMAP Clusters - Validation (Predicted Clusters)"
        }
       }
      }
     },
     "metadata": {},
     "output_type": "display_data"
    }
   ],
   "source": [
    "df_pca_val_df = pd.DataFrame(df_pca_validation, columns=X.columns)\n",
    "val_pred_labels = clf.predict(df_pca_val_df)\n",
    "\n",
    "visualise_clusters_umap_3d(umap_3d_validation, val_pred_labels, \"Validation (Predicted Clusters)\")\n"
   ]
  },
  {
   "cell_type": "markdown",
   "id": "a1355f97",
   "metadata": {},
   "source": [
    "### Wybrany model: Kmeans, 3 klastry"
   ]
  },
  {
   "cell_type": "code",
   "execution_count": 36,
   "id": "e683d2cd",
   "metadata": {},
   "outputs": [
    {
     "data": {
      "application/vnd.plotly.v1+json": {
       "config": {
        "plotlyServerURL": "https://plot.ly"
       },
       "data": [
        {
         "hoverinfo": "text",
         "marker": {
          "color": [
           "#00CC96",
           "#00CC96",
           "#EF553B",
           "#EF553B",
           "#EF553B",
           "#00CC96",
           "#EF553B",
           "#EF553B",
           "#EF553B",
           "#636EFA",
           "#00CC96",
           "#00CC96",
           "#00CC96",
           "#00CC96",
           "#00CC96",
           "#00CC96",
           "#00CC96",
           "#00CC96",
           "#00CC96",
           "#EF553B",
           "#EF553B",
           "#00CC96",
           "#EF553B",
           "#EF553B",
           "#EF553B",
           "#00CC96",
           "#00CC96",
           "#00CC96",
           "#EF553B",
           "#EF553B",
           "#EF553B",
           "#00CC96",
           "#00CC96",
           "#00CC96",
           "#00CC96",
           "#EF553B",
           "#00CC96",
           "#EF553B",
           "#00CC96",
           "#EF553B",
           "#00CC96",
           "#00CC96",
           "#636EFA",
           "#636EFA",
           "#EF553B",
           "#00CC96",
           "#00CC96",
           "#00CC96",
           "#EF553B",
           "#00CC96",
           "#EF553B",
           "#00CC96",
           "#EF553B",
           "#EF553B",
           "#636EFA",
           "#636EFA",
           "#EF553B",
           "#00CC96",
           "#EF553B",
           "#EF553B",
           "#636EFA",
           "#00CC96",
           "#00CC96",
           "#00CC96",
           "#00CC96",
           "#EF553B",
           "#00CC96",
           "#EF553B",
           "#EF553B",
           "#00CC96",
           "#EF553B",
           "#636EFA",
           "#EF553B",
           "#00CC96",
           "#EF553B",
           "#00CC96",
           "#EF553B",
           "#00CC96",
           "#EF553B",
           "#00CC96",
           "#00CC96",
           "#636EFA",
           "#EF553B",
           "#EF553B",
           "#EF553B",
           "#EF553B",
           "#EF553B",
           "#00CC96",
           "#EF553B",
           "#00CC96",
           "#EF553B",
           "#EF553B",
           "#636EFA",
           "#EF553B",
           "#EF553B",
           "#EF553B",
           "#00CC96",
           "#EF553B",
           "#EF553B",
           "#EF553B",
           "#636EFA",
           "#EF553B",
           "#00CC96",
           "#636EFA"
          ],
          "opacity": 0.8,
          "size": 5
         },
         "mode": "markers",
         "text": [
          "Cluster 2",
          "Cluster 2",
          "Cluster 1",
          "Cluster 1",
          "Cluster 1",
          "Cluster 2",
          "Cluster 1",
          "Cluster 1",
          "Cluster 1",
          "Cluster 0",
          "Cluster 2",
          "Cluster 2",
          "Cluster 2",
          "Cluster 2",
          "Cluster 2",
          "Cluster 2",
          "Cluster 2",
          "Cluster 2",
          "Cluster 2",
          "Cluster 1",
          "Cluster 1",
          "Cluster 2",
          "Cluster 1",
          "Cluster 1",
          "Cluster 1",
          "Cluster 2",
          "Cluster 2",
          "Cluster 2",
          "Cluster 1",
          "Cluster 1",
          "Cluster 1",
          "Cluster 2",
          "Cluster 2",
          "Cluster 2",
          "Cluster 2",
          "Cluster 1",
          "Cluster 2",
          "Cluster 1",
          "Cluster 2",
          "Cluster 1",
          "Cluster 2",
          "Cluster 2",
          "Cluster 0",
          "Cluster 0",
          "Cluster 1",
          "Cluster 2",
          "Cluster 2",
          "Cluster 2",
          "Cluster 1",
          "Cluster 2",
          "Cluster 1",
          "Cluster 2",
          "Cluster 1",
          "Cluster 1",
          "Cluster 0",
          "Cluster 0",
          "Cluster 1",
          "Cluster 2",
          "Cluster 1",
          "Cluster 1",
          "Cluster 0",
          "Cluster 2",
          "Cluster 2",
          "Cluster 2",
          "Cluster 2",
          "Cluster 1",
          "Cluster 2",
          "Cluster 1",
          "Cluster 1",
          "Cluster 2",
          "Cluster 1",
          "Cluster 0",
          "Cluster 1",
          "Cluster 2",
          "Cluster 1",
          "Cluster 2",
          "Cluster 1",
          "Cluster 2",
          "Cluster 1",
          "Cluster 2",
          "Cluster 2",
          "Cluster 0",
          "Cluster 1",
          "Cluster 1",
          "Cluster 1",
          "Cluster 1",
          "Cluster 1",
          "Cluster 2",
          "Cluster 1",
          "Cluster 2",
          "Cluster 1",
          "Cluster 1",
          "Cluster 0",
          "Cluster 1",
          "Cluster 1",
          "Cluster 1",
          "Cluster 2",
          "Cluster 1",
          "Cluster 1",
          "Cluster 1",
          "Cluster 0",
          "Cluster 1",
          "Cluster 2",
          "Cluster 0"
         ],
         "type": "scatter3d",
         "x": {
          "bdata": "x3vXQKnI20A235VArPM/QFGtWUBo/9BAAH6DQNqKd0BW4mVAjx7xQDMg3UAGnPlAy+rTQEcO+kBV0e9A0+LVQG5v3UBRl+ZAv4jQQNGmh0BKT2JAGk/tQChaVECPUHJAYWKKQPsM7UCkvd9Aj/3UQJNgdkAneFNANa1SQIPxz0AkJdpAXjrQQI1t20CF9YdA3JvHQIOckkAJh+hA/k1kQJkZ8UAMn9ZA1wv0QCxy9kC/CU1AdeT+QH1I7kAnvutA0QFyQGj15kB9e4JAQMP9QHY8gkAq5KNABX3+QNS8+0Ccr5lA2LvCQHLISkAZhnxA9V/6QG2V8kDdjslA8aLEQBq7xUAXvJtALfrZQCkdk0ArwqtArwHCQDRqsEB6z/lA/JVaQPia4EBDJjhADSXCQArRmUCyH8pAm9ZYQMD83UA4tOJA7Hf1QDoJd0D6TYdAsDWWQLFth0BiRpJAueb5QFaD+ECDM+hA5QWnQKGVfUCzifBAKleqQDwkqUAX3IlAV6zQQCF8g0DT/IlAsTyAQMUQ9kBlXolAhlLtQBoQ+kA=",
          "dtype": "f4"
         },
         "y": {
          "bdata": "bL5xQB2WeEBn4y5BzoorQQ6RNUEXsodAsF4sQZGfNkFn9y5BDvGgQGx8jkAFN6ZAtjx8QIVrqkB7FJtAuKp6QBk+UEDJb51A8NV1QEpqLEE0yi5BoAadQG56J0GBuDVBwFQoQR2urUD8o0RAkiaJQDWfKEEKojJBB9omQReBgECQh5xAGbeXQMWSkkAxnzBBut59QEiROUEWH1dAM8oxQU9Bk0CdEm5AwVmfQOM2mEB9nS9BVOKmQMRRZUB/E5BAzrA4QZAYkUCsxTRBfq2eQKcFL0Hjdi9BQZ6ZQEUQrUAKKjNBPnmXQJhNJ0GWYipBp5anQIxdskDzTpFAbueCQBv5kEAN8DZBBhWiQCqFK0EnTzRBs+uGQEMqMEFM4a9Acb8lQf8PlEBpHSpBVdCRQEzFKkFTootAd0kqQQRukECFgJNAUeOkQP77LUEJQTtBVCQrQS9oO0FXCzVBsH6uQDDfuUBEz0lAhfAsQZ6YKUFDCpxAYGIyQeKML0Gp/ClBDoN0QFsKOkHn0jRBk9s2QbtVnUC8DjhBfnFTQLdjmkA=",
          "dtype": "f4"
         },
         "z": {
          "bdata": "eyIGQd3SBEEwS8W/N/aivgCWqb6lbP1Af/yWv0xBjL8zgcO/xP7BQGUwBUHUmAhBY9wGQZw8BkFHCA9BPUHzQCFiBEHt+gxBkEIAQZ9j0b/D2O++ff0PQUO4b7+u+z+/QfXiv4t8C0FdbAJBIH7zQFHBR7+dcI2+6okWv3GmCUHXbAlBK3j8QJQLEEEr4yq/VD4DQeTiZL/bCQJB00KyvfSFCkF/CQpBUAvIQDynvUBRuNW+HKgEQRKuBkEXIBFBGppTv//+B0H88s6/hMf0QFJe/74G86W/CkLFQEULvEAIQIW/Sfj9QGNT0b7Nsq6/+rq8QNjABEEGKfNAhh4GQWqt+kBKPa+/ONkKQaMU478xnaK/zgv4QIe4sb8ye7lAEbiJv8ny7UCOebW+oczxQPpTwr+AswZBArC9v4dODUGqmw9ByAvCQDhv5b9uhBK/KFugv5OVeb/y3yq/p/oHQShftEDLDgZBvX6Vv+OpIr8XbspAt/rLv6wgmb9vOHW/oLj2QE5hnr+sUOO/x8LLv4Dov0DRZhW/U/cEQTaGt0A=",
          "dtype": "f4"
         }
        }
       ],
       "layout": {
        "margin": {
         "b": 0,
         "l": 0,
         "r": 0,
         "t": 30
        },
        "scene": {
         "xaxis": {
          "title": {
           "text": "UMAP Component 1"
          }
         },
         "yaxis": {
          "title": {
           "text": "UMAP Component 2"
          }
         },
         "zaxis": {
          "title": {
           "text": "UMAP Component 3"
          }
         }
        },
        "template": {
         "data": {
          "bar": [
           {
            "error_x": {
             "color": "#2a3f5f"
            },
            "error_y": {
             "color": "#2a3f5f"
            },
            "marker": {
             "line": {
              "color": "#E5ECF6",
              "width": 0.5
             },
             "pattern": {
              "fillmode": "overlay",
              "size": 10,
              "solidity": 0.2
             }
            },
            "type": "bar"
           }
          ],
          "barpolar": [
           {
            "marker": {
             "line": {
              "color": "#E5ECF6",
              "width": 0.5
             },
             "pattern": {
              "fillmode": "overlay",
              "size": 10,
              "solidity": 0.2
             }
            },
            "type": "barpolar"
           }
          ],
          "carpet": [
           {
            "aaxis": {
             "endlinecolor": "#2a3f5f",
             "gridcolor": "white",
             "linecolor": "white",
             "minorgridcolor": "white",
             "startlinecolor": "#2a3f5f"
            },
            "baxis": {
             "endlinecolor": "#2a3f5f",
             "gridcolor": "white",
             "linecolor": "white",
             "minorgridcolor": "white",
             "startlinecolor": "#2a3f5f"
            },
            "type": "carpet"
           }
          ],
          "choropleth": [
           {
            "colorbar": {
             "outlinewidth": 0,
             "ticks": ""
            },
            "type": "choropleth"
           }
          ],
          "contour": [
           {
            "colorbar": {
             "outlinewidth": 0,
             "ticks": ""
            },
            "colorscale": [
             [
              0,
              "#0d0887"
             ],
             [
              0.1111111111111111,
              "#46039f"
             ],
             [
              0.2222222222222222,
              "#7201a8"
             ],
             [
              0.3333333333333333,
              "#9c179e"
             ],
             [
              0.4444444444444444,
              "#bd3786"
             ],
             [
              0.5555555555555556,
              "#d8576b"
             ],
             [
              0.6666666666666666,
              "#ed7953"
             ],
             [
              0.7777777777777778,
              "#fb9f3a"
             ],
             [
              0.8888888888888888,
              "#fdca26"
             ],
             [
              1,
              "#f0f921"
             ]
            ],
            "type": "contour"
           }
          ],
          "contourcarpet": [
           {
            "colorbar": {
             "outlinewidth": 0,
             "ticks": ""
            },
            "type": "contourcarpet"
           }
          ],
          "heatmap": [
           {
            "colorbar": {
             "outlinewidth": 0,
             "ticks": ""
            },
            "colorscale": [
             [
              0,
              "#0d0887"
             ],
             [
              0.1111111111111111,
              "#46039f"
             ],
             [
              0.2222222222222222,
              "#7201a8"
             ],
             [
              0.3333333333333333,
              "#9c179e"
             ],
             [
              0.4444444444444444,
              "#bd3786"
             ],
             [
              0.5555555555555556,
              "#d8576b"
             ],
             [
              0.6666666666666666,
              "#ed7953"
             ],
             [
              0.7777777777777778,
              "#fb9f3a"
             ],
             [
              0.8888888888888888,
              "#fdca26"
             ],
             [
              1,
              "#f0f921"
             ]
            ],
            "type": "heatmap"
           }
          ],
          "histogram": [
           {
            "marker": {
             "pattern": {
              "fillmode": "overlay",
              "size": 10,
              "solidity": 0.2
             }
            },
            "type": "histogram"
           }
          ],
          "histogram2d": [
           {
            "colorbar": {
             "outlinewidth": 0,
             "ticks": ""
            },
            "colorscale": [
             [
              0,
              "#0d0887"
             ],
             [
              0.1111111111111111,
              "#46039f"
             ],
             [
              0.2222222222222222,
              "#7201a8"
             ],
             [
              0.3333333333333333,
              "#9c179e"
             ],
             [
              0.4444444444444444,
              "#bd3786"
             ],
             [
              0.5555555555555556,
              "#d8576b"
             ],
             [
              0.6666666666666666,
              "#ed7953"
             ],
             [
              0.7777777777777778,
              "#fb9f3a"
             ],
             [
              0.8888888888888888,
              "#fdca26"
             ],
             [
              1,
              "#f0f921"
             ]
            ],
            "type": "histogram2d"
           }
          ],
          "histogram2dcontour": [
           {
            "colorbar": {
             "outlinewidth": 0,
             "ticks": ""
            },
            "colorscale": [
             [
              0,
              "#0d0887"
             ],
             [
              0.1111111111111111,
              "#46039f"
             ],
             [
              0.2222222222222222,
              "#7201a8"
             ],
             [
              0.3333333333333333,
              "#9c179e"
             ],
             [
              0.4444444444444444,
              "#bd3786"
             ],
             [
              0.5555555555555556,
              "#d8576b"
             ],
             [
              0.6666666666666666,
              "#ed7953"
             ],
             [
              0.7777777777777778,
              "#fb9f3a"
             ],
             [
              0.8888888888888888,
              "#fdca26"
             ],
             [
              1,
              "#f0f921"
             ]
            ],
            "type": "histogram2dcontour"
           }
          ],
          "mesh3d": [
           {
            "colorbar": {
             "outlinewidth": 0,
             "ticks": ""
            },
            "type": "mesh3d"
           }
          ],
          "parcoords": [
           {
            "line": {
             "colorbar": {
              "outlinewidth": 0,
              "ticks": ""
             }
            },
            "type": "parcoords"
           }
          ],
          "pie": [
           {
            "automargin": true,
            "type": "pie"
           }
          ],
          "scatter": [
           {
            "fillpattern": {
             "fillmode": "overlay",
             "size": 10,
             "solidity": 0.2
            },
            "type": "scatter"
           }
          ],
          "scatter3d": [
           {
            "line": {
             "colorbar": {
              "outlinewidth": 0,
              "ticks": ""
             }
            },
            "marker": {
             "colorbar": {
              "outlinewidth": 0,
              "ticks": ""
             }
            },
            "type": "scatter3d"
           }
          ],
          "scattercarpet": [
           {
            "marker": {
             "colorbar": {
              "outlinewidth": 0,
              "ticks": ""
             }
            },
            "type": "scattercarpet"
           }
          ],
          "scattergeo": [
           {
            "marker": {
             "colorbar": {
              "outlinewidth": 0,
              "ticks": ""
             }
            },
            "type": "scattergeo"
           }
          ],
          "scattergl": [
           {
            "marker": {
             "colorbar": {
              "outlinewidth": 0,
              "ticks": ""
             }
            },
            "type": "scattergl"
           }
          ],
          "scattermap": [
           {
            "marker": {
             "colorbar": {
              "outlinewidth": 0,
              "ticks": ""
             }
            },
            "type": "scattermap"
           }
          ],
          "scattermapbox": [
           {
            "marker": {
             "colorbar": {
              "outlinewidth": 0,
              "ticks": ""
             }
            },
            "type": "scattermapbox"
           }
          ],
          "scatterpolar": [
           {
            "marker": {
             "colorbar": {
              "outlinewidth": 0,
              "ticks": ""
             }
            },
            "type": "scatterpolar"
           }
          ],
          "scatterpolargl": [
           {
            "marker": {
             "colorbar": {
              "outlinewidth": 0,
              "ticks": ""
             }
            },
            "type": "scatterpolargl"
           }
          ],
          "scatterternary": [
           {
            "marker": {
             "colorbar": {
              "outlinewidth": 0,
              "ticks": ""
             }
            },
            "type": "scatterternary"
           }
          ],
          "surface": [
           {
            "colorbar": {
             "outlinewidth": 0,
             "ticks": ""
            },
            "colorscale": [
             [
              0,
              "#0d0887"
             ],
             [
              0.1111111111111111,
              "#46039f"
             ],
             [
              0.2222222222222222,
              "#7201a8"
             ],
             [
              0.3333333333333333,
              "#9c179e"
             ],
             [
              0.4444444444444444,
              "#bd3786"
             ],
             [
              0.5555555555555556,
              "#d8576b"
             ],
             [
              0.6666666666666666,
              "#ed7953"
             ],
             [
              0.7777777777777778,
              "#fb9f3a"
             ],
             [
              0.8888888888888888,
              "#fdca26"
             ],
             [
              1,
              "#f0f921"
             ]
            ],
            "type": "surface"
           }
          ],
          "table": [
           {
            "cells": {
             "fill": {
              "color": "#EBF0F8"
             },
             "line": {
              "color": "white"
             }
            },
            "header": {
             "fill": {
              "color": "#C8D4E3"
             },
             "line": {
              "color": "white"
             }
            },
            "type": "table"
           }
          ]
         },
         "layout": {
          "annotationdefaults": {
           "arrowcolor": "#2a3f5f",
           "arrowhead": 0,
           "arrowwidth": 1
          },
          "autotypenumbers": "strict",
          "coloraxis": {
           "colorbar": {
            "outlinewidth": 0,
            "ticks": ""
           }
          },
          "colorscale": {
           "diverging": [
            [
             0,
             "#8e0152"
            ],
            [
             0.1,
             "#c51b7d"
            ],
            [
             0.2,
             "#de77ae"
            ],
            [
             0.3,
             "#f1b6da"
            ],
            [
             0.4,
             "#fde0ef"
            ],
            [
             0.5,
             "#f7f7f7"
            ],
            [
             0.6,
             "#e6f5d0"
            ],
            [
             0.7,
             "#b8e186"
            ],
            [
             0.8,
             "#7fbc41"
            ],
            [
             0.9,
             "#4d9221"
            ],
            [
             1,
             "#276419"
            ]
           ],
           "sequential": [
            [
             0,
             "#0d0887"
            ],
            [
             0.1111111111111111,
             "#46039f"
            ],
            [
             0.2222222222222222,
             "#7201a8"
            ],
            [
             0.3333333333333333,
             "#9c179e"
            ],
            [
             0.4444444444444444,
             "#bd3786"
            ],
            [
             0.5555555555555556,
             "#d8576b"
            ],
            [
             0.6666666666666666,
             "#ed7953"
            ],
            [
             0.7777777777777778,
             "#fb9f3a"
            ],
            [
             0.8888888888888888,
             "#fdca26"
            ],
            [
             1,
             "#f0f921"
            ]
           ],
           "sequentialminus": [
            [
             0,
             "#0d0887"
            ],
            [
             0.1111111111111111,
             "#46039f"
            ],
            [
             0.2222222222222222,
             "#7201a8"
            ],
            [
             0.3333333333333333,
             "#9c179e"
            ],
            [
             0.4444444444444444,
             "#bd3786"
            ],
            [
             0.5555555555555556,
             "#d8576b"
            ],
            [
             0.6666666666666666,
             "#ed7953"
            ],
            [
             0.7777777777777778,
             "#fb9f3a"
            ],
            [
             0.8888888888888888,
             "#fdca26"
            ],
            [
             1,
             "#f0f921"
            ]
           ]
          },
          "colorway": [
           "#636efa",
           "#EF553B",
           "#00cc96",
           "#ab63fa",
           "#FFA15A",
           "#19d3f3",
           "#FF6692",
           "#B6E880",
           "#FF97FF",
           "#FECB52"
          ],
          "font": {
           "color": "#2a3f5f"
          },
          "geo": {
           "bgcolor": "white",
           "lakecolor": "white",
           "landcolor": "#E5ECF6",
           "showlakes": true,
           "showland": true,
           "subunitcolor": "white"
          },
          "hoverlabel": {
           "align": "left"
          },
          "hovermode": "closest",
          "mapbox": {
           "style": "light"
          },
          "paper_bgcolor": "white",
          "plot_bgcolor": "#E5ECF6",
          "polar": {
           "angularaxis": {
            "gridcolor": "white",
            "linecolor": "white",
            "ticks": ""
           },
           "bgcolor": "#E5ECF6",
           "radialaxis": {
            "gridcolor": "white",
            "linecolor": "white",
            "ticks": ""
           }
          },
          "scene": {
           "xaxis": {
            "backgroundcolor": "#E5ECF6",
            "gridcolor": "white",
            "gridwidth": 2,
            "linecolor": "white",
            "showbackground": true,
            "ticks": "",
            "zerolinecolor": "white"
           },
           "yaxis": {
            "backgroundcolor": "#E5ECF6",
            "gridcolor": "white",
            "gridwidth": 2,
            "linecolor": "white",
            "showbackground": true,
            "ticks": "",
            "zerolinecolor": "white"
           },
           "zaxis": {
            "backgroundcolor": "#E5ECF6",
            "gridcolor": "white",
            "gridwidth": 2,
            "linecolor": "white",
            "showbackground": true,
            "ticks": "",
            "zerolinecolor": "white"
           }
          },
          "shapedefaults": {
           "line": {
            "color": "#2a3f5f"
           }
          },
          "ternary": {
           "aaxis": {
            "gridcolor": "white",
            "linecolor": "white",
            "ticks": ""
           },
           "baxis": {
            "gridcolor": "white",
            "linecolor": "white",
            "ticks": ""
           },
           "bgcolor": "#E5ECF6",
           "caxis": {
            "gridcolor": "white",
            "linecolor": "white",
            "ticks": ""
           }
          },
          "title": {
           "x": 0.05
          },
          "xaxis": {
           "automargin": true,
           "gridcolor": "white",
           "linecolor": "white",
           "ticks": "",
           "title": {
            "standoff": 15
           },
           "zerolinecolor": "white",
           "zerolinewidth": 2
          },
          "yaxis": {
           "automargin": true,
           "gridcolor": "white",
           "linecolor": "white",
           "ticks": "",
           "title": {
            "standoff": 15
           },
           "zerolinecolor": "white",
           "zerolinewidth": 2
          }
         }
        },
        "title": {
         "text": "3D UMAP Clusters - KMeans"
        }
       }
      }
     },
     "metadata": {},
     "output_type": "display_data"
    }
   ],
   "source": [
    "kmeans = KMeans(n_clusters=3, random_state=0, n_init=50)\n",
    "cluster_labels = kmeans.fit_predict(df_pca)\n",
    "\n",
    "visualise_clusters_umap_3d(umap_3d, cluster_labels, \"KMeans\")"
   ]
  },
  {
   "cell_type": "code",
   "execution_count": 37,
   "id": "db1e9295",
   "metadata": {},
   "outputs": [
    {
     "name": "stdout",
     "output_type": "stream",
     "text": [
      "          Model  Silhouette Score  Davies-Bouldin Index  Dunn Index  \\\n",
      "0  KMeans (k=3)          0.170625              1.785807    0.381502   \n",
      "\n",
      "   Num Clusters  \n",
      "0             3  \n"
     ]
    }
   ],
   "source": [
    "models = {\n",
    "    \"KMeans (k=3)\": KMeans(n_clusters=3, random_state=0, n_init=50),\n",
    "}\n",
    "\n",
    "results_df = evaluate_models(df_pca, models)\n",
    "print(results_df)"
   ]
  },
  {
   "cell_type": "markdown",
   "id": "da4e756c",
   "metadata": {},
   "source": [
    "Komentarze do prezentacji: W prezentacji końcowej pokazałyśmy model aglomeratywny, ale model KMeans okazał się ostatecznie lepszy pod względem metryk (trochę lepsze wyniki) oraz działania z klasyfikatorem. Klastry przewidywane na zbiorach testowym i walidacyjnym nieznacznie różnią się pomiędzy tymi modelami. "
   ]
  },
  {
   "cell_type": "markdown",
   "id": "863c419f",
   "metadata": {},
   "source": [
    "Komentarze do walidacji: nei dostałyśmy żadnego negatywanego feedbacku od zespołu walidacyjnego, do którego mogłybyśmy się odnieść."
   ]
  }
 ],
 "metadata": {
  "kernelspec": {
   "display_name": ".venv",
   "language": "python",
   "name": "python3"
  },
  "language_info": {
   "codemirror_mode": {
    "name": "ipython",
    "version": 3
   },
   "file_extension": ".py",
   "mimetype": "text/x-python",
   "name": "python",
   "nbconvert_exporter": "python",
   "pygments_lexer": "ipython3",
   "version": "3.11.5"
  }
 },
 "nbformat": 4,
 "nbformat_minor": 5
}
